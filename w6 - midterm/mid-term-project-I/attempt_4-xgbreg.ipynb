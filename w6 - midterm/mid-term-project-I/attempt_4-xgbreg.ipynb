{
 "cells": [
  {
   "cell_type": "code",
   "execution_count": 1,
   "metadata": {},
   "outputs": [],
   "source": [
    "import pandas as pd\n",
    "import numpy as np\n",
    "import random\n",
    "import matplotlib.pyplot as plt\n",
    "import seaborn as sns\n",
    "import copy"
   ]
  },
  {
   "cell_type": "code",
   "execution_count": 2,
   "metadata": {},
   "outputs": [],
   "source": [
    "file_path = 'C:/Users/Tim/Desktop/lighthouse/w6 - midterm/'\n",
    "# filename = file_path+'flights.csv'\n",
    "\n",
    "# n = sum(1 for line in open(filename)) - 1 #number of records in file (excludes header)\n",
    "# s = 50000 #desired sample size\n",
    "# skip = sorted(random.sample(range(1,n+1),n-s))\n",
    "# df = pd.read_csv(filename,skiprows=skip)\n",
    "\n",
    "filename = file_path+'mini_sample.csv'\n",
    "df = pd.read_csv(filename)"
   ]
  },
  {
   "cell_type": "code",
   "execution_count": 3,
   "metadata": {},
   "outputs": [],
   "source": [
    "data = copy.deepcopy(df)"
   ]
  },
  {
   "cell_type": "code",
   "execution_count": 4,
   "metadata": {},
   "outputs": [],
   "source": [
    "# cols with > 80% missing values\n",
    "\n",
    "drop = [\n",
    "    'no_name',\n",
    "    'total_add_gtime',\n",
    "    'first_dep_time',\n",
    "    'longest_add_gtime',\n",
    "    'cancellation_code',\n",
    "]\n",
    "\n",
    "# missing 80%+ values, but apparently useful?\n",
    "\n",
    "delay_cols = [\n",
    "    'late_aircraft_delay',\n",
    "    'security_delay',\n",
    "    'nas_delay',\n",
    "    'weather_delay',\n",
    "    'carrier_delay'\n",
    "]"
   ]
  },
  {
   "cell_type": "code",
   "execution_count": 5,
   "metadata": {},
   "outputs": [],
   "source": [
    "# split city and country\n",
    "\n",
    "data[['origin_city', 'origin_country']] = data['origin_city_name'].str.split(',', expand=True, n=2)\n",
    "\n",
    "data[['dest_city', 'dest_country']] = data['dest_city_name'].str.split(',', expand=True, n=2)\n",
    "\n",
    "# try using just city data, groupby country data?"
   ]
  },
  {
   "cell_type": "code",
   "execution_count": 6,
   "metadata": {},
   "outputs": [],
   "source": [
    "# removing related carrier identifiers; commented out = used feature\n",
    "\n",
    "carrier_identifiers = [\n",
    "    'mkt_unique_carrier',\n",
    "    'branded_code_share',\n",
    "    #'mkt_carrier',\n",
    "    'mkt_carrier_fl_num',\n",
    "    'op_unique_carrier',\n",
    "    'tail_num',\n",
    "    'op_carrier_fl_num',\n",
    "]\n",
    "\n",
    "# removing related airport, place identifiers\n",
    "\n",
    "place_identifiers = [\n",
    "#origin identifiers\n",
    "    'origin_airport_id',\n",
    "    #'origin',\n",
    "    'origin_city_name',\n",
    "    'origin_city',\n",
    "    'origin_country',\n",
    "#destination identifiers\n",
    "    'dest_airport_id',\n",
    "    #'dest',\n",
    "    'dest_city_name',\n",
    "    'dest_city',\n",
    "    'dest_country',\n",
    "]"
   ]
  },
  {
   "cell_type": "code",
   "execution_count": 7,
   "metadata": {},
   "outputs": [],
   "source": [
    "# avg flights per hr per airport -> fl traffic\n",
    "\n",
    "data['hrly_bin'] = round(data['arr_time'],-2)\n",
    "data['avg_hr_fl'] = data.groupby('dest')['hrly_bin'].transform(lambda x: len(x)/x.nunique())\n",
    "data['avg_day_fl'] = data.groupby('dest')['day'].transform(lambda x: len(x)/x.nunique())\n",
    "# data = data.drop(columns='hrly_bin')"
   ]
  },
  {
   "cell_type": "code",
   "execution_count": 8,
   "metadata": {},
   "outputs": [],
   "source": [
    "# datetime\n",
    "\n",
    "import datetime as dt\n",
    "from datetime import date, time"
   ]
  },
  {
   "cell_type": "code",
   "execution_count": 9,
   "metadata": {},
   "outputs": [],
   "source": [
    "# data['fl_date'] = pd.to_datetime(data['fl_date'])\n",
    "\n",
    "# # month and year\n",
    "\n",
    "# data['day_of_week'] = data['fl_date'].dt.date.isowekday()\n",
    "# data['month'] = data['fl_date'].dt.month\n",
    "# data['year'] = data['fl_date'].dt.year\n",
    "data = data.sort_values(by=['fl_date'])\n",
    "\n",
    "# dep_delay 7 day lag\n",
    "\n",
    "# data['dep_delay_lag'] = data['dep_delay'].shift(7)\n",
    "# # data['arr_delay_lag'] = data['arr_delay'].shift(7)\n",
    "\n",
    "# # dep_delay 7 day mean\n",
    "\n",
    "# data['ddl_rolling_mean'] = data['dep_delay'].rolling(window=30).mean()\n",
    "\n",
    "# if we use classifier\n",
    "\n",
    "# data['arr_delay_flag'] = data['arr_delay'].map(lambda x: 1 if x > 0 else 0)\n",
    "\n",
    "data = data.drop(columns = 'fl_date')"
   ]
  },
  {
   "cell_type": "code",
   "execution_count": 10,
   "metadata": {},
   "outputs": [],
   "source": [
    "data['adl_rolling_mean'] = data['arr_delay'].rolling(window=30).mean()"
   ]
  },
  {
   "cell_type": "code",
   "execution_count": 11,
   "metadata": {},
   "outputs": [],
   "source": [
    "data = data.fillna(0)"
   ]
  },
  {
   "cell_type": "code",
   "execution_count": 12,
   "metadata": {},
   "outputs": [],
   "source": [
    "# dep_time\t          wheels_off\t0.9725230213908642\n",
    "# wheels_on\t          arr_time\t    0.9630471247128861\n",
    "# crs_elapsed_time\t  distance\t    0.9827710593474663\n",
    "# actual_elapsed_time air_time\t    0.985116094313287\n",
    "\n",
    "# flights = column of 1s\n",
    "\n",
    "corr_drop = [\n",
    "    'wheels_off',  #dep/arr time could have information on whether or not time of day affects delay\n",
    "    'wheels_on',   #wheels off/on probably time spent in tarmac\n",
    "    'timestamp',\n",
    "    #'dist_group',\n",
    "    'distance'\n",
    "]\n",
    "\n",
    "# don't use dep_delay\n",
    "\n",
    "extra_drop = [\n",
    "    'flights',\n",
    "    #'origin_num_freight',\n",
    "    #'origin_num_passengers',\n",
    "    'crs_elapsed_time',\n",
    "    'crs_arr_daytime',\n",
    "    'crs_dep_daytime',\n",
    "    'actual_elapsed_time',\n",
    "    #'predicted_speed',\n",
    "    'actual_speed',\n",
    "    'dep_early_morning',\n",
    "    'origin_num_intl_dep',\n",
    "    'dest_num_intl_dep',\n",
    "    'origin_num_intl_arr',\n",
    "    'dest_num_intl_arr',\n",
    "    'mean_monthly_op_carrier_delay',\n",
    "    'mean_mo_delay_origin_airport',\n",
    "    'mean_mo_delay_dest_airport',\n",
    "    'air_time',\n",
    "    'taxi_in',\n",
    "    'taxi_out',\n",
    "    'diverted',\n",
    "    'cancelled',\n",
    "    'dep_delay',\n",
    "    'dep_time',\n",
    "    'arr_time',\n",
    "    'day_of_year'\n",
    "]\n",
    "\n",
    "\n",
    "data = data.drop(columns=corr_drop+extra_drop)"
   ]
  },
  {
   "cell_type": "code",
   "execution_count": 13,
   "metadata": {},
   "outputs": [
    {
     "data": {
      "text/html": [
       "<div>\n",
       "<style scoped>\n",
       "    .dataframe tbody tr th:only-of-type {\n",
       "        vertical-align: middle;\n",
       "    }\n",
       "\n",
       "    .dataframe tbody tr th {\n",
       "        vertical-align: top;\n",
       "    }\n",
       "\n",
       "    .dataframe thead th {\n",
       "        text-align: right;\n",
       "    }\n",
       "</style>\n",
       "<table border=\"1\" class=\"dataframe\">\n",
       "  <thead>\n",
       "    <tr style=\"text-align: right;\">\n",
       "      <th></th>\n",
       "      <th>mkt_unique_carrier</th>\n",
       "      <th>mean_carrier_arr_delay</th>\n",
       "    </tr>\n",
       "  </thead>\n",
       "  <tbody>\n",
       "    <tr>\n",
       "      <th>0</th>\n",
       "      <td>AA</td>\n",
       "      <td>12.695256</td>\n",
       "    </tr>\n",
       "    <tr>\n",
       "      <th>1</th>\n",
       "      <td>AS</td>\n",
       "      <td>14.490647</td>\n",
       "    </tr>\n",
       "    <tr>\n",
       "      <th>2</th>\n",
       "      <td>B6</td>\n",
       "      <td>13.136552</td>\n",
       "    </tr>\n",
       "    <tr>\n",
       "      <th>3</th>\n",
       "      <td>DL</td>\n",
       "      <td>13.219501</td>\n",
       "    </tr>\n",
       "    <tr>\n",
       "      <th>4</th>\n",
       "      <td>F9</td>\n",
       "      <td>11.224367</td>\n",
       "    </tr>\n",
       "    <tr>\n",
       "      <th>5</th>\n",
       "      <td>G4</td>\n",
       "      <td>14.273038</td>\n",
       "    </tr>\n",
       "    <tr>\n",
       "      <th>6</th>\n",
       "      <td>HA</td>\n",
       "      <td>16.506024</td>\n",
       "    </tr>\n",
       "    <tr>\n",
       "      <th>7</th>\n",
       "      <td>NK</td>\n",
       "      <td>11.337219</td>\n",
       "    </tr>\n",
       "    <tr>\n",
       "      <th>8</th>\n",
       "      <td>UA</td>\n",
       "      <td>12.960344</td>\n",
       "    </tr>\n",
       "    <tr>\n",
       "      <th>9</th>\n",
       "      <td>VX</td>\n",
       "      <td>14.318182</td>\n",
       "    </tr>\n",
       "    <tr>\n",
       "      <th>10</th>\n",
       "      <td>WN</td>\n",
       "      <td>13.773191</td>\n",
       "    </tr>\n",
       "  </tbody>\n",
       "</table>\n",
       "</div>"
      ],
      "text/plain": [
       "   mkt_unique_carrier  mean_carrier_arr_delay\n",
       "0                  AA               12.695256\n",
       "1                  AS               14.490647\n",
       "2                  B6               13.136552\n",
       "3                  DL               13.219501\n",
       "4                  F9               11.224367\n",
       "5                  G4               14.273038\n",
       "6                  HA               16.506024\n",
       "7                  NK               11.337219\n",
       "8                  UA               12.960344\n",
       "9                  VX               14.318182\n",
       "10                 WN               13.773191"
      ]
     },
     "execution_count": 13,
     "metadata": {},
     "output_type": "execute_result"
    }
   ],
   "source": [
    "cd = data.groupby('mkt_unique_carrier').mean()['arr_delay']\n",
    "cd = cd.reset_index()\n",
    "cd.columns = ['mkt_unique_carrier','mean_carrier_arr_delay']\n",
    "cd"
   ]
  },
  {
   "cell_type": "code",
   "execution_count": 14,
   "metadata": {},
   "outputs": [],
   "source": [
    "data = data.merge(cd, on=['mkt_unique_carrier'], how='left')"
   ]
  },
  {
   "cell_type": "code",
   "execution_count": 15,
   "metadata": {},
   "outputs": [
    {
     "data": {
      "text/html": [
       "<div>\n",
       "<style scoped>\n",
       "    .dataframe tbody tr th:only-of-type {\n",
       "        vertical-align: middle;\n",
       "    }\n",
       "\n",
       "    .dataframe tbody tr th {\n",
       "        vertical-align: top;\n",
       "    }\n",
       "\n",
       "    .dataframe thead th {\n",
       "        text-align: right;\n",
       "    }\n",
       "</style>\n",
       "<table border=\"1\" class=\"dataframe\">\n",
       "  <thead>\n",
       "    <tr style=\"text-align: right;\">\n",
       "      <th></th>\n",
       "      <th>tail_num</th>\n",
       "      <th>tail_num_arr_delay</th>\n",
       "    </tr>\n",
       "  </thead>\n",
       "  <tbody>\n",
       "    <tr>\n",
       "      <th>0</th>\n",
       "      <td>215NV</td>\n",
       "      <td>2.250000</td>\n",
       "    </tr>\n",
       "    <tr>\n",
       "      <th>1</th>\n",
       "      <td>216NV</td>\n",
       "      <td>13.888889</td>\n",
       "    </tr>\n",
       "    <tr>\n",
       "      <th>2</th>\n",
       "      <td>217NV</td>\n",
       "      <td>-10.833333</td>\n",
       "    </tr>\n",
       "    <tr>\n",
       "      <th>3</th>\n",
       "      <td>218NV</td>\n",
       "      <td>18.000000</td>\n",
       "    </tr>\n",
       "    <tr>\n",
       "      <th>4</th>\n",
       "      <td>219NV</td>\n",
       "      <td>12.500000</td>\n",
       "    </tr>\n",
       "    <tr>\n",
       "      <th>...</th>\n",
       "      <td>...</td>\n",
       "      <td>...</td>\n",
       "    </tr>\n",
       "    <tr>\n",
       "      <th>5989</th>\n",
       "      <td>N998JE</td>\n",
       "      <td>12.000000</td>\n",
       "    </tr>\n",
       "    <tr>\n",
       "      <th>5990</th>\n",
       "      <td>N998NN</td>\n",
       "      <td>40.428571</td>\n",
       "    </tr>\n",
       "    <tr>\n",
       "      <th>5991</th>\n",
       "      <td>N999DN</td>\n",
       "      <td>15.333333</td>\n",
       "    </tr>\n",
       "    <tr>\n",
       "      <th>5992</th>\n",
       "      <td>N999JQ</td>\n",
       "      <td>31.000000</td>\n",
       "    </tr>\n",
       "    <tr>\n",
       "      <th>5993</th>\n",
       "      <td>tail_num_unknown</td>\n",
       "      <td>14.686391</td>\n",
       "    </tr>\n",
       "  </tbody>\n",
       "</table>\n",
       "<p>5994 rows × 2 columns</p>\n",
       "</div>"
      ],
      "text/plain": [
       "              tail_num  tail_num_arr_delay\n",
       "0                215NV            2.250000\n",
       "1                216NV           13.888889\n",
       "2                217NV          -10.833333\n",
       "3                218NV           18.000000\n",
       "4                219NV           12.500000\n",
       "...                ...                 ...\n",
       "5989            N998JE           12.000000\n",
       "5990            N998NN           40.428571\n",
       "5991            N999DN           15.333333\n",
       "5992            N999JQ           31.000000\n",
       "5993  tail_num_unknown           14.686391\n",
       "\n",
       "[5994 rows x 2 columns]"
      ]
     },
     "execution_count": 15,
     "metadata": {},
     "output_type": "execute_result"
    }
   ],
   "source": [
    "td = data.groupby('tail_num').mean()['arr_delay']\n",
    "td = td.reset_index()\n",
    "td.columns = ['tail_num','tail_num_arr_delay']\n",
    "td"
   ]
  },
  {
   "cell_type": "code",
   "execution_count": 16,
   "metadata": {},
   "outputs": [],
   "source": [
    "data = data.merge(td, on=['tail_num'], how='left')"
   ]
  },
  {
   "cell_type": "code",
   "execution_count": 17,
   "metadata": {},
   "outputs": [],
   "source": [
    "# op_carrier, origin, dest\n",
    "\n",
    "data['mkt_carrier'] = pd.factorize(data['mkt_carrier'])[0]\n",
    "data['origin'] = pd.factorize(data['origin'])[0]\n",
    "data['dest'] = pd.factorize(data['dest'])[0]"
   ]
  },
  {
   "cell_type": "code",
   "execution_count": 18,
   "metadata": {},
   "outputs": [],
   "source": [
    "# remove cols\n",
    "\n",
    "data = data.drop(columns=\n",
    "                #drop+       # already dropped\n",
    "                #delay_cols+ # not really sure what to do with these columns (already dropped)\n",
    "                carrier_identifiers+\n",
    "                place_identifiers)"
   ]
  },
  {
   "cell_type": "code",
   "execution_count": 19,
   "metadata": {},
   "outputs": [],
   "source": [
    "# features \n",
    "\n",
    "numerical = list(data.dtypes[data.dtypes != 'object'].index)\n",
    "\n",
    "categorical = list(data.dtypes[data.dtypes == 'object'].index)"
   ]
  },
  {
   "cell_type": "code",
   "execution_count": 20,
   "metadata": {},
   "outputs": [
    {
     "data": {
      "text/plain": [
       "['weather_type']"
      ]
     },
     "execution_count": 20,
     "metadata": {},
     "output_type": "execute_result"
    }
   ],
   "source": [
    "categorical"
   ]
  },
  {
   "cell_type": "code",
   "execution_count": 21,
   "metadata": {},
   "outputs": [
    {
     "data": {
      "text/plain": [
       "['mkt_carrier',\n",
       " 'origin',\n",
       " 'dest',\n",
       " 'crs_dep_time',\n",
       " 'crs_arr_time',\n",
       " 'arr_delay',\n",
       " 'origin_fl_density',\n",
       " 'dest_fl_density',\n",
       " 'day',\n",
       " 'month',\n",
       " 'year',\n",
       " 'weekday',\n",
       " 'crs_arr_hour',\n",
       " 'crs_dep_hour',\n",
       " 'predicted_speed',\n",
       " 'origin_num_passengers',\n",
       " 'dest_num_passengers',\n",
       " 'origin_num_freight',\n",
       " 'dest_num_freight',\n",
       " 'dist_group',\n",
       " 'season',\n",
       " 'origin_airport_size',\n",
       " 'dest_airport_size',\n",
       " 'mean_op_carrier_delay',\n",
       " 'mean_delay_origin_airport',\n",
       " 'mean_delay_dest_airport',\n",
       " 'totalSnow_cm',\n",
       " 'sunHour',\n",
       " 'cloudcover',\n",
       " 'precipMM',\n",
       " 'hrly_bin',\n",
       " 'avg_hr_fl',\n",
       " 'avg_day_fl',\n",
       " 'adl_rolling_mean',\n",
       " 'mean_carrier_arr_delay',\n",
       " 'tail_num_arr_delay']"
      ]
     },
     "execution_count": 21,
     "metadata": {},
     "output_type": "execute_result"
    }
   ],
   "source": [
    "numerical"
   ]
  },
  {
   "cell_type": "code",
   "execution_count": 22,
   "metadata": {},
   "outputs": [],
   "source": [
    "data['totalSnow_mm'] = data['totalSnow_cm']*10\n",
    "data = data.drop(columns = 'totalSnow_cm')"
   ]
  },
  {
   "cell_type": "code",
   "execution_count": 23,
   "metadata": {},
   "outputs": [],
   "source": [
    "data = pd.get_dummies(data=data,columns=categorical,drop_first=True)"
   ]
  },
  {
   "cell_type": "code",
   "execution_count": 24,
   "metadata": {},
   "outputs": [],
   "source": [
    "# crs_dep_time, arr_time are values in range 0-2.4k -> get hours only\n",
    "\n",
    "data['crs_dep_hour'] = round(data['crs_dep_time']/60)\n",
    "data['crs_arr_hour'] = round(data['crs_arr_time']/60)\n",
    "\n",
    "data = data.drop(columns=['crs_dep_time','crs_arr_time'])"
   ]
  },
  {
   "cell_type": "code",
   "execution_count": 25,
   "metadata": {},
   "outputs": [],
   "source": [
    "# reshuffle\n",
    "data = data.sample(frac=1)\n",
    "data = data.reset_index()\n",
    "# data = data[data['arr_delay']<=200]"
   ]
  },
  {
   "cell_type": "code",
   "execution_count": 26,
   "metadata": {},
   "outputs": [],
   "source": [
    "X = data.drop(columns = ['arr_delay','adl_rolling_mean'])\n",
    "#y = data['arr_delay']\n",
    "y = data['adl_rolling_mean']"
   ]
  },
  {
   "cell_type": "code",
   "execution_count": 27,
   "metadata": {},
   "outputs": [
    {
     "data": {
      "text/plain": [
       "Index(['index', 'mkt_carrier', 'origin', 'dest', 'origin_fl_density',\n",
       "       'dest_fl_density', 'day', 'month', 'year', 'weekday', 'crs_arr_hour',\n",
       "       'crs_dep_hour', 'predicted_speed', 'origin_num_passengers',\n",
       "       'dest_num_passengers', 'origin_num_freight', 'dest_num_freight',\n",
       "       'dist_group', 'season', 'origin_airport_size', 'dest_airport_size',\n",
       "       'mean_op_carrier_delay', 'mean_delay_origin_airport',\n",
       "       'mean_delay_dest_airport', 'sunHour', 'cloudcover', 'precipMM',\n",
       "       'hrly_bin', 'avg_hr_fl', 'avg_day_fl', 'mean_carrier_arr_delay',\n",
       "       'tail_num_arr_delay', 'totalSnow_mm', 'weather_type_Rainy',\n",
       "       'weather_type_Snowy', 'weather_type_Sunny'],\n",
       "      dtype='object')"
      ]
     },
     "execution_count": 27,
     "metadata": {},
     "output_type": "execute_result"
    }
   ],
   "source": [
    "X.columns"
   ]
  },
  {
   "cell_type": "code",
   "execution_count": 28,
   "metadata": {},
   "outputs": [],
   "source": [
    "# X.to_csv('X.csv')"
   ]
  },
  {
   "cell_type": "code",
   "execution_count": 29,
   "metadata": {},
   "outputs": [],
   "source": [
    "# X to scale\n",
    "scaling = [\n",
    "    'origin_num_passengers', 'dest_num_passengers', 'origin_num_freight',\n",
    "    'dest_num_freight', 'season', 'origin_airport_size',\n",
    "    'dest_airport_size', 'mean_op_carrier_delay',\n",
    "    'mean_delay_origin_airport', 'mean_delay_dest_airport', 'sunHour',\n",
    "    'cloudcover', 'precipMM', 'mean_carrier_arr_delay', 'tail_num_arr_delay', 'totalSnow_mm',\n",
    "]"
   ]
  },
  {
   "cell_type": "code",
   "execution_count": 30,
   "metadata": {},
   "outputs": [],
   "source": [
    "# scale/normalize\n",
    "\n",
    "from sklearn.preprocessing import StandardScaler\n",
    "from sklearn.preprocessing import Normalizer\n",
    "\n",
    "#scaling\n",
    "\n",
    "scaler = StandardScaler()\n",
    "scaler.fit(X)\n",
    "X_scaled = scaler.transform(X)\n",
    "\n",
    "scaled = scaler.fit_transform(X[scaling])"
   ]
  },
  {
   "cell_type": "code",
   "execution_count": 31,
   "metadata": {},
   "outputs": [],
   "source": [
    "for i in range(len(scaling)):\n",
    "    X[scaling[i]] = scaled[:,i]"
   ]
  },
  {
   "cell_type": "code",
   "execution_count": 32,
   "metadata": {
    "collapsed": true,
    "jupyter": {
     "outputs_hidden": true
    }
   },
   "outputs": [
    {
     "data": {
      "text/html": [
       "<div>\n",
       "<style scoped>\n",
       "    .dataframe tbody tr th:only-of-type {\n",
       "        vertical-align: middle;\n",
       "    }\n",
       "\n",
       "    .dataframe tbody tr th {\n",
       "        vertical-align: top;\n",
       "    }\n",
       "\n",
       "    .dataframe thead th {\n",
       "        text-align: right;\n",
       "    }\n",
       "</style>\n",
       "<table border=\"1\" class=\"dataframe\">\n",
       "  <thead>\n",
       "    <tr style=\"text-align: right;\">\n",
       "      <th></th>\n",
       "      <th>index</th>\n",
       "      <th>mkt_carrier</th>\n",
       "      <th>origin</th>\n",
       "      <th>dest</th>\n",
       "      <th>origin_fl_density</th>\n",
       "      <th>dest_fl_density</th>\n",
       "      <th>day</th>\n",
       "      <th>month</th>\n",
       "      <th>year</th>\n",
       "      <th>weekday</th>\n",
       "      <th>...</th>\n",
       "      <th>precipMM</th>\n",
       "      <th>hrly_bin</th>\n",
       "      <th>avg_hr_fl</th>\n",
       "      <th>avg_day_fl</th>\n",
       "      <th>mean_carrier_arr_delay</th>\n",
       "      <th>tail_num_arr_delay</th>\n",
       "      <th>totalSnow_mm</th>\n",
       "      <th>weather_type_Rainy</th>\n",
       "      <th>weather_type_Snowy</th>\n",
       "      <th>weather_type_Sunny</th>\n",
       "    </tr>\n",
       "  </thead>\n",
       "  <tbody>\n",
       "    <tr>\n",
       "      <th>0</th>\n",
       "      <td>44290</td>\n",
       "      <td>3</td>\n",
       "      <td>42</td>\n",
       "      <td>316</td>\n",
       "      <td>8</td>\n",
       "      <td>22</td>\n",
       "      <td>8</td>\n",
       "      <td>10</td>\n",
       "      <td>2019</td>\n",
       "      <td>1</td>\n",
       "      <td>...</td>\n",
       "      <td>2.462519</td>\n",
       "      <td>0</td>\n",
       "      <td>2.200000</td>\n",
       "      <td>1.941176</td>\n",
       "      <td>-0.659250</td>\n",
       "      <td>0.217950</td>\n",
       "      <td>-0.109994</td>\n",
       "      <td>1</td>\n",
       "      <td>0</td>\n",
       "      <td>0</td>\n",
       "    </tr>\n",
       "    <tr>\n",
       "      <th>1</th>\n",
       "      <td>19717</td>\n",
       "      <td>0</td>\n",
       "      <td>34</td>\n",
       "      <td>27</td>\n",
       "      <td>14</td>\n",
       "      <td>3</td>\n",
       "      <td>17</td>\n",
       "      <td>10</td>\n",
       "      <td>2018</td>\n",
       "      <td>2</td>\n",
       "      <td>...</td>\n",
       "      <td>0.058184</td>\n",
       "      <td>1800</td>\n",
       "      <td>43.080000</td>\n",
       "      <td>34.741935</td>\n",
       "      <td>0.070800</td>\n",
       "      <td>0.209748</td>\n",
       "      <td>-0.109994</td>\n",
       "      <td>1</td>\n",
       "      <td>0</td>\n",
       "      <td>0</td>\n",
       "    </tr>\n",
       "    <tr>\n",
       "      <th>2</th>\n",
       "      <td>28821</td>\n",
       "      <td>5</td>\n",
       "      <td>86</td>\n",
       "      <td>24</td>\n",
       "      <td>3</td>\n",
       "      <td>8</td>\n",
       "      <td>2</td>\n",
       "      <td>3</td>\n",
       "      <td>2019</td>\n",
       "      <td>5</td>\n",
       "      <td>...</td>\n",
       "      <td>0.942359</td>\n",
       "      <td>1600</td>\n",
       "      <td>72.208333</td>\n",
       "      <td>55.903226</td>\n",
       "      <td>0.841854</td>\n",
       "      <td>0.671756</td>\n",
       "      <td>-0.109994</td>\n",
       "      <td>1</td>\n",
       "      <td>0</td>\n",
       "      <td>0</td>\n",
       "    </tr>\n",
       "    <tr>\n",
       "      <th>3</th>\n",
       "      <td>13620</td>\n",
       "      <td>3</td>\n",
       "      <td>27</td>\n",
       "      <td>11</td>\n",
       "      <td>16</td>\n",
       "      <td>4</td>\n",
       "      <td>19</td>\n",
       "      <td>7</td>\n",
       "      <td>2018</td>\n",
       "      <td>3</td>\n",
       "      <td>...</td>\n",
       "      <td>-0.329612</td>\n",
       "      <td>0</td>\n",
       "      <td>67.173913</td>\n",
       "      <td>49.838710</td>\n",
       "      <td>-0.659250</td>\n",
       "      <td>0.019130</td>\n",
       "      <td>-0.109994</td>\n",
       "      <td>1</td>\n",
       "      <td>0</td>\n",
       "      <td>0</td>\n",
       "    </tr>\n",
       "    <tr>\n",
       "      <th>4</th>\n",
       "      <td>20763</td>\n",
       "      <td>0</td>\n",
       "      <td>41</td>\n",
       "      <td>62</td>\n",
       "      <td>8</td>\n",
       "      <td>7</td>\n",
       "      <td>1</td>\n",
       "      <td>11</td>\n",
       "      <td>2018</td>\n",
       "      <td>3</td>\n",
       "      <td>...</td>\n",
       "      <td>-0.314101</td>\n",
       "      <td>700</td>\n",
       "      <td>22.791667</td>\n",
       "      <td>17.645161</td>\n",
       "      <td>-0.659250</td>\n",
       "      <td>-1.318430</td>\n",
       "      <td>-0.109994</td>\n",
       "      <td>1</td>\n",
       "      <td>0</td>\n",
       "      <td>0</td>\n",
       "    </tr>\n",
       "  </tbody>\n",
       "</table>\n",
       "<p>5 rows × 36 columns</p>\n",
       "</div>"
      ],
      "text/plain": [
       "   index  mkt_carrier  origin  dest  origin_fl_density  dest_fl_density  day  \\\n",
       "0  44290            3      42   316                  8               22    8   \n",
       "1  19717            0      34    27                 14                3   17   \n",
       "2  28821            5      86    24                  3                8    2   \n",
       "3  13620            3      27    11                 16                4   19   \n",
       "4  20763            0      41    62                  8                7    1   \n",
       "\n",
       "   month  year  weekday  ...  precipMM  hrly_bin  avg_hr_fl  avg_day_fl  \\\n",
       "0     10  2019        1  ...  2.462519         0   2.200000    1.941176   \n",
       "1     10  2018        2  ...  0.058184      1800  43.080000   34.741935   \n",
       "2      3  2019        5  ...  0.942359      1600  72.208333   55.903226   \n",
       "3      7  2018        3  ... -0.329612         0  67.173913   49.838710   \n",
       "4     11  2018        3  ... -0.314101       700  22.791667   17.645161   \n",
       "\n",
       "   mean_carrier_arr_delay  tail_num_arr_delay  totalSnow_mm  \\\n",
       "0               -0.659250            0.217950     -0.109994   \n",
       "1                0.070800            0.209748     -0.109994   \n",
       "2                0.841854            0.671756     -0.109994   \n",
       "3               -0.659250            0.019130     -0.109994   \n",
       "4               -0.659250           -1.318430     -0.109994   \n",
       "\n",
       "   weather_type_Rainy  weather_type_Snowy  weather_type_Sunny  \n",
       "0                   1                   0                   0  \n",
       "1                   1                   0                   0  \n",
       "2                   1                   0                   0  \n",
       "3                   1                   0                   0  \n",
       "4                   1                   0                   0  \n",
       "\n",
       "[5 rows x 36 columns]"
      ]
     },
     "execution_count": 32,
     "metadata": {},
     "output_type": "execute_result"
    }
   ],
   "source": [
    "X.head()"
   ]
  },
  {
   "cell_type": "code",
   "execution_count": 33,
   "metadata": {},
   "outputs": [
    {
     "data": {
      "text/plain": [
       "<AxesSubplot:xlabel='adl_rolling_mean', ylabel='Count'>"
      ]
     },
     "execution_count": 33,
     "metadata": {},
     "output_type": "execute_result"
    },
    {
     "data": {
      "image/png": "[encoded data removed]",
      "text/plain": [
       "<Figure size 432x288 with 1 Axes>"
      ]
     },
     "metadata": {
      "needs_background": "light"
     },
     "output_type": "display_data"
    }
   ],
   "source": [
    "sns.histplot(y)"
   ]
  },
  {
   "cell_type": "code",
   "execution_count": null,
   "metadata": {},
   "outputs": [],
   "source": [
    "y_ = y-y.mean()"
   ]
  },
  {
   "cell_type": "code",
   "execution_count": 34,
   "metadata": {},
   "outputs": [],
   "source": [
    "from scipy.stats import boxcox\n",
    "from numpy import log"
   ]
  },
  {
   "cell_type": "code",
   "execution_count": 35,
   "metadata": {},
   "outputs": [],
   "source": [
    "# splitting\n",
    "\n",
    "from sklearn.model_selection import train_test_split\n",
    "\n",
    "# x_train, x_test, y_train, y_test = train_test_split(X_scaled,y,train_size=0.7) #full scaled X\n",
    "x_train, x_test, y_train, y_test = train_test_split(X,y_,train_size=0.7)  #using partially scaled X\n",
    "# x_train, x_test, y_train, y_test = train_test_split(X_scaled,y_,train_size=0.7) #full scaled X, boxcox y"
   ]
  },
  {
   "cell_type": "code",
   "execution_count": 36,
   "metadata": {},
   "outputs": [],
   "source": [
    "from sklearn import metrics\n",
    "import xgboost as xgb\n",
    "from xgboost import XGBRegressor\n",
    "from sklearn.model_selection import cross_validate\n",
    "from sklearn.model_selection import cross_val_score"
   ]
  },
  {
   "cell_type": "code",
   "execution_count": 37,
   "metadata": {},
   "outputs": [],
   "source": [
    "# gridsearch cv done from previous notebook"
   ]
  },
  {
   "cell_type": "code",
   "execution_count": 38,
   "metadata": {},
   "outputs": [
    {
     "name": "stdout",
     "output_type": "stream",
     "text": [
      "79.0\n"
     ]
    }
   ],
   "source": [
    "data_dmatrix = xgb.DMatrix(data=X,label=y)\n",
    "\n",
    "model = XGBRegressor(objective ='reg:squarederror',\n",
    "                     booster='gbtree',\n",
    "                     learning_rate = 0.1,\n",
    "                     colsample_bytree = 1,\n",
    "                     max_depth = 10, \n",
    "                     alpha = 10,\n",
    "                     n_estimators = 100)\n",
    "model.fit(x_train,y_train)\n",
    "\n",
    "train_score = cross_val_score(model,x_train,y_train,cv=10)\n",
    "print(round(train_score.mean(),2)*100)"
   ]
  },
  {
   "cell_type": "code",
   "execution_count": 39,
   "metadata": {},
   "outputs": [
    {
     "name": "stdout",
     "output_type": "stream",
     "text": [
      "RMSE: 5.562963\n",
      "0.8179691992447454\n"
     ]
    }
   ],
   "source": [
    "y_pred = model.predict(x_test)\n",
    "\n",
    "rmse = np.sqrt(metrics.mean_squared_error(y_test, y_pred))\n",
    "print(\"RMSE: %f\" % (rmse))\n",
    "print(metrics.r2_score(y_test,y_pred))"
   ]
  },
  {
   "cell_type": "code",
   "execution_count": 40,
   "metadata": {},
   "outputs": [
    {
     "name": "stdout",
     "output_type": "stream",
     "text": [
      "0.8930482286852455\n"
     ]
    }
   ],
   "source": [
    "from sklearn.feature_selection import SelectFromModel\n",
    "\n",
    "# select features using threshold\n",
    "selection = SelectFromModel(model, prefit=True)\n",
    "select_X_train = selection.transform(x_train)\n",
    "# train model\n",
    "selection_model = XGBRegressor(objective ='reg:squarederror',\n",
    "                    booster='gbtree',\n",
    "                    learning_rate = 0.1,\n",
    "                    max_depth = 10, \n",
    "                    alpha = 10,\n",
    "                    n_estimators = 100)\n",
    "selection_model.fit(select_X_train, y_train)\n",
    "\n",
    "select_X_test = selection.transform(x_test)\n",
    "y_pred = selection_model.predict(select_X_test)\n",
    "print(metrics.r2_score(y_test,y_pred))"
   ]
  },
  {
   "cell_type": "code",
   "execution_count": 41,
   "metadata": {},
   "outputs": [],
   "source": [
    "from numpy import sort"
   ]
  },
  {
   "cell_type": "code",
   "execution_count": 42,
   "metadata": {
    "collapsed": true,
    "jupyter": {
     "outputs_hidden": true
    }
   },
   "outputs": [
    {
     "name": "stdout",
     "output_type": "stream",
     "text": [
      "Thresh=0.000, n=36, R2: 74.25%\n",
      "Thresh=0.000, n=36, R2: 74.25%\n",
      "Thresh=0.004, n=34, R2: 74.25%\n",
      "Thresh=0.006, n=33, R2: 74.25%\n",
      "Thresh=0.006, n=32, R2: 74.94%\n",
      "Thresh=0.007, n=31, R2: 74.94%\n",
      "Thresh=0.007, n=30, R2: 75.83%\n",
      "Thresh=0.007, n=29, R2: 73.75%\n",
      "Thresh=0.007, n=28, R2: 73.82%\n",
      "Thresh=0.007, n=27, R2: 74.65%\n",
      "Thresh=0.007, n=26, R2: 76.51%\n",
      "Thresh=0.008, n=25, R2: 74.86%\n",
      "Thresh=0.008, n=24, R2: 76.69%\n",
      "Thresh=0.008, n=23, R2: 75.72%\n",
      "Thresh=0.008, n=22, R2: 77.56%\n",
      "Thresh=0.009, n=21, R2: 77.20%\n",
      "Thresh=0.009, n=20, R2: 75.74%\n",
      "Thresh=0.009, n=19, R2: 77.43%\n",
      "Thresh=0.009, n=18, R2: 77.20%\n",
      "Thresh=0.010, n=17, R2: 77.60%\n",
      "Thresh=0.010, n=16, R2: 77.38%\n",
      "Thresh=0.010, n=15, R2: 77.87%\n",
      "Thresh=0.010, n=14, R2: 78.02%\n",
      "Thresh=0.010, n=13, R2: 77.36%\n",
      "Thresh=0.011, n=12, R2: 77.61%\n",
      "Thresh=0.011, n=11, R2: 78.98%\n",
      "Thresh=0.012, n=10, R2: 78.67%\n",
      "Thresh=0.012, n=9, R2: 80.06%\n",
      "Thresh=0.014, n=8, R2: 79.67%\n",
      "Thresh=0.015, n=7, R2: 81.35%\n",
      "Thresh=0.019, n=6, R2: 80.45%\n",
      "Thresh=0.031, n=5, R2: 83.31%\n",
      "Thresh=0.121, n=4, R2: 83.16%\n",
      "Thresh=0.160, n=3, R2: 56.66%\n",
      "Thresh=0.162, n=2, R2: 30.21%\n",
      "Thresh=0.256, n=1, R2: 3.15%\n"
     ]
    }
   ],
   "source": [
    "# thresholds = sort(model.feature_importances_)\n",
    "# for thresh in thresholds:\n",
    "# \t# select features using threshold\n",
    "# \tselection = SelectFromModel(model, threshold=thresh, prefit=True)\n",
    "# \tselect_X_train = selection.transform(x_train)\n",
    "# \t# train model\n",
    "# \tselection_model = XGBRegressor()\n",
    "# \tselection_model.fit(select_X_train, y_train)\n",
    "# \t# eval model\n",
    "# \tselect_X_test = selection.transform(x_test)\n",
    "# \tpredictions = selection_model.predict(select_X_test)\n",
    "# \taccuracy = metrics.r2_score(y_test, predictions)\n",
    "# \tprint(\"Thresh=%.3f, n=%d, R2: %.2f%%\" % (thresh, select_X_train.shape[1], accuracy*100.0))"
   ]
  },
  {
   "cell_type": "code",
   "execution_count": 80,
   "metadata": {},
   "outputs": [
    {
     "data": {
      "text/plain": [
       "array([0.12060725, 0.00739635, 0.00697971, 0.00731112, 0.00832129,\n",
       "       0.00790597, 0.16162199, 0.25614297, 0.        , 0.16024074,\n",
       "       0.00789533, 0.00738668, 0.00984965, 0.01210736, 0.01125895,\n",
       "       0.01119548, 0.01181505, 0.00735642, 0.03056941, 0.00398611,\n",
       "       0.00595598, 0.00726536, 0.0101367 , 0.0087873 , 0.00797746,\n",
       "       0.00866405, 0.00973783, 0.01518522, 0.00945699, 0.01403036,\n",
       "       0.00961285, 0.01898754, 0.00872407, 0.00967202, 0.        ,\n",
       "       0.00585851], dtype=float32)"
      ]
     },
     "execution_count": 80,
     "metadata": {},
     "output_type": "execute_result"
    }
   ],
   "source": [
    "model.feature_importances_"
   ]
  },
  {
   "cell_type": "code",
   "execution_count": 44,
   "metadata": {},
   "outputs": [
    {
     "name": "stdout",
     "output_type": "stream",
     "text": [
      "18.18257569781504\n",
      "0.8930482291205442\n"
     ]
    }
   ],
   "source": [
    "from sklearn.metrics import mean_squared_error\n",
    "\n",
    "testing_error = mean_squared_error(y_test,y_pred)\n",
    "print(testing_error)\n",
    "\n",
    "exp_var = metrics.explained_variance_score(y_test,y_pred)\n",
    "print(exp_var)"
   ]
  },
  {
   "cell_type": "code",
   "execution_count": 45,
   "metadata": {},
   "outputs": [
    {
     "name": "stdout",
     "output_type": "stream",
     "text": [
      "[0.77202986 0.75468888 0.76015757 0.79248357 0.77686016 0.7731753\n",
      " 0.74941365 0.76291017 0.75621459 0.76534735]\n"
     ]
    }
   ],
   "source": [
    "cv_results = cross_validate(selection_model,X,y,cv=10,scoring='r2',n_jobs=-1)\n",
    "\n",
    "print(cv_results['test_score'])"
   ]
  },
  {
   "cell_type": "code",
   "execution_count": 55,
   "metadata": {},
   "outputs": [
    {
     "data": {
      "text/plain": [
       "Index(['index', 'mkt_carrier', 'origin', 'dest', 'origin_fl_density',\n",
       "       'dest_fl_density', 'day', 'month', 'year', 'weekday', 'crs_arr_hour',\n",
       "       'crs_dep_hour', 'predicted_speed', 'origin_num_passengers',\n",
       "       'dest_num_passengers', 'origin_num_freight', 'dest_num_freight',\n",
       "       'dist_group', 'season', 'origin_airport_size', 'dest_airport_size',\n",
       "       'mean_op_carrier_delay', 'mean_delay_origin_airport',\n",
       "       'mean_delay_dest_airport', 'sunHour', 'cloudcover', 'precipMM',\n",
       "       'hrly_bin', 'avg_hr_fl', 'avg_day_fl', 'mean_carrier_arr_delay',\n",
       "       'tail_num_arr_delay', 'totalSnow_mm', 'weather_type_Rainy',\n",
       "       'weather_type_Snowy', 'weather_type_Sunny'],\n",
       "      dtype='object')"
      ]
     },
     "execution_count": 55,
     "metadata": {},
     "output_type": "execute_result"
    }
   ],
   "source": [
    "X.columns"
   ]
  },
  {
   "cell_type": "code",
   "execution_count": 71,
   "metadata": {},
   "outputs": [],
   "source": [
    "selection_model.get_booster().feature_names = ['index', 'mkt_carrier', 'origin', 'dest', 'origin_fl_density',\n",
    "       'dest_fl_density', 'day', 'month', 'year', 'weekday', 'crs_arr_hour',\n",
    "       'crs_dep_hour', 'predicted_speed', 'origin_num_passengers',\n",
    "       'dest_num_passengers', 'origin_num_freight', 'dest_num_freight',\n",
    "       'dist_group', 'season', 'origin_airport_size', 'dest_airport_size',\n",
    "       'mean_op_carrier_delay', 'mean_delay_origin_airport',\n",
    "       'mean_delay_dest_airport', 'sunHour', 'cloudcover', 'precipMM',\n",
    "       'hrly_bin', 'avg_hr_fl', 'avg_day_fl', 'mean_carrier_arr_delay',\n",
    "       'tail_num_arr_delay', 'totalSnow_mm', 'weather_type_Rainy',\n",
    "       'weather_type_Snowy', 'weather_type_Sunny']\n",
    "\n",
    "# selection_model.get_booster().feature_names = ['index', 'mkt_carrier', 'origin', 'dest', 'sunHour', 'cloudcover',\n",
    "#        'precipMM', 'day', 'month', 'year', 'weekday', 'crs_arr_hour',\n",
    "#        'crs_dep_hour', 'origin_fl_density', 'dest_fl_density',\n",
    "#        'predicted_speed', 'origin_airport_size', 'dest_airport_size', 'season',\n",
    "#        'dist_group', 'mean_op_carrier_delay', 'mean_delay_origin_airport',\n",
    "#        'mean_delay_dest_airport', 'origin_num_passengers',\n",
    "#        'dest_num_passengers', 'origin_num_freight', 'dest_num_freight',\n",
    "#        'hrly_bin', 'avg_hr_fl', 'avg_day_fl', 'mean_carrier_arr_delay',\n",
    "#        'tail_num_arr_delay', 'totalSnow_mm', 'weather_type_Rainy',\n",
    "#        'weather_type_Snowy', 'weather_type_Sunny']"
   ]
  },
  {
   "cell_type": "code",
   "execution_count": 46,
   "metadata": {},
   "outputs": [
    {
     "data": {
      "text/plain": [
       "'\\nways to improve model \\n\\n-more weather data\\n    -wind speed, \\n    -use all data - try iterative training using pickles (xgb)\\n    \\n-efficiency \\n    -pipelines\\n'"
      ]
     },
     "execution_count": 46,
     "metadata": {},
     "output_type": "execute_result"
    }
   ],
   "source": [
    "\"\"\"\n",
    "ways to improve model \n",
    "\n",
    "-more weather data\n",
    "    -wind speed, \n",
    "    -use all data - try iterative training using pickles (xgb)\n",
    "    \n",
    "-efficiency \n",
    "    -pipelines\n",
    "\"\"\""
   ]
  },
  {
   "cell_type": "code",
   "execution_count": 47,
   "metadata": {},
   "outputs": [],
   "source": [
    "import pickle\n",
    "with open('xgboost.pickle','wb') as f:\n",
    "    pickle.dump(selection_model,f)"
   ]
  },
  {
   "cell_type": "code",
   "execution_count": null,
   "metadata": {},
   "outputs": [],
   "source": []
  },
  {
   "cell_type": "code",
   "execution_count": 83,
   "metadata": {},
   "outputs": [],
   "source": [
    "# predicting off test dataset\n",
    "\n",
    "test_data = pd.read_csv(file_path+'final_test_cleaned.csv')"
   ]
  },
  {
   "cell_type": "code",
   "execution_count": 84,
   "metadata": {},
   "outputs": [
    {
     "data": {
      "text/plain": [
       "set()"
      ]
     },
     "execution_count": 84,
     "metadata": {},
     "output_type": "execute_result"
    }
   ],
   "source": [
    "# checking different columns in train vs test\n",
    "\n",
    "set(X.columns)-set(test_data.columns)"
   ]
  },
  {
   "cell_type": "code",
   "execution_count": 85,
   "metadata": {
    "collapsed": true,
    "jupyter": {
     "outputs_hidden": true
    }
   },
   "outputs": [
    {
     "data": {
      "text/html": [
       "<div>\n",
       "<style scoped>\n",
       "    .dataframe tbody tr th:only-of-type {\n",
       "        vertical-align: middle;\n",
       "    }\n",
       "\n",
       "    .dataframe tbody tr th {\n",
       "        vertical-align: top;\n",
       "    }\n",
       "\n",
       "    .dataframe thead th {\n",
       "        text-align: right;\n",
       "    }\n",
       "</style>\n",
       "<table border=\"1\" class=\"dataframe\">\n",
       "  <thead>\n",
       "    <tr style=\"text-align: right;\">\n",
       "      <th></th>\n",
       "      <th>Unnamed: 0</th>\n",
       "      <th>index</th>\n",
       "      <th>mkt_carrier</th>\n",
       "      <th>origin</th>\n",
       "      <th>dest</th>\n",
       "      <th>sunHour</th>\n",
       "      <th>cloudcover</th>\n",
       "      <th>precipMM</th>\n",
       "      <th>day</th>\n",
       "      <th>month</th>\n",
       "      <th>...</th>\n",
       "      <th>dest_num_freight</th>\n",
       "      <th>hrly_bin</th>\n",
       "      <th>avg_hr_fl</th>\n",
       "      <th>avg_day_fl</th>\n",
       "      <th>mean_carrier_arr_delay</th>\n",
       "      <th>tail_num_arr_delay</th>\n",
       "      <th>totalSnow_mm</th>\n",
       "      <th>weather_type_Rainy</th>\n",
       "      <th>weather_type_Snowy</th>\n",
       "      <th>weather_type_Sunny</th>\n",
       "    </tr>\n",
       "  </thead>\n",
       "  <tbody>\n",
       "    <tr>\n",
       "      <th>0</th>\n",
       "      <td>0</td>\n",
       "      <td>35318</td>\n",
       "      <td>0</td>\n",
       "      <td>157</td>\n",
       "      <td>12</td>\n",
       "      <td>7.0</td>\n",
       "      <td>30</td>\n",
       "      <td>0.1</td>\n",
       "      <td>7</td>\n",
       "      <td>1</td>\n",
       "      <td>...</td>\n",
       "      <td>2.448866e+08</td>\n",
       "      <td>2000</td>\n",
       "      <td>38.560000</td>\n",
       "      <td>137.714286</td>\n",
       "      <td>12.695256</td>\n",
       "      <td>22.857143</td>\n",
       "      <td>0.0</td>\n",
       "      <td>1</td>\n",
       "      <td>0</td>\n",
       "      <td>0</td>\n",
       "    </tr>\n",
       "    <tr>\n",
       "      <th>1</th>\n",
       "      <td>1</td>\n",
       "      <td>111773</td>\n",
       "      <td>3</td>\n",
       "      <td>38</td>\n",
       "      <td>77</td>\n",
       "      <td>8.7</td>\n",
       "      <td>6</td>\n",
       "      <td>0.0</td>\n",
       "      <td>1</td>\n",
       "      <td>1</td>\n",
       "      <td>...</td>\n",
       "      <td>1.118000e+09</td>\n",
       "      <td>1300</td>\n",
       "      <td>95.380952</td>\n",
       "      <td>286.142857</td>\n",
       "      <td>13.773191</td>\n",
       "      <td>2.000000</td>\n",
       "      <td>0.0</td>\n",
       "      <td>0</td>\n",
       "      <td>0</td>\n",
       "      <td>1</td>\n",
       "    </tr>\n",
       "    <tr>\n",
       "      <th>2</th>\n",
       "      <td>2</td>\n",
       "      <td>92664</td>\n",
       "      <td>1</td>\n",
       "      <td>2</td>\n",
       "      <td>53</td>\n",
       "      <td>8.7</td>\n",
       "      <td>25</td>\n",
       "      <td>0.0</td>\n",
       "      <td>5</td>\n",
       "      <td>1</td>\n",
       "      <td>...</td>\n",
       "      <td>3.397715e+08</td>\n",
       "      <td>1700</td>\n",
       "      <td>120.920000</td>\n",
       "      <td>431.857143</td>\n",
       "      <td>12.960344</td>\n",
       "      <td>-1.200000</td>\n",
       "      <td>0.0</td>\n",
       "      <td>0</td>\n",
       "      <td>0</td>\n",
       "      <td>1</td>\n",
       "    </tr>\n",
       "    <tr>\n",
       "      <th>3</th>\n",
       "      <td>3</td>\n",
       "      <td>130708</td>\n",
       "      <td>4</td>\n",
       "      <td>139</td>\n",
       "      <td>106</td>\n",
       "      <td>5.7</td>\n",
       "      <td>66</td>\n",
       "      <td>1.1</td>\n",
       "      <td>3</td>\n",
       "      <td>1</td>\n",
       "      <td>...</td>\n",
       "      <td>1.126954e+06</td>\n",
       "      <td>1200</td>\n",
       "      <td>4.619048</td>\n",
       "      <td>13.857143</td>\n",
       "      <td>13.136552</td>\n",
       "      <td>-6.750000</td>\n",
       "      <td>0.0</td>\n",
       "      <td>1</td>\n",
       "      <td>0</td>\n",
       "      <td>0</td>\n",
       "    </tr>\n",
       "    <tr>\n",
       "      <th>4</th>\n",
       "      <td>4</td>\n",
       "      <td>112873</td>\n",
       "      <td>3</td>\n",
       "      <td>44</td>\n",
       "      <td>87</td>\n",
       "      <td>8.7</td>\n",
       "      <td>29</td>\n",
       "      <td>0.0</td>\n",
       "      <td>5</td>\n",
       "      <td>1</td>\n",
       "      <td>...</td>\n",
       "      <td>2.927626e+06</td>\n",
       "      <td>2200</td>\n",
       "      <td>110.720000</td>\n",
       "      <td>395.428571</td>\n",
       "      <td>11.224367</td>\n",
       "      <td>2.333333</td>\n",
       "      <td>0.0</td>\n",
       "      <td>0</td>\n",
       "      <td>0</td>\n",
       "      <td>1</td>\n",
       "    </tr>\n",
       "    <tr>\n",
       "      <th>...</th>\n",
       "      <td>...</td>\n",
       "      <td>...</td>\n",
       "      <td>...</td>\n",
       "      <td>...</td>\n",
       "      <td>...</td>\n",
       "      <td>...</td>\n",
       "      <td>...</td>\n",
       "      <td>...</td>\n",
       "      <td>...</td>\n",
       "      <td>...</td>\n",
       "      <td>...</td>\n",
       "      <td>...</td>\n",
       "      <td>...</td>\n",
       "      <td>...</td>\n",
       "      <td>...</td>\n",
       "      <td>...</td>\n",
       "      <td>...</td>\n",
       "      <td>...</td>\n",
       "      <td>...</td>\n",
       "      <td>...</td>\n",
       "      <td>...</td>\n",
       "    </tr>\n",
       "    <tr>\n",
       "      <th>150494</th>\n",
       "      <td>150494</td>\n",
       "      <td>140772</td>\n",
       "      <td>3</td>\n",
       "      <td>72</td>\n",
       "      <td>277</td>\n",
       "      <td>8.7</td>\n",
       "      <td>0</td>\n",
       "      <td>0.0</td>\n",
       "      <td>5</td>\n",
       "      <td>1</td>\n",
       "      <td>...</td>\n",
       "      <td>3.474204e+07</td>\n",
       "      <td>2200</td>\n",
       "      <td>28.952381</td>\n",
       "      <td>86.857143</td>\n",
       "      <td>13.773191</td>\n",
       "      <td>6.090909</td>\n",
       "      <td>0.0</td>\n",
       "      <td>0</td>\n",
       "      <td>0</td>\n",
       "      <td>1</td>\n",
       "    </tr>\n",
       "    <tr>\n",
       "      <th>150495</th>\n",
       "      <td>150495</td>\n",
       "      <td>108267</td>\n",
       "      <td>6</td>\n",
       "      <td>73</td>\n",
       "      <td>77</td>\n",
       "      <td>8.7</td>\n",
       "      <td>20</td>\n",
       "      <td>0.2</td>\n",
       "      <td>5</td>\n",
       "      <td>1</td>\n",
       "      <td>...</td>\n",
       "      <td>1.118000e+09</td>\n",
       "      <td>1700</td>\n",
       "      <td>95.380952</td>\n",
       "      <td>286.142857</td>\n",
       "      <td>12.695256</td>\n",
       "      <td>48.200000</td>\n",
       "      <td>0.0</td>\n",
       "      <td>1</td>\n",
       "      <td>0</td>\n",
       "      <td>0</td>\n",
       "    </tr>\n",
       "    <tr>\n",
       "      <th>150496</th>\n",
       "      <td>150496</td>\n",
       "      <td>102935</td>\n",
       "      <td>0</td>\n",
       "      <td>130</td>\n",
       "      <td>72</td>\n",
       "      <td>3.5</td>\n",
       "      <td>78</td>\n",
       "      <td>7.5</td>\n",
       "      <td>2</td>\n",
       "      <td>1</td>\n",
       "      <td>...</td>\n",
       "      <td>9.908762e+08</td>\n",
       "      <td>1200</td>\n",
       "      <td>22.636364</td>\n",
       "      <td>71.142857</td>\n",
       "      <td>13.219501</td>\n",
       "      <td>-1.000000</td>\n",
       "      <td>0.0</td>\n",
       "      <td>1</td>\n",
       "      <td>0</td>\n",
       "      <td>0</td>\n",
       "    </tr>\n",
       "    <tr>\n",
       "      <th>150497</th>\n",
       "      <td>150497</td>\n",
       "      <td>32373</td>\n",
       "      <td>6</td>\n",
       "      <td>143</td>\n",
       "      <td>11</td>\n",
       "      <td>8.7</td>\n",
       "      <td>34</td>\n",
       "      <td>0.4</td>\n",
       "      <td>6</td>\n",
       "      <td>1</td>\n",
       "      <td>...</td>\n",
       "      <td>8.378688e+07</td>\n",
       "      <td>1800</td>\n",
       "      <td>105.863636</td>\n",
       "      <td>332.714286</td>\n",
       "      <td>13.219501</td>\n",
       "      <td>11.214286</td>\n",
       "      <td>3.0</td>\n",
       "      <td>0</td>\n",
       "      <td>1</td>\n",
       "      <td>0</td>\n",
       "    </tr>\n",
       "    <tr>\n",
       "      <th>150498</th>\n",
       "      <td>150498</td>\n",
       "      <td>2947</td>\n",
       "      <td>1</td>\n",
       "      <td>121</td>\n",
       "      <td>1</td>\n",
       "      <td>8.7</td>\n",
       "      <td>4</td>\n",
       "      <td>0.0</td>\n",
       "      <td>5</td>\n",
       "      <td>1</td>\n",
       "      <td>...</td>\n",
       "      <td>1.289645e+08</td>\n",
       "      <td>800</td>\n",
       "      <td>215.760000</td>\n",
       "      <td>770.571429</td>\n",
       "      <td>13.773191</td>\n",
       "      <td>-7.000000</td>\n",
       "      <td>0.0</td>\n",
       "      <td>0</td>\n",
       "      <td>0</td>\n",
       "      <td>1</td>\n",
       "    </tr>\n",
       "  </tbody>\n",
       "</table>\n",
       "<p>150499 rows × 37 columns</p>\n",
       "</div>"
      ],
      "text/plain": [
       "        Unnamed: 0   index  mkt_carrier  origin  dest  sunHour  cloudcover  \\\n",
       "0                0   35318            0     157    12      7.0          30   \n",
       "1                1  111773            3      38    77      8.7           6   \n",
       "2                2   92664            1       2    53      8.7          25   \n",
       "3                3  130708            4     139   106      5.7          66   \n",
       "4                4  112873            3      44    87      8.7          29   \n",
       "...            ...     ...          ...     ...   ...      ...         ...   \n",
       "150494      150494  140772            3      72   277      8.7           0   \n",
       "150495      150495  108267            6      73    77      8.7          20   \n",
       "150496      150496  102935            0     130    72      3.5          78   \n",
       "150497      150497   32373            6     143    11      8.7          34   \n",
       "150498      150498    2947            1     121     1      8.7           4   \n",
       "\n",
       "        precipMM  day  month  ...  dest_num_freight  hrly_bin   avg_hr_fl  \\\n",
       "0            0.1    7      1  ...      2.448866e+08      2000   38.560000   \n",
       "1            0.0    1      1  ...      1.118000e+09      1300   95.380952   \n",
       "2            0.0    5      1  ...      3.397715e+08      1700  120.920000   \n",
       "3            1.1    3      1  ...      1.126954e+06      1200    4.619048   \n",
       "4            0.0    5      1  ...      2.927626e+06      2200  110.720000   \n",
       "...          ...  ...    ...  ...               ...       ...         ...   \n",
       "150494       0.0    5      1  ...      3.474204e+07      2200   28.952381   \n",
       "150495       0.2    5      1  ...      1.118000e+09      1700   95.380952   \n",
       "150496       7.5    2      1  ...      9.908762e+08      1200   22.636364   \n",
       "150497       0.4    6      1  ...      8.378688e+07      1800  105.863636   \n",
       "150498       0.0    5      1  ...      1.289645e+08       800  215.760000   \n",
       "\n",
       "        avg_day_fl  mean_carrier_arr_delay  tail_num_arr_delay  totalSnow_mm  \\\n",
       "0       137.714286               12.695256           22.857143           0.0   \n",
       "1       286.142857               13.773191            2.000000           0.0   \n",
       "2       431.857143               12.960344           -1.200000           0.0   \n",
       "3        13.857143               13.136552           -6.750000           0.0   \n",
       "4       395.428571               11.224367            2.333333           0.0   \n",
       "...            ...                     ...                 ...           ...   \n",
       "150494   86.857143               13.773191            6.090909           0.0   \n",
       "150495  286.142857               12.695256           48.200000           0.0   \n",
       "150496   71.142857               13.219501           -1.000000           0.0   \n",
       "150497  332.714286               13.219501           11.214286           3.0   \n",
       "150498  770.571429               13.773191           -7.000000           0.0   \n",
       "\n",
       "        weather_type_Rainy  weather_type_Snowy  weather_type_Sunny  \n",
       "0                        1                   0                   0  \n",
       "1                        0                   0                   1  \n",
       "2                        0                   0                   1  \n",
       "3                        1                   0                   0  \n",
       "4                        0                   0                   1  \n",
       "...                    ...                 ...                 ...  \n",
       "150494                   0                   0                   1  \n",
       "150495                   1                   0                   0  \n",
       "150496                   1                   0                   0  \n",
       "150497                   0                   1                   0  \n",
       "150498                   0                   0                   1  \n",
       "\n",
       "[150499 rows x 37 columns]"
      ]
     },
     "execution_count": 85,
     "metadata": {},
     "output_type": "execute_result"
    }
   ],
   "source": [
    "# making sure there's no nan\n",
    "\n",
    "test_data.fillna(test_data.mean())"
   ]
  },
  {
   "cell_type": "code",
   "execution_count": 86,
   "metadata": {},
   "outputs": [],
   "source": [
    "test_data = test_data.drop(columns = 'Unnamed: 0')"
   ]
  },
  {
   "cell_type": "code",
   "execution_count": 91,
   "metadata": {},
   "outputs": [],
   "source": [
    "test_cols = ['index', 'mkt_carrier', 'origin', 'dest', 'origin_fl_density',\n",
    "       'dest_fl_density', 'day', 'month', 'year', 'weekday', 'crs_arr_hour',\n",
    "       'crs_dep_hour', 'predicted_speed', 'origin_num_passengers',\n",
    "       'dest_num_passengers', 'origin_num_freight', 'dest_num_freight',\n",
    "       'dist_group', 'season', 'origin_airport_size', 'dest_airport_size',\n",
    "       'mean_op_carrier_delay', 'mean_delay_origin_airport',\n",
    "       'mean_delay_dest_airport', 'sunHour', 'cloudcover', 'precipMM',\n",
    "       'hrly_bin', 'avg_hr_fl', 'avg_day_fl', 'mean_carrier_arr_delay',\n",
    "       'tail_num_arr_delay', 'totalSnow_mm', 'weather_type_Rainy',\n",
    "       'weather_type_Snowy', 'weather_type_Sunny']\n",
    "\n",
    "X_test = test_data[test_cols]\n",
    "\n",
    "model.get_booster().feature_names = ['index', 'mkt_carrier', 'origin', 'dest', 'origin_fl_density',\n",
    "       'dest_fl_density', 'day', 'month', 'year', 'weekday', 'crs_arr_hour',\n",
    "       'crs_dep_hour', 'predicted_speed', 'origin_num_passengers',\n",
    "       'dest_num_passengers', 'origin_num_freight', 'dest_num_freight',\n",
    "       'dist_group', 'season', 'origin_airport_size', 'dest_airport_size',\n",
    "       'mean_op_carrier_delay', 'mean_delay_origin_airport',\n",
    "       'mean_delay_dest_airport', 'sunHour', 'cloudcover', 'precipMM',\n",
    "       'hrly_bin', 'avg_hr_fl', 'avg_day_fl', 'mean_carrier_arr_delay',\n",
    "       'tail_num_arr_delay', 'totalSnow_mm', 'weather_type_Rainy',\n",
    "       'weather_type_Snowy', 'weather_type_Sunny']\n",
    "\n",
    "test_pred = model.predict(X_test)\n",
    "\n",
    "flights_test = pd.read_csv(file_path+'flights_test.csv')\n",
    "flights_test['test_pred'] = pd.Series(test_pred)\n",
    "flights_test.to_csv('flights_test_pred.csv')"
   ]
  },
  {
   "cell_type": "code",
   "execution_count": null,
   "metadata": {},
   "outputs": [],
   "source": []
  }
 ],
 "metadata": {
  "kernelspec": {
   "display_name": "Python 3",
   "language": "python",
   "name": "python3"
  },
  "language_info": {
   "codemirror_mode": {
    "name": "ipython",
    "version": 3
   },
   "file_extension": ".py",
   "mimetype": "text/x-python",
   "name": "python",
   "nbconvert_exporter": "python",
   "pygments_lexer": "ipython3",
   "version": "3.8.5"
  }
 },
 "nbformat": 4,
 "nbformat_minor": 4
}
