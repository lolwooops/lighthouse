{
 "cells": [
  {
   "cell_type": "code",
   "execution_count": 1,
   "metadata": {},
   "outputs": [],
   "source": [
    "import pandas as pd\n",
    "import numpy as np\n",
    "import random\n",
    "import matplotlib.pyplot as plt\n",
    "import seaborn as sns\n",
    "import copy"
   ]
  },
  {
   "cell_type": "code",
   "execution_count": 2,
   "metadata": {},
   "outputs": [],
   "source": [
    "file_path = 'C:/Users/Tim/Desktop/lighthouse/w6 - midterm/'\n",
    "# filename = file_path+'flights.csv'\n",
    "\n",
    "# n = sum(1 for line in open(filename)) - 1 #number of records in file (excludes header)\n",
    "# s = 50000 #desired sample size\n",
    "# skip = sorted(random.sample(range(1,n+1),n-s))\n",
    "# df = pd.read_csv(filename,skiprows=skip)\n",
    "\n",
    "filename = file_path+'mini_sample.csv'\n",
    "df = pd.read_csv(filename)"
   ]
  },
  {
   "cell_type": "code",
   "execution_count": 3,
   "metadata": {},
   "outputs": [],
   "source": [
    "data = copy.deepcopy(df)"
   ]
  },
  {
   "cell_type": "code",
   "execution_count": 4,
   "metadata": {},
   "outputs": [],
   "source": [
    "# cols with > 80% missing values\n",
    "\n",
    "drop = [\n",
    "    'no_name',\n",
    "    'total_add_gtime',\n",
    "    'first_dep_time',\n",
    "    'longest_add_gtime',\n",
    "    'cancellation_code',\n",
    "]\n",
    "\n",
    "# missing 80%+ values, but apparently useful?\n",
    "\n",
    "delay_cols = [\n",
    "    'late_aircraft_delay',\n",
    "    'security_delay',\n",
    "    'nas_delay',\n",
    "    'weather_delay',\n",
    "    'carrier_delay'\n",
    "]"
   ]
  },
  {
   "cell_type": "code",
   "execution_count": 5,
   "metadata": {},
   "outputs": [],
   "source": [
    "# split city and country\n",
    "\n",
    "data[['origin_city', 'origin_country']] = data['origin_city_name'].str.split(',', expand=True, n=2)\n",
    "\n",
    "data[['dest_city', 'dest_country']] = data['dest_city_name'].str.split(',', expand=True, n=2)\n",
    "\n",
    "# try using just city data, groupby country data?"
   ]
  },
  {
   "cell_type": "code",
   "execution_count": 6,
   "metadata": {},
   "outputs": [],
   "source": [
    "# removing related carrier identifiers; commented out = used feature\n",
    "\n",
    "carrier_identifiers = [\n",
    "    'mkt_unique_carrier',\n",
    "    'branded_code_share',\n",
    "    #'mkt_carrier',\n",
    "    'mkt_carrier_fl_num',\n",
    "    'op_unique_carrier',\n",
    "    'tail_num',\n",
    "    'op_carrier_fl_num',\n",
    "]\n",
    "\n",
    "# removing related airport, place identifiers\n",
    "\n",
    "place_identifiers = [\n",
    "#origin identifiers\n",
    "    'origin_airport_id',\n",
    "    #'origin',\n",
    "    'origin_city_name',\n",
    "    'origin_city',\n",
    "    'origin_country',\n",
    "#destination identifiers\n",
    "    'dest_airport_id',\n",
    "    #'dest',\n",
    "    'dest_city_name',\n",
    "    'dest_city',\n",
    "    'dest_country',\n",
    "]"
   ]
  },
  {
   "cell_type": "code",
   "execution_count": 7,
   "metadata": {},
   "outputs": [],
   "source": [
    "# avg flights per hr per airport -> fl traffic\n",
    "\n",
    "data['hrly_bin'] = round(data['arr_time'],-2)\n",
    "data['avg_hr_fl'] = data.groupby('dest')['hrly_bin'].transform(lambda x: len(x)/x.nunique())\n",
    "data['avg_day_fl'] = data.groupby('dest')['day'].transform(lambda x: len(x)/x.nunique())\n",
    "# data = data.drop(columns='hrly_bin')"
   ]
  },
  {
   "cell_type": "code",
   "execution_count": 8,
   "metadata": {},
   "outputs": [],
   "source": [
    "# datetime\n",
    "\n",
    "import datetime as dt\n",
    "from datetime import date, time"
   ]
  },
  {
   "cell_type": "code",
   "execution_count": 9,
   "metadata": {},
   "outputs": [],
   "source": [
    "# data['fl_date'] = pd.to_datetime(data['fl_date'])\n",
    "\n",
    "# # month and year\n",
    "\n",
    "# data['day_of_week'] = data['fl_date'].dt.date.isowekday()\n",
    "# data['month'] = data['fl_date'].dt.month\n",
    "# data['year'] = data['fl_date'].dt.year\n",
    "# data = data.sort_values(by=['fl_date'])\n",
    "\n",
    "# # dep_delay 7 day lag\n",
    "\n",
    "# data['dep_delay_lag'] = data['dep_delay'].shift(7)\n",
    "# # data['arr_delay_lag'] = data['arr_delay'].shift(7)\n",
    "\n",
    "# # dep_delay 7 day mean\n",
    "\n",
    "# data['ddl_rolling_mean'] = data['dep_delay'].rolling(window=30).mean()\n",
    "\n",
    "# if we use classifier\n",
    "\n",
    "# data['arr_delay_flag'] = data['arr_delay'].map(lambda x: 1 if x > 0 else 0)\n",
    "\n",
    "data = data.drop(columns = 'fl_date')"
   ]
  },
  {
   "cell_type": "code",
   "execution_count": 10,
   "metadata": {},
   "outputs": [],
   "source": [
    "data['adl_rolling_mean'] = data['arr_delay'].rolling(window=30).mean()"
   ]
  },
  {
   "cell_type": "code",
   "execution_count": 11,
   "metadata": {},
   "outputs": [],
   "source": [
    "data = data.fillna(0)"
   ]
  },
  {
   "cell_type": "code",
   "execution_count": 12,
   "metadata": {},
   "outputs": [],
   "source": [
    "# dep_time\t          wheels_off\t0.9725230213908642\n",
    "# wheels_on\t          arr_time\t    0.9630471247128861\n",
    "# crs_elapsed_time\t  distance\t    0.9827710593474663\n",
    "# actual_elapsed_time air_time\t    0.985116094313287\n",
    "\n",
    "# flights = column of 1s\n",
    "\n",
    "corr_drop = [\n",
    "    'wheels_off',  #dep/arr time could have information on whether or not time of day affects delay\n",
    "    'wheels_on',   #wheels off/on probably time spent in tarmac\n",
    "    'timestamp',\n",
    "    #'dist_group',\n",
    "    'distance'\n",
    "]\n",
    "\n",
    "# don't use dep_delay\n",
    "\n",
    "extra_drop = [\n",
    "    'flights',\n",
    "    #'origin_num_freight',\n",
    "    #'origin_num_passengers',\n",
    "    'crs_elapsed_time',\n",
    "    'crs_arr_daytime',\n",
    "    'crs_dep_daytime',\n",
    "    'actual_elapsed_time',\n",
    "    #'predicted_speed',\n",
    "    'actual_speed',\n",
    "    'dep_early_morning',\n",
    "    'origin_num_intl_dep',\n",
    "    'dest_num_intl_dep',\n",
    "    'origin_num_intl_arr',\n",
    "    'dest_num_intl_arr',\n",
    "    'mean_monthly_op_carrier_delay',\n",
    "    'mean_mo_delay_origin_airport',\n",
    "    'mean_mo_delay_dest_airport',\n",
    "    'air_time',\n",
    "    'taxi_in',\n",
    "    'taxi_out',\n",
    "    'diverted',\n",
    "    'cancelled',\n",
    "    'dep_delay',\n",
    "    'dep_time',\n",
    "    'arr_time',\n",
    "    'day_of_year'\n",
    "]\n",
    "\n",
    "\n",
    "data = data.drop(columns=corr_drop+extra_drop)"
   ]
  },
  {
   "cell_type": "code",
   "execution_count": 13,
   "metadata": {},
   "outputs": [
    {
     "data": {
      "text/html": [
       "<div>\n",
       "<style scoped>\n",
       "    .dataframe tbody tr th:only-of-type {\n",
       "        vertical-align: middle;\n",
       "    }\n",
       "\n",
       "    .dataframe tbody tr th {\n",
       "        vertical-align: top;\n",
       "    }\n",
       "\n",
       "    .dataframe thead th {\n",
       "        text-align: right;\n",
       "    }\n",
       "</style>\n",
       "<table border=\"1\" class=\"dataframe\">\n",
       "  <thead>\n",
       "    <tr style=\"text-align: right;\">\n",
       "      <th></th>\n",
       "      <th>mkt_unique_carrier</th>\n",
       "      <th>mean_carrier_arr_delay</th>\n",
       "    </tr>\n",
       "  </thead>\n",
       "  <tbody>\n",
       "    <tr>\n",
       "      <th>0</th>\n",
       "      <td>AA</td>\n",
       "      <td>12.695256</td>\n",
       "    </tr>\n",
       "    <tr>\n",
       "      <th>1</th>\n",
       "      <td>AS</td>\n",
       "      <td>14.490647</td>\n",
       "    </tr>\n",
       "    <tr>\n",
       "      <th>2</th>\n",
       "      <td>B6</td>\n",
       "      <td>13.136552</td>\n",
       "    </tr>\n",
       "    <tr>\n",
       "      <th>3</th>\n",
       "      <td>DL</td>\n",
       "      <td>13.219501</td>\n",
       "    </tr>\n",
       "    <tr>\n",
       "      <th>4</th>\n",
       "      <td>F9</td>\n",
       "      <td>11.224367</td>\n",
       "    </tr>\n",
       "    <tr>\n",
       "      <th>5</th>\n",
       "      <td>G4</td>\n",
       "      <td>14.273038</td>\n",
       "    </tr>\n",
       "    <tr>\n",
       "      <th>6</th>\n",
       "      <td>HA</td>\n",
       "      <td>16.506024</td>\n",
       "    </tr>\n",
       "    <tr>\n",
       "      <th>7</th>\n",
       "      <td>NK</td>\n",
       "      <td>11.337219</td>\n",
       "    </tr>\n",
       "    <tr>\n",
       "      <th>8</th>\n",
       "      <td>UA</td>\n",
       "      <td>12.960344</td>\n",
       "    </tr>\n",
       "    <tr>\n",
       "      <th>9</th>\n",
       "      <td>VX</td>\n",
       "      <td>14.318182</td>\n",
       "    </tr>\n",
       "    <tr>\n",
       "      <th>10</th>\n",
       "      <td>WN</td>\n",
       "      <td>13.773191</td>\n",
       "    </tr>\n",
       "  </tbody>\n",
       "</table>\n",
       "</div>"
      ],
      "text/plain": [
       "   mkt_unique_carrier  mean_carrier_arr_delay\n",
       "0                  AA               12.695256\n",
       "1                  AS               14.490647\n",
       "2                  B6               13.136552\n",
       "3                  DL               13.219501\n",
       "4                  F9               11.224367\n",
       "5                  G4               14.273038\n",
       "6                  HA               16.506024\n",
       "7                  NK               11.337219\n",
       "8                  UA               12.960344\n",
       "9                  VX               14.318182\n",
       "10                 WN               13.773191"
      ]
     },
     "execution_count": 13,
     "metadata": {},
     "output_type": "execute_result"
    }
   ],
   "source": [
    "cd = data.groupby('mkt_unique_carrier').mean()['arr_delay']\n",
    "cd = cd.reset_index()\n",
    "cd.columns = ['mkt_unique_carrier','mean_carrier_arr_delay']\n",
    "cd"
   ]
  },
  {
   "cell_type": "code",
   "execution_count": 14,
   "metadata": {},
   "outputs": [],
   "source": [
    "data = data.merge(cd, on=['mkt_unique_carrier'], how='left')"
   ]
  },
  {
   "cell_type": "code",
   "execution_count": 15,
   "metadata": {},
   "outputs": [
    {
     "data": {
      "text/html": [
       "<div>\n",
       "<style scoped>\n",
       "    .dataframe tbody tr th:only-of-type {\n",
       "        vertical-align: middle;\n",
       "    }\n",
       "\n",
       "    .dataframe tbody tr th {\n",
       "        vertical-align: top;\n",
       "    }\n",
       "\n",
       "    .dataframe thead th {\n",
       "        text-align: right;\n",
       "    }\n",
       "</style>\n",
       "<table border=\"1\" class=\"dataframe\">\n",
       "  <thead>\n",
       "    <tr style=\"text-align: right;\">\n",
       "      <th></th>\n",
       "      <th>tail_num</th>\n",
       "      <th>tail_num_arr_delay</th>\n",
       "    </tr>\n",
       "  </thead>\n",
       "  <tbody>\n",
       "    <tr>\n",
       "      <th>0</th>\n",
       "      <td>215NV</td>\n",
       "      <td>2.250000</td>\n",
       "    </tr>\n",
       "    <tr>\n",
       "      <th>1</th>\n",
       "      <td>216NV</td>\n",
       "      <td>13.888889</td>\n",
       "    </tr>\n",
       "    <tr>\n",
       "      <th>2</th>\n",
       "      <td>217NV</td>\n",
       "      <td>-10.833333</td>\n",
       "    </tr>\n",
       "    <tr>\n",
       "      <th>3</th>\n",
       "      <td>218NV</td>\n",
       "      <td>18.000000</td>\n",
       "    </tr>\n",
       "    <tr>\n",
       "      <th>4</th>\n",
       "      <td>219NV</td>\n",
       "      <td>12.500000</td>\n",
       "    </tr>\n",
       "    <tr>\n",
       "      <th>...</th>\n",
       "      <td>...</td>\n",
       "      <td>...</td>\n",
       "    </tr>\n",
       "    <tr>\n",
       "      <th>5989</th>\n",
       "      <td>N998JE</td>\n",
       "      <td>12.000000</td>\n",
       "    </tr>\n",
       "    <tr>\n",
       "      <th>5990</th>\n",
       "      <td>N998NN</td>\n",
       "      <td>40.428571</td>\n",
       "    </tr>\n",
       "    <tr>\n",
       "      <th>5991</th>\n",
       "      <td>N999DN</td>\n",
       "      <td>15.333333</td>\n",
       "    </tr>\n",
       "    <tr>\n",
       "      <th>5992</th>\n",
       "      <td>N999JQ</td>\n",
       "      <td>31.000000</td>\n",
       "    </tr>\n",
       "    <tr>\n",
       "      <th>5993</th>\n",
       "      <td>tail_num_unknown</td>\n",
       "      <td>14.686391</td>\n",
       "    </tr>\n",
       "  </tbody>\n",
       "</table>\n",
       "<p>5994 rows × 2 columns</p>\n",
       "</div>"
      ],
      "text/plain": [
       "              tail_num  tail_num_arr_delay\n",
       "0                215NV            2.250000\n",
       "1                216NV           13.888889\n",
       "2                217NV          -10.833333\n",
       "3                218NV           18.000000\n",
       "4                219NV           12.500000\n",
       "...                ...                 ...\n",
       "5989            N998JE           12.000000\n",
       "5990            N998NN           40.428571\n",
       "5991            N999DN           15.333333\n",
       "5992            N999JQ           31.000000\n",
       "5993  tail_num_unknown           14.686391\n",
       "\n",
       "[5994 rows x 2 columns]"
      ]
     },
     "execution_count": 15,
     "metadata": {},
     "output_type": "execute_result"
    }
   ],
   "source": [
    "td = data.groupby('tail_num').mean()['arr_delay']\n",
    "td = td.reset_index()\n",
    "td.columns = ['tail_num','tail_num_arr_delay']\n",
    "td"
   ]
  },
  {
   "cell_type": "code",
   "execution_count": 16,
   "metadata": {},
   "outputs": [],
   "source": [
    "data = data.merge(td, on=['tail_num'], how='left')"
   ]
  },
  {
   "cell_type": "code",
   "execution_count": 17,
   "metadata": {},
   "outputs": [],
   "source": [
    "# op_carrier, origin, dest\n",
    "\n",
    "data['mkt_carrier'] = pd.factorize(data['mkt_carrier'])[0]\n",
    "data['origin'] = pd.factorize(data['origin'])[0]\n",
    "data['dest'] = pd.factorize(data['dest'])[0]"
   ]
  },
  {
   "cell_type": "code",
   "execution_count": 18,
   "metadata": {},
   "outputs": [],
   "source": [
    "# remove cols\n",
    "\n",
    "data = data.drop(columns=\n",
    "                #drop+       # already dropped\n",
    "                #delay_cols+ # not really sure what to do with these columns (already dropped)\n",
    "                carrier_identifiers+\n",
    "                place_identifiers)"
   ]
  },
  {
   "cell_type": "code",
   "execution_count": 19,
   "metadata": {},
   "outputs": [],
   "source": [
    "# features \n",
    "\n",
    "numerical = list(data.dtypes[data.dtypes != 'object'].index)\n",
    "\n",
    "categorical = list(data.dtypes[data.dtypes == 'object'].index)"
   ]
  },
  {
   "cell_type": "code",
   "execution_count": 20,
   "metadata": {},
   "outputs": [
    {
     "data": {
      "text/plain": [
       "['weather_type']"
      ]
     },
     "execution_count": 20,
     "metadata": {},
     "output_type": "execute_result"
    }
   ],
   "source": [
    "categorical"
   ]
  },
  {
   "cell_type": "code",
   "execution_count": 21,
   "metadata": {},
   "outputs": [
    {
     "data": {
      "text/plain": [
       "['mkt_carrier',\n",
       " 'origin',\n",
       " 'dest',\n",
       " 'crs_dep_time',\n",
       " 'crs_arr_time',\n",
       " 'arr_delay',\n",
       " 'origin_fl_density',\n",
       " 'dest_fl_density',\n",
       " 'day',\n",
       " 'month',\n",
       " 'year',\n",
       " 'weekday',\n",
       " 'crs_arr_hour',\n",
       " 'crs_dep_hour',\n",
       " 'predicted_speed',\n",
       " 'origin_num_passengers',\n",
       " 'dest_num_passengers',\n",
       " 'origin_num_freight',\n",
       " 'dest_num_freight',\n",
       " 'dist_group',\n",
       " 'season',\n",
       " 'origin_airport_size',\n",
       " 'dest_airport_size',\n",
       " 'mean_op_carrier_delay',\n",
       " 'mean_delay_origin_airport',\n",
       " 'mean_delay_dest_airport',\n",
       " 'totalSnow_cm',\n",
       " 'sunHour',\n",
       " 'cloudcover',\n",
       " 'precipMM',\n",
       " 'hrly_bin',\n",
       " 'avg_hr_fl',\n",
       " 'avg_day_fl',\n",
       " 'adl_rolling_mean',\n",
       " 'mean_carrier_arr_delay',\n",
       " 'tail_num_arr_delay']"
      ]
     },
     "execution_count": 21,
     "metadata": {},
     "output_type": "execute_result"
    }
   ],
   "source": [
    "numerical"
   ]
  },
  {
   "cell_type": "code",
   "execution_count": 22,
   "metadata": {},
   "outputs": [],
   "source": [
    "data['totalSnow_mm'] = data['totalSnow_cm']*10\n",
    "data = data.drop(columns = 'totalSnow_cm')"
   ]
  },
  {
   "cell_type": "code",
   "execution_count": 23,
   "metadata": {},
   "outputs": [],
   "source": [
    "data = pd.get_dummies(data=data,columns=categorical,drop_first=True)"
   ]
  },
  {
   "cell_type": "code",
   "execution_count": 24,
   "metadata": {},
   "outputs": [],
   "source": [
    "# crs_dep_time, arr_time are values in range 0-2.4k -> get hours only\n",
    "\n",
    "data['crs_dep_hour'] = round(data['crs_dep_time']/60)\n",
    "data['crs_arr_hour'] = round(data['crs_arr_time']/60)\n",
    "\n",
    "data = data.drop(columns=['crs_dep_time','crs_arr_time'])"
   ]
  },
  {
   "cell_type": "code",
   "execution_count": 25,
   "metadata": {},
   "outputs": [],
   "source": [
    "# reshuffle\n",
    "data = data.sample(frac=1)\n",
    "# data = data.reset_index()\n",
    "# data = data[data['arr_delay']<=200]"
   ]
  },
  {
   "cell_type": "code",
   "execution_count": 26,
   "metadata": {},
   "outputs": [],
   "source": [
    "X = data.drop(columns = ['arr_delay','adl_rolling_mean'])\n",
    "#y = data['arr_delay']\n",
    "y = data['adl_rolling_mean']"
   ]
  },
  {
   "cell_type": "code",
   "execution_count": 27,
   "metadata": {},
   "outputs": [
    {
     "data": {
      "text/plain": [
       "Index(['mkt_carrier', 'origin', 'dest', 'origin_fl_density', 'dest_fl_density',\n",
       "       'day', 'month', 'year', 'weekday', 'crs_arr_hour', 'crs_dep_hour',\n",
       "       'predicted_speed', 'origin_num_passengers', 'dest_num_passengers',\n",
       "       'origin_num_freight', 'dest_num_freight', 'dist_group', 'season',\n",
       "       'origin_airport_size', 'dest_airport_size', 'mean_op_carrier_delay',\n",
       "       'mean_delay_origin_airport', 'mean_delay_dest_airport', 'sunHour',\n",
       "       'cloudcover', 'precipMM', 'hrly_bin', 'avg_hr_fl', 'avg_day_fl',\n",
       "       'mean_carrier_arr_delay', 'tail_num_arr_delay', 'totalSnow_mm',\n",
       "       'weather_type_Rainy', 'weather_type_Snowy', 'weather_type_Sunny'],\n",
       "      dtype='object')"
      ]
     },
     "execution_count": 27,
     "metadata": {},
     "output_type": "execute_result"
    }
   ],
   "source": [
    "X.columns"
   ]
  },
  {
   "cell_type": "code",
   "execution_count": 28,
   "metadata": {},
   "outputs": [],
   "source": [
    "# X to scale\n",
    "scaling = [\n",
    "    'origin_num_passengers', 'dest_num_passengers', 'origin_num_freight',\n",
    "    'dest_num_freight', 'season', 'origin_airport_size',\n",
    "    'dest_airport_size', 'mean_op_carrier_delay',\n",
    "    'mean_delay_origin_airport', 'mean_delay_dest_airport', 'sunHour',\n",
    "    'cloudcover', 'precipMM', 'mean_carrier_arr_delay', 'tail_num_arr_delay', 'totalSnow_mm',\n",
    "]"
   ]
  },
  {
   "cell_type": "code",
   "execution_count": 29,
   "metadata": {},
   "outputs": [],
   "source": [
    "# scale/normalize\n",
    "\n",
    "from sklearn.preprocessing import StandardScaler\n",
    "from sklearn.preprocessing import Normalizer\n",
    "\n",
    "#scaling\n",
    "\n",
    "scaler = StandardScaler()\n",
    "scaler.fit(X)\n",
    "X_scaled = scaler.transform(X)\n",
    "\n",
    "scaled = scaler.fit_transform(X[scaling])"
   ]
  },
  {
   "cell_type": "code",
   "execution_count": 30,
   "metadata": {},
   "outputs": [],
   "source": [
    "for i in range(len(scaling)):\n",
    "    X[scaling[i]] = scaled[:,i]"
   ]
  },
  {
   "cell_type": "code",
   "execution_count": 31,
   "metadata": {},
   "outputs": [
    {
     "data": {
      "text/html": [
       "<div>\n",
       "<style scoped>\n",
       "    .dataframe tbody tr th:only-of-type {\n",
       "        vertical-align: middle;\n",
       "    }\n",
       "\n",
       "    .dataframe tbody tr th {\n",
       "        vertical-align: top;\n",
       "    }\n",
       "\n",
       "    .dataframe thead th {\n",
       "        text-align: right;\n",
       "    }\n",
       "</style>\n",
       "<table border=\"1\" class=\"dataframe\">\n",
       "  <thead>\n",
       "    <tr style=\"text-align: right;\">\n",
       "      <th></th>\n",
       "      <th>mkt_carrier</th>\n",
       "      <th>origin</th>\n",
       "      <th>dest</th>\n",
       "      <th>origin_fl_density</th>\n",
       "      <th>dest_fl_density</th>\n",
       "      <th>day</th>\n",
       "      <th>month</th>\n",
       "      <th>year</th>\n",
       "      <th>weekday</th>\n",
       "      <th>crs_arr_hour</th>\n",
       "      <th>...</th>\n",
       "      <th>precipMM</th>\n",
       "      <th>hrly_bin</th>\n",
       "      <th>avg_hr_fl</th>\n",
       "      <th>avg_day_fl</th>\n",
       "      <th>mean_carrier_arr_delay</th>\n",
       "      <th>tail_num_arr_delay</th>\n",
       "      <th>totalSnow_mm</th>\n",
       "      <th>weather_type_Rainy</th>\n",
       "      <th>weather_type_Snowy</th>\n",
       "      <th>weather_type_Sunny</th>\n",
       "    </tr>\n",
       "  </thead>\n",
       "  <tbody>\n",
       "    <tr>\n",
       "      <th>8575</th>\n",
       "      <td>4</td>\n",
       "      <td>48</td>\n",
       "      <td>56</td>\n",
       "      <td>10</td>\n",
       "      <td>19</td>\n",
       "      <td>21</td>\n",
       "      <td>1</td>\n",
       "      <td>2018</td>\n",
       "      <td>6</td>\n",
       "      <td>30.0</td>\n",
       "      <td>...</td>\n",
       "      <td>-0.391660</td>\n",
       "      <td>1900</td>\n",
       "      <td>44.400000</td>\n",
       "      <td>35.806452</td>\n",
       "      <td>1.537928</td>\n",
       "      <td>1.565309</td>\n",
       "      <td>-0.109994</td>\n",
       "      <td>0</td>\n",
       "      <td>0</td>\n",
       "      <td>1</td>\n",
       "    </tr>\n",
       "    <tr>\n",
       "      <th>22925</th>\n",
       "      <td>4</td>\n",
       "      <td>1</td>\n",
       "      <td>1</td>\n",
       "      <td>36</td>\n",
       "      <td>14</td>\n",
       "      <td>16</td>\n",
       "      <td>3</td>\n",
       "      <td>2019</td>\n",
       "      <td>5</td>\n",
       "      <td>14.0</td>\n",
       "      <td>...</td>\n",
       "      <td>0.880311</td>\n",
       "      <td>0</td>\n",
       "      <td>75.000000</td>\n",
       "      <td>60.483871</td>\n",
       "      <td>-0.290095</td>\n",
       "      <td>0.236826</td>\n",
       "      <td>-0.109994</td>\n",
       "      <td>1</td>\n",
       "      <td>0</td>\n",
       "      <td>0</td>\n",
       "    </tr>\n",
       "    <tr>\n",
       "      <th>25934</th>\n",
       "      <td>2</td>\n",
       "      <td>33</td>\n",
       "      <td>146</td>\n",
       "      <td>19</td>\n",
       "      <td>14</td>\n",
       "      <td>23</td>\n",
       "      <td>6</td>\n",
       "      <td>2018</td>\n",
       "      <td>5</td>\n",
       "      <td>31.0</td>\n",
       "      <td>...</td>\n",
       "      <td>-0.391660</td>\n",
       "      <td>900</td>\n",
       "      <td>2.809524</td>\n",
       "      <td>2.269231</td>\n",
       "      <td>-0.659250</td>\n",
       "      <td>-0.070615</td>\n",
       "      <td>-0.109994</td>\n",
       "      <td>0</td>\n",
       "      <td>0</td>\n",
       "      <td>1</td>\n",
       "    </tr>\n",
       "    <tr>\n",
       "      <th>30502</th>\n",
       "      <td>4</td>\n",
       "      <td>84</td>\n",
       "      <td>101</td>\n",
       "      <td>7</td>\n",
       "      <td>17</td>\n",
       "      <td>8</td>\n",
       "      <td>4</td>\n",
       "      <td>2019</td>\n",
       "      <td>0</td>\n",
       "      <td>31.0</td>\n",
       "      <td>...</td>\n",
       "      <td>-0.391660</td>\n",
       "      <td>1400</td>\n",
       "      <td>3.842105</td>\n",
       "      <td>2.433333</td>\n",
       "      <td>0.070800</td>\n",
       "      <td>-1.074734</td>\n",
       "      <td>-0.109994</td>\n",
       "      <td>0</td>\n",
       "      <td>0</td>\n",
       "      <td>1</td>\n",
       "    </tr>\n",
       "    <tr>\n",
       "      <th>4420</th>\n",
       "      <td>3</td>\n",
       "      <td>27</td>\n",
       "      <td>95</td>\n",
       "      <td>11</td>\n",
       "      <td>11</td>\n",
       "      <td>11</td>\n",
       "      <td>9</td>\n",
       "      <td>2018</td>\n",
       "      <td>1</td>\n",
       "      <td>34.0</td>\n",
       "      <td>...</td>\n",
       "      <td>-0.267565</td>\n",
       "      <td>1100</td>\n",
       "      <td>2.615385</td>\n",
       "      <td>1.619048</td>\n",
       "      <td>-0.659250</td>\n",
       "      <td>1.277612</td>\n",
       "      <td>-0.109994</td>\n",
       "      <td>1</td>\n",
       "      <td>0</td>\n",
       "      <td>0</td>\n",
       "    </tr>\n",
       "  </tbody>\n",
       "</table>\n",
       "<p>5 rows × 35 columns</p>\n",
       "</div>"
      ],
      "text/plain": [
       "       mkt_carrier  origin  dest  origin_fl_density  dest_fl_density  day  \\\n",
       "8575             4      48    56                 10               19   21   \n",
       "22925            4       1     1                 36               14   16   \n",
       "25934            2      33   146                 19               14   23   \n",
       "30502            4      84   101                  7               17    8   \n",
       "4420             3      27    95                 11               11   11   \n",
       "\n",
       "       month  year  weekday  crs_arr_hour  ...  precipMM  hrly_bin  avg_hr_fl  \\\n",
       "8575       1  2018        6          30.0  ... -0.391660      1900  44.400000   \n",
       "22925      3  2019        5          14.0  ...  0.880311         0  75.000000   \n",
       "25934      6  2018        5          31.0  ... -0.391660       900   2.809524   \n",
       "30502      4  2019        0          31.0  ... -0.391660      1400   3.842105   \n",
       "4420       9  2018        1          34.0  ... -0.267565      1100   2.615385   \n",
       "\n",
       "       avg_day_fl  mean_carrier_arr_delay  tail_num_arr_delay  totalSnow_mm  \\\n",
       "8575    35.806452                1.537928            1.565309     -0.109994   \n",
       "22925   60.483871               -0.290095            0.236826     -0.109994   \n",
       "25934    2.269231               -0.659250           -0.070615     -0.109994   \n",
       "30502    2.433333                0.070800           -1.074734     -0.109994   \n",
       "4420     1.619048               -0.659250            1.277612     -0.109994   \n",
       "\n",
       "       weather_type_Rainy  weather_type_Snowy  weather_type_Sunny  \n",
       "8575                    0                   0                   1  \n",
       "22925                   1                   0                   0  \n",
       "25934                   0                   0                   1  \n",
       "30502                   0                   0                   1  \n",
       "4420                    1                   0                   0  \n",
       "\n",
       "[5 rows x 35 columns]"
      ]
     },
     "execution_count": 31,
     "metadata": {},
     "output_type": "execute_result"
    }
   ],
   "source": [
    "X.head()"
   ]
  },
  {
   "cell_type": "code",
   "execution_count": 32,
   "metadata": {},
   "outputs": [
    {
     "data": {
      "text/plain": [
       "<AxesSubplot:xlabel='adl_rolling_mean', ylabel='Count'>"
      ]
     },
     "execution_count": 32,
     "metadata": {},
     "output_type": "execute_result"
    },
    {
     "data": {
      "image/png": "[encoded data removed]",
      "text/plain": [
       "<Figure size 432x288 with 1 Axes>"
      ]
     },
     "metadata": {
      "needs_background": "light"
     },
     "output_type": "display_data"
    }
   ],
   "source": [
    "sns.histplot(y)"
   ]
  },
  {
   "cell_type": "code",
   "execution_count": 33,
   "metadata": {},
   "outputs": [],
   "source": [
    "from scipy.stats import boxcox\n",
    "from numpy import log"
   ]
  },
  {
   "cell_type": "code",
   "execution_count": 34,
   "metadata": {},
   "outputs": [],
   "source": [
    "# splitting\n",
    "\n",
    "from sklearn.model_selection import train_test_split\n",
    "\n",
    "# x_train, x_test, y_train, y_test = train_test_split(X_scaled,y,train_size=0.7) #full scaled X\n",
    "x_train, x_test, y_train, y_test = train_test_split(X,y,train_size=0.7)  #using partially scaled X\n",
    "# x_train, x_test, y_train, y_test = train_test_split(X_scaled,y_,train_size=0.7) #full scaled X, boxcox y"
   ]
  },
  {
   "cell_type": "code",
   "execution_count": 35,
   "metadata": {},
   "outputs": [],
   "source": [
    "from sklearn.ensemble import RandomForestRegressor\n",
    "from sklearn import metrics\n",
    "import xgboost as xgb\n",
    "from xgboost import XGBRegressor\n",
    "from sklearn.model_selection import cross_validate\n",
    "from sklearn.model_selection import cross_val_score"
   ]
  },
  {
   "cell_type": "code",
   "execution_count": 36,
   "metadata": {},
   "outputs": [
    {
     "name": "stdout",
     "output_type": "stream",
     "text": [
      "-0.0\n"
     ]
    }
   ],
   "source": [
    "# rf\n",
    "\n",
    "model = RandomForestRegressor(n_estimators = 100,\n",
    "                               max_depth = 10,\n",
    "                               oob_score = True,\n",
    "                               random_state = 123,\n",
    "                               n_jobs = -1\n",
    "                        )\n",
    "model.fit(x_train,y_train)\n",
    "\n",
    "train_score = cross_val_score(model,x_train,y_train,cv=5)\n",
    "print(round(train_score.mean(),2)*100)"
   ]
  },
  {
   "cell_type": "code",
   "execution_count": 37,
   "metadata": {},
   "outputs": [
    {
     "name": "stdout",
     "output_type": "stream",
     "text": [
      "RMSE: 10.091637\n",
      "0.00016760209110311397\n"
     ]
    }
   ],
   "source": [
    "y_pred = model.predict(x_test)\n",
    "\n",
    "rmse = np.sqrt(metrics.mean_squared_error(y_test, y_pred))\n",
    "print(\"RMSE: %f\" % (rmse))\n",
    "print(metrics.r2_score(y_test,y_pred))"
   ]
  },
  {
   "cell_type": "code",
   "execution_count": 38,
   "metadata": {},
   "outputs": [
    {
     "name": "stdout",
     "output_type": "stream",
     "text": [
      "101.84114329267837\n",
      "0.00022257764637401145\n"
     ]
    }
   ],
   "source": [
    "from sklearn.metrics import mean_squared_error\n",
    "\n",
    "testing_error = mean_squared_error(y_test,y_pred)\n",
    "print(testing_error)\n",
    "\n",
    "exp_var = metrics.explained_variance_score(y_test,y_pred)\n",
    "print(exp_var)"
   ]
  },
  {
   "cell_type": "code",
   "execution_count": 39,
   "metadata": {},
   "outputs": [
    {
     "name": "stdout",
     "output_type": "stream",
     "text": [
      "[-0.00615151  0.00598625  0.00163733  0.00189457 -0.00103378  0.00537558\n",
      "  0.01053327 -0.00203571 -0.00433325  0.00607321]\n"
     ]
    }
   ],
   "source": [
    "cv_results = cross_validate(model,X,y,cv=10,scoring='r2',n_jobs=-1)\n",
    "\n",
    "print(cv_results['test_score'])"
   ]
  },
  {
   "cell_type": "code",
   "execution_count": 40,
   "metadata": {},
   "outputs": [],
   "source": [
    "import pickle\n",
    "with open('random_forest.pickle','wb') as f:\n",
    "    pickle.dump(model,f)"
   ]
  },
  {
   "cell_type": "code",
   "execution_count": null,
   "metadata": {},
   "outputs": [],
   "source": []
  },
  {
   "cell_type": "code",
   "execution_count": 41,
   "metadata": {},
   "outputs": [],
   "source": [
    "test_data = pd.read_csv(file_path+'final_test_cleaned.csv')\n",
    "test_data = test_data.drop(columns='index')"
   ]
  },
  {
   "cell_type": "code",
   "execution_count": 44,
   "metadata": {},
   "outputs": [],
   "source": [
    "test_data = test_data.dropna()"
   ]
  },
  {
   "cell_type": "code",
   "execution_count": 46,
   "metadata": {},
   "outputs": [
    {
     "data": {
      "text/plain": [
       "set()"
      ]
     },
     "execution_count": 46,
     "metadata": {},
     "output_type": "execute_result"
    }
   ],
   "source": [
    "set(X.columns)-set(test_data.columns)"
   ]
  },
  {
   "cell_type": "code",
   "execution_count": 45,
   "metadata": {},
   "outputs": [
    {
     "ename": "ValueError",
     "evalue": "Number of features of the model must match the input. Model n_features is 35 and input n_features is 36 ",
     "output_type": "error",
     "traceback": [
      "\u001b[1;31m---------------------------------------------------------------------------\u001b[0m",
      "\u001b[1;31mValueError\u001b[0m                                Traceback (most recent call last)",
      "\u001b[1;32m<ipython-input-45-e50d329ec973>\u001b[0m in \u001b[0;36m<module>\u001b[1;34m\u001b[0m\n\u001b[1;32m----> 1\u001b[1;33m \u001b[0mtest_pred\u001b[0m \u001b[1;33m=\u001b[0m \u001b[0mmodel\u001b[0m\u001b[1;33m.\u001b[0m\u001b[0mpredict\u001b[0m\u001b[1;33m(\u001b[0m\u001b[0mtest_data\u001b[0m\u001b[1;33m)\u001b[0m\u001b[1;33m\u001b[0m\u001b[1;33m\u001b[0m\u001b[0m\n\u001b[0m",
      "\u001b[1;32m~\\anaconda3\\lib\\site-packages\\sklearn\\ensemble\\_forest.py\u001b[0m in \u001b[0;36mpredict\u001b[1;34m(self, X)\u001b[0m\n\u001b[0;32m    781\u001b[0m         \u001b[0mcheck_is_fitted\u001b[0m\u001b[1;33m(\u001b[0m\u001b[0mself\u001b[0m\u001b[1;33m)\u001b[0m\u001b[1;33m\u001b[0m\u001b[1;33m\u001b[0m\u001b[0m\n\u001b[0;32m    782\u001b[0m         \u001b[1;31m# Check data\u001b[0m\u001b[1;33m\u001b[0m\u001b[1;33m\u001b[0m\u001b[1;33m\u001b[0m\u001b[0m\n\u001b[1;32m--> 783\u001b[1;33m         \u001b[0mX\u001b[0m \u001b[1;33m=\u001b[0m \u001b[0mself\u001b[0m\u001b[1;33m.\u001b[0m\u001b[0m_validate_X_predict\u001b[0m\u001b[1;33m(\u001b[0m\u001b[0mX\u001b[0m\u001b[1;33m)\u001b[0m\u001b[1;33m\u001b[0m\u001b[1;33m\u001b[0m\u001b[0m\n\u001b[0m\u001b[0;32m    784\u001b[0m \u001b[1;33m\u001b[0m\u001b[0m\n\u001b[0;32m    785\u001b[0m         \u001b[1;31m# Assign chunk of trees to jobs\u001b[0m\u001b[1;33m\u001b[0m\u001b[1;33m\u001b[0m\u001b[1;33m\u001b[0m\u001b[0m\n",
      "\u001b[1;32m~\\anaconda3\\lib\\site-packages\\sklearn\\ensemble\\_forest.py\u001b[0m in \u001b[0;36m_validate_X_predict\u001b[1;34m(self, X)\u001b[0m\n\u001b[0;32m    419\u001b[0m         \u001b[0mcheck_is_fitted\u001b[0m\u001b[1;33m(\u001b[0m\u001b[0mself\u001b[0m\u001b[1;33m)\u001b[0m\u001b[1;33m\u001b[0m\u001b[1;33m\u001b[0m\u001b[0m\n\u001b[0;32m    420\u001b[0m \u001b[1;33m\u001b[0m\u001b[0m\n\u001b[1;32m--> 421\u001b[1;33m         \u001b[1;32mreturn\u001b[0m \u001b[0mself\u001b[0m\u001b[1;33m.\u001b[0m\u001b[0mestimators_\u001b[0m\u001b[1;33m[\u001b[0m\u001b[1;36m0\u001b[0m\u001b[1;33m]\u001b[0m\u001b[1;33m.\u001b[0m\u001b[0m_validate_X_predict\u001b[0m\u001b[1;33m(\u001b[0m\u001b[0mX\u001b[0m\u001b[1;33m,\u001b[0m \u001b[0mcheck_input\u001b[0m\u001b[1;33m=\u001b[0m\u001b[1;32mTrue\u001b[0m\u001b[1;33m)\u001b[0m\u001b[1;33m\u001b[0m\u001b[1;33m\u001b[0m\u001b[0m\n\u001b[0m\u001b[0;32m    422\u001b[0m \u001b[1;33m\u001b[0m\u001b[0m\n\u001b[0;32m    423\u001b[0m     \u001b[1;33m@\u001b[0m\u001b[0mproperty\u001b[0m\u001b[1;33m\u001b[0m\u001b[1;33m\u001b[0m\u001b[0m\n",
      "\u001b[1;32m~\\anaconda3\\lib\\site-packages\\sklearn\\tree\\_classes.py\u001b[0m in \u001b[0;36m_validate_X_predict\u001b[1;34m(self, X, check_input)\u001b[0m\n\u001b[0;32m    394\u001b[0m         \u001b[0mn_features\u001b[0m \u001b[1;33m=\u001b[0m \u001b[0mX\u001b[0m\u001b[1;33m.\u001b[0m\u001b[0mshape\u001b[0m\u001b[1;33m[\u001b[0m\u001b[1;36m1\u001b[0m\u001b[1;33m]\u001b[0m\u001b[1;33m\u001b[0m\u001b[1;33m\u001b[0m\u001b[0m\n\u001b[0;32m    395\u001b[0m         \u001b[1;32mif\u001b[0m \u001b[0mself\u001b[0m\u001b[1;33m.\u001b[0m\u001b[0mn_features_\u001b[0m \u001b[1;33m!=\u001b[0m \u001b[0mn_features\u001b[0m\u001b[1;33m:\u001b[0m\u001b[1;33m\u001b[0m\u001b[1;33m\u001b[0m\u001b[0m\n\u001b[1;32m--> 396\u001b[1;33m             raise ValueError(\"Number of features of the model must \"\n\u001b[0m\u001b[0;32m    397\u001b[0m                              \u001b[1;34m\"match the input. Model n_features is %s and \"\u001b[0m\u001b[1;33m\u001b[0m\u001b[1;33m\u001b[0m\u001b[0m\n\u001b[0;32m    398\u001b[0m                              \u001b[1;34m\"input n_features is %s \"\u001b[0m\u001b[1;33m\u001b[0m\u001b[1;33m\u001b[0m\u001b[0m\n",
      "\u001b[1;31mValueError\u001b[0m: Number of features of the model must match the input. Model n_features is 35 and input n_features is 36 "
     ]
    }
   ],
   "source": [
    "test_pred = model.predict(test_data)"
   ]
  },
  {
   "cell_type": "code",
   "execution_count": null,
   "metadata": {},
   "outputs": [],
   "source": [
    "\"\"\"\n",
    "ways to improve model \n",
    "\n",
    "-more weather data\n",
    "    -wind speed, \n",
    "-use all data - try iterative training using pickles (xgb)\n",
    "    -xgb_model (file name of stored xgb model or 'Booster' instance) – \n",
    "     Xgb model to be loaded before training (allows training continuation).\n",
    "-using time series tehcnique -> should be removing seasonality + trend\n",
    "    -make sure data is stationary\n",
    "    \n",
    "-efficiency \n",
    "    -pipelines\n",
    "    -auto cleaner\n",
    "\"\"\""
   ]
  },
  {
   "cell_type": "code",
   "execution_count": null,
   "metadata": {},
   "outputs": [],
   "source": [
    "from sklearn.model_selection import RandomizedSearchCV\n",
    "from sklearn.model_selection import GridSearchCV"
   ]
  },
  {
   "cell_type": "code",
   "execution_count": null,
   "metadata": {},
   "outputs": [],
   "source": [
    "# # grid search\n",
    "\n",
    "# random_grid = {\n",
    "#     'bootstrap': [True, False],\n",
    "#     'oob_score': [True]\n",
    "#     'max_depth': [25, 50, 75, 100, None],\n",
    "#     'max_features': ['auto', 'sqrt'],\n",
    "#     'min_samples_leaf': [1, 2, 4],\n",
    "#     'min_samples_split': [2, 5, 10],\n",
    "#     'n_estimators': [100,500,1000]\n",
    "# }\n",
    "\n",
    "# rf = RandomForestRegressor(random_state=123)\n",
    "\n",
    "# rf_random = RandomizedSearchCV(\n",
    "#     estimator = rf, \n",
    "#     param_distributions = random_grid, \n",
    "#     n_iter = 100, \n",
    "#     cv = 5, \n",
    "#     verbose=1, \n",
    "#     random_state=123, \n",
    "#     n_jobs = -1)\n",
    "\n",
    "# rf_random.fit(x_train, y_train)"
   ]
  },
  {
   "cell_type": "code",
   "execution_count": null,
   "metadata": {},
   "outputs": [],
   "source": [
    "# rf_random.best_params_"
   ]
  },
  {
   "cell_type": "code",
   "execution_count": null,
   "metadata": {},
   "outputs": [],
   "source": [
    "# param_grid = {\n",
    "    \n",
    "# }\n",
    "\n",
    "# rf_grid = GridSearchCV(\n",
    "#     estimator = rf, \n",
    "#     param_grid = param_grid, \n",
    "#     cv = 5, \n",
    "#     verbose = 1,\n",
    "#     n_jobs = -1, \n",
    "# )\n",
    "\n",
    "# rf_grid.fit(x_train, y_train)"
   ]
  },
  {
   "cell_type": "code",
   "execution_count": null,
   "metadata": {},
   "outputs": [],
   "source": [
    "# rf_grid.best_params_"
   ]
  },
  {
   "cell_type": "code",
   "execution_count": null,
   "metadata": {},
   "outputs": [],
   "source": []
  }
 ],
 "metadata": {
  "kernelspec": {
   "display_name": "Python 3",
   "language": "python",
   "name": "python3"
  },
  "language_info": {
   "codemirror_mode": {
    "name": "ipython",
    "version": 3
   },
   "file_extension": ".py",
   "mimetype": "text/x-python",
   "name": "python",
   "nbconvert_exporter": "python",
   "pygments_lexer": "ipython3",
   "version": "3.8.5"
  }
 },
 "nbformat": 4,
 "nbformat_minor": 4
}
