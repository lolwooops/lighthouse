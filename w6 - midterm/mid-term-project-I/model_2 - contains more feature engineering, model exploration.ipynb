{
 "cells": [
  {
   "cell_type": "code",
   "execution_count": 1,
   "metadata": {},
   "outputs": [],
   "source": [
    "import pandas as pd\n",
    "import numpy as np\n",
    "import random\n",
    "import matplotlib.pyplot as plt\n",
    "import seaborn as sns\n",
    "import copy"
   ]
  },
  {
   "cell_type": "code",
   "execution_count": 2,
   "metadata": {},
   "outputs": [],
   "source": [
    "file_path = 'C:/Users/Tim/Desktop/lighthouse/w6 - midterm/'\n",
    "# filename = file_path+'flights.csv'\n",
    "\n",
    "# n = sum(1 for line in open(filename)) - 1 #number of records in file (excludes header)\n",
    "# s = 50000 #desired sample size\n",
    "# skip = sorted(random.sample(range(1,n+1),n-s))\n",
    "# df = pd.read_csv(filename,skiprows=skip)\n",
    "\n",
    "filename = file_path+'mini_sample.csv'\n",
    "df = pd.read_csv(filename)"
   ]
  },
  {
   "cell_type": "code",
   "execution_count": 3,
   "metadata": {},
   "outputs": [],
   "source": [
    "df = df.replace([np.inf, -np.inf], np.nan)"
   ]
  },
  {
   "cell_type": "code",
   "execution_count": 4,
   "metadata": {},
   "outputs": [],
   "source": [
    "def info(x):\n",
    "    n_missing = x.isnull().sum().sort_values(ascending=False)\n",
    "    p_missing = (x.isnull().sum()/x.isnull().count()).sort_values(ascending=False)\n",
    "    dtype = x.dtypes\n",
    "    count = x.count()\n",
    "    missing_ = pd.concat([n_missing, p_missing, dtype, count],axis=1, keys = [\n",
    "        'number_missing',\n",
    "        'percent_missing',\n",
    "        'type',\n",
    "        'count'\n",
    "    ])\n",
    "    return missing_"
   ]
  },
  {
   "cell_type": "code",
   "execution_count": 5,
   "metadata": {
    "scrolled": true
   },
   "outputs": [
    {
     "data": {
      "text/html": [
       "<div>\n",
       "<style scoped>\n",
       "    .dataframe tbody tr th:only-of-type {\n",
       "        vertical-align: middle;\n",
       "    }\n",
       "\n",
       "    .dataframe tbody tr th {\n",
       "        vertical-align: top;\n",
       "    }\n",
       "\n",
       "    .dataframe thead th {\n",
       "        text-align: right;\n",
       "    }\n",
       "</style>\n",
       "<table border=\"1\" class=\"dataframe\">\n",
       "  <thead>\n",
       "    <tr style=\"text-align: right;\">\n",
       "      <th></th>\n",
       "      <th>number_missing</th>\n",
       "      <th>percent_missing</th>\n",
       "      <th>type</th>\n",
       "      <th>count</th>\n",
       "    </tr>\n",
       "  </thead>\n",
       "  <tbody>\n",
       "    <tr>\n",
       "      <th>weather_type</th>\n",
       "      <td>0</td>\n",
       "      <td>0.0</td>\n",
       "      <td>object</td>\n",
       "      <td>50000</td>\n",
       "    </tr>\n",
       "    <tr>\n",
       "      <th>cancelled</th>\n",
       "      <td>0</td>\n",
       "      <td>0.0</td>\n",
       "      <td>int64</td>\n",
       "      <td>50000</td>\n",
       "    </tr>\n",
       "    <tr>\n",
       "      <th>wheels_off</th>\n",
       "      <td>0</td>\n",
       "      <td>0.0</td>\n",
       "      <td>float64</td>\n",
       "      <td>50000</td>\n",
       "    </tr>\n",
       "    <tr>\n",
       "      <th>wheels_on</th>\n",
       "      <td>0</td>\n",
       "      <td>0.0</td>\n",
       "      <td>float64</td>\n",
       "      <td>50000</td>\n",
       "    </tr>\n",
       "    <tr>\n",
       "      <th>taxi_in</th>\n",
       "      <td>0</td>\n",
       "      <td>0.0</td>\n",
       "      <td>float64</td>\n",
       "      <td>50000</td>\n",
       "    </tr>\n",
       "    <tr>\n",
       "      <th>...</th>\n",
       "      <td>...</td>\n",
       "      <td>...</td>\n",
       "      <td>...</td>\n",
       "      <td>...</td>\n",
       "    </tr>\n",
       "    <tr>\n",
       "      <th>crs_dep_hour</th>\n",
       "      <td>0</td>\n",
       "      <td>0.0</td>\n",
       "      <td>int64</td>\n",
       "      <td>50000</td>\n",
       "    </tr>\n",
       "    <tr>\n",
       "      <th>crs_arr_hour</th>\n",
       "      <td>0</td>\n",
       "      <td>0.0</td>\n",
       "      <td>int64</td>\n",
       "      <td>50000</td>\n",
       "    </tr>\n",
       "    <tr>\n",
       "      <th>day_of_year</th>\n",
       "      <td>0</td>\n",
       "      <td>0.0</td>\n",
       "      <td>int64</td>\n",
       "      <td>50000</td>\n",
       "    </tr>\n",
       "    <tr>\n",
       "      <th>weekday</th>\n",
       "      <td>0</td>\n",
       "      <td>0.0</td>\n",
       "      <td>int64</td>\n",
       "      <td>50000</td>\n",
       "    </tr>\n",
       "    <tr>\n",
       "      <th>fl_date</th>\n",
       "      <td>0</td>\n",
       "      <td>0.0</td>\n",
       "      <td>object</td>\n",
       "      <td>50000</td>\n",
       "    </tr>\n",
       "  </tbody>\n",
       "</table>\n",
       "<p>69 rows × 4 columns</p>\n",
       "</div>"
      ],
      "text/plain": [
       "              number_missing  percent_missing     type  count\n",
       "weather_type               0              0.0   object  50000\n",
       "cancelled                  0              0.0    int64  50000\n",
       "wheels_off                 0              0.0  float64  50000\n",
       "wheels_on                  0              0.0  float64  50000\n",
       "taxi_in                    0              0.0  float64  50000\n",
       "...                      ...              ...      ...    ...\n",
       "crs_dep_hour               0              0.0    int64  50000\n",
       "crs_arr_hour               0              0.0    int64  50000\n",
       "day_of_year                0              0.0    int64  50000\n",
       "weekday                    0              0.0    int64  50000\n",
       "fl_date                    0              0.0   object  50000\n",
       "\n",
       "[69 rows x 4 columns]"
      ]
     },
     "execution_count": 5,
     "metadata": {},
     "output_type": "execute_result"
    }
   ],
   "source": [
    "info(df)"
   ]
  },
  {
   "cell_type": "code",
   "execution_count": 6,
   "metadata": {},
   "outputs": [
    {
     "data": {
      "text/plain": [
       "['fl_date',\n",
       " 'mkt_unique_carrier',\n",
       " 'branded_code_share',\n",
       " 'mkt_carrier',\n",
       " 'mkt_carrier_fl_num',\n",
       " 'op_unique_carrier',\n",
       " 'tail_num',\n",
       " 'op_carrier_fl_num',\n",
       " 'origin_airport_id',\n",
       " 'origin',\n",
       " 'origin_city_name',\n",
       " 'dest_airport_id',\n",
       " 'dest',\n",
       " 'dest_city_name',\n",
       " 'crs_dep_time',\n",
       " 'dep_time',\n",
       " 'dep_delay',\n",
       " 'taxi_out',\n",
       " 'wheels_off',\n",
       " 'wheels_on',\n",
       " 'taxi_in',\n",
       " 'crs_arr_time',\n",
       " 'arr_time',\n",
       " 'arr_delay',\n",
       " 'cancelled',\n",
       " 'diverted',\n",
       " 'crs_elapsed_time',\n",
       " 'actual_elapsed_time',\n",
       " 'air_time',\n",
       " 'flights',\n",
       " 'distance',\n",
       " 'origin_fl_density',\n",
       " 'dest_fl_density',\n",
       " 'day',\n",
       " 'month',\n",
       " 'year',\n",
       " 'weekday',\n",
       " 'day_of_year',\n",
       " 'crs_arr_hour',\n",
       " 'crs_dep_hour',\n",
       " 'timestamp',\n",
       " 'crs_arr_daytime',\n",
       " 'crs_dep_daytime',\n",
       " 'predicted_speed',\n",
       " 'actual_speed',\n",
       " 'origin_num_passengers',\n",
       " 'dest_num_passengers',\n",
       " 'origin_num_freight',\n",
       " 'dest_num_freight',\n",
       " 'origin_num_intl_dep',\n",
       " 'dest_num_intl_dep',\n",
       " 'origin_num_intl_arr',\n",
       " 'dest_num_intl_arr',\n",
       " 'dist_group',\n",
       " 'season',\n",
       " 'dep_early_morning',\n",
       " 'origin_airport_size',\n",
       " 'dest_airport_size',\n",
       " 'mean_op_carrier_delay',\n",
       " 'mean_monthly_op_carrier_delay',\n",
       " 'mean_delay_origin_airport',\n",
       " 'mean_delay_dest_airport',\n",
       " 'mean_mo_delay_origin_airport',\n",
       " 'mean_mo_delay_dest_airport',\n",
       " 'totalSnow_cm',\n",
       " 'sunHour',\n",
       " 'cloudcover',\n",
       " 'precipMM',\n",
       " 'weather_type']"
      ]
     },
     "execution_count": 6,
     "metadata": {},
     "output_type": "execute_result"
    }
   ],
   "source": [
    "[i for i in df.columns]"
   ]
  },
  {
   "cell_type": "code",
   "execution_count": 7,
   "metadata": {},
   "outputs": [],
   "source": [
    "data = copy.deepcopy(df)"
   ]
  },
  {
   "cell_type": "code",
   "execution_count": 8,
   "metadata": {},
   "outputs": [],
   "source": [
    "# cols with > 80% missing values\n",
    "\n",
    "drop = [\n",
    "    'no_name',\n",
    "    'total_add_gtime',\n",
    "    'first_dep_time',\n",
    "    'longest_add_gtime',\n",
    "    'cancellation_code',\n",
    "]\n",
    "\n",
    "# missing 80%+ values, but apparently useful?\n",
    "\n",
    "delay_cols = [\n",
    "    'late_aircraft_delay',\n",
    "    'security_delay',\n",
    "    'nas_delay',\n",
    "    'weather_delay',\n",
    "    'carrier_delay'\n",
    "]"
   ]
  },
  {
   "cell_type": "code",
   "execution_count": 9,
   "metadata": {},
   "outputs": [],
   "source": [
    "# split city and country\n",
    "\n",
    "data[['origin_city', 'origin_country']] = data['origin_city_name'].str.split(',', expand=True, n=2)\n",
    "\n",
    "data[['dest_city', 'dest_country']] = data['dest_city_name'].str.split(',', expand=True, n=2)\n",
    "\n",
    "# try using just city data, groupby country data?"
   ]
  },
  {
   "cell_type": "code",
   "execution_count": 10,
   "metadata": {},
   "outputs": [],
   "source": [
    "# removing related carrier identifiers; commented out = used feature\n",
    "\n",
    "carrier_identifiers = [\n",
    "    'mkt_unique_carrier',\n",
    "    'branded_code_share',\n",
    "    'mkt_carrier',\n",
    "    'mkt_carrier_fl_num',\n",
    "    #'op_unique_carrier',\n",
    "    'tail_num',\n",
    "    'op_carrier_fl_num',\n",
    "]\n",
    "\n",
    "# removing related airport, place identifiers\n",
    "\n",
    "place_identifiers = [\n",
    "#origin identifiers\n",
    "    'origin_airport_id',\n",
    "    #'origin',\n",
    "    'origin_city_name',\n",
    "    #'origin_city',\n",
    "    #'origin_country',\n",
    "#destination identifiers\n",
    "    'dest_airport_id',\n",
    "    #'dest',\n",
    "    'dest_city_name',\n",
    "    #'dest_city',\n",
    "    #'dest_country',\n",
    "]"
   ]
  },
  {
   "cell_type": "code",
   "execution_count": 11,
   "metadata": {},
   "outputs": [],
   "source": [
    "# remove cols\n",
    "\n",
    "data = data.drop(columns=\n",
    "                #drop+\n",
    "                #delay_cols+ # not really sure what to do with these columns\n",
    "                carrier_identifiers+\n",
    "                place_identifiers)"
   ]
  },
  {
   "cell_type": "code",
   "execution_count": 12,
   "metadata": {},
   "outputs": [],
   "source": [
    "X = data.drop(columns = 'arr_delay')"
   ]
  },
  {
   "cell_type": "code",
   "execution_count": 13,
   "metadata": {},
   "outputs": [],
   "source": [
    "# avg flights per hr per airport -> fl traffic\n",
    "\n",
    "data['hrly_bin'] = round(data['arr_time'],-2)\n",
    "data['avg_hr_fl'] = data.groupby('dest')['hrly_bin'].transform(lambda x: len(x)/x.nunique())"
   ]
  },
  {
   "cell_type": "code",
   "execution_count": 14,
   "metadata": {},
   "outputs": [],
   "source": [
    "# datetime\n",
    "\n",
    "import datetime as dt\n",
    "from datetime import date, time"
   ]
  },
  {
   "cell_type": "code",
   "execution_count": 15,
   "metadata": {},
   "outputs": [],
   "source": [
    "# data['fl_date'] = pd.to_datetime(data['fl_date'])\n",
    "\n",
    "# # month and year\n",
    "\n",
    "# data['day_of_week'] = data['fl_date'].dt.date.isowekday()\n",
    "# data['month'] = data['fl_date'].dt.month\n",
    "# data['year'] = data['fl_date'].dt.year\n",
    "data = data.sort_values(by=['fl_date'])\n",
    "\n",
    "# dep_delay 7 day lag\n",
    "\n",
    "data['dep_delay_lag'] = data['dep_delay'].shift(7)\n",
    "data['arr_delay_lag'] = data['arr_delay'].shift(7)\n",
    "\n",
    "# dep_delay 7 day mean\n",
    "\n",
    "data['ddl_rolling_mean'] = data['dep_delay'].rolling(window=7).mean()\n",
    "\n",
    "data = data.drop(columns = 'fl_date')"
   ]
  },
  {
   "cell_type": "code",
   "execution_count": 16,
   "metadata": {},
   "outputs": [],
   "source": [
    "data['adl_rolling_mean'] = data['arr_delay'].rolling(window=7).mean()\n",
    "data['adl_rolling_mean_origin'] = data.groupby('origin')['adl_rolling_mean'].transform(lambda x: len(x)/x.nunique())\n",
    "data = data.fillna(0)"
   ]
  },
  {
   "cell_type": "code",
   "execution_count": 17,
   "metadata": {},
   "outputs": [],
   "source": [
    "# correlation in X\n",
    "\n",
    "# corr_matrix = X.corr()\n",
    "# for i in corr_matrix:\n",
    "#     for j in corr_matrix:\n",
    "#         if i != j:\n",
    "#             if abs(corr_matrix[i][j]) > 0.85:\n",
    "#                 print(f\"{i}\\t{j}\\t{abs(corr_matrix[i][j])}\")"
   ]
  },
  {
   "cell_type": "code",
   "execution_count": 18,
   "metadata": {},
   "outputs": [],
   "source": [
    "# dep_time\t          wheels_off\t0.9725230213908642\n",
    "# wheels_on\t          arr_time\t    0.9630471247128861\n",
    "# crs_elapsed_time\t  distance\t    0.9827710593474663\n",
    "# actual_elapsed_time air_time\t    0.985116094313287\n",
    "\n",
    "# flights = column of 1s\n",
    "\n",
    "corr_drop = [\n",
    "    'flights',\n",
    "    'wheels_off',  #dep/arr time could have information on whether or not time of day affects delay\n",
    "    'wheels_on',   #wheels off/on probably time spent in tarmac\n",
    "    'timestamp',\n",
    "    'dist_group',\n",
    "    'crs_dep_time',\n",
    "    'crs_arr_time'\n",
    "]\n",
    "\n",
    "# don't use dep_delay\n",
    "\n",
    "extra_drop = [\n",
    "    'actual_elapsed_time',\n",
    "    'dep_delay',\n",
    "    'arr_time',\n",
    "    'dep_time'\n",
    "]\n",
    "\n",
    "\n",
    "data = data.drop(columns=corr_drop+extra_drop)"
   ]
  },
  {
   "cell_type": "code",
   "execution_count": 19,
   "metadata": {},
   "outputs": [],
   "source": [
    "checkpoint = copy.deepcopy(data)"
   ]
  },
  {
   "cell_type": "code",
   "execution_count": 20,
   "metadata": {
    "collapsed": true,
    "jupyter": {
     "outputs_hidden": true
    }
   },
   "outputs": [
    {
     "data": {
      "text/plain": [
       "op_unique_carrier                 object\n",
       "origin                            object\n",
       "dest                              object\n",
       "taxi_out                         float64\n",
       "taxi_in                          float64\n",
       "arr_delay                          int64\n",
       "cancelled                          int64\n",
       "diverted                           int64\n",
       "crs_elapsed_time                   int64\n",
       "air_time                         float64\n",
       "distance                           int64\n",
       "origin_fl_density                  int64\n",
       "dest_fl_density                    int64\n",
       "day                                int64\n",
       "month                              int64\n",
       "year                               int64\n",
       "weekday                            int64\n",
       "day_of_year                        int64\n",
       "crs_arr_hour                       int64\n",
       "crs_dep_hour                       int64\n",
       "crs_arr_daytime                    int64\n",
       "crs_dep_daytime                    int64\n",
       "predicted_speed                  float64\n",
       "actual_speed                     float64\n",
       "origin_num_passengers              int64\n",
       "dest_num_passengers                int64\n",
       "origin_num_freight                 int64\n",
       "dest_num_freight                   int64\n",
       "origin_num_intl_dep                int64\n",
       "dest_num_intl_dep                  int64\n",
       "origin_num_intl_arr                int64\n",
       "dest_num_intl_arr                  int64\n",
       "season                             int64\n",
       "dep_early_morning                  int64\n",
       "origin_airport_size                int64\n",
       "dest_airport_size                  int64\n",
       "mean_op_carrier_delay            float64\n",
       "mean_monthly_op_carrier_delay    float64\n",
       "mean_delay_origin_airport        float64\n",
       "mean_delay_dest_airport          float64\n",
       "mean_mo_delay_origin_airport     float64\n",
       "mean_mo_delay_dest_airport       float64\n",
       "totalSnow_cm                     float64\n",
       "sunHour                          float64\n",
       "cloudcover                         int64\n",
       "precipMM                         float64\n",
       "weather_type                      object\n",
       "origin_city                       object\n",
       "origin_country                    object\n",
       "dest_city                         object\n",
       "dest_country                      object\n",
       "hrly_bin                           int64\n",
       "avg_hr_fl                        float64\n",
       "dep_delay_lag                    float64\n",
       "arr_delay_lag                    float64\n",
       "ddl_rolling_mean                 float64\n",
       "adl_rolling_mean                 float64\n",
       "adl_rolling_mean_origin          float64\n",
       "dtype: object"
      ]
     },
     "execution_count": 20,
     "metadata": {},
     "output_type": "execute_result"
    }
   ],
   "source": [
    "data.dtypes"
   ]
  },
  {
   "cell_type": "code",
   "execution_count": 20,
   "metadata": {},
   "outputs": [],
   "source": [
    "# dummy variables - keep in mind the column used from identifiers\n",
    "# commented out variables = removed\n",
    "\n",
    "categorical_variables = [\n",
    "# aircraft\n",
    "    #'mkt_unique_carrier',\n",
    "    #'branded_code_share',\n",
    "    #'mkt_carrier',\n",
    "    #'mkt_carrier_fl_num',\n",
    "    'op_unique_carrier',\n",
    "    #'tail_num',\n",
    "    #'op_carrier_fl_num',\n",
    "    \n",
    "# place\n",
    "    'origin',\n",
    "    #'origin_city_name',\n",
    "    'origin_city', # engineered\n",
    "    'origin_country', # engineered\n",
    "    'dest',\n",
    "    #'dest_city_name',\n",
    "    'dest_city', # engineered\n",
    "    'dest_country', # engineered\n",
    "    \n",
    "#id\n",
    "    #'origin_airport_id',\n",
    "    #'dest_airport_id',\n",
    "    \n",
    "    #'dup' #duplicate flag marked y if flight is swapped based on form-3a data\n",
    "    \n",
    "    \n",
    "    'weather_type'\n",
    "]\n",
    "\n",
    "data = pd.get_dummies(data=data,columns=categorical_variables,drop_first=True)"
   ]
  },
  {
   "cell_type": "code",
   "execution_count": 22,
   "metadata": {},
   "outputs": [],
   "source": [
    "# reshuffle\n",
    "data = data.sample(frac=1)\n",
    "data = data.reset_index()\n",
    "data = data[data['arr_delay']<=200]"
   ]
  },
  {
   "cell_type": "code",
   "execution_count": null,
   "metadata": {},
   "outputs": [],
   "source": []
  },
  {
   "cell_type": "code",
   "execution_count": 21,
   "metadata": {},
   "outputs": [],
   "source": [
    "checkpoint_2 = copy.deepcopy(data)"
   ]
  },
  {
   "cell_type": "code",
   "execution_count": 22,
   "metadata": {},
   "outputs": [],
   "source": [
    "# X = data.drop(columns='arr_delay')\n",
    "# y = data['arr_delay']\n",
    "\n",
    "X = data.drop(columns = ['arr_delay','adl_rolling_mean'])\n",
    "y = data['adl_rolling_mean_origin']"
   ]
  },
  {
   "cell_type": "code",
   "execution_count": 23,
   "metadata": {},
   "outputs": [
    {
     "data": {
      "text/plain": [
       "False"
      ]
     },
     "execution_count": 23,
     "metadata": {},
     "output_type": "execute_result"
    }
   ],
   "source": [
    "np.any(np.isnan(X))"
   ]
  },
  {
   "cell_type": "code",
   "execution_count": 24,
   "metadata": {},
   "outputs": [
    {
     "data": {
      "text/plain": [
       "True"
      ]
     },
     "execution_count": 24,
     "metadata": {},
     "output_type": "execute_result"
    }
   ],
   "source": [
    "np.all(np.isfinite(X))"
   ]
  },
  {
   "cell_type": "code",
   "execution_count": 25,
   "metadata": {},
   "outputs": [
    {
     "data": {
      "text/plain": [
       "count    50000.000000\n",
       "mean         2.700671\n",
       "std          1.145343\n",
       "min          1.000000\n",
       "25%          1.737201\n",
       "50%          2.694878\n",
       "75%          3.593750\n",
       "max          5.107081\n",
       "Name: adl_rolling_mean_origin, dtype: float64"
      ]
     },
     "execution_count": 25,
     "metadata": {},
     "output_type": "execute_result"
    }
   ],
   "source": [
    "y.describe()"
   ]
  },
  {
   "cell_type": "code",
   "execution_count": 26,
   "metadata": {},
   "outputs": [
    {
     "data": {
      "text/plain": [
       "<AxesSubplot:xlabel='adl_rolling_mean_origin', ylabel='Count'>"
      ]
     },
     "execution_count": 26,
     "metadata": {},
     "output_type": "execute_result"
    },
    {
     "data": {
      "image/png": "[encoded data removed]",
      "text/plain": [
       "<Figure size 432x288 with 1 Axes>"
      ]
     },
     "metadata": {
      "needs_background": "light"
     },
     "output_type": "display_data"
    }
   ],
   "source": [
    "sns.histplot(y)"
   ]
  },
  {
   "cell_type": "code",
   "execution_count": 26,
   "metadata": {},
   "outputs": [
    {
     "data": {
      "text/plain": [
       "<AxesSubplot:xlabel='month', ylabel='adl_rolling_mean_carrier'>"
      ]
     },
     "execution_count": 26,
     "metadata": {},
     "output_type": "execute_result"
    },
    {
     "data": {
      "image/png": "[encoded data removed]",
      "text/plain": [
       "<Figure size 432x288 with 1 Axes>"
      ]
     },
     "metadata": {
      "needs_background": "light"
     },
     "output_type": "display_data"
    }
   ],
   "source": [
    "sns.lineplot(y=data['adl_rolling_mean_carrier'],x='month',data=data)"
   ]
  },
  {
   "cell_type": "code",
   "execution_count": null,
   "metadata": {},
   "outputs": [],
   "source": []
  },
  {
   "cell_type": "code",
   "execution_count": 27,
   "metadata": {},
   "outputs": [],
   "source": [
    "# scale/normalize\n",
    "\n",
    "from sklearn.preprocessing import StandardScaler\n",
    "from sklearn.preprocessing import Normalizer\n",
    "\n",
    "#scaling\n",
    "\n",
    "scaler = StandardScaler()\n",
    "scaler.fit(X)\n",
    "\n",
    "X_scale = scaler.transform(X)"
   ]
  },
  {
   "cell_type": "code",
   "execution_count": 28,
   "metadata": {},
   "outputs": [
    {
     "data": {
      "text/plain": [
       "<AxesSubplot:xlabel='adl_rolling_mean_origin', ylabel='Count'>"
      ]
     },
     "execution_count": 28,
     "metadata": {},
     "output_type": "execute_result"
    },
    {
     "data": {
      "image/png": "[encoded data removed]",
      "text/plain": [
       "<Figure size 432x288 with 1 Axes>"
      ]
     },
     "metadata": {
      "needs_background": "light"
     },
     "output_type": "display_data"
    }
   ],
   "source": [
    "# normalize y\n",
    "\n",
    "from scipy.stats import boxcox\n",
    "from numpy import log\n",
    "\n",
    "y_ = y + 100\n",
    "y_ = log(y_)\n",
    "y_ = y_ - y_.mean()\n",
    "sns.histplot(y_)"
   ]
  },
  {
   "cell_type": "code",
   "execution_count": 32,
   "metadata": {},
   "outputs": [
    {
     "data": {
      "text/plain": [
       "array([ 0.,  1.,  2.,  3., -1.])"
      ]
     },
     "execution_count": 32,
     "metadata": {},
     "output_type": "execute_result"
    }
   ],
   "source": [
    "# binning y\n",
    "\n",
    "bin_y = round(y/60)\n",
    "bin_y.unique()"
   ]
  },
  {
   "cell_type": "code",
   "execution_count": 29,
   "metadata": {},
   "outputs": [],
   "source": [
    "# running models on scaled data - non-pca'd\n",
    "from sklearn.model_selection import train_test_split\n",
    "\n",
    "x_train,x_test,y_train,y_test = train_test_split(X_scale,y_,train_size=0.7,random_state=123)\n",
    "Ox_train,Ox_test,Oy_train,Oy_test = train_test_split(X,y,train_size=0.7,random_state=123)\n",
    "\n",
    "Ox_train,Ox_test,y_train,y_test = train_test_split(X,y_,train_size=0.7,random_state=123)\n",
    "x_train,x_test,Oy_train,Oy_test = train_test_split(X_scale,y,train_size=0.7,random_state=123)"
   ]
  },
  {
   "cell_type": "code",
   "execution_count": 30,
   "metadata": {},
   "outputs": [],
   "source": [
    "from sklearn.linear_model import Lasso, Ridge, SGDRegressor, ElasticNet\n",
    "from sklearn.tree import DecisionTreeRegressor\n",
    "from sklearn.svm import SVR\n",
    "from sklearn.neighbors import KNeighborsRegressor\n",
    "\n",
    "from sklearn.model_selection import cross_val_score"
   ]
  },
  {
   "cell_type": "code",
   "execution_count": 44,
   "metadata": {},
   "outputs": [
    {
     "name": "stdout",
     "output_type": "stream",
     "text": [
      "Regressor:\tScore:\n",
      "Lasso\t-0.0\n",
      "Regressor:\tScore:\n",
      "Ridge\t-1.0\n",
      "Regressor:\tScore:\n",
      "ElasticNet\t-0.0\n",
      "Regressor:\tScore:\n",
      "DecisionTree\t-81.0\n"
     ]
    }
   ],
   "source": [
    "regs = {\n",
    "    'Lasso': Lasso(),\n",
    "    'Ridge': Ridge(),\n",
    "    'ElasticNet': ElasticNet(),\n",
    "    'DecisionTree': DecisionTreeRegressor(),\n",
    "    #'SVR': SVR(),\n",
    "    #'KNN': KNeighborsRegressor()\n",
    "}\n",
    "\n",
    "for key, reg in regs.items():\n",
    "    reg.fit(x_train,Oy_train)\n",
    "    train_score = cross_val_score(reg,x_train,Oy_train,cv=10)\n",
    "    print(f'Regressor:\\tScore:\\n{key}\\t{round(train_score.mean(),2)*100}')"
   ]
  },
  {
   "cell_type": "code",
   "execution_count": null,
   "metadata": {},
   "outputs": [],
   "source": [
    "\"\"\"\n",
    "with 30 day moving average\n",
    "x, 0y = x_scaled, y\n",
    "\n",
    "Regressor:\tScore:\n",
    "Lasso\t5.0\n",
    "Regressor:\tScore:\n",
    "Ridge\t5.0\n",
    "Regressor:\tScore:\n",
    "ElasticNet\t6.0\n",
    "Regressor:\tScore:\n",
    "DecisionTree\t-10.0\n",
    "\n",
    "x, y = x_scaled, log(y)\n",
    "\n",
    "Regressor:\tScore:\n",
    "Lasso\t-0.0\n",
    "Regressor:\tScore:\n",
    "Ridge\t-1.0\n",
    "Regressor:\tScore:\n",
    "ElasticNet\t-0.0\n",
    "\"\"\""
   ]
  },
  {
   "cell_type": "code",
   "execution_count": 31,
   "metadata": {},
   "outputs": [],
   "source": [
    "# using ensemble methods\n",
    "\n",
    "from sklearn.ensemble import RandomForestRegressor\n",
    "from sklearn import metrics\n",
    "import xgboost as xgb\n",
    "from xgboost import XGBRegressor"
   ]
  },
  {
   "cell_type": "code",
   "execution_count": 32,
   "metadata": {},
   "outputs": [
    {
     "name": "stdout",
     "output_type": "stream",
     "text": [
      "99.0\n"
     ]
    }
   ],
   "source": [
    "# xgb\n",
    "\n",
    "data_dmatrix = xgb.DMatrix(data=X,label=y)\n",
    "\n",
    "model = XGBRegressor(objective ='reg:squarederror',learning_rate = 0.03)\n",
    "model.fit(x_train,Oy_train)\n",
    "\n",
    "train_score = cross_val_score(model,x_train,Oy_train,cv=10)\n",
    "print(round(train_score.mean(),2)*100)"
   ]
  },
  {
   "cell_type": "code",
   "execution_count": null,
   "metadata": {},
   "outputs": [],
   "source": [
    "\"\"\"\n",
    "xgb - y = 30 day rolling avg, x_scale\n",
    "\n",
    "25.0\n",
    "\n",
    "xgb - y = 30 day rolling avg avg'd on origin, x_scale\n",
    "\n",
    "98.0\n",
    "\n",
    "xgb - y = 30 day rolling avg avg'd on carrier, x_scale\n",
    "\n",
    "99.0\n",
    "\n",
    "xgb - y = 7 day rolling avg avg'd on origin, x_scale\n",
    "\n",
    "99.0\n",
    "\"\"\""
   ]
  },
  {
   "cell_type": "code",
   "execution_count": 33,
   "metadata": {},
   "outputs": [],
   "source": [
    "from sklearn.feature_selection import SelectFromModel\n",
    "\n",
    "# select features using threshold\n",
    "selection = SelectFromModel(model, prefit=True)\n",
    "select_X_train = selection.transform(x_train)\n",
    "# train model\n",
    "selection_model = XGBRegressor(objective ='reg:squarederror',learning_rate = 0.03)\n",
    "selection_model.fit(select_X_train, Oy_train)\n",
    "\n",
    "select_X_test = selection.transform(x_test)\n",
    "y_pred = selection_model.predict(select_X_test)"
   ]
  },
  {
   "cell_type": "code",
   "execution_count": 34,
   "metadata": {},
   "outputs": [
    {
     "name": "stdout",
     "output_type": "stream",
     "text": [
      "-63734.30691135039\n"
     ]
    }
   ],
   "source": [
    "print(metrics.r2_score(y_test,y_pred))"
   ]
  },
  {
   "cell_type": "code",
   "execution_count": null,
   "metadata": {},
   "outputs": [],
   "source": [
    "from sklearn.metrics import mean_squared_error\n",
    "\n",
    "testing_error = mean_squared_error(y_test,y_pred)\n",
    "print(testing_error)\n",
    "\n",
    "exp_var = metrics.explained_variance_score(y_test,y_pred)\n",
    "print(exp_var)"
   ]
  },
  {
   "cell_type": "code",
   "execution_count": null,
   "metadata": {},
   "outputs": [],
   "source": [
    "# optimization\n",
    "\n",
    "from sklearn.model_selection import cross_validate\n",
    "\n",
    "cv_results = cross_validate(selection_model,X,y,cv=10,scoring='r2',n_jobs=-1)\n",
    "\n",
    "print(cv_results['test_score'])"
   ]
  },
  {
   "cell_type": "code",
   "execution_count": null,
   "metadata": {},
   "outputs": [],
   "source": [
    "import pickle\n",
    "with open('model.pickle','wb') as f:\n",
    "    pickle.dump(selection_model,f)"
   ]
  },
  {
   "cell_type": "code",
   "execution_count": null,
   "metadata": {},
   "outputs": [],
   "source": [
    "with open('model.pickle', 'rb') as f:\n",
    "    selection_model = pickle.load(f)"
   ]
  },
  {
   "cell_type": "code",
   "execution_count": null,
   "metadata": {},
   "outputs": [],
   "source": [
    "# hyperparameter gs\n",
    "\n",
    "from sklearn.model_selection import GridSearchCV"
   ]
  },
  {
   "cell_type": "code",
   "execution_count": null,
   "metadata": {},
   "outputs": [],
   "source": [
    "# paramgrid = {\n",
    "#     'lambda': [0,0.1,1],\n",
    "#     'alpha': [0,0.1,1],\n",
    "#     'learning_rate': [0.03,0.1,0.3],\n",
    "#     'max_depth': [3,5,10],   \n",
    "# }\n",
    "# n = 5\n",
    "\n",
    "# grid = GridSearchCV(estimator=model, param_grid=paramgrid, cv=n, scoring='r2', verbose=1, n_jobs=-1)\n",
    "# grid_result = grid.fit(x_train,y_train)\n",
    "\n",
    "# best_r2 = grid_result.best_score_\n",
    "# print(f'The best hyperparameter settings achieve a cross-validated R^2 of: {best_r2}')\n",
    "# print(grid_result.best_params_)"
   ]
  },
  {
   "cell_type": "code",
   "execution_count": null,
   "metadata": {},
   "outputs": [],
   "source": [
    "\"\"\"\n",
    "Fitting 5 folds for each of 81 candidates, totalling 405 fits\n",
    "[Parallel(n_jobs=-1)]: Using backend LokyBackend with 4 concurrent workers.\n",
    "[Parallel(n_jobs=-1)]: Done  42 tasks      | elapsed: 44.1min\n",
    "[Parallel(n_jobs=-1)]: Done 192 tasks      | elapsed: 179.6min\n",
    "[Parallel(n_jobs=-1)]: Done 405 out of 405 | elapsed: 381.4min finished\n",
    "The best hyperparameter settings achieve a cross-validated R^2 of: 0.9022548833964009\n",
    "{'alpha': 0, 'lambda': 0, 'learning_rate': 0.1, 'max_depth': 5}\n",
    "\"\"\""
   ]
  }
 ],
 "metadata": {
  "kernelspec": {
   "display_name": "Python 3",
   "language": "python",
   "name": "python3"
  },
  "language_info": {
   "codemirror_mode": {
    "name": "ipython",
    "version": 3
   },
   "file_extension": ".py",
   "mimetype": "text/x-python",
   "name": "python",
   "nbconvert_exporter": "python",
   "pygments_lexer": "ipython3",
   "version": "3.8.5"
  }
 },
 "nbformat": 4,
 "nbformat_minor": 4
}
