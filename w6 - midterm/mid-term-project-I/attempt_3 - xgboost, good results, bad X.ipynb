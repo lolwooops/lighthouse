{
 "cells": [
  {
   "cell_type": "code",
   "execution_count": 1,
   "metadata": {},
   "outputs": [],
   "source": [
    "import pandas as pd\n",
    "import numpy as np\n",
    "import random\n",
    "import matplotlib.pyplot as plt\n",
    "import seaborn as sns\n",
    "import copy"
   ]
  },
  {
   "cell_type": "code",
   "execution_count": 62,
   "metadata": {},
   "outputs": [],
   "source": [
    "file_path = 'C:/Users/Tim/Desktop/lighthouse/w6 - midterm/'\n",
    "# filename = file_path+'flights.csv'\n",
    "\n",
    "# n = sum(1 for line in open(filename)) - 1 #number of records in file (excludes header)\n",
    "# s = 50000 #desired sample size\n",
    "# skip = sorted(random.sample(range(1,n+1),n-s))\n",
    "# df = pd.read_csv(filename,skiprows=skip)\n",
    "\n",
    "filename = file_path+'mini_sample.csv'\n",
    "df = pd.read_csv(filename)"
   ]
  },
  {
   "cell_type": "code",
   "execution_count": 111,
   "metadata": {},
   "outputs": [],
   "source": [
    "data = copy.deepcopy(df)"
   ]
  },
  {
   "cell_type": "code",
   "execution_count": 112,
   "metadata": {},
   "outputs": [],
   "source": [
    "# cols with > 80% missing values\n",
    "\n",
    "drop = [\n",
    "    'no_name',\n",
    "    'total_add_gtime',\n",
    "    'first_dep_time',\n",
    "    'longest_add_gtime',\n",
    "    'cancellation_code',\n",
    "]\n",
    "\n",
    "# missing 80%+ values, but apparently useful?\n",
    "\n",
    "delay_cols = [\n",
    "    'late_aircraft_delay',\n",
    "    'security_delay',\n",
    "    'nas_delay',\n",
    "    'weather_delay',\n",
    "    'carrier_delay'\n",
    "]"
   ]
  },
  {
   "cell_type": "code",
   "execution_count": 113,
   "metadata": {},
   "outputs": [],
   "source": [
    "# split city and country\n",
    "\n",
    "data[['origin_city', 'origin_country']] = data['origin_city_name'].str.split(',', expand=True, n=2)\n",
    "\n",
    "data[['dest_city', 'dest_country']] = data['dest_city_name'].str.split(',', expand=True, n=2)\n",
    "\n",
    "# try using just city data, groupby country data?"
   ]
  },
  {
   "cell_type": "code",
   "execution_count": 114,
   "metadata": {},
   "outputs": [],
   "source": [
    "# removing related carrier identifiers; commented out = used feature\n",
    "\n",
    "carrier_identifiers = [\n",
    "    'mkt_unique_carrier',\n",
    "    'branded_code_share',\n",
    "    #'mkt_carrier',\n",
    "    'mkt_carrier_fl_num',\n",
    "    'op_unique_carrier',\n",
    "    'tail_num',\n",
    "    'op_carrier_fl_num',\n",
    "]\n",
    "\n",
    "# removing related airport, place identifiers\n",
    "\n",
    "place_identifiers = [\n",
    "#origin identifiers\n",
    "    'origin_airport_id',\n",
    "    #'origin',\n",
    "    'origin_city_name',\n",
    "    'origin_city',\n",
    "    'origin_country',\n",
    "#destination identifiers\n",
    "    'dest_airport_id',\n",
    "    #'dest',\n",
    "    'dest_city_name',\n",
    "    'dest_city',\n",
    "    'dest_country',\n",
    "]"
   ]
  },
  {
   "cell_type": "code",
   "execution_count": 115,
   "metadata": {},
   "outputs": [],
   "source": [
    "# avg flights per hr per airport -> fl traffic\n",
    "\n",
    "data['hrly_bin'] = round(data['arr_time'],-2)\n",
    "data['avg_hr_fl'] = data.groupby('dest')['hrly_bin'].transform(lambda x: len(x)/x.nunique())"
   ]
  },
  {
   "cell_type": "code",
   "execution_count": 116,
   "metadata": {},
   "outputs": [],
   "source": [
    "# datetime\n",
    "\n",
    "import datetime as dt\n",
    "from datetime import date, time"
   ]
  },
  {
   "cell_type": "code",
   "execution_count": 117,
   "metadata": {},
   "outputs": [],
   "source": [
    "# data['fl_date'] = pd.to_datetime(data['fl_date'])\n",
    "\n",
    "# # month and year\n",
    "\n",
    "# data['day_of_week'] = data['fl_date'].dt.date.isowekday()\n",
    "# data['month'] = data['fl_date'].dt.month\n",
    "# data['year'] = data['fl_date'].dt.year\n",
    "data = data.sort_values(by=['fl_date'])\n",
    "\n",
    "# dep_delay 7 day lag\n",
    "\n",
    "data['dep_delay_lag'] = data['dep_delay'].shift(7)\n",
    "data['arr_delay_lag'] = data['arr_delay'].shift(7)\n",
    "\n",
    "# dep_delay 7 day mean\n",
    "\n",
    "# data['ddl_rolling_mean'] = data['dep_delay'].rolling(window=30).mean()\n",
    "\n",
    "data = data.drop(columns = 'fl_date')"
   ]
  },
  {
   "cell_type": "code",
   "execution_count": 118,
   "metadata": {},
   "outputs": [],
   "source": [
    "data['adl_rolling_mean'] = data['arr_delay'].rolling(window=30).mean()"
   ]
  },
  {
   "cell_type": "code",
   "execution_count": 119,
   "metadata": {},
   "outputs": [],
   "source": [
    "data = data.fillna(0)"
   ]
  },
  {
   "cell_type": "code",
   "execution_count": 120,
   "metadata": {},
   "outputs": [],
   "source": [
    "# dep_time\t          wheels_off\t0.9725230213908642\n",
    "# wheels_on\t          arr_time\t    0.9630471247128861\n",
    "# crs_elapsed_time\t  distance\t    0.9827710593474663\n",
    "# actual_elapsed_time air_time\t    0.985116094313287\n",
    "\n",
    "# flights = column of 1s\n",
    "\n",
    "corr_drop = [\n",
    "    'wheels_off',  #dep/arr time could have information on whether or not time of day affects delay\n",
    "    'wheels_on',   #wheels off/on probably time spent in tarmac\n",
    "    'timestamp',\n",
    "    'dist_group',\n",
    "]\n",
    "\n",
    "# don't use dep_delay\n",
    "\n",
    "extra_drop = [\n",
    "    'flights',\n",
    "    'origin_num_freight',\n",
    "    'origin_num_passengers',\n",
    "    'crs_elapsed_time',\n",
    "    'crs_arr_daytime',\n",
    "    'crs_dep_daytime',\n",
    "    'actual_elapsed_time',\n",
    "    'predicted_speed',\n",
    "    'actual_speed',\n",
    "    'dest_num_intl_dep',\n",
    "    'origin_num_intl_arr',\n",
    "    'dest_num_intl_arr',\n",
    "    'mean_monthly_op_carrier_delay',\n",
    "    'mean_mo_delay_origin_airport',\n",
    "    'mean_mo_delay_dest_airport',\n",
    "    'taxi_in',\n",
    "    'taxi_out',\n",
    "    'diverted',\n",
    "    'cancelled',\n",
    "    'dep_delay',\n",
    "    'dep_time',\n",
    "    'arr_time',\n",
    "    'day_of_year'\n",
    "]\n",
    "\n",
    "\n",
    "data = data.drop(columns=corr_drop+extra_drop)"
   ]
  },
  {
   "cell_type": "code",
   "execution_count": 121,
   "metadata": {},
   "outputs": [
    {
     "data": {
      "text/html": [
       "<div>\n",
       "<style scoped>\n",
       "    .dataframe tbody tr th:only-of-type {\n",
       "        vertical-align: middle;\n",
       "    }\n",
       "\n",
       "    .dataframe tbody tr th {\n",
       "        vertical-align: top;\n",
       "    }\n",
       "\n",
       "    .dataframe thead th {\n",
       "        text-align: right;\n",
       "    }\n",
       "</style>\n",
       "<table border=\"1\" class=\"dataframe\">\n",
       "  <thead>\n",
       "    <tr style=\"text-align: right;\">\n",
       "      <th></th>\n",
       "      <th>mkt_unique_carrier</th>\n",
       "      <th>mean_carrier_arr_delay</th>\n",
       "    </tr>\n",
       "  </thead>\n",
       "  <tbody>\n",
       "    <tr>\n",
       "      <th>0</th>\n",
       "      <td>AA</td>\n",
       "      <td>12.695256</td>\n",
       "    </tr>\n",
       "    <tr>\n",
       "      <th>1</th>\n",
       "      <td>AS</td>\n",
       "      <td>14.490647</td>\n",
       "    </tr>\n",
       "    <tr>\n",
       "      <th>2</th>\n",
       "      <td>B6</td>\n",
       "      <td>13.136552</td>\n",
       "    </tr>\n",
       "    <tr>\n",
       "      <th>3</th>\n",
       "      <td>DL</td>\n",
       "      <td>13.219501</td>\n",
       "    </tr>\n",
       "    <tr>\n",
       "      <th>4</th>\n",
       "      <td>F9</td>\n",
       "      <td>11.224367</td>\n",
       "    </tr>\n",
       "    <tr>\n",
       "      <th>5</th>\n",
       "      <td>G4</td>\n",
       "      <td>14.273038</td>\n",
       "    </tr>\n",
       "    <tr>\n",
       "      <th>6</th>\n",
       "      <td>HA</td>\n",
       "      <td>16.506024</td>\n",
       "    </tr>\n",
       "    <tr>\n",
       "      <th>7</th>\n",
       "      <td>NK</td>\n",
       "      <td>11.337219</td>\n",
       "    </tr>\n",
       "    <tr>\n",
       "      <th>8</th>\n",
       "      <td>UA</td>\n",
       "      <td>12.960344</td>\n",
       "    </tr>\n",
       "    <tr>\n",
       "      <th>9</th>\n",
       "      <td>VX</td>\n",
       "      <td>14.318182</td>\n",
       "    </tr>\n",
       "    <tr>\n",
       "      <th>10</th>\n",
       "      <td>WN</td>\n",
       "      <td>13.773191</td>\n",
       "    </tr>\n",
       "  </tbody>\n",
       "</table>\n",
       "</div>"
      ],
      "text/plain": [
       "   mkt_unique_carrier  mean_carrier_arr_delay\n",
       "0                  AA               12.695256\n",
       "1                  AS               14.490647\n",
       "2                  B6               13.136552\n",
       "3                  DL               13.219501\n",
       "4                  F9               11.224367\n",
       "5                  G4               14.273038\n",
       "6                  HA               16.506024\n",
       "7                  NK               11.337219\n",
       "8                  UA               12.960344\n",
       "9                  VX               14.318182\n",
       "10                 WN               13.773191"
      ]
     },
     "execution_count": 121,
     "metadata": {},
     "output_type": "execute_result"
    }
   ],
   "source": [
    "cd = data.groupby('mkt_unique_carrier').mean()['arr_delay']\n",
    "cd = cd.reset_index()\n",
    "cd.columns = ['mkt_unique_carrier','mean_carrier_arr_delay']\n",
    "cd"
   ]
  },
  {
   "cell_type": "code",
   "execution_count": 122,
   "metadata": {},
   "outputs": [],
   "source": [
    "data = data.merge(cd, on=['mkt_unique_carrier'], how='left')"
   ]
  },
  {
   "cell_type": "code",
   "execution_count": 123,
   "metadata": {},
   "outputs": [],
   "source": [
    "# op_carrier, origin, dest\n",
    "\n",
    "data['mkt_carrier'] = pd.factorize(data['mkt_carrier'])[0]\n",
    "data['origin'] = pd.factorize(data['origin'])[0]\n",
    "data['dest'] = pd.factorize(data['dest'])[0]"
   ]
  },
  {
   "cell_type": "code",
   "execution_count": 124,
   "metadata": {},
   "outputs": [],
   "source": [
    "# remove cols\n",
    "\n",
    "data = data.drop(columns=\n",
    "                #drop+       # already dropped\n",
    "                #delay_cols+ # not really sure what to do with these columns (already dropped)\n",
    "                carrier_identifiers+\n",
    "                place_identifiers)"
   ]
  },
  {
   "cell_type": "code",
   "execution_count": 125,
   "metadata": {},
   "outputs": [],
   "source": [
    "# features \n",
    "\n",
    "numerical = list(data.dtypes[data.dtypes != 'object'].index)\n",
    "\n",
    "categorical = list(data.dtypes[data.dtypes == 'object'].index)"
   ]
  },
  {
   "cell_type": "code",
   "execution_count": 126,
   "metadata": {},
   "outputs": [
    {
     "data": {
      "text/plain": [
       "['weather_type']"
      ]
     },
     "execution_count": 126,
     "metadata": {},
     "output_type": "execute_result"
    }
   ],
   "source": [
    "categorical"
   ]
  },
  {
   "cell_type": "code",
   "execution_count": 127,
   "metadata": {},
   "outputs": [
    {
     "data": {
      "text/plain": [
       "['mkt_carrier',\n",
       " 'origin',\n",
       " 'dest',\n",
       " 'crs_dep_time',\n",
       " 'crs_arr_time',\n",
       " 'arr_delay',\n",
       " 'air_time',\n",
       " 'distance',\n",
       " 'origin_fl_density',\n",
       " 'dest_fl_density',\n",
       " 'day',\n",
       " 'month',\n",
       " 'year',\n",
       " 'weekday',\n",
       " 'crs_arr_hour',\n",
       " 'crs_dep_hour',\n",
       " 'dest_num_passengers',\n",
       " 'dest_num_freight',\n",
       " 'origin_num_intl_dep',\n",
       " 'season',\n",
       " 'dep_early_morning',\n",
       " 'origin_airport_size',\n",
       " 'dest_airport_size',\n",
       " 'mean_op_carrier_delay',\n",
       " 'mean_delay_origin_airport',\n",
       " 'mean_delay_dest_airport',\n",
       " 'totalSnow_cm',\n",
       " 'sunHour',\n",
       " 'cloudcover',\n",
       " 'precipMM',\n",
       " 'hrly_bin',\n",
       " 'avg_hr_fl',\n",
       " 'dep_delay_lag',\n",
       " 'arr_delay_lag',\n",
       " 'ddl_rolling_mean',\n",
       " 'adl_rolling_mean',\n",
       " 'mean_carrier_arr_delay']"
      ]
     },
     "execution_count": 127,
     "metadata": {},
     "output_type": "execute_result"
    }
   ],
   "source": [
    "numerical"
   ]
  },
  {
   "cell_type": "code",
   "execution_count": 128,
   "metadata": {},
   "outputs": [],
   "source": [
    "data = pd.get_dummies(data=data,columns=categorical,drop_first=True)"
   ]
  },
  {
   "cell_type": "code",
   "execution_count": 129,
   "metadata": {},
   "outputs": [],
   "source": [
    "# crs_dep_time, arr_time are values in range 0-2.4k -> get hours only\n",
    "\n",
    "data['crs_dep_hour'] = round(data['crs_dep_time']/60)\n",
    "data['crs_arr_hour'] = round(data['crs_arr_time']/60)\n",
    "\n",
    "data = data.drop(columns=['crs_dep_time','crs_arr_time'])"
   ]
  },
  {
   "cell_type": "code",
   "execution_count": 130,
   "metadata": {},
   "outputs": [],
   "source": [
    "# reshuffle\n",
    "data = data.sample(frac=1)\n",
    "data = data.reset_index()\n",
    "# data = data[data['arr_delay']<=200]"
   ]
  },
  {
   "cell_type": "code",
   "execution_count": 131,
   "metadata": {},
   "outputs": [],
   "source": [
    "X = data.drop(columns = 'arr_delay')\n",
    "#y = data['arr_delay']\n",
    "y = data['adl_rolling_mean']"
   ]
  },
  {
   "cell_type": "code",
   "execution_count": 147,
   "metadata": {},
   "outputs": [
    {
     "data": {
      "text/plain": [
       "Index(['index', 'mkt_carrier', 'origin', 'dest', 'air_time', 'distance',\n",
       "       'origin_fl_density', 'dest_fl_density', 'day', 'month', 'year',\n",
       "       'weekday', 'crs_arr_hour', 'crs_dep_hour', 'dest_num_passengers',\n",
       "       'dest_num_freight', 'origin_num_intl_dep', 'season',\n",
       "       'dep_early_morning', 'origin_airport_size', 'dest_airport_size',\n",
       "       'mean_op_carrier_delay', 'mean_delay_origin_airport',\n",
       "       'mean_delay_dest_airport', 'totalSnow_cm', 'sunHour', 'cloudcover',\n",
       "       'precipMM', 'hrly_bin', 'avg_hr_fl', 'dep_delay_lag', 'arr_delay_lag',\n",
       "       'ddl_rolling_mean', 'adl_rolling_mean', 'mean_carrier_arr_delay',\n",
       "       'weather_type_Rainy', 'weather_type_Snowy', 'weather_type_Sunny'],\n",
       "      dtype='object')"
      ]
     },
     "execution_count": 147,
     "metadata": {},
     "output_type": "execute_result"
    }
   ],
   "source": [
    "X.columns"
   ]
  },
  {
   "cell_type": "code",
   "execution_count": 132,
   "metadata": {},
   "outputs": [],
   "source": [
    "# scale/normalize\n",
    "\n",
    "from sklearn.preprocessing import StandardScaler\n",
    "from sklearn.preprocessing import Normalizer\n",
    "\n",
    "#scaling\n",
    "\n",
    "scaler = StandardScaler()\n",
    "scaler.fit(X)\n",
    "\n",
    "X_scale = scaler.transform(X)"
   ]
  },
  {
   "cell_type": "code",
   "execution_count": 133,
   "metadata": {},
   "outputs": [
    {
     "data": {
      "text/plain": [
       "<AxesSubplot:xlabel='adl_rolling_mean', ylabel='Count'>"
      ]
     },
     "execution_count": 133,
     "metadata": {},
     "output_type": "execute_result"
    },
    {
     "data": {
      "image/png": "[encoded data removed]",
      "text/plain": [
       "<Figure size 432x288 with 1 Axes>"
      ]
     },
     "metadata": {
      "needs_background": "light"
     },
     "output_type": "display_data"
    }
   ],
   "source": [
    "sns.histplot(y)"
   ]
  },
  {
   "cell_type": "code",
   "execution_count": 134,
   "metadata": {},
   "outputs": [],
   "source": [
    "# splitting\n",
    "\n",
    "from sklearn.model_selection import train_test_split\n",
    "\n",
    "x_train, x_test, y_train, y_test = train_test_split(X_scale,y,train_size=0.7)"
   ]
  },
  {
   "cell_type": "code",
   "execution_count": 135,
   "metadata": {},
   "outputs": [],
   "source": [
    "from sklearn import metrics\n",
    "import xgboost as xgb\n",
    "from xgboost import XGBRegressor\n",
    "from sklearn.model_selection import cross_validate\n",
    "from sklearn.model_selection import cross_val_score"
   ]
  },
  {
   "cell_type": "code",
   "execution_count": 146,
   "metadata": {},
   "outputs": [
    {
     "name": "stdout",
     "output_type": "stream",
     "text": [
      "99.0\n"
     ]
    }
   ],
   "source": [
    "data_dmatrix = xgb.DMatrix(data=X,label=y)\n",
    "\n",
    "model = XGBRegressor(objective ='reg:squarederror',\n",
    "                     booster='gbtree',\n",
    "                     learning_rate = 0.003,\n",
    "                     colsample_bytree = 0.3,\n",
    "                     max_depth = 10, \n",
    "                     alpha = 10,\n",
    "                     n_estimators = 1000)\n",
    "model.fit(x_train,y_train)\n",
    "\n",
    "train_score = cross_val_score(model,x_train,y_train,cv=10)\n",
    "print(round(train_score.mean(),2)*100)"
   ]
  },
  {
   "cell_type": "code",
   "execution_count": 138,
   "metadata": {},
   "outputs": [
    {
     "name": "stdout",
     "output_type": "stream",
     "text": [
      "RMSE: 0.907723\n",
      "0.9952621024928795\n"
     ]
    }
   ],
   "source": [
    "y_pred = model.predict(x_test)\n",
    "\n",
    "rmse = np.sqrt(metrics.mean_squared_error(y_test, y_pred))\n",
    "print(\"RMSE: %f\" % (rmse))\n",
    "print(metrics.r2_score(y_test,y_pred))"
   ]
  },
  {
   "cell_type": "code",
   "execution_count": null,
   "metadata": {},
   "outputs": [],
   "source": []
  },
  {
   "cell_type": "code",
   "execution_count": 139,
   "metadata": {},
   "outputs": [
    {
     "name": "stdout",
     "output_type": "stream",
     "text": [
      "0.9952621024928795\n"
     ]
    }
   ],
   "source": [
    "from sklearn.feature_selection import SelectFromModel\n",
    "\n",
    "# select features using threshold\n",
    "selection = SelectFromModel(model, prefit=True)\n",
    "select_X_train = selection.transform(x_train)\n",
    "# train model\n",
    "selection_model = XGBRegressor(objective ='reg:squarederror',\n",
    "                    booster='gbtree',\n",
    "                    learning_rate = 0.03,\n",
    "                    max_depth = 10, \n",
    "                    alpha = 10,\n",
    "                    n_estimators = 100)\n",
    "selection_model.fit(select_X_train, y_train)\n",
    "\n",
    "select_X_test = selection.transform(x_test)\n",
    "y_pred = selection_model.predict(select_X_test)\n",
    "print(metrics.r2_score(y_test,y_pred))"
   ]
  },
  {
   "cell_type": "code",
   "execution_count": 141,
   "metadata": {},
   "outputs": [
    {
     "name": "stdout",
     "output_type": "stream",
     "text": [
      "0.8239613221697718\n",
      "0.9974304471219004\n"
     ]
    }
   ],
   "source": [
    "from sklearn.metrics import mean_squared_error\n",
    "\n",
    "testing_error = mean_squared_error(y_test,y_pred)\n",
    "print(testing_error)\n",
    "\n",
    "exp_var = metrics.explained_variance_score(y_test,y_pred)\n",
    "print(exp_var)"
   ]
  },
  {
   "cell_type": "code",
   "execution_count": 142,
   "metadata": {},
   "outputs": [
    {
     "name": "stdout",
     "output_type": "stream",
     "text": [
      "[0.99543473 0.99530264 0.99540618 0.99548355 0.9954967  0.99502286\n",
      " 0.99540771 0.9954576  0.99539402 0.99532531]\n"
     ]
    }
   ],
   "source": [
    "# optimization\n",
    "\n",
    "from sklearn.model_selection import cross_validate\n",
    "\n",
    "cv_results = cross_validate(selection_model,X,y,cv=10,scoring='r2',n_jobs=-1)\n",
    "\n",
    "print(cv_results['test_score'])"
   ]
  },
  {
   "cell_type": "code",
   "execution_count": null,
   "metadata": {},
   "outputs": [],
   "source": []
  },
  {
   "cell_type": "code",
   "execution_count": null,
   "metadata": {},
   "outputs": [],
   "source": []
  },
  {
   "cell_type": "code",
   "execution_count": null,
   "metadata": {},
   "outputs": [],
   "source": []
  },
  {
   "cell_type": "code",
   "execution_count": null,
   "metadata": {},
   "outputs": [],
   "source": []
  },
  {
   "cell_type": "code",
   "execution_count": null,
   "metadata": {},
   "outputs": [],
   "source": []
  }
 ],
 "metadata": {
  "kernelspec": {
   "display_name": "Python 3",
   "language": "python",
   "name": "python3"
  },
  "language_info": {
   "codemirror_mode": {
    "name": "ipython",
    "version": 3
   },
   "file_extension": ".py",
   "mimetype": "text/x-python",
   "name": "python",
   "nbconvert_exporter": "python",
   "pygments_lexer": "ipython3",
   "version": "3.8.5"
  }
 },
 "nbformat": 4,
 "nbformat_minor": 4
}
