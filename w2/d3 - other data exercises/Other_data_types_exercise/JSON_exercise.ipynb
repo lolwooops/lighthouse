{
 "cells": [
  {
   "cell_type": "markdown",
   "metadata": {},
   "source": [
    "# JSON exercise\n",
    "\n",
    "Download the data from [**here**](https://drive.google.com/file/d/1DGaX5AVfYhmWeb15lI-MzUbSKTYSz9fQ/view?usp=sharing) and answer following questions:\n",
    "1. Find the 10 countries with most projects\n",
    "2. What are top 10 sectors with projects?\n",
    "3. Find the top 10 major project themes (using column 'mjtheme_namecode')\n",
    "4. In 3. above you will notice that some entries have only the code and the name is missing. Create a dataframe with the missing names filled in."
   ]
  },
  {
   "cell_type": "code",
   "execution_count": 1,
   "metadata": {},
   "outputs": [],
   "source": [
    "import pandas as pd\n",
    "import json"
   ]
  },
  {
   "cell_type": "code",
   "execution_count": 2,
   "metadata": {},
   "outputs": [],
   "source": [
    "with open('C:/Users/Tim/Desktop/lighthouse/w2/d3/Other_data_types_exercise/world_bank_projects.json') as wbp:\n",
    "    nestedwbp = json.load(wbp)"
   ]
  },
  {
   "cell_type": "code",
   "execution_count": 3,
   "metadata": {
    "scrolled": true
   },
   "outputs": [
    {
     "name": "stderr",
     "output_type": "stream",
     "text": [
      "<ipython-input-3-42de5db7be14>:2: FutureWarning: pandas.io.json.json_normalize is deprecated, use pandas.json_normalize instead\n",
      "  y = json_normalize(nestedwbp)\n"
     ]
    }
   ],
   "source": [
    "from pandas.io.json import json_normalize  \n",
    "y = json_normalize(nestedwbp)"
   ]
  },
  {
   "cell_type": "code",
   "execution_count": 4,
   "metadata": {},
   "outputs": [],
   "source": [
    "#y.head(5)"
   ]
  },
  {
   "cell_type": "code",
   "execution_count": 5,
   "metadata": {},
   "outputs": [],
   "source": [
    "#for col in y.columns:\n",
    "#    print(col)"
   ]
  },
  {
   "cell_type": "code",
   "execution_count": 6,
   "metadata": {},
   "outputs": [
    {
     "data": {
      "text/plain": [
       "countryname\n",
       "People's Republic of China         19\n",
       "Republic of Indonesia              19\n",
       "Socialist Republic of Vietnam      17\n",
       "Republic of India                  16\n",
       "Republic of Yemen                  13\n",
       "Kingdom of Morocco                 12\n",
       "Nepal                              12\n",
       "People's Republic of Bangladesh    12\n",
       "Africa                             11\n",
       "Republic of Mozambique             11\n",
       "Name: id, dtype: int64"
      ]
     },
     "execution_count": 6,
     "metadata": {},
     "output_type": "execute_result"
    }
   ],
   "source": [
    "#Find the 10 countries with most projects\n",
    "y.groupby('countryname')['id'].count().nlargest(10)"
   ]
  },
  {
   "cell_type": "code",
   "execution_count": 7,
   "metadata": {},
   "outputs": [
    {
     "data": {
      "text/plain": [
       "sector1.Name\n",
       "Central government administration                        48\n",
       "Rural and Inter-Urban Roads and Highways                 34\n",
       "Health                                                   33\n",
       "General agriculture, fishing and forestry sector         32\n",
       "Other social services                                    30\n",
       "Sub-national government administration                   19\n",
       "General public administration sector                     16\n",
       "Primary education                                        16\n",
       "General water, sanitation and flood protection sector    12\n",
       "Forestry                                                 11\n",
       "Name: id, dtype: int64"
      ]
     },
     "execution_count": 7,
     "metadata": {},
     "output_type": "execute_result"
    }
   ],
   "source": [
    "#What are top 10 sectors with projects?\n",
    "y.groupby('sector1.Name')['id'].count().nlargest(10)"
   ]
  },
  {
   "cell_type": "code",
   "execution_count": 8,
   "metadata": {
    "scrolled": true
   },
   "outputs": [
    {
     "name": "stderr",
     "output_type": "stream",
     "text": [
      "<ipython-input-8-eea409fdab4a>:2: FutureWarning: pandas.io.json.json_normalize is deprecated, use pandas.json_normalize instead\n",
      "  themes = json_normalize(nestedwbp,record_path='mjtheme_namecode',meta='project_name')\n"
     ]
    },
    {
     "data": {
      "text/html": [
       "<div>\n",
       "<style scoped>\n",
       "    .dataframe tbody tr th:only-of-type {\n",
       "        vertical-align: middle;\n",
       "    }\n",
       "\n",
       "    .dataframe tbody tr th {\n",
       "        vertical-align: top;\n",
       "    }\n",
       "\n",
       "    .dataframe thead th {\n",
       "        text-align: right;\n",
       "    }\n",
       "</style>\n",
       "<table border=\"1\" class=\"dataframe\">\n",
       "  <thead>\n",
       "    <tr style=\"text-align: right;\">\n",
       "      <th></th>\n",
       "      <th>code</th>\n",
       "      <th>name</th>\n",
       "      <th>project_name</th>\n",
       "    </tr>\n",
       "  </thead>\n",
       "  <tbody>\n",
       "    <tr>\n",
       "      <th>0</th>\n",
       "      <td>8</td>\n",
       "      <td>Human development</td>\n",
       "      <td>Ethiopia General Education Quality Improvement...</td>\n",
       "    </tr>\n",
       "    <tr>\n",
       "      <th>1</th>\n",
       "      <td>11</td>\n",
       "      <td></td>\n",
       "      <td>Ethiopia General Education Quality Improvement...</td>\n",
       "    </tr>\n",
       "    <tr>\n",
       "      <th>2</th>\n",
       "      <td>1</td>\n",
       "      <td>Economic management</td>\n",
       "      <td>TN: DTF Social Protection Reforms Support</td>\n",
       "    </tr>\n",
       "    <tr>\n",
       "      <th>3</th>\n",
       "      <td>6</td>\n",
       "      <td>Social protection and risk management</td>\n",
       "      <td>TN: DTF Social Protection Reforms Support</td>\n",
       "    </tr>\n",
       "    <tr>\n",
       "      <th>4</th>\n",
       "      <td>5</td>\n",
       "      <td>Trade and integration</td>\n",
       "      <td>Tuvalu Aviation Investment Project - Additiona...</td>\n",
       "    </tr>\n",
       "    <tr>\n",
       "      <th>...</th>\n",
       "      <td>...</td>\n",
       "      <td>...</td>\n",
       "      <td>...</td>\n",
       "    </tr>\n",
       "    <tr>\n",
       "      <th>1494</th>\n",
       "      <td>10</td>\n",
       "      <td>Rural development</td>\n",
       "      <td>Sustainable Management of Agricultural Researc...</td>\n",
       "    </tr>\n",
       "    <tr>\n",
       "      <th>1495</th>\n",
       "      <td>9</td>\n",
       "      <td>Urban development</td>\n",
       "      <td>KENYA: NATIONAL URBAN TRANSPORT IMPROVEMENT PR...</td>\n",
       "    </tr>\n",
       "    <tr>\n",
       "      <th>1496</th>\n",
       "      <td>8</td>\n",
       "      <td>Human development</td>\n",
       "      <td>KENYA: NATIONAL URBAN TRANSPORT IMPROVEMENT PR...</td>\n",
       "    </tr>\n",
       "    <tr>\n",
       "      <th>1497</th>\n",
       "      <td>5</td>\n",
       "      <td>Trade and integration</td>\n",
       "      <td>KENYA: NATIONAL URBAN TRANSPORT IMPROVEMENT PR...</td>\n",
       "    </tr>\n",
       "    <tr>\n",
       "      <th>1498</th>\n",
       "      <td>4</td>\n",
       "      <td>Financial and private sector development</td>\n",
       "      <td>KENYA: NATIONAL URBAN TRANSPORT IMPROVEMENT PR...</td>\n",
       "    </tr>\n",
       "  </tbody>\n",
       "</table>\n",
       "<p>1499 rows × 3 columns</p>\n",
       "</div>"
      ],
      "text/plain": [
       "     code                                      name  \\\n",
       "0       8                         Human development   \n",
       "1      11                                             \n",
       "2       1                       Economic management   \n",
       "3       6     Social protection and risk management   \n",
       "4       5                     Trade and integration   \n",
       "...   ...                                       ...   \n",
       "1494   10                         Rural development   \n",
       "1495    9                         Urban development   \n",
       "1496    8                         Human development   \n",
       "1497    5                     Trade and integration   \n",
       "1498    4  Financial and private sector development   \n",
       "\n",
       "                                           project_name  \n",
       "0     Ethiopia General Education Quality Improvement...  \n",
       "1     Ethiopia General Education Quality Improvement...  \n",
       "2             TN: DTF Social Protection Reforms Support  \n",
       "3             TN: DTF Social Protection Reforms Support  \n",
       "4     Tuvalu Aviation Investment Project - Additiona...  \n",
       "...                                                 ...  \n",
       "1494  Sustainable Management of Agricultural Researc...  \n",
       "1495  KENYA: NATIONAL URBAN TRANSPORT IMPROVEMENT PR...  \n",
       "1496  KENYA: NATIONAL URBAN TRANSPORT IMPROVEMENT PR...  \n",
       "1497  KENYA: NATIONAL URBAN TRANSPORT IMPROVEMENT PR...  \n",
       "1498  KENYA: NATIONAL URBAN TRANSPORT IMPROVEMENT PR...  \n",
       "\n",
       "[1499 rows x 3 columns]"
      ]
     },
     "execution_count": 8,
     "metadata": {},
     "output_type": "execute_result"
    }
   ],
   "source": [
    "#Find the top 10 major project themes (using column 'mjtheme_namecode')\n",
    "themes = json_normalize(nestedwbp,record_path='mjtheme_namecode',meta='project_name')\n",
    "themes"
   ]
  },
  {
   "cell_type": "code",
   "execution_count": 9,
   "metadata": {},
   "outputs": [
    {
     "name": "stdout",
     "output_type": "stream",
     "text": [
      "code\n",
      "name\n",
      "project_name\n"
     ]
    }
   ],
   "source": [
    "for col in themes.columns:\n",
    "    print(col)"
   ]
  },
  {
   "cell_type": "code",
   "execution_count": 10,
   "metadata": {},
   "outputs": [
    {
     "data": {
      "text/plain": [
       "Environment and natural resources management    223\n",
       "Rural development                               202\n",
       "Human development                               197\n",
       "Public sector governance                        184\n",
       "Social protection and risk management           158\n",
       "Financial and private sector development        130\n",
       "                                                122\n",
       "Social dev/gender/inclusion                     119\n",
       "Trade and integration                            72\n",
       "Urban development                                47\n",
       "Name: name, dtype: int64"
      ]
     },
     "execution_count": 10,
     "metadata": {},
     "output_type": "execute_result"
    }
   ],
   "source": [
    "themes['name'].value_counts().head(10)"
   ]
  },
  {
   "cell_type": "code",
   "execution_count": 11,
   "metadata": {},
   "outputs": [],
   "source": [
    "#In 3. above you will notice that some entries have only the code and the name is missing. \n",
    "#Create a dataframe with the missing names filled in.\n",
    "\n",
    "themes['code']=themes['code'].map(lambda x: int(x))\n",
    "themes=themes.set_index('code')"
   ]
  },
  {
   "cell_type": "code",
   "execution_count": 12,
   "metadata": {},
   "outputs": [
    {
     "data": {
      "text/plain": [
       "code\n",
       "1                                                 \n",
       "1                              Economic management\n",
       "1                              Economic management\n",
       "1                              Economic management\n",
       "1                                                 \n",
       "                          ...                     \n",
       "11                                                \n",
       "11    Environment and natural resources management\n",
       "11    Environment and natural resources management\n",
       "11    Environment and natural resources management\n",
       "11    Environment and natural resources management\n",
       "Name: name, Length: 121, dtype: object"
      ]
     },
     "execution_count": 12,
     "metadata": {},
     "output_type": "execute_result"
    }
   ],
   "source": [
    "themes.sort_values(by=['code']).groupby(['code'])['name'].head(11)"
   ]
  },
  {
   "cell_type": "code",
   "execution_count": 13,
   "metadata": {},
   "outputs": [],
   "source": [
    "import numpy as np\n",
    "names = themes['name'].sort_index().unique()\n",
    "names = np.delete(names,[0])\n",
    "codedict = {}\n",
    "for i, name in enumerate(names,start=1):\n",
    "    codedict[i]=name\n"
   ]
  },
  {
   "cell_type": "code",
   "execution_count": 14,
   "metadata": {},
   "outputs": [
    {
     "data": {
      "text/plain": [
       "array(['Economic management', 'Public sector governance', 'Rule of law',\n",
       "       'Financial and private sector development',\n",
       "       'Trade and integration', 'Social protection and risk management',\n",
       "       'Social dev/gender/inclusion', 'Human development',\n",
       "       'Urban development', 'Rural development',\n",
       "       'Environment and natural resources management'], dtype=object)"
      ]
     },
     "execution_count": 14,
     "metadata": {},
     "output_type": "execute_result"
    }
   ],
   "source": [
    "names"
   ]
  },
  {
   "cell_type": "code",
   "execution_count": 15,
   "metadata": {
    "scrolled": true
   },
   "outputs": [
    {
     "data": {
      "text/plain": [
       "{1: 'Economic management',\n",
       " 2: 'Public sector governance',\n",
       " 3: 'Rule of law',\n",
       " 4: 'Financial and private sector development',\n",
       " 5: 'Trade and integration',\n",
       " 6: 'Social protection and risk management',\n",
       " 7: 'Social dev/gender/inclusion',\n",
       " 8: 'Human development',\n",
       " 9: 'Urban development',\n",
       " 10: 'Rural development',\n",
       " 11: 'Environment and natural resources management'}"
      ]
     },
     "execution_count": 15,
     "metadata": {},
     "output_type": "execute_result"
    }
   ],
   "source": [
    "codedict"
   ]
  },
  {
   "cell_type": "code",
   "execution_count": 18,
   "metadata": {},
   "outputs": [],
   "source": [
    "#themes"
   ]
  },
  {
   "cell_type": "code",
   "execution_count": 19,
   "metadata": {},
   "outputs": [],
   "source": [
    "themes['nametest']=themes.index.map(codedict)"
   ]
  },
  {
   "cell_type": "code",
   "execution_count": 20,
   "metadata": {},
   "outputs": [
    {
     "data": {
      "text/html": [
       "<div>\n",
       "<style scoped>\n",
       "    .dataframe tbody tr th:only-of-type {\n",
       "        vertical-align: middle;\n",
       "    }\n",
       "\n",
       "    .dataframe tbody tr th {\n",
       "        vertical-align: top;\n",
       "    }\n",
       "\n",
       "    .dataframe thead th {\n",
       "        text-align: right;\n",
       "    }\n",
       "</style>\n",
       "<table border=\"1\" class=\"dataframe\">\n",
       "  <thead>\n",
       "    <tr style=\"text-align: right;\">\n",
       "      <th></th>\n",
       "      <th>name</th>\n",
       "      <th>project_name</th>\n",
       "      <th>nametest</th>\n",
       "    </tr>\n",
       "    <tr>\n",
       "      <th>code</th>\n",
       "      <th></th>\n",
       "      <th></th>\n",
       "      <th></th>\n",
       "    </tr>\n",
       "  </thead>\n",
       "  <tbody>\n",
       "    <tr>\n",
       "      <th>8</th>\n",
       "      <td>Human development</td>\n",
       "      <td>Ethiopia General Education Quality Improvement...</td>\n",
       "      <td>Human development</td>\n",
       "    </tr>\n",
       "    <tr>\n",
       "      <th>11</th>\n",
       "      <td></td>\n",
       "      <td>Ethiopia General Education Quality Improvement...</td>\n",
       "      <td>Environment and natural resources management</td>\n",
       "    </tr>\n",
       "    <tr>\n",
       "      <th>1</th>\n",
       "      <td>Economic management</td>\n",
       "      <td>TN: DTF Social Protection Reforms Support</td>\n",
       "      <td>Economic management</td>\n",
       "    </tr>\n",
       "    <tr>\n",
       "      <th>6</th>\n",
       "      <td>Social protection and risk management</td>\n",
       "      <td>TN: DTF Social Protection Reforms Support</td>\n",
       "      <td>Social protection and risk management</td>\n",
       "    </tr>\n",
       "    <tr>\n",
       "      <th>5</th>\n",
       "      <td>Trade and integration</td>\n",
       "      <td>Tuvalu Aviation Investment Project - Additiona...</td>\n",
       "      <td>Trade and integration</td>\n",
       "    </tr>\n",
       "    <tr>\n",
       "      <th>...</th>\n",
       "      <td>...</td>\n",
       "      <td>...</td>\n",
       "      <td>...</td>\n",
       "    </tr>\n",
       "    <tr>\n",
       "      <th>10</th>\n",
       "      <td>Rural development</td>\n",
       "      <td>Sustainable Management of Agricultural Researc...</td>\n",
       "      <td>Rural development</td>\n",
       "    </tr>\n",
       "    <tr>\n",
       "      <th>9</th>\n",
       "      <td>Urban development</td>\n",
       "      <td>KENYA: NATIONAL URBAN TRANSPORT IMPROVEMENT PR...</td>\n",
       "      <td>Urban development</td>\n",
       "    </tr>\n",
       "    <tr>\n",
       "      <th>8</th>\n",
       "      <td>Human development</td>\n",
       "      <td>KENYA: NATIONAL URBAN TRANSPORT IMPROVEMENT PR...</td>\n",
       "      <td>Human development</td>\n",
       "    </tr>\n",
       "    <tr>\n",
       "      <th>5</th>\n",
       "      <td>Trade and integration</td>\n",
       "      <td>KENYA: NATIONAL URBAN TRANSPORT IMPROVEMENT PR...</td>\n",
       "      <td>Trade and integration</td>\n",
       "    </tr>\n",
       "    <tr>\n",
       "      <th>4</th>\n",
       "      <td>Financial and private sector development</td>\n",
       "      <td>KENYA: NATIONAL URBAN TRANSPORT IMPROVEMENT PR...</td>\n",
       "      <td>Financial and private sector development</td>\n",
       "    </tr>\n",
       "  </tbody>\n",
       "</table>\n",
       "<p>1499 rows × 3 columns</p>\n",
       "</div>"
      ],
      "text/plain": [
       "                                          name  \\\n",
       "code                                             \n",
       "8                            Human development   \n",
       "11                                               \n",
       "1                          Economic management   \n",
       "6        Social protection and risk management   \n",
       "5                        Trade and integration   \n",
       "...                                        ...   \n",
       "10                           Rural development   \n",
       "9                            Urban development   \n",
       "8                            Human development   \n",
       "5                        Trade and integration   \n",
       "4     Financial and private sector development   \n",
       "\n",
       "                                           project_name  \\\n",
       "code                                                      \n",
       "8     Ethiopia General Education Quality Improvement...   \n",
       "11    Ethiopia General Education Quality Improvement...   \n",
       "1             TN: DTF Social Protection Reforms Support   \n",
       "6             TN: DTF Social Protection Reforms Support   \n",
       "5     Tuvalu Aviation Investment Project - Additiona...   \n",
       "...                                                 ...   \n",
       "10    Sustainable Management of Agricultural Researc...   \n",
       "9     KENYA: NATIONAL URBAN TRANSPORT IMPROVEMENT PR...   \n",
       "8     KENYA: NATIONAL URBAN TRANSPORT IMPROVEMENT PR...   \n",
       "5     KENYA: NATIONAL URBAN TRANSPORT IMPROVEMENT PR...   \n",
       "4     KENYA: NATIONAL URBAN TRANSPORT IMPROVEMENT PR...   \n",
       "\n",
       "                                          nametest  \n",
       "code                                                \n",
       "8                                Human development  \n",
       "11    Environment and natural resources management  \n",
       "1                              Economic management  \n",
       "6            Social protection and risk management  \n",
       "5                            Trade and integration  \n",
       "...                                            ...  \n",
       "10                               Rural development  \n",
       "9                                Urban development  \n",
       "8                                Human development  \n",
       "5                            Trade and integration  \n",
       "4         Financial and private sector development  \n",
       "\n",
       "[1499 rows x 3 columns]"
      ]
     },
     "execution_count": 20,
     "metadata": {},
     "output_type": "execute_result"
    }
   ],
   "source": [
    "#obviously you would replace name with the new values; proof of concept, nametest = name\n",
    "themes"
   ]
  },
  {
   "cell_type": "code",
   "execution_count": null,
   "metadata": {},
   "outputs": [],
   "source": []
  }
 ],
 "metadata": {
  "anaconda-cloud": {},
  "kernelspec": {
   "display_name": "Python 3",
   "language": "python",
   "name": "python3"
  },
  "language_info": {
   "codemirror_mode": {
    "name": "ipython",
    "version": 3
   },
   "file_extension": ".py",
   "mimetype": "text/x-python",
   "name": "python",
   "nbconvert_exporter": "python",
   "pygments_lexer": "ipython3",
   "version": "3.8.5"
  }
 },
 "nbformat": 4,
 "nbformat_minor": 4
}
