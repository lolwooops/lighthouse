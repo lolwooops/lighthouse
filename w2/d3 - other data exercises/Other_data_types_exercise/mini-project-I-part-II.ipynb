{
 "cells": [
  {
   "cell_type": "markdown",
   "metadata": {},
   "source": [
    "## Movies\n",
    "In this part of mini-project, we need to have our API-KEY ready because this API won't work without it.\n",
    "\n",
    "We encourage you to look for correct endpoints in [the documentation](https://developers.themoviedb.org/3/account). We can also play around with requests there before copying them to Python."
   ]
  },
  {
   "cell_type": "code",
   "execution_count": 5,
   "metadata": {},
   "outputs": [],
   "source": [
    "# import packages we need (remember what packages we used yesterday during the API session)\n",
    "import os\n",
    "import json\n",
    "import requests\n",
    "from collections import Counter\n",
    "from pprint import pprint"
   ]
  },
  {
   "cell_type": "markdown",
   "metadata": {},
   "source": [
    "## Demo"
   ]
  },
  {
   "cell_type": "code",
   "execution_count": 6,
   "metadata": {},
   "outputs": [
    {
     "name": "stdout",
     "output_type": "stream",
     "text": [
      "d39f5cf680d69876acf48734ae114c7a\n"
     ]
    }
   ],
   "source": [
    "base = \"https://api.themoviedb.org/3\"\n",
    "url = \"/search/movie\"\n",
    "query = 'endgame'\n",
    "api_key = 'd39f5cf680d69876acf48734ae114c7a'\n",
    "#api_key = os.environ['API_KEY']\n",
    "params = f'?query={query}&api_key={api_key}' \n",
    "print(api_key)"
   ]
  },
  {
   "cell_type": "code",
   "execution_count": 7,
   "metadata": {},
   "outputs": [],
   "source": [
    "res = requests.get(base+url+params)"
   ]
  },
  {
   "cell_type": "code",
   "execution_count": 8,
   "metadata": {},
   "outputs": [
    {
     "data": {
      "text/plain": [
       "200"
      ]
     },
     "execution_count": 8,
     "metadata": {},
     "output_type": "execute_result"
    }
   ],
   "source": [
    "res.status_code"
   ]
  },
  {
   "cell_type": "code",
   "execution_count": 9,
   "metadata": {},
   "outputs": [
    {
     "data": {
      "text/plain": [
       "{'page': 1,\n",
       " 'total_results': 19,\n",
       " 'total_pages': 1,\n",
       " 'results': [{'popularity': 61.952,\n",
       "   'vote_count': 14277,\n",
       "   'video': False,\n",
       "   'poster_path': '/or06FN3Dka5tukK1e9sl16pB3iy.jpg',\n",
       "   'id': 299534,\n",
       "   'adult': False,\n",
       "   'backdrop_path': '/7RyHsO4yDXtBv1zUU3mTpHeQ0d5.jpg',\n",
       "   'original_language': 'en',\n",
       "   'original_title': 'Avengers: Endgame',\n",
       "   'genre_ids': [28, 12, 878],\n",
       "   'title': 'Avengers: Endgame',\n",
       "   'vote_average': 8.3,\n",
       "   'overview': \"After the devastating events of Avengers: Infinity War, the universe is in ruins due to the efforts of the Mad Titan, Thanos. With the help of remaining allies, the Avengers must assemble once more in order to undo Thanos' actions and restore order to the universe once and for all, no matter what consequences may be in store.\",\n",
       "   'release_date': '2019-04-24'},\n",
       "  {'popularity': 14.461,\n",
       "   'vote_count': 221,\n",
       "   'video': False,\n",
       "   'poster_path': '/pFgdn4kwtgLjd73lXFtif7G2GWs.jpg',\n",
       "   'id': 12211,\n",
       "   'adult': False,\n",
       "   'backdrop_path': '/5acVDrmC6RFcJrCj74CfH5LoIsb.jpg',\n",
       "   'original_language': 'en',\n",
       "   'original_title': 'Highlander: Endgame',\n",
       "   'genre_ids': [28, 14],\n",
       "   'title': 'Highlander: Endgame',\n",
       "   'vote_average': 4.6,\n",
       "   'overview': \"Immortals Connor and Duncan Macleod join forces against a man from Connor's distant past in the highlands of Scotland, Kell, an immensely powerful immortal who leads an army of equally powerful and deadly immortal swordsmen and assassins. No immortal alive has been able to defeat Kell yet, and neither Connor nor Duncan are skilled enough themselves to take him on and live. The two of them eventually come to one inevitable conclusion; one of them must die so that the combined power of both the Highlanders can bring down Kell for good. There can be only one... the question is, who will it be?\",\n",
       "   'release_date': '2000-09-01'},\n",
       "  {'popularity': 10.658,\n",
       "   'vote_count': 113,\n",
       "   'video': False,\n",
       "   'poster_path': '/ugbGBbzoPQXSgolQVVqRC3NGpIw.jpg',\n",
       "   'id': 41135,\n",
       "   'adult': False,\n",
       "   'backdrop_path': '/9fd2eoCgu16WtSAUEDB2rzg2Mmp.jpg',\n",
       "   'original_language': 'en',\n",
       "   'original_title': 'Operation: Endgame',\n",
       "   'genre_ids': [28, 12, 35, 53],\n",
       "   'title': 'Operation: Endgame',\n",
       "   'vote_average': 5.1,\n",
       "   'overview': 'A battle ensues among two government spy teams in an underground facility after their boss is assassinated.',\n",
       "   'release_date': '2010-07-20'},\n",
       "  {'popularity': 4.581,\n",
       "   'vote_count': 28,\n",
       "   'video': False,\n",
       "   'poster_path': '/b8WzwCABwVRVdw14OcE6pmezJjK.jpg',\n",
       "   'id': 15102,\n",
       "   'adult': False,\n",
       "   'backdrop_path': '/c7bnPbDmCpsku9bG3F1LptpfGC3.jpg',\n",
       "   'original_language': 'en',\n",
       "   'original_title': 'Endgame',\n",
       "   'genre_ids': [80, 18],\n",
       "   'title': 'Endgame',\n",
       "   'vote_average': 6,\n",
       "   'overview': \"The time is the late '80s, a crucial period in the history of South Africa. President P.W. Botha is hanging on to power by a thread as the African National Congress (ANC) takes up arms against  apartheid and the country tumbles toward insurrection. A British mining concern is convinced that their interests would be better served in a stable South Africa and they quietly dispatch Michael Young, their head of public affairs, to open an unofficial dialogue between the bitter rivals.  Assembling a reluctant yet brilliant team to pave the way to reconciliation by confronting obstacles that initially seem insurmountable, Young places his trust in ANC leader Thabo Mbeki and Afrikaner philosophy professor Willie Esterhuyse. It is their empathy that will ultimately serve as the catalyst for change by proving more powerful than the terrorist bombs that threaten to disrupt the peaceful dialogue.\",\n",
       "   'release_date': '2009-01-18'},\n",
       "  {'popularity': 8.802,\n",
       "   'vote_count': 105,\n",
       "   'video': False,\n",
       "   'poster_path': '/yQZCTiMWnXNTeKtnBAOmGdUT0rf.jpg',\n",
       "   'id': 400605,\n",
       "   'adult': False,\n",
       "   'backdrop_path': '/oDvkt6sbGBLXt6EfPgl5ozoIb2f.jpg',\n",
       "   'original_language': 'en',\n",
       "   'original_title': 'Dead Rising: Endgame',\n",
       "   'genre_ids': [28, 27],\n",
       "   'title': 'Dead Rising: Endgame',\n",
       "   'vote_average': 4.8,\n",
       "   'overview': 'Investigative reporter Chase Carter must stop a secret government conspiracy in the zombie infested quarantine zone of East Mission City.',\n",
       "   'release_date': '2016-06-20'},\n",
       "  {'popularity': 3.406,\n",
       "   'vote_count': 9,\n",
       "   'video': False,\n",
       "   'poster_path': '/zHbtfCHvSeZbogq3Iv0vNYxDnkb.jpg',\n",
       "   'id': 51491,\n",
       "   'adult': False,\n",
       "   'backdrop_path': '/9ZscJdBhYb5RWBG0qsJD3Cy07oH.jpg',\n",
       "   'original_language': 'en',\n",
       "   'original_title': 'Endgame',\n",
       "   'genre_ids': [80, 18, 53],\n",
       "   'title': 'Endgame',\n",
       "   'vote_average': 4.8,\n",
       "   'overview': \"Sex is currency. It commands power and can instill fear. Tom, a young man with a troubled past finds himself sucked into a seedy underworld by George Norris, a now super villain with a sadistic streak. A helpless pawn in one of Norris's narcotic scams with a bent cop, Dunston, Tom is dragged deeper into a vicious circle of blood money, vice and ruthless violence from which their seems no way out. Until fate gives Tom a glimmer of hope. When Norris is killed in his apartment, Tom seizes his chance to escape. Terrified and covered in Norris's blood, Tom heads downstairs to his neighbors, Max and Nikki his new friends in the city. With going to the police out of the question, Max and Nikki speed Tom to their desolate cottage deep in the Welsh countryside. With the luxury of space, Tom begins to realize a long-forgotten dream; a return to happier times before his innocence was shattered. Suppressed emotion flood back provoked by Tom's attraction to Nikki...\",\n",
       "   'release_date': '2001-01-01'},\n",
       "  {'popularity': 3.16,\n",
       "   'vote_count': 22,\n",
       "   'video': False,\n",
       "   'poster_path': '/vm3Vyng17XlQEgmEQlWKBMzzGPv.jpg',\n",
       "   'id': 28850,\n",
       "   'adult': False,\n",
       "   'backdrop_path': None,\n",
       "   'original_language': 'it',\n",
       "   'original_title': 'Endgame - Bronx lotta finale',\n",
       "   'genre_ids': [878],\n",
       "   'title': 'Endgame',\n",
       "   'vote_average': 5.4,\n",
       "   'overview': 'In the year 2025, a nuclear holocaust has left New York City an irradiated, but not abandoned, wasteland. The ruined city is inhabited now by scavenger packs and telepathic mutants, who are persecuted by the elite survivors. Keeping the people pacified is the reality television program Endgame, where hunters and gladiators fight to the death.',\n",
       "   'release_date': '1983-11-05'},\n",
       "  {'popularity': 3.01,\n",
       "   'vote_count': 5,\n",
       "   'video': False,\n",
       "   'poster_path': '/bx2qO3rfiOL6LXtbWlTDzFNQEcZ.jpg',\n",
       "   'id': 376651,\n",
       "   'adult': False,\n",
       "   'backdrop_path': '/kd95nBirBiMK5AjMlrB2eqIY7HA.jpg',\n",
       "   'original_language': 'en',\n",
       "   'original_title': 'Endgame',\n",
       "   'genre_ids': [18],\n",
       "   'title': 'Endgame',\n",
       "   'vote_average': 5.6,\n",
       "   'overview': \"Since he was 5 yrs old, Jose's abuelita taught him to play chess like his grandfather who was a champion in Mexico. Now as part of the Brownsville school team, Jose has the chance to use his skills and for once in his life, finds himself in the spotlight, as he tries to help his team make it to the Texas state finals. As their coach, Mr. Alvarado, teaches his students the meaning of perseverance and team effort in the face of adversity, Jose discovers his own strengths and uses them to bring his broken family together.\",\n",
       "   'release_date': '2015-09-25'},\n",
       "  {'popularity': 2.189,\n",
       "   'vote_count': 1,\n",
       "   'video': False,\n",
       "   'poster_path': '/sKnjNsZ2AKYHOSxKgjIaBKAqOTk.jpg',\n",
       "   'id': 718185,\n",
       "   'adult': False,\n",
       "   'backdrop_path': '/oJk602G6mEnhuyEOvUroCQIXASi.jpg',\n",
       "   'original_language': 'en',\n",
       "   'original_title': 'BCTV: Endgame',\n",
       "   'genre_ids': [28, 12, 18, 878],\n",
       "   'title': 'BCTV: Endgame',\n",
       "   'vote_average': 2,\n",
       "   'overview': 'The Bishop Carroll TV Broadcasting class faces its most dangerous challenge yet when their new broadcast is completely erased. The senior Class of 2020 takes the reigns to save the broadcast, but in the process faces a dangerous journey through time and must reflect on the unavoidable and emotional end of their high school career.',\n",
       "   'release_date': '2020-07-10'},\n",
       "  {'popularity': 1.274,\n",
       "   'vote_count': 3,\n",
       "   'video': False,\n",
       "   'poster_path': None,\n",
       "   'id': 68139,\n",
       "   'adult': False,\n",
       "   'backdrop_path': None,\n",
       "   'original_language': 'en',\n",
       "   'original_title': 'Endgame',\n",
       "   'genre_ids': [35, 18, 10770],\n",
       "   'title': 'Endgame',\n",
       "   'vote_average': 6.7,\n",
       "   'overview': 'Hamm is blind and unable to stand; Clov, his servant, is unable to sit; Nagg and Nell are his father and mother, who are legless and live in dustbins. Together they live in a room with two windows, but there may be nothing at all outside.',\n",
       "   'release_date': '2000-09-10'},\n",
       "  {'popularity': 4.045,\n",
       "   'vote_count': 21,\n",
       "   'video': False,\n",
       "   'poster_path': '/l8t0Z8y0fhSVChzbUf9TOfNh5R7.jpg',\n",
       "   'id': 18312,\n",
       "   'adult': False,\n",
       "   'backdrop_path': '/7W8SYHJaYA0dIc9tyx9RMiRUVGg.jpg',\n",
       "   'original_language': 'en',\n",
       "   'original_title': 'Endgame: Blueprint for Global Enslavement',\n",
       "   'genre_ids': [99],\n",
       "   'title': 'Endgame: Blueprint for Global Enslavement',\n",
       "   'vote_average': 7.1,\n",
       "   'overview': \"For the New World Order (NWO), a world government is just the beginning. Once in place they can engage their plan to exterminate 80% of the world's population, while enabling the 'elites' to live forever with the aid of advanced technology. For the first time, crusading filmmaker Alex Jones reveals their secret plan for humanity's extermination: Operation Endgame.\",\n",
       "   'release_date': '2007-11-01'},\n",
       "  {'popularity': 0.841,\n",
       "   'id': 233407,\n",
       "   'video': False,\n",
       "   'vote_count': 0,\n",
       "   'vote_average': 0,\n",
       "   'title': 'Endgame',\n",
       "   'release_date': '1989-01-01',\n",
       "   'original_language': 'en',\n",
       "   'original_title': 'Endgame',\n",
       "   'genre_ids': [],\n",
       "   'backdrop_path': None,\n",
       "   'adult': False,\n",
       "   'overview': \"An adaptation of Samuel Beckett's play.\",\n",
       "   'poster_path': None},\n",
       "  {'popularity': 1.593,\n",
       "   'vote_count': 2,\n",
       "   'video': False,\n",
       "   'poster_path': None,\n",
       "   'id': 353227,\n",
       "   'adult': False,\n",
       "   'backdrop_path': None,\n",
       "   'original_language': 'en',\n",
       "   'original_title': 'Horror 102: Endgame',\n",
       "   'genre_ids': [27],\n",
       "   'title': 'Horror 102: Endgame',\n",
       "   'vote_average': 1,\n",
       "   'overview': \"A group of high school/university students are staying in an abandoned insane asylum  as part of a school project field trip, which turns out to be haunted by the tormented spirits of it's previous inhabitants.\",\n",
       "   'release_date': '2004-09-04'},\n",
       "  {'popularity': 0.6,\n",
       "   'vote_count': 2,\n",
       "   'video': False,\n",
       "   'poster_path': None,\n",
       "   'id': 320200,\n",
       "   'adult': False,\n",
       "   'backdrop_path': None,\n",
       "   'original_language': 'en',\n",
       "   'original_title': 'Endgame',\n",
       "   'genre_ids': [],\n",
       "   'title': 'Endgame',\n",
       "   'vote_average': 7,\n",
       "   'overview': 'An ordinary chess game between a man and a woman turns into a battle of the sexes.',\n",
       "   'release_date': '1999-12-01'},\n",
       "  {'popularity': 0.6,\n",
       "   'id': 401828,\n",
       "   'video': False,\n",
       "   'vote_count': 0,\n",
       "   'vote_average': 0,\n",
       "   'title': 'Endgame',\n",
       "   'release_date': '2015-01-01',\n",
       "   'original_language': 'en',\n",
       "   'original_title': 'Endgame',\n",
       "   'genre_ids': [16],\n",
       "   'backdrop_path': None,\n",
       "   'adult': False,\n",
       "   'overview': 'After a tough week at the office, Richard and George like to play war games over the weekend to relax. The dispassionate atmosphere and minimalistic style with which the growing brutality is handled slowly wipes the smile from your face, before making sure that it doesn’t return.',\n",
       "   'poster_path': '/jntVd28HefooS3ykVMADPAWgY8Q.jpg'},\n",
       "  {'popularity': 0.898,\n",
       "   'id': 720914,\n",
       "   'video': False,\n",
       "   'vote_count': 1,\n",
       "   'vote_average': 10,\n",
       "   'title': 'Endgame 2050',\n",
       "   'release_date': '2020-05-19',\n",
       "   'original_language': 'en',\n",
       "   'original_title': 'Endgame 2050',\n",
       "   'genre_ids': [],\n",
       "   'backdrop_path': '/vScBqbDYn95Az8SvNoYKGvFFVmy.jpg',\n",
       "   'adult': False,\n",
       "   'overview': 'What will the future be like in the year 2050? Endgame 2050 is a feature-length documentary that gives us a glimpse into that future, and it does not look good. Featuring musician Moby along with leading scientists, and created by physician turned environmentalist Sofia Pineda Ochoa, Endgame 2050 is an urgent call to action to tackle the existential crises bearing down on the planet.',\n",
       "   'poster_path': '/zcGm1iSkR4p6YawvFpJx04JfHOX.jpg'},\n",
       "  {'popularity': 0.6,\n",
       "   'id': 545817,\n",
       "   'video': False,\n",
       "   'vote_count': 0,\n",
       "   'vote_average': 0,\n",
       "   'title': \"Britten's Endgame\",\n",
       "   'release_date': '2015-01-01',\n",
       "   'original_language': 'en',\n",
       "   'original_title': \"Britten's Endgame\",\n",
       "   'genre_ids': [99, 10402],\n",
       "   'backdrop_path': None,\n",
       "   'adult': False,\n",
       "   'overview': \"To mark the centenary of Benjamin Britten's birth, Britten’s Endgame explores the composer's creativity in the face of death.  Those closest to him watched anxiously as he raced to complete his final opera, Death in Venice, in defiance of medical advice, tackling an edgy subject with many resonances in his own life.  His eventual heart operation left him incapacitated and prematurely old and frail, yet somehow he rediscovered his creative urge to produce two late masterpieces. This is a rich and poignant film about Britten’s final years, and the impact of what Peter Pears called 'an evil opera'.\",\n",
       "   'poster_path': '/j94qqELDTsOxYxXZOpNKYWhwzdh.jpg'},\n",
       "  {'popularity': 0.866,\n",
       "   'id': 691329,\n",
       "   'video': False,\n",
       "   'vote_count': 0,\n",
       "   'vote_average': 0,\n",
       "   'title': 'Endgame & Rough for Theatre II',\n",
       "   'release_date': '2020-04-01',\n",
       "   'original_language': 'en',\n",
       "   'original_title': 'Endgame & Rough for Theatre II',\n",
       "   'genre_ids': [],\n",
       "   'backdrop_path': '/igO0gR0KyGv4LtU4xTOx1TBMaFM.jpg',\n",
       "   'adult': False,\n",
       "   'overview': 'Hamm is an ageing, blind tyrant who is confined to a wheelchair – but soon becomes locked in a bleakly funny and subversively devastating stalemate.  Endgame forms the first half of a double bill, performed alongside Samuel Beckett’s rarely-seen short play Rough for Theatre II.',\n",
       "   'poster_path': '/vKWken4CHJLnRNtGV4ayVaIyTe.jpg'},\n",
       "  {'popularity': 7.849,\n",
       "   'id': 256740,\n",
       "   'video': False,\n",
       "   'vote_count': 57,\n",
       "   'vote_average': 5.5,\n",
       "   'title': 'Wicked Blood',\n",
       "   'release_date': '2014-03-04',\n",
       "   'original_language': 'en',\n",
       "   'original_title': 'Wicked Blood',\n",
       "   'genre_ids': [28, 18, 53],\n",
       "   'backdrop_path': None,\n",
       "   'adult': False,\n",
       "   'overview': 'Hannah and Amber Baker are trapped in a dark Southern underworld of violence, drugs and bikers. Both live in fear of their \"Uncle Frank\" Stinson, the ruthless leader of a crime organization.',\n",
       "   'poster_path': '/5WQzZoWqQBwVs1itHY5dHuSBksR.jpg'}]}"
      ]
     },
     "execution_count": 9,
     "metadata": {},
     "output_type": "execute_result"
    }
   ],
   "source": [
    "res.json()"
   ]
  },
  {
   "cell_type": "markdown",
   "metadata": {},
   "source": [
    "## Task\n",
    "Search for you favorite movie and return the information about the movie:\n",
    "- name\n",
    "- release date\n",
    "- runtime\n",
    "- revenue\n",
    "- length of the overview\n",
    "- number of votes\n",
    "- voting average"
   ]
  },
  {
   "cell_type": "code",
   "execution_count": 10,
   "metadata": {},
   "outputs": [],
   "source": [
    "# Setting up request URL\n",
    "base = \"https://api.themoviedb.org/3\"\n",
    "url = \"/search/movie\"\n",
    "query = 'endgame'\n",
    "params = f'?query={query}&api_key={api_key}' "
   ]
  },
  {
   "cell_type": "code",
   "execution_count": 11,
   "metadata": {},
   "outputs": [],
   "source": [
    "# make request\n",
    "res = requests.get(base+url+params)"
   ]
  },
  {
   "cell_type": "code",
   "execution_count": 12,
   "metadata": {},
   "outputs": [
    {
     "data": {
      "text/plain": [
       "<Response [200]>"
      ]
     },
     "execution_count": 12,
     "metadata": {},
     "output_type": "execute_result"
    }
   ],
   "source": [
    "# check request status\n",
    "res"
   ]
  },
  {
   "cell_type": "code",
   "execution_count": 13,
   "metadata": {},
   "outputs": [],
   "source": [
    "# Lookinf for movie ID\n",
    "result = res.json()\n",
    "fav_movie = None\n",
    "for i in result['results']:\n",
    "    if ''.upper() in i['title'].upper() and 'avenger'.upper() in i['title'].upper(): \n",
    "        fav_movie = i\n",
    "        \n",
    "movie_id = fav_movie['id']"
   ]
  },
  {
   "cell_type": "code",
   "execution_count": 14,
   "metadata": {},
   "outputs": [],
   "source": [
    "# Setting up request URL\n",
    "base = \"https://api.themoviedb.org/3\"\n",
    "url_endgame = f\"/movie/{movie_id}\"\n",
    "params = f'?api_key={api_key}' "
   ]
  },
  {
   "cell_type": "code",
   "execution_count": 15,
   "metadata": {},
   "outputs": [],
   "source": [
    "# make request\n",
    "res2 =requests.get(base+url_endgame+params)"
   ]
  },
  {
   "cell_type": "code",
   "execution_count": 16,
   "metadata": {},
   "outputs": [],
   "source": [
    "# convert to json\n",
    "endgame = res2.json()"
   ]
  },
  {
   "cell_type": "code",
   "execution_count": 17,
   "metadata": {},
   "outputs": [
    {
     "name": "stdout",
     "output_type": "stream",
     "text": [
      "Name: Avengers: Endgame\n",
      "Release date: 2019-04-24\n",
      "Runetime: 181\n",
      "Revenue: 2797800564\n",
      "Length of Overview: 58\n",
      "Number of votes: 14282\n",
      "Voting average: 8.3\n"
     ]
    }
   ],
   "source": [
    "print('Name:',endgame['title'])\n",
    "print('Release date:',endgame['release_date'])\n",
    "print('Runetime:',endgame['runtime'])\n",
    "print('Revenue:',endgame['revenue'])\n",
    "print('Length of Overview:',len(endgame['overview'].split(' ')))\n",
    "print('Number of votes:',endgame['vote_count'])\n",
    "print('Voting average:',endgame['vote_average'])"
   ]
  },
  {
   "cell_type": "markdown",
   "metadata": {},
   "source": [
    "## Task\n",
    "Search for you favorite actor/actress and return the information about him/her:\n",
    "- name\n",
    "- date of birth\n",
    "- place of birth\n",
    "- length of the biography"
   ]
  },
  {
   "cell_type": "code",
   "execution_count": 18,
   "metadata": {},
   "outputs": [],
   "source": [
    "# Setting up Request URL\n",
    "base = \"https://api.themoviedb.org/3\"\n",
    "url = \"/search/person\"\n",
    "query = 'Robert'\n",
    "params = f'?query={query}&api_key={api_key}'"
   ]
  },
  {
   "cell_type": "code",
   "execution_count": 19,
   "metadata": {},
   "outputs": [],
   "source": [
    "# make request\n",
    "res = requests.get(base+url+params)"
   ]
  },
  {
   "cell_type": "code",
   "execution_count": 20,
   "metadata": {},
   "outputs": [
    {
     "data": {
      "text/plain": [
       "<Response [200]>"
      ]
     },
     "execution_count": 20,
     "metadata": {},
     "output_type": "execute_result"
    }
   ],
   "source": [
    "# Check status of request\n",
    "res"
   ]
  },
  {
   "cell_type": "code",
   "execution_count": 21,
   "metadata": {},
   "outputs": [],
   "source": [
    "# Looking for actor ID\n",
    "result = res.json()\n",
    "fav_actor = None\n",
    "for i in result['results']:\n",
    "    if 'robert'.upper() in i['name'].upper() and 'downey'.upper() in i['name'].upper() and 'jr'.upper() in i['name'].upper(): \n",
    "        fav_actor = i\n",
    "        \n",
    "actor_id = fav_actor['id']"
   ]
  },
  {
   "cell_type": "code",
   "execution_count": 22,
   "metadata": {},
   "outputs": [],
   "source": [
    "# Request URL\n",
    "base = \"https://api.themoviedb.org/3\"\n",
    "url_actor = f\"/person/{actor_id}\"\n",
    "params = f'?api_key={api_key}'"
   ]
  },
  {
   "cell_type": "code",
   "execution_count": 23,
   "metadata": {},
   "outputs": [],
   "source": [
    "# make request\n",
    "res2 = requests.get(base+url_actor+params)"
   ]
  },
  {
   "cell_type": "code",
   "execution_count": 24,
   "metadata": {},
   "outputs": [
    {
     "data": {
      "text/plain": [
       "<Response [200]>"
      ]
     },
     "execution_count": 24,
     "metadata": {},
     "output_type": "execute_result"
    }
   ],
   "source": [
    "# Check status of request\n",
    "res2"
   ]
  },
  {
   "cell_type": "code",
   "execution_count": 25,
   "metadata": {},
   "outputs": [],
   "source": [
    "# convert to json()\n",
    "actor_result = res2.json()"
   ]
  },
  {
   "cell_type": "code",
   "execution_count": 26,
   "metadata": {},
   "outputs": [
    {
     "name": "stdout",
     "output_type": "stream",
     "text": [
      "name: Robert Downey Jr.\n",
      "date of birth: 1965-04-04\n",
      "place of birth: Manhattan, New York City, New York, USA\n",
      "length of biography: 146\n"
     ]
    }
   ],
   "source": [
    "print('name:', actor_result['name'])\n",
    "print('date of birth:', actor_result['birthday'])\n",
    "print('place of birth:', actor_result['place_of_birth'])\n",
    "print('length of biography:', len(actor_result['biography'].split(' ')))"
   ]
  },
  {
   "cell_type": "markdown",
   "metadata": {},
   "source": [
    "## Task\n",
    "Search for you favorite tv-show and return the information about it:\n",
    "- name\n",
    "- first air date\n",
    "- number of seasons\n",
    "- number of episodes\n",
    "- genres"
   ]
  },
  {
   "cell_type": "code",
   "execution_count": 27,
   "metadata": {},
   "outputs": [],
   "source": [
    "# Setting up Request URL\n",
    "base = \"https://api.themoviedb.org/3\"\n",
    "url = \"/search/tv\"\n",
    "query = 'Rick'\n",
    "params = f'?query={query}&api_key={api_key}'"
   ]
  },
  {
   "cell_type": "code",
   "execution_count": 28,
   "metadata": {},
   "outputs": [],
   "source": [
    "# requesting\n",
    "res = requests.get(base+url+params)"
   ]
  },
  {
   "cell_type": "code",
   "execution_count": 29,
   "metadata": {},
   "outputs": [
    {
     "data": {
      "text/plain": [
       "<Response [200]>"
      ]
     },
     "execution_count": 29,
     "metadata": {},
     "output_type": "execute_result"
    }
   ],
   "source": [
    "# check request status\n",
    "res"
   ]
  },
  {
   "cell_type": "code",
   "execution_count": 30,
   "metadata": {},
   "outputs": [],
   "source": [
    "# Looking for TV ID\n",
    "result = res.json()\n",
    "fav_TV = None\n",
    "for i in result['results']:\n",
    "    if 'rick'.upper() in i['name'].upper() and 'morty'.upper() in i['name'].upper(): \n",
    "        fav_TV = i\n",
    "        \n",
    "TV_id = fav_TV['id']"
   ]
  },
  {
   "cell_type": "code",
   "execution_count": 31,
   "metadata": {},
   "outputs": [],
   "source": [
    "# Request URL\n",
    "base = \"https://api.themoviedb.org/3\"\n",
    "url_TV = f\"/tv/{TV_id}\"\n",
    "params = f'?api_key={api_key}'"
   ]
  },
  {
   "cell_type": "code",
   "execution_count": 32,
   "metadata": {},
   "outputs": [],
   "source": [
    "# requesting\n",
    "res2 = requests.get(base+url_TV+params)"
   ]
  },
  {
   "cell_type": "code",
   "execution_count": 33,
   "metadata": {},
   "outputs": [
    {
     "data": {
      "text/plain": [
       "<Response [200]>"
      ]
     },
     "execution_count": 33,
     "metadata": {},
     "output_type": "execute_result"
    }
   ],
   "source": [
    "# check request status\n",
    "res2"
   ]
  },
  {
   "cell_type": "code",
   "execution_count": 34,
   "metadata": {},
   "outputs": [],
   "source": [
    "# Convert to json()\n",
    "TV_result = res2.json()"
   ]
  },
  {
   "cell_type": "code",
   "execution_count": 35,
   "metadata": {},
   "outputs": [
    {
     "name": "stdout",
     "output_type": "stream",
     "text": [
      "name: Rick and Morty\n",
      "first air date: 2016-10-26\n",
      "number of seasons: 4\n",
      "number of episodes 41\n",
      "genre: Animation, Comedy, Sci-Fi & Fantasy, Action & Adventure\n"
     ]
    }
   ],
   "source": [
    "print('name:', TV_result['name'])\n",
    "print('first air date:', TV_result['seasons'][0]['air_date'])\n",
    "print('number of seasons:', TV_result['number_of_seasons'])\n",
    "print('number of episodes', TV_result['number_of_episodes'])\n",
    "print('genre:', \", \".join([x['name'] for x in TV_result['genres']]))"
   ]
  },
  {
   "cell_type": "markdown",
   "metadata": {},
   "source": [
    "## Task \n",
    "Find top 5 trending:\n",
    "- movies\n",
    "- tv-shows\n",
    "- people"
   ]
  },
  {
   "cell_type": "markdown",
   "metadata": {},
   "source": [
    "## Movies"
   ]
  },
  {
   "cell_type": "code",
   "execution_count": 36,
   "metadata": {},
   "outputs": [],
   "source": [
    "# Setting up Request URL\n",
    "base = \"https://api.themoviedb.org/3\"\n",
    "url_movie = \"/trending/movie/week\"\n",
    "params = f'?api_key={api_key}'"
   ]
  },
  {
   "cell_type": "code",
   "execution_count": 37,
   "metadata": {},
   "outputs": [],
   "source": [
    "# Sending request\n",
    "res = requests.get(base+url_movie+params)"
   ]
  },
  {
   "cell_type": "code",
   "execution_count": 38,
   "metadata": {},
   "outputs": [
    {
     "data": {
      "text/plain": [
       "<Response [200]>"
      ]
     },
     "execution_count": 38,
     "metadata": {},
     "output_type": "execute_result"
    }
   ],
   "source": [
    "# check request status\n",
    "res"
   ]
  },
  {
   "cell_type": "code",
   "execution_count": 39,
   "metadata": {},
   "outputs": [],
   "source": [
    "# Convert to json()\n",
    "result = res.json()"
   ]
  },
  {
   "cell_type": "code",
   "execution_count": 40,
   "metadata": {},
   "outputs": [
    {
     "name": "stdout",
     "output_type": "stream",
     "text": [
      "top five trending movies this week: ['The Old Guard', 'Greyhound', 'Avengers: Endgame', 'Palm Springs', 'Scoob!']\n"
     ]
    }
   ],
   "source": [
    "# Find top 5 movies\n",
    "top_five_movies = []\n",
    "for i in range(5):\n",
    "    top_five_movies.append(result['results'][i]['title'])\n",
    "\n",
    "print(f'top five trending movies this week: {top_five_movies}')"
   ]
  },
  {
   "cell_type": "markdown",
   "metadata": {},
   "source": [
    "## TV-Shows"
   ]
  },
  {
   "cell_type": "code",
   "execution_count": 41,
   "metadata": {},
   "outputs": [],
   "source": [
    "# Setting up Request URL\n",
    "base = \"https://api.themoviedb.org/3\"\n",
    "url_tv = \"/trending/tv/week\"\n",
    "params = f'?api_key={api_key}'"
   ]
  },
  {
   "cell_type": "code",
   "execution_count": 42,
   "metadata": {},
   "outputs": [],
   "source": [
    "# Sending request\n",
    "res = requests.get(base+url_tv+params)"
   ]
  },
  {
   "cell_type": "code",
   "execution_count": 43,
   "metadata": {},
   "outputs": [
    {
     "data": {
      "text/plain": [
       "<Response [200]>"
      ]
     },
     "execution_count": 43,
     "metadata": {},
     "output_type": "execute_result"
    }
   ],
   "source": [
    "# check request status\n",
    "res"
   ]
  },
  {
   "cell_type": "code",
   "execution_count": 44,
   "metadata": {},
   "outputs": [],
   "source": [
    "# Convert to json()\n",
    "result = res.json()"
   ]
  },
  {
   "cell_type": "code",
   "execution_count": 45,
   "metadata": {},
   "outputs": [
    {
     "name": "stdout",
     "output_type": "stream",
     "text": [
      "top five trending tv-show this week: ['Cursed', 'Dark', 'Brave New World', 'Game of Thrones', 'Snowpiercer']\n"
     ]
    }
   ],
   "source": [
    "# Find top 5 TV\n",
    "top_five_tv = []\n",
    "for i in range(5):\n",
    "    top_five_tv.append(result['results'][i]['name'])\n",
    "\n",
    "print(f'top five trending tv-show this week: {top_five_tv}')"
   ]
  },
  {
   "cell_type": "markdown",
   "metadata": {},
   "source": [
    "## People"
   ]
  },
  {
   "cell_type": "code",
   "execution_count": 46,
   "metadata": {},
   "outputs": [],
   "source": [
    "# Setting up Request URL\n",
    "base = \"https://api.themoviedb.org/3\"\n",
    "url_person = \"/trending/person/week\"\n",
    "params = f'?api_key={api_key}'"
   ]
  },
  {
   "cell_type": "code",
   "execution_count": 47,
   "metadata": {},
   "outputs": [],
   "source": [
    "# Sending request\n",
    "res = requests.get(base+url_person+params)"
   ]
  },
  {
   "cell_type": "code",
   "execution_count": 48,
   "metadata": {},
   "outputs": [
    {
     "data": {
      "text/plain": [
       "<Response [200]>"
      ]
     },
     "execution_count": 48,
     "metadata": {},
     "output_type": "execute_result"
    }
   ],
   "source": [
    "# check request status\n",
    "res"
   ]
  },
  {
   "cell_type": "code",
   "execution_count": 49,
   "metadata": {},
   "outputs": [],
   "source": [
    "# Convert to json()\n",
    "result = res.json()"
   ]
  },
  {
   "cell_type": "code",
   "execution_count": 50,
   "metadata": {},
   "outputs": [
    {
     "name": "stdout",
     "output_type": "stream",
     "text": [
      "top five trending people this week: ['Tom Hanks', 'Jackie Chan', 'Quentin Tarantino', 'Brad Pitt', 'Keanu Reeves']\n"
     ]
    }
   ],
   "source": [
    "# Find top 5 TV\n",
    "top_five_person = []\n",
    "for i in range(5):\n",
    "    top_five_person.append(result['results'][i]['name'])\n",
    "\n",
    "print(f'top five trending people this week: {top_five_person}')"
   ]
  }
 ],
 "metadata": {
  "kernelspec": {
   "display_name": "Python 3",
   "language": "python",
   "name": "python3"
  },
  "language_info": {
   "codemirror_mode": {
    "name": "ipython",
    "version": 3
   },
   "file_extension": ".py",
   "mimetype": "text/x-python",
   "name": "python",
   "nbconvert_exporter": "python",
   "pygments_lexer": "ipython3",
   "version": "3.8.5"
  }
 },
 "nbformat": 4,
 "nbformat_minor": 4
}
