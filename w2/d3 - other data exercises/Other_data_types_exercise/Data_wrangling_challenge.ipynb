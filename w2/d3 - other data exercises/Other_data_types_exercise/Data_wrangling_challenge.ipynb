{
 "cells": [
  {
   "cell_type": "code",
   "execution_count": 3,
   "metadata": {},
   "outputs": [
    {
     "name": "stdout",
     "output_type": "stream",
     "text": [
      "0\n",
      "1\n",
      "2\n",
      "3\n",
      "4\n",
      "5\n",
      "6\n",
      "7\n"
     ]
    }
   ],
   "source": [
    "for i in range(8):\n",
    "    print(i)"
   ]
  },
  {
   "cell_type": "markdown",
   "metadata": {},
   "source": [
    "# Data Wrangling Challenge\n",
    "### Pull and manipulate the API data\n",
    "\n",
    "The point of this exercise is to try data enrichment with data from external APIs. We are going to take data about car crashes in Monroe County, Indiana from 2003 to 2015 and try to figure out the weather during the accident and how many bars there are in the area. We will work with two different APIs during this challenge:\n",
    "\n",
    "- Foursquare API\n",
    "- Visual Crossing API\n",
    "\n",
    "We will try to find correlations between the severity of crash and weather/number of bars in the area. To indicate the severity of a crash, we will use column `Injury Type`."
   ]
  },
  {
   "cell_type": "markdown",
   "metadata": {},
   "source": [
    "## Data\n",
    "\n",
    "The data for this exercise can be found [here](https://drive.google.com/file/d/1_KF9oIJV8cB8i3ngA4JPOLWIE_ETE6CJ/view?usp=sharing).\n",
    "\n",
    "Just run the cells below to get your data ready. Little help from us.\n"
   ]
  },
  {
   "cell_type": "code",
   "execution_count": 1,
   "metadata": {},
   "outputs": [],
   "source": [
    "import pandas as pd\n",
    "import os"
   ]
  },
  {
   "cell_type": "code",
   "execution_count": 2,
   "metadata": {},
   "outputs": [
    {
     "name": "stdout",
     "output_type": "stream",
     "text": [
      "(49005, 13)\n"
     ]
    },
    {
     "data": {
      "text/html": [
       "<div>\n",
       "<style scoped>\n",
       "    .dataframe tbody tr th:only-of-type {\n",
       "        vertical-align: middle;\n",
       "    }\n",
       "\n",
       "    .dataframe tbody tr th {\n",
       "        vertical-align: top;\n",
       "    }\n",
       "\n",
       "    .dataframe thead th {\n",
       "        text-align: right;\n",
       "    }\n",
       "</style>\n",
       "<table border=\"1\" class=\"dataframe\">\n",
       "  <thead>\n",
       "    <tr style=\"text-align: right;\">\n",
       "      <th></th>\n",
       "      <th>Master Record Number</th>\n",
       "      <th>Year</th>\n",
       "      <th>Month</th>\n",
       "      <th>Day</th>\n",
       "      <th>Weekend?</th>\n",
       "      <th>Hour</th>\n",
       "      <th>Collision Type</th>\n",
       "      <th>Injury Type</th>\n",
       "      <th>Primary Factor</th>\n",
       "      <th>Reported_Location</th>\n",
       "      <th>Latitude</th>\n",
       "      <th>Longitude</th>\n",
       "      <th>lld</th>\n",
       "    </tr>\n",
       "  </thead>\n",
       "  <tbody>\n",
       "    <tr>\n",
       "      <th>0</th>\n",
       "      <td>902363382</td>\n",
       "      <td>2015</td>\n",
       "      <td>1</td>\n",
       "      <td>5</td>\n",
       "      <td>Weekday</td>\n",
       "      <td>0.0</td>\n",
       "      <td>2-Car</td>\n",
       "      <td>No injury/unknown</td>\n",
       "      <td>OTHER (DRIVER) - EXPLAIN IN NARRATIVE</td>\n",
       "      <td>1ST &amp; FESS</td>\n",
       "      <td>39.159207</td>\n",
       "      <td>-86.525874</td>\n",
       "      <td>39.15920668,-86.52587356</td>\n",
       "    </tr>\n",
       "    <tr>\n",
       "      <th>1</th>\n",
       "      <td>902364268</td>\n",
       "      <td>2015</td>\n",
       "      <td>1</td>\n",
       "      <td>6</td>\n",
       "      <td>Weekday</td>\n",
       "      <td>1500.0</td>\n",
       "      <td>2-Car</td>\n",
       "      <td>No injury/unknown</td>\n",
       "      <td>FOLLOWING TOO CLOSELY</td>\n",
       "      <td>2ND &amp; COLLEGE</td>\n",
       "      <td>39.161440</td>\n",
       "      <td>-86.534848</td>\n",
       "      <td>39.16144,-86.534848</td>\n",
       "    </tr>\n",
       "    <tr>\n",
       "      <th>2</th>\n",
       "      <td>902364412</td>\n",
       "      <td>2015</td>\n",
       "      <td>1</td>\n",
       "      <td>6</td>\n",
       "      <td>Weekend</td>\n",
       "      <td>2300.0</td>\n",
       "      <td>2-Car</td>\n",
       "      <td>Non-incapacitating</td>\n",
       "      <td>DISREGARD SIGNAL/REG SIGN</td>\n",
       "      <td>BASSWOOD &amp; BLOOMFIELD</td>\n",
       "      <td>39.149780</td>\n",
       "      <td>-86.568890</td>\n",
       "      <td>39.14978027,-86.56889006</td>\n",
       "    </tr>\n",
       "    <tr>\n",
       "      <th>3</th>\n",
       "      <td>902364551</td>\n",
       "      <td>2015</td>\n",
       "      <td>1</td>\n",
       "      <td>7</td>\n",
       "      <td>Weekend</td>\n",
       "      <td>900.0</td>\n",
       "      <td>2-Car</td>\n",
       "      <td>Non-incapacitating</td>\n",
       "      <td>FAILURE TO YIELD RIGHT OF WAY</td>\n",
       "      <td>GATES &amp; JACOBS</td>\n",
       "      <td>39.165655</td>\n",
       "      <td>-86.575956</td>\n",
       "      <td>39.165655,-86.57595635</td>\n",
       "    </tr>\n",
       "    <tr>\n",
       "      <th>4</th>\n",
       "      <td>902364615</td>\n",
       "      <td>2015</td>\n",
       "      <td>1</td>\n",
       "      <td>7</td>\n",
       "      <td>Weekend</td>\n",
       "      <td>1100.0</td>\n",
       "      <td>2-Car</td>\n",
       "      <td>No injury/unknown</td>\n",
       "      <td>FAILURE TO YIELD RIGHT OF WAY</td>\n",
       "      <td>W 3RD</td>\n",
       "      <td>39.164848</td>\n",
       "      <td>-86.579625</td>\n",
       "      <td>39.164848,-86.57962482</td>\n",
       "    </tr>\n",
       "  </tbody>\n",
       "</table>\n",
       "</div>"
      ],
      "text/plain": [
       "   Master Record Number  Year  Month  Day Weekend?    Hour Collision Type  \\\n",
       "0             902363382  2015      1    5  Weekday     0.0          2-Car   \n",
       "1             902364268  2015      1    6  Weekday  1500.0          2-Car   \n",
       "2             902364412  2015      1    6  Weekend  2300.0          2-Car   \n",
       "3             902364551  2015      1    7  Weekend   900.0          2-Car   \n",
       "4             902364615  2015      1    7  Weekend  1100.0          2-Car   \n",
       "\n",
       "          Injury Type                         Primary Factor  \\\n",
       "0   No injury/unknown  OTHER (DRIVER) - EXPLAIN IN NARRATIVE   \n",
       "1   No injury/unknown                  FOLLOWING TOO CLOSELY   \n",
       "2  Non-incapacitating              DISREGARD SIGNAL/REG SIGN   \n",
       "3  Non-incapacitating          FAILURE TO YIELD RIGHT OF WAY   \n",
       "4   No injury/unknown          FAILURE TO YIELD RIGHT OF WAY   \n",
       "\n",
       "       Reported_Location   Latitude  Longitude                       lld  \n",
       "0             1ST & FESS  39.159207 -86.525874  39.15920668,-86.52587356  \n",
       "1          2ND & COLLEGE  39.161440 -86.534848       39.16144,-86.534848  \n",
       "2  BASSWOOD & BLOOMFIELD  39.149780 -86.568890  39.14978027,-86.56889006  \n",
       "3         GATES & JACOBS  39.165655 -86.575956    39.165655,-86.57595635  \n",
       "4                  W 3RD  39.164848 -86.579625    39.164848,-86.57962482  "
      ]
     },
     "execution_count": 2,
     "metadata": {},
     "output_type": "execute_result"
    }
   ],
   "source": [
    "data = pd.read_csv(\"C:/Users/Tim/Desktop/lighthouse/w2/d3/Other_data_types_exercise/w2d3challenge.csv\", encoding=\"unicode_escape\")\n",
    "# ========================\n",
    "# preparing data\n",
    "data.dropna(subset=['Latitude', 'Longitude'], inplace=True)\n",
    "# creation of variable with lon and lat together\n",
    "data['lld'] = data['Latitude'].astype(str) + ',' + data['Longitude'].astype(str)\n",
    "data = data[data['lld'] != '0.0,0.0']\n",
    "print(data.shape)\n",
    "data.head()"
   ]
  },
  {
   "cell_type": "code",
   "execution_count": null,
   "metadata": {},
   "outputs": [],
   "source": []
  },
  {
   "cell_type": "markdown",
   "metadata": {},
   "source": [
    "# Foursquare API\n",
    "\n",
    "Foursquare API documentation is [here](https://developer.foursquare.com/)\n",
    "\n",
    "1. Start a foursquare application and get your keys.\n",
    "2. For each crash, create the function **get_venues** that will pull bars in the radius of 5km around the crash\n",
    "\n",
    "#### example\n",
    "`get_venues('48.146394, 17.107969')`\n",
    "\n",
    "3. Find a relationship (if there is any) between number of bars in the area and severity of the crash.\n",
    "\n",
    "HINTs: \n",
    "- check out python package \"foursquare\" (no need to send HTTP requests directly with library `requests`)\n",
    "- **categoryId** for bars and nightlife needs to be found in the [foursquare API documentation](https://developer.foursquare.com/docs/api-reference/venues/search/)"
   ]
  },
  {
   "cell_type": "code",
   "execution_count": 3,
   "metadata": {},
   "outputs": [],
   "source": [
    "#set the keys\n",
    "#foursquare_id = os.environ[\"\"]\n",
    "#foursquare_secret = os.environ[\"\"]\n",
    "fs_id = \"LI2VHLBCPFJEO1D1O5EMPDXA233B5QP4FGH442ERLK4INCNQ\"\n",
    "fs_s = \"BAFOMI5B3PTIJFL5FVJIB0I4ZBQGXYXFPCAUQWHWT5EI3GWA\""
   ]
  },
  {
   "cell_type": "code",
   "execution_count": 4,
   "metadata": {},
   "outputs": [],
   "source": [
    "#client = foursquare.Foursquare(client_id='fs_id', client_secret='fs_s')"
   ]
  },
  {
   "cell_type": "code",
   "execution_count": 15,
   "metadata": {},
   "outputs": [],
   "source": [
    "#https://stackoverflow.com/questions/19412462/getting-distance-between-two-points-based-on-latitude-longitude/43211266#43211266\n",
    "#import geopy.distance\n",
    "import requests\n",
    "from IPython.display import JSON\n",
    "import json\n",
    "from pandas import json_normalize  \n",
    "\n",
    "\n",
    "#for all crashes\n",
    "\n",
    "# resdict = {}\n",
    "# for coord in data[\"lld\"]:\n",
    "#         param = {\n",
    "#             client_id = fs_id,\n",
    "#             client_secret = fs_s,\n",
    "#             ll = coord,\n",
    "#             categoryId = \"4d4b7105d754a06376d81259\",\n",
    "#             radius = \"5000\",\n",
    "#         }\n",
    "#         resdict[coord] = requests.get(url+param)\n",
    "# \n",
    "\n",
    "\n",
    "def get_venues(x):\n",
    "    url = \"https://api.foursquare.com/v2/venues/search?\"\n",
    "    categoryId = \"4bf58dd8d48988d116941735\"\n",
    "    radius = \"5000\"\n",
    "    v = \"20201231\"\n",
    "    param = f'll={x}&categoryId={categoryId}&radius={radius}&v={v}&client_id={fs_id}&client_secret={fs_s}'\n",
    "    res = requests.get(url+param)\n",
    "    result = res.json()\n",
    "#   df = json_normalize(data=result['response'],record_path='venues')\n",
    "#   n_bars = df['id'].count()\n",
    "#   return n_bars\n",
    "    bars = [venue['name'] for venue in result['response']['venues']]\n",
    "    num_bars = len(bars)\n",
    "    return num_bars"
   ]
  },
  {
   "cell_type": "code",
   "execution_count": 16,
   "metadata": {
    "scrolled": true
   },
   "outputs": [
    {
     "data": {
      "text/plain": [
       "{'meta': {'code': 429,\n",
       "  'errorType': 'quota_exceeded',\n",
       "  'errorDetail': 'Quota exceeded',\n",
       "  'requestId': '5fffe30fc754223a4e07345b'},\n",
       " 'response': {}}"
      ]
     },
     "execution_count": 16,
     "metadata": {},
     "output_type": "execute_result"
    }
   ],
   "source": [
    "get_venues('48.146394, 17.107969')\n"
   ]
  },
  {
   "cell_type": "code",
   "execution_count": 99,
   "metadata": {
    "scrolled": true
   },
   "outputs": [
    {
     "data": {
      "text/plain": [
       "30"
      ]
     },
     "execution_count": 99,
     "metadata": {},
     "output_type": "execute_result"
    }
   ],
   "source": [
    "#y = result['response']['venues']\n",
    "#y\n",
    "df['id'].count()"
   ]
  },
  {
   "cell_type": "code",
   "execution_count": 112,
   "metadata": {
    "scrolled": true
   },
   "outputs": [
    {
     "data": {
      "text/plain": [
       "30"
      ]
     },
     "execution_count": 112,
     "metadata": {},
     "output_type": "execute_result"
    }
   ],
   "source": [
    "json_normalize(data=result['response'],record_path='venues')['id'].count()"
   ]
  },
  {
   "cell_type": "code",
   "execution_count": 107,
   "metadata": {},
   "outputs": [],
   "source": [
    "#Find a relationship (if there is any) between number of bars in the area and severity of the crash\n",
    "# def injrel(x = data[\"lld\"]):\n",
    "#     url = \"https://api.foursquare.com/v2/venues/search?\"\n",
    "#     categoryId = \"4bf58dd8d48988d116941735\"\n",
    "#     radius = \"5000\"\n",
    "#     v = \"20201231\"\n",
    "#     param = f'll={x}&categoryId={categoryId}&radius={radius}&v={v}&client_id={fs_id}&client_secret={fs_s}'\n",
    "#     resdict = {}\n",
    "#     for coord in x:\n",
    "#         res = requests.get(url+param)\n",
    "#         result = res.json()\n",
    "#         df = json_normalize(data=result['response'],record_path='venues')\n",
    "#         resdict[coord] = df['id'].count()\n",
    "#     data['n_bars']=data['lld'].map(resdict)\n",
    "#     return data.groupby(['Injury Type'])['n_bars'].sum()\n",
    "# injrel()"
   ]
  },
  {
   "cell_type": "code",
   "execution_count": 114,
   "metadata": {},
   "outputs": [],
   "source": [
    "n_bars = []\n",
    "for i in data[\"lld\"]:\n",
    "    get_venues(i)\n",
    "    n_bars.append(num_bars)\n",
    "    data['n_bars'] = n_bars\n",
    "\n",
    "df = pd.DataFrame([data['Injury Type'],data['n_bars'],data['lld']])\n",
    "df\n",
    "\n",
    "\n",
    "# for i in data[\"lld\"]:\n",
    "#     get_venues(i)\n",
    "#     data['n_bars'] = json_normalize(data=result['response'],record_path='venues')['id'].count()"
   ]
  },
  {
   "cell_type": "code",
   "execution_count": null,
   "metadata": {},
   "outputs": [],
   "source": []
  },
  {
   "cell_type": "code",
   "execution_count": null,
   "metadata": {},
   "outputs": [],
   "source": []
  },
  {
   "cell_type": "markdown",
   "metadata": {},
   "source": [
    "# Visual Crossing API\n",
    "\n",
    "Virtual Crossing API documentation is [here](https://www.visualcrossing.com/resources/documentation/)\n",
    "\n",
    "1. Sign up for FREE api key if you haven't done that before.\n",
    "2. For each crush, get the weather for the location and date.\n",
    "3. Find a relationship between the weather and severity of the crash.\n",
    "\n",
    "Hints:\n",
    "\n",
    "* randomly sample only 250 or so (due to API limits), or pull weather only for smaller sample of crashes\n",
    "* for sending HTTP requests check out \"requests\" library [here](http://docs.python-requests.org/en/master/)\n"
   ]
  },
  {
   "cell_type": "code",
   "execution_count": 193,
   "metadata": {},
   "outputs": [],
   "source": [
    "import requests\n",
    "import time\n",
    "api_key = \"NJPND9WTJDMA8PEWHCG65VFNJ\"\n",
    "x = data['lld']\n",
    "y = df['Datetime']=(pd.to_datetime(df['Year'].astype(str) + '-' +\n",
    "                                  df['Month'].astype(str) + '-' +\n",
    "                                  df['Date'].astype(str))\n",
    "\n",
    "               "
   ]
  },
  {
   "cell_type": "code",
   "execution_count": null,
   "metadata": {},
   "outputs": [],
   "source": [
    "#https://www.visualcrossing.com/weather/weather-data-services#/editDataDefinition\n",
    "def get_weather(x,y): #location={lat}%2C{lon}\n",
    "    url = f\"https://weather.visualcrossing.com/VisualCrossingWebServices/rest/services/timeline/location={lld}/date1={Datetime}?unitGroup=metric&key=NJPND9WTJDMA8PEWHCG65VFNJ&include=obs\"\n",
    "    res = requests.get(url)\n",
    "    result = res.json()\n",
    "    weathdict = {}\n",
    "    #for loc in x:\n",
    "        #for time in y:\n",
    "    precip = [weather['precip'] for weather in result['days']]\n",
    "    #could pick these too\n",
    "    #snow = [weather2['snowdepth'] for weather2 in result['days']]\n",
    "    #vis = [weather3['visibility'] for weather3 in result['days']]\n",
    "    return precip"
   ]
  },
  {
   "cell_type": "code",
   "execution_count": null,
   "metadata": {},
   "outputs": [],
   "source": [
    "weath = []\n",
    "for j,k in data[[\"lld\",\"Datetime\"]]:\n",
    "    get_weather(j,k)\n",
    "    weath.append(precip)\n",
    "    data['weath'] = weath\n",
    "    \n",
    "df2 = pd.DataFrame([data['Injury Type'],data['weath'],data['lld']])\n",
    "df2"
   ]
  }
 ],
 "metadata": {
  "kernelspec": {
   "display_name": "Python 3",
   "language": "python",
   "name": "python3"
  },
  "language_info": {
   "codemirror_mode": {
    "name": "ipython",
    "version": 3
   },
   "file_extension": ".py",
   "mimetype": "text/x-python",
   "name": "python",
   "nbconvert_exporter": "python",
   "pygments_lexer": "ipython3",
   "version": "3.8.5"
  }
 },
 "nbformat": 4,
 "nbformat_minor": 4
}
