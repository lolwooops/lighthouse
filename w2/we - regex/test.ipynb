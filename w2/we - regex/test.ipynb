{
 "cells": [
  {
   "cell_type": "code",
   "execution_count": 1,
   "metadata": {},
   "outputs": [],
   "source": [
    "import re"
   ]
  },
  {
   "cell_type": "code",
   "execution_count": 2,
   "metadata": {},
   "outputs": [
    {
     "name": "stdout",
     "output_type": "stream",
     "text": [
      "Match at index: 0, 7\n",
      "Match at index: 9, 17\n",
      "Match at index: 19, 25\n"
     ]
    }
   ],
   "source": [
    "regex = r\"([a-zA-Z]+) \\d+\"\n",
    "matches = re.finditer(regex, \"June 24, August 9, Dec 12\")\n",
    "for match in matches:\n",
    "    # This will now print:\n",
    "    #   0 7\n",
    "    #   9 17\n",
    "    #   19 25\n",
    "    # which corresponds with the start and end of each match in the input string\n",
    "    print(\"Match at index: %s, %s\" % (match.start(), match.end()))"
   ]
  },
  {
   "cell_type": "code",
   "execution_count": 8,
   "metadata": {},
   "outputs": [
    {
     "name": "stdout",
     "output_type": "stream",
     "text": [
      "Full match: June 24\n",
      "Full match: August 9\n",
      "Full match: Dec 12\n"
     ]
    }
   ],
   "source": [
    "regex = r\"[a-zA-Z]+ \\d+\"\n",
    "matches = re.findall(regex, \"June 24, August 9, Dec 12\")\n",
    "for match in matches:\n",
    "    print(\"Full match: %s\" % (match))"
   ]
  },
  {
   "cell_type": "code",
   "execution_count": 4,
   "metadata": {
    "scrolled": true
   },
   "outputs": [
    {
     "name": "stdout",
     "output_type": "stream",
     "text": [
      "Match month: June\n",
      "Match month: August\n",
      "Match month: Dec\n"
     ]
    }
   ],
   "source": [
    "regex = r\"([a-zA-Z]+) \\d+\"\n",
    "matches = re.findall(regex, \"June 24, August 9, Dec 12\")\n",
    "for match in matches:\n",
    "    print(\"Match month: %s\" % (match))"
   ]
  },
  {
   "cell_type": "code",
   "execution_count": 18,
   "metadata": {},
   "outputs": [
    {
     "name": "stdout",
     "output_type": "stream",
     "text": [
      "\u0000 Earth World\n"
     ]
    }
   ],
   "source": [
    "regex = re.compile(r\"(\\w+) World\")\n",
    "print(regex.sub(r\"\\0 Earth\", \"Hello World World\"))"
   ]
  },
  {
   "cell_type": "code",
   "execution_count": null,
   "metadata": {},
   "outputs": [],
   "source": []
  }
 ],
 "metadata": {
  "kernelspec": {
   "display_name": "Python 3",
   "language": "python",
   "name": "python3"
  },
  "language_info": {
   "codemirror_mode": {
    "name": "ipython",
    "version": 3
   },
   "file_extension": ".py",
   "mimetype": "text/x-python",
   "name": "python",
   "nbconvert_exporter": "python",
   "pygments_lexer": "ipython3",
   "version": "3.8.5"
  }
 },
 "nbformat": 4,
 "nbformat_minor": 4
}
