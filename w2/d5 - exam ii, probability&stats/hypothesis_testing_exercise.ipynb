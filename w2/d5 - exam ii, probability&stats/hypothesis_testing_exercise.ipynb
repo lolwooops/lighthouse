{
 "cells": [
  {
   "cell_type": "code",
   "execution_count": 1,
   "metadata": {},
   "outputs": [],
   "source": [
    "import pandas as pd\n",
    "import numpy as np\n",
    "# package with hypothesis tests\n",
    "import scipy.stats as st"
   ]
  },
  {
   "cell_type": "markdown",
   "metadata": {},
   "source": [
    "## Data"
   ]
  },
  {
   "cell_type": "markdown",
   "metadata": {},
   "source": [
    "You can download the data from [**here**](https://drive.google.com/file/d/19b9lHlkixZhs8yka8zV0QFieao66dUcY/view?usp=sharing). There are results of NBA games from seasons 2013 to 2015."
   ]
  },
  {
   "cell_type": "code",
   "execution_count": 2,
   "metadata": {},
   "outputs": [
    {
     "data": {
      "text/html": [
       "<div>\n",
       "<style scoped>\n",
       "    .dataframe tbody tr th:only-of-type {\n",
       "        vertical-align: middle;\n",
       "    }\n",
       "\n",
       "    .dataframe tbody tr th {\n",
       "        vertical-align: top;\n",
       "    }\n",
       "\n",
       "    .dataframe thead th {\n",
       "        text-align: right;\n",
       "    }\n",
       "</style>\n",
       "<table border=\"1\" class=\"dataframe\">\n",
       "  <thead>\n",
       "    <tr style=\"text-align: right;\">\n",
       "      <th></th>\n",
       "      <th>SEASON_ID</th>\n",
       "      <th>TEAM_ID</th>\n",
       "      <th>TEAM_ABBREVIATION</th>\n",
       "      <th>TEAM_NAME</th>\n",
       "      <th>GAME_ID</th>\n",
       "      <th>GAME_DATE</th>\n",
       "      <th>MATCHUP</th>\n",
       "      <th>WL</th>\n",
       "      <th>MIN</th>\n",
       "      <th>PTS</th>\n",
       "      <th>...</th>\n",
       "      <th>FT_PCT</th>\n",
       "      <th>OREB</th>\n",
       "      <th>DREB</th>\n",
       "      <th>REB</th>\n",
       "      <th>AST</th>\n",
       "      <th>STL</th>\n",
       "      <th>BLK</th>\n",
       "      <th>TOV</th>\n",
       "      <th>PF</th>\n",
       "      <th>PLUS_MINUS</th>\n",
       "    </tr>\n",
       "  </thead>\n",
       "  <tbody>\n",
       "    <tr>\n",
       "      <th>0</th>\n",
       "      <td>22015</td>\n",
       "      <td>1610612750</td>\n",
       "      <td>MIN</td>\n",
       "      <td>Minnesota Timberwolves</td>\n",
       "      <td>21501226</td>\n",
       "      <td>2016-04-13</td>\n",
       "      <td>MIN vs. NOP</td>\n",
       "      <td>W</td>\n",
       "      <td>240</td>\n",
       "      <td>144</td>\n",
       "      <td>...</td>\n",
       "      <td>0.826</td>\n",
       "      <td>5</td>\n",
       "      <td>38</td>\n",
       "      <td>43</td>\n",
       "      <td>41</td>\n",
       "      <td>14</td>\n",
       "      <td>8</td>\n",
       "      <td>13</td>\n",
       "      <td>20</td>\n",
       "      <td>35.0</td>\n",
       "    </tr>\n",
       "    <tr>\n",
       "      <th>1</th>\n",
       "      <td>22015</td>\n",
       "      <td>1610612749</td>\n",
       "      <td>MIL</td>\n",
       "      <td>Milwaukee Bucks</td>\n",
       "      <td>21501225</td>\n",
       "      <td>2016-04-13</td>\n",
       "      <td>MIL vs. IND</td>\n",
       "      <td>L</td>\n",
       "      <td>240</td>\n",
       "      <td>92</td>\n",
       "      <td>...</td>\n",
       "      <td>0.846</td>\n",
       "      <td>7</td>\n",
       "      <td>36</td>\n",
       "      <td>43</td>\n",
       "      <td>23</td>\n",
       "      <td>8</td>\n",
       "      <td>3</td>\n",
       "      <td>15</td>\n",
       "      <td>15</td>\n",
       "      <td>-5.0</td>\n",
       "    </tr>\n",
       "    <tr>\n",
       "      <th>2</th>\n",
       "      <td>22015</td>\n",
       "      <td>1610612738</td>\n",
       "      <td>BOS</td>\n",
       "      <td>Boston Celtics</td>\n",
       "      <td>21501217</td>\n",
       "      <td>2016-04-13</td>\n",
       "      <td>BOS vs. MIA</td>\n",
       "      <td>W</td>\n",
       "      <td>240</td>\n",
       "      <td>98</td>\n",
       "      <td>...</td>\n",
       "      <td>0.864</td>\n",
       "      <td>10</td>\n",
       "      <td>29</td>\n",
       "      <td>39</td>\n",
       "      <td>20</td>\n",
       "      <td>7</td>\n",
       "      <td>3</td>\n",
       "      <td>7</td>\n",
       "      <td>20</td>\n",
       "      <td>10.0</td>\n",
       "    </tr>\n",
       "    <tr>\n",
       "      <th>3</th>\n",
       "      <td>22015</td>\n",
       "      <td>1610612747</td>\n",
       "      <td>LAL</td>\n",
       "      <td>Los Angeles Lakers</td>\n",
       "      <td>21501228</td>\n",
       "      <td>2016-04-13</td>\n",
       "      <td>LAL vs. UTA</td>\n",
       "      <td>W</td>\n",
       "      <td>239</td>\n",
       "      <td>101</td>\n",
       "      <td>...</td>\n",
       "      <td>0.867</td>\n",
       "      <td>8</td>\n",
       "      <td>39</td>\n",
       "      <td>47</td>\n",
       "      <td>19</td>\n",
       "      <td>6</td>\n",
       "      <td>3</td>\n",
       "      <td>13</td>\n",
       "      <td>17</td>\n",
       "      <td>5.0</td>\n",
       "    </tr>\n",
       "    <tr>\n",
       "      <th>4</th>\n",
       "      <td>22015</td>\n",
       "      <td>1610612739</td>\n",
       "      <td>CLE</td>\n",
       "      <td>Cleveland Cavaliers</td>\n",
       "      <td>21501220</td>\n",
       "      <td>2016-04-13</td>\n",
       "      <td>CLE vs. DET</td>\n",
       "      <td>L</td>\n",
       "      <td>265</td>\n",
       "      <td>110</td>\n",
       "      <td>...</td>\n",
       "      <td>0.733</td>\n",
       "      <td>8</td>\n",
       "      <td>35</td>\n",
       "      <td>43</td>\n",
       "      <td>21</td>\n",
       "      <td>4</td>\n",
       "      <td>7</td>\n",
       "      <td>10</td>\n",
       "      <td>23</td>\n",
       "      <td>-2.0</td>\n",
       "    </tr>\n",
       "  </tbody>\n",
       "</table>\n",
       "<p>5 rows × 28 columns</p>\n",
       "</div>"
      ],
      "text/plain": [
       "   SEASON_ID     TEAM_ID TEAM_ABBREVIATION               TEAM_NAME   GAME_ID  \\\n",
       "0      22015  1610612750               MIN  Minnesota Timberwolves  21501226   \n",
       "1      22015  1610612749               MIL         Milwaukee Bucks  21501225   \n",
       "2      22015  1610612738               BOS          Boston Celtics  21501217   \n",
       "3      22015  1610612747               LAL      Los Angeles Lakers  21501228   \n",
       "4      22015  1610612739               CLE     Cleveland Cavaliers  21501220   \n",
       "\n",
       "    GAME_DATE      MATCHUP WL  MIN  PTS  ...  FT_PCT  OREB  DREB  REB  AST  \\\n",
       "0  2016-04-13  MIN vs. NOP  W  240  144  ...   0.826     5    38   43   41   \n",
       "1  2016-04-13  MIL vs. IND  L  240   92  ...   0.846     7    36   43   23   \n",
       "2  2016-04-13  BOS vs. MIA  W  240   98  ...   0.864    10    29   39   20   \n",
       "3  2016-04-13  LAL vs. UTA  W  239  101  ...   0.867     8    39   47   19   \n",
       "4  2016-04-13  CLE vs. DET  L  265  110  ...   0.733     8    35   43   21   \n",
       "\n",
       "   STL  BLK  TOV  PF  PLUS_MINUS  \n",
       "0   14    8   13  20        35.0  \n",
       "1    8    3   15  15        -5.0  \n",
       "2    7    3    7  20        10.0  \n",
       "3    6    3   13  17         5.0  \n",
       "4    4    7   10  23        -2.0  \n",
       "\n",
       "[5 rows x 28 columns]"
      ]
     },
     "execution_count": 2,
     "metadata": {},
     "output_type": "execute_result"
    }
   ],
   "source": [
    "nba = pd.read_csv(\"C:/Users/Tim/Desktop/lighthouse/w2/d5/probability_and_statistics_exercise/nba.csv\", sep=';')\n",
    "df = pd.DataFrame(nba)\n",
    "df.head()"
   ]
  },
  {
   "cell_type": "code",
   "execution_count": 3,
   "metadata": {},
   "outputs": [
    {
     "name": "stdout",
     "output_type": "stream",
     "text": [
      "SEASON_ID\n",
      "TEAM_ID\n",
      "TEAM_ABBREVIATION\n",
      "TEAM_NAME\n",
      "GAME_ID\n",
      "GAME_DATE\n",
      "MATCHUP\n",
      "WL\n",
      "MIN\n",
      "PTS\n",
      "FGM\n",
      "FGA\n",
      "FG_PCT\n",
      "FG3M\n",
      "FG3A\n",
      "FG3_PCT\n",
      "FTM\n",
      "FTA\n",
      "FT_PCT\n",
      "OREB\n",
      "DREB\n",
      "REB\n",
      "AST\n",
      "STL\n",
      "BLK\n",
      "TOV\n",
      "PF\n",
      "PLUS_MINUS\n"
     ]
    }
   ],
   "source": [
    "for cols in df.columns:\n",
    "    print(cols)"
   ]
  },
  {
   "cell_type": "markdown",
   "metadata": {},
   "source": [
    "### Split the data into 3 separate files according to the season!"
   ]
  },
  {
   "cell_type": "code",
   "execution_count": 4,
   "metadata": {},
   "outputs": [
    {
     "data": {
      "text/plain": [
       "SEASON_ID\n",
       "22013    2460\n",
       "22014    2460\n",
       "22015    2460\n",
       "Name: GAME_ID, dtype: int64"
      ]
     },
     "execution_count": 4,
     "metadata": {},
     "output_type": "execute_result"
    }
   ],
   "source": [
    "df.groupby(['SEASON_ID'])['GAME_ID'].count()"
   ]
  },
  {
   "cell_type": "code",
   "execution_count": 5,
   "metadata": {},
   "outputs": [],
   "source": [
    "df2013 = df[df['SEASON_ID']==22013]\n",
    "df2013.to_csv('nba2013.csv',index=False)"
   ]
  },
  {
   "cell_type": "code",
   "execution_count": 6,
   "metadata": {},
   "outputs": [],
   "source": [
    "df2014 = df[df['SEASON_ID']==22014]\n",
    "df2014.to_csv('nba2014.csv',index=False)"
   ]
  },
  {
   "cell_type": "code",
   "execution_count": 7,
   "metadata": {},
   "outputs": [],
   "source": [
    "df2015 = df[df['SEASON_ID']==22015]\n",
    "df2015.to_csv('nba2015.csv',index=False)"
   ]
  },
  {
   "cell_type": "markdown",
   "metadata": {},
   "source": [
    "### Test, if the hypothesis that offensive production of Cleveland Cavaliers and Golden State Warriors (teams from finals) was distributed equally in 2015/2016\n",
    "\n",
    "Do two separate tests for PTS (Points) and FG_PCT (Field Goal Percentage)"
   ]
  },
  {
   "cell_type": "code",
   "execution_count": 8,
   "metadata": {},
   "outputs": [
    {
     "data": {
      "text/plain": [
       "KstestResult(statistic=0.4024390243902439, pvalue=2.5400281722991783e-06)"
      ]
     },
     "execution_count": 8,
     "metadata": {},
     "output_type": "execute_result"
    }
   ],
   "source": [
    "st.ks_2samp(df2015[df2015['TEAM_NAME']==\"Cleveland Cavaliers\"]['PTS'],df2015[df2015['TEAM_NAME']==\"Golden State Warriors\"]['PTS'])\n",
    "\n",
    "#cannot reject the null hypothesis that PTS for both teams were drawn from the same cont dist"
   ]
  },
  {
   "cell_type": "code",
   "execution_count": 9,
   "metadata": {},
   "outputs": [
    {
     "data": {
      "text/plain": [
       "KstestResult(statistic=0.25609756097560976, pvalue=0.008991166830753808)"
      ]
     },
     "execution_count": 9,
     "metadata": {},
     "output_type": "execute_result"
    }
   ],
   "source": [
    "st.ks_2samp(df2015[df2015['TEAM_NAME']==\"Cleveland Cavaliers\"]['FG_PCT'],df2015[df2015['TEAM_NAME']==\"Golden State Warriors\"]['FG_PCT'])\n",
    "\n",
    "##reject the null hypothesis that FG_PCT for both teams were drawn from the same cont dist"
   ]
  },
  {
   "cell_type": "code",
   "execution_count": null,
   "metadata": {},
   "outputs": [],
   "source": []
  },
  {
   "cell_type": "code",
   "execution_count": 10,
   "metadata": {},
   "outputs": [
    {
     "data": {
      "text/plain": [
       "4       2016-04-13\n",
       "40      2016-04-11\n",
       "78      2016-04-09\n",
       "127     2016-04-06\n",
       "151     2016-04-05\n",
       "           ...    \n",
       "2336    2015-11-04\n",
       "2364    2015-11-02\n",
       "2399    2015-10-30\n",
       "2440    2015-10-28\n",
       "2456    2015-10-27\n",
       "Name: GAME_DATE, Length: 82, dtype: object"
      ]
     },
     "execution_count": 10,
     "metadata": {},
     "output_type": "execute_result"
    }
   ],
   "source": [
    "df2015[df2015['TEAM_NAME']==\"Cleveland Cavaliers\"]['GAME_DATE']"
   ]
  },
  {
   "cell_type": "markdown",
   "metadata": {},
   "source": [
    "### Test whether production (PTS) of Cleveland changes significantly before and after coach change in 2015/2016 - Use ony data from seasons 2014/2015 and 2015/2016 - Those are when cleveland was coached by Blatt\n",
    "#### Coach Blatt was fired on 24th of Jan, 2016\n",
    "\n",
    "We have two possible solutions here:\n",
    "- take the same amount of games from before and after and try t-test.\n",
    "- take all the games from before and after and look for the right test to compare two samples with different sizes"
   ]
  },
  {
   "cell_type": "code",
   "execution_count": 11,
   "metadata": {},
   "outputs": [],
   "source": [
    "dfq = df[(df['TEAM_NAME']==\"Cleveland Cavaliers\")&(df['GAME_DATE']>\"2016-01-24\")]\n",
    "dfp = df[(df['TEAM_NAME']==\"Cleveland Cavaliers\")&(df['GAME_DATE']<\"2016-01-24\")]"
   ]
  },
  {
   "cell_type": "code",
   "execution_count": 12,
   "metadata": {},
   "outputs": [
    {
     "data": {
      "text/plain": [
       "40"
      ]
     },
     "execution_count": 12,
     "metadata": {},
     "output_type": "execute_result"
    }
   ],
   "source": [
    "df[(df['TEAM_NAME']==\"Cleveland Cavaliers\")&(df['GAME_DATE']>\"2016-01-24\")]['GAME_ID'].count()"
   ]
  },
  {
   "cell_type": "code",
   "execution_count": 13,
   "metadata": {},
   "outputs": [
    {
     "data": {
      "text/plain": [
       "40"
      ]
     },
     "execution_count": 13,
     "metadata": {},
     "output_type": "execute_result"
    }
   ],
   "source": [
    "dfp = dfp.iloc[:40]\n",
    "dfp['GAME_ID'].count()"
   ]
  },
  {
   "cell_type": "code",
   "execution_count": 14,
   "metadata": {},
   "outputs": [
    {
     "data": {
      "text/plain": [
       "Ttest_indResult(statistic=-2.911228614180665, pvalue=0.004774658460978929)"
      ]
     },
     "execution_count": 14,
     "metadata": {},
     "output_type": "execute_result"
    }
   ],
   "source": [
    "st.ttest_ind(dfp[\"PTS\"],dfq[\"PTS\"],equal_var=False)\n",
    "\n",
    "#pts change significant after change"
   ]
  },
  {
   "cell_type": "markdown",
   "metadata": {},
   "source": [
    "Download the same dataset for playoffs games in 2016 from [**here**](https://drive.google.com/file/d/1jY57bAOZp9y83b4W2PAoSH1uFARaxxls/view?usp=sharing)"
   ]
  },
  {
   "cell_type": "code",
   "execution_count": 15,
   "metadata": {},
   "outputs": [
    {
     "data": {
      "text/html": [
       "<div>\n",
       "<style scoped>\n",
       "    .dataframe tbody tr th:only-of-type {\n",
       "        vertical-align: middle;\n",
       "    }\n",
       "\n",
       "    .dataframe tbody tr th {\n",
       "        vertical-align: top;\n",
       "    }\n",
       "\n",
       "    .dataframe thead th {\n",
       "        text-align: right;\n",
       "    }\n",
       "</style>\n",
       "<table border=\"1\" class=\"dataframe\">\n",
       "  <thead>\n",
       "    <tr style=\"text-align: right;\">\n",
       "      <th></th>\n",
       "      <th>SEASON_ID</th>\n",
       "      <th>TEAM_ID</th>\n",
       "      <th>TEAM_ABBREVIATION</th>\n",
       "      <th>TEAM_NAME</th>\n",
       "      <th>GAME_ID</th>\n",
       "      <th>GAME_DATE</th>\n",
       "      <th>MATCHUP</th>\n",
       "      <th>WL</th>\n",
       "      <th>MIN</th>\n",
       "      <th>PTS</th>\n",
       "      <th>...</th>\n",
       "      <th>FT_PCT</th>\n",
       "      <th>OREB</th>\n",
       "      <th>DREB</th>\n",
       "      <th>REB</th>\n",
       "      <th>AST</th>\n",
       "      <th>STL</th>\n",
       "      <th>BLK</th>\n",
       "      <th>TOV</th>\n",
       "      <th>PF</th>\n",
       "      <th>PLUS_MINUS</th>\n",
       "    </tr>\n",
       "  </thead>\n",
       "  <tbody>\n",
       "    <tr>\n",
       "      <th>0</th>\n",
       "      <td>42015</td>\n",
       "      <td>1610612739</td>\n",
       "      <td>CLE</td>\n",
       "      <td>Cleveland Cavaliers</td>\n",
       "      <td>41500407</td>\n",
       "      <td>2016-06-19</td>\n",
       "      <td>CLE @ GSW</td>\n",
       "      <td>W</td>\n",
       "      <td>241</td>\n",
       "      <td>93</td>\n",
       "      <td>...</td>\n",
       "      <td>0.840</td>\n",
       "      <td>9</td>\n",
       "      <td>39</td>\n",
       "      <td>48</td>\n",
       "      <td>17</td>\n",
       "      <td>7</td>\n",
       "      <td>6</td>\n",
       "      <td>11</td>\n",
       "      <td>15</td>\n",
       "      <td>4.0</td>\n",
       "    </tr>\n",
       "    <tr>\n",
       "      <th>1</th>\n",
       "      <td>42015</td>\n",
       "      <td>1610612744</td>\n",
       "      <td>GSW</td>\n",
       "      <td>Golden State Warriors</td>\n",
       "      <td>41500407</td>\n",
       "      <td>2016-06-19</td>\n",
       "      <td>GSW vs. CLE</td>\n",
       "      <td>L</td>\n",
       "      <td>239</td>\n",
       "      <td>89</td>\n",
       "      <td>...</td>\n",
       "      <td>0.769</td>\n",
       "      <td>7</td>\n",
       "      <td>32</td>\n",
       "      <td>39</td>\n",
       "      <td>22</td>\n",
       "      <td>7</td>\n",
       "      <td>5</td>\n",
       "      <td>10</td>\n",
       "      <td>23</td>\n",
       "      <td>-4.0</td>\n",
       "    </tr>\n",
       "    <tr>\n",
       "      <th>2</th>\n",
       "      <td>42015</td>\n",
       "      <td>1610612744</td>\n",
       "      <td>GSW</td>\n",
       "      <td>Golden State Warriors</td>\n",
       "      <td>41500406</td>\n",
       "      <td>2016-06-16</td>\n",
       "      <td>GSW @ CLE</td>\n",
       "      <td>L</td>\n",
       "      <td>238</td>\n",
       "      <td>101</td>\n",
       "      <td>...</td>\n",
       "      <td>0.690</td>\n",
       "      <td>9</td>\n",
       "      <td>26</td>\n",
       "      <td>35</td>\n",
       "      <td>19</td>\n",
       "      <td>5</td>\n",
       "      <td>3</td>\n",
       "      <td>14</td>\n",
       "      <td>25</td>\n",
       "      <td>-14.0</td>\n",
       "    </tr>\n",
       "    <tr>\n",
       "      <th>3</th>\n",
       "      <td>42015</td>\n",
       "      <td>1610612739</td>\n",
       "      <td>CLE</td>\n",
       "      <td>Cleveland Cavaliers</td>\n",
       "      <td>41500406</td>\n",
       "      <td>2016-06-16</td>\n",
       "      <td>CLE vs. GSW</td>\n",
       "      <td>W</td>\n",
       "      <td>240</td>\n",
       "      <td>115</td>\n",
       "      <td>...</td>\n",
       "      <td>0.781</td>\n",
       "      <td>8</td>\n",
       "      <td>37</td>\n",
       "      <td>45</td>\n",
       "      <td>24</td>\n",
       "      <td>12</td>\n",
       "      <td>7</td>\n",
       "      <td>10</td>\n",
       "      <td>25</td>\n",
       "      <td>14.0</td>\n",
       "    </tr>\n",
       "    <tr>\n",
       "      <th>4</th>\n",
       "      <td>42015</td>\n",
       "      <td>1610612739</td>\n",
       "      <td>CLE</td>\n",
       "      <td>Cleveland Cavaliers</td>\n",
       "      <td>41500405</td>\n",
       "      <td>2016-06-13</td>\n",
       "      <td>CLE @ GSW</td>\n",
       "      <td>W</td>\n",
       "      <td>241</td>\n",
       "      <td>112</td>\n",
       "      <td>...</td>\n",
       "      <td>0.609</td>\n",
       "      <td>8</td>\n",
       "      <td>33</td>\n",
       "      <td>41</td>\n",
       "      <td>15</td>\n",
       "      <td>11</td>\n",
       "      <td>9</td>\n",
       "      <td>16</td>\n",
       "      <td>22</td>\n",
       "      <td>15.0</td>\n",
       "    </tr>\n",
       "  </tbody>\n",
       "</table>\n",
       "<p>5 rows × 28 columns</p>\n",
       "</div>"
      ],
      "text/plain": [
       "   SEASON_ID     TEAM_ID TEAM_ABBREVIATION              TEAM_NAME   GAME_ID  \\\n",
       "0      42015  1610612739               CLE    Cleveland Cavaliers  41500407   \n",
       "1      42015  1610612744               GSW  Golden State Warriors  41500407   \n",
       "2      42015  1610612744               GSW  Golden State Warriors  41500406   \n",
       "3      42015  1610612739               CLE    Cleveland Cavaliers  41500406   \n",
       "4      42015  1610612739               CLE    Cleveland Cavaliers  41500405   \n",
       "\n",
       "    GAME_DATE      MATCHUP WL  MIN  PTS  ...  FT_PCT  OREB  DREB  REB  AST  \\\n",
       "0  2016-06-19    CLE @ GSW  W  241   93  ...   0.840     9    39   48   17   \n",
       "1  2016-06-19  GSW vs. CLE  L  239   89  ...   0.769     7    32   39   22   \n",
       "2  2016-06-16    GSW @ CLE  L  238  101  ...   0.690     9    26   35   19   \n",
       "3  2016-06-16  CLE vs. GSW  W  240  115  ...   0.781     8    37   45   24   \n",
       "4  2016-06-13    CLE @ GSW  W  241  112  ...   0.609     8    33   41   15   \n",
       "\n",
       "   STL  BLK  TOV  PF  PLUS_MINUS  \n",
       "0    7    6   11  15         4.0  \n",
       "1    7    5   10  23        -4.0  \n",
       "2    5    3   14  25       -14.0  \n",
       "3   12    7   10  25        14.0  \n",
       "4   11    9   16  22        15.0  \n",
       "\n",
       "[5 rows x 28 columns]"
      ]
     },
     "execution_count": 15,
     "metadata": {},
     "output_type": "execute_result"
    }
   ],
   "source": [
    "nba2 = pd.read_csv(\"C:/Users/Tim/Desktop/lighthouse/w2/d5/probability_and_statistics_exercise/nbapo16.csv\", sep=';')\n",
    "dfpo = pd.DataFrame(nba2)\n",
    "dfpo.head()"
   ]
  },
  {
   "cell_type": "markdown",
   "metadata": {},
   "source": [
    "### Select Toronto Raptors and test the hypothesis that number of blocks in playoffs (BLK) are from the same distribution as in reguar season 2015/2016\n",
    "we again have two samples with different sizes"
   ]
  },
  {
   "cell_type": "code",
   "execution_count": 16,
   "metadata": {},
   "outputs": [],
   "source": [
    "dftr = df2015[df2015['TEAM_NAME']==\"Toronto Raptors\"]\n",
    "dftrpo = dfpo[dfpo['TEAM_NAME']==\"Toronto Raptors\"]"
   ]
  },
  {
   "cell_type": "code",
   "execution_count": 17,
   "metadata": {},
   "outputs": [
    {
     "data": {
      "text/plain": [
       "Ttest_indResult(statistic=3.500438136870473, pvalue=0.0011403514552816168)"
      ]
     },
     "execution_count": 17,
     "metadata": {},
     "output_type": "execute_result"
    }
   ],
   "source": [
    "st.ttest_ind(dftr[\"BLK\"],dftrpo[\"BLK\"],equal_var=False)"
   ]
  },
  {
   "cell_type": "code",
   "execution_count": null,
   "metadata": {},
   "outputs": [],
   "source": [
    "#significant different btw regular season and playoffs"
   ]
  },
  {
   "cell_type": "code",
   "execution_count": 18,
   "metadata": {},
   "outputs": [
    {
     "data": {
      "text/plain": [
       "KstestResult(statistic=0.33414634146341465, pvalue=0.04184880172296346)"
      ]
     },
     "execution_count": 18,
     "metadata": {},
     "output_type": "execute_result"
    }
   ],
   "source": [
    "st.ks_2samp(dftr[\"BLK\"],dftrpo[\"BLK\"])"
   ]
  },
  {
   "cell_type": "code",
   "execution_count": null,
   "metadata": {},
   "outputs": [],
   "source": [
    "#reject null that they are from the same cont dist"
   ]
  },
  {
   "cell_type": "markdown",
   "metadata": {},
   "source": [
    "### Test the hypothesis that points per game (PTS) are equally distributed in all 3 seasons for Cleveland\n",
    "we need a hypothesis test to compare more than 2 distributions"
   ]
  },
  {
   "cell_type": "code",
   "execution_count": 20,
   "metadata": {},
   "outputs": [],
   "source": [
    "dfc13 = df2013[df2013['TEAM_NAME']==\"Cleveland Cavaliers\"]\n",
    "dfc14 = df2014[df2014['TEAM_NAME']==\"Cleveland Cavaliers\"]\n",
    "dfc15 = df2015[df2015['TEAM_NAME']==\"Cleveland Cavaliers\"]"
   ]
  },
  {
   "cell_type": "code",
   "execution_count": 21,
   "metadata": {},
   "outputs": [
    {
     "data": {
      "text/plain": [
       "F_onewayResult(statistic=5.9200250318080885, pvalue=0.003087727119983984)"
      ]
     },
     "execution_count": 21,
     "metadata": {},
     "output_type": "execute_result"
    }
   ],
   "source": [
    "st.f_oneway(dfc13['PTS'],dfc14['PTS'],dfc15['PTS'])"
   ]
  },
  {
   "cell_type": "code",
   "execution_count": 22,
   "metadata": {},
   "outputs": [],
   "source": [
    "#reject null hyp that these groups have the same pop mean"
   ]
  },
  {
   "cell_type": "code",
   "execution_count": 23,
   "metadata": {},
   "outputs": [
    {
     "data": {
      "text/plain": [
       "BartlettResult(statistic=1.8337888706159797, pvalue=0.3997585915033671)"
      ]
     },
     "execution_count": 23,
     "metadata": {},
     "output_type": "execute_result"
    }
   ],
   "source": [
    "#for diff var\n",
    "st.bartlett(dfc13['PTS'],dfc14['PTS'],dfc15['PTS'])\n",
    "#same var"
   ]
  },
  {
   "cell_type": "markdown",
   "metadata": {},
   "source": [
    "#### Between which seasons, we can see the significant difference?\n",
    "+ unfortunatelly, this is not the output of ANOVA test and further analysis needs to be applied in most of the cases\n",
    "+ Note that Lebron James came back to Cleveland prior to season 2014/2015 (just for interpretation of the results)"
   ]
  },
  {
   "cell_type": "code",
   "execution_count": 24,
   "metadata": {},
   "outputs": [
    {
     "data": {
      "text/plain": [
       "Ttest_indResult(statistic=-2.508958204796911, pvalue=0.013092273648525245)"
      ]
     },
     "execution_count": 24,
     "metadata": {},
     "output_type": "execute_result"
    }
   ],
   "source": [
    "st.ttest_ind(dfc13[\"PTS\"],dfc14[\"PTS\"],equal_var=False)"
   ]
  },
  {
   "cell_type": "code",
   "execution_count": 25,
   "metadata": {},
   "outputs": [
    {
     "data": {
      "text/plain": [
       "F_onewayResult(statistic=6.29487127341772, pvalue=0.013091680534336554)"
      ]
     },
     "execution_count": 25,
     "metadata": {},
     "output_type": "execute_result"
    }
   ],
   "source": [
    "st.f_oneway(dfc13['PTS'],dfc14['PTS'])"
   ]
  },
  {
   "cell_type": "code",
   "execution_count": 26,
   "metadata": {},
   "outputs": [
    {
     "data": {
      "text/plain": [
       "Ttest_indResult(statistic=-0.6442093460555935, pvalue=0.5203691269861739)"
      ]
     },
     "execution_count": 26,
     "metadata": {},
     "output_type": "execute_result"
    }
   ],
   "source": [
    "st.ttest_ind(dfc14[\"PTS\"],dfc15[\"PTS\"],equal_var=False)"
   ]
  },
  {
   "cell_type": "code",
   "execution_count": 27,
   "metadata": {},
   "outputs": [
    {
     "data": {
      "text/plain": [
       "F_onewayResult(statistic=0.41500568154538037, pvalue=0.520350761773442)"
      ]
     },
     "execution_count": 27,
     "metadata": {},
     "output_type": "execute_result"
    }
   ],
   "source": [
    "st.f_oneway(dfc14['PTS'],dfc15['PTS'])"
   ]
  },
  {
   "cell_type": "code",
   "execution_count": null,
   "metadata": {},
   "outputs": [],
   "source": [
    "#btw years 13 and 14 that have sig diff"
   ]
  }
 ],
 "metadata": {
  "kernelspec": {
   "display_name": "Python 3",
   "language": "python",
   "name": "python3"
  },
  "language_info": {
   "codemirror_mode": {
    "name": "ipython",
    "version": 3
   },
   "file_extension": ".py",
   "mimetype": "text/x-python",
   "name": "python",
   "nbconvert_exporter": "python",
   "pygments_lexer": "ipython3",
   "version": "3.8.5"
  }
 },
 "nbformat": 4,
 "nbformat_minor": 4
}
