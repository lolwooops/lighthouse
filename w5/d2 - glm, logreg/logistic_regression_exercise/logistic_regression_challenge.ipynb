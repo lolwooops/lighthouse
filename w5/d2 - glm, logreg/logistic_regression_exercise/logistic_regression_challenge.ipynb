{
 "cells": [
  {
   "cell_type": "code",
   "execution_count": 1,
   "metadata": {},
   "outputs": [],
   "source": [
    "## load the packages here\n",
    "import pandas as pd\n",
    "import numpy as np\n",
    "import matplotlib.pyplot as plt\n",
    "import seaborn as sns"
   ]
  },
  {
   "cell_type": "markdown",
   "metadata": {},
   "source": [
    "## Task 1: Download your data and load them into the Python.\n",
    "You can find them [**here**](https://drive.google.com/file/d/0Bz9_0VdXvv9bX0MzUEhVdmpCc3c/view?usp=sharing).\n",
    "\n",
    "- Features and response variables are in different files\n",
    "- be careful about number of spaces between the values in the file"
   ]
  },
  {
   "cell_type": "code",
   "execution_count": 7,
   "metadata": {},
   "outputs": [],
   "source": [
    "file_path = 'C:/Users/Tim/Desktop/lighthouse/w5/d2/Smartphone Sensor Data/Smartphone Sensor Data/'"
   ]
  },
  {
   "cell_type": "code",
   "execution_count": 8,
   "metadata": {},
   "outputs": [
    {
     "data": {
      "text/html": [
       "<div>\n",
       "<style scoped>\n",
       "    .dataframe tbody tr th:only-of-type {\n",
       "        vertical-align: middle;\n",
       "    }\n",
       "\n",
       "    .dataframe tbody tr th {\n",
       "        vertical-align: top;\n",
       "    }\n",
       "\n",
       "    .dataframe thead th {\n",
       "        text-align: right;\n",
       "    }\n",
       "</style>\n",
       "<table border=\"1\" class=\"dataframe\">\n",
       "  <thead>\n",
       "    <tr style=\"text-align: right;\">\n",
       "      <th></th>\n",
       "      <th>0</th>\n",
       "      <th>1</th>\n",
       "      <th>2</th>\n",
       "      <th>3</th>\n",
       "      <th>4</th>\n",
       "      <th>5</th>\n",
       "      <th>6</th>\n",
       "      <th>7</th>\n",
       "      <th>8</th>\n",
       "      <th>9</th>\n",
       "      <th>...</th>\n",
       "      <th>551</th>\n",
       "      <th>552</th>\n",
       "      <th>553</th>\n",
       "      <th>554</th>\n",
       "      <th>555</th>\n",
       "      <th>556</th>\n",
       "      <th>557</th>\n",
       "      <th>558</th>\n",
       "      <th>559</th>\n",
       "      <th>560</th>\n",
       "    </tr>\n",
       "  </thead>\n",
       "  <tbody>\n",
       "    <tr>\n",
       "      <th>0</th>\n",
       "      <td>0.288585</td>\n",
       "      <td>-0.020294</td>\n",
       "      <td>-0.132905</td>\n",
       "      <td>-0.995279</td>\n",
       "      <td>-0.983111</td>\n",
       "      <td>-0.913526</td>\n",
       "      <td>-0.995112</td>\n",
       "      <td>-0.983185</td>\n",
       "      <td>-0.923527</td>\n",
       "      <td>-0.934724</td>\n",
       "      <td>...</td>\n",
       "      <td>-0.074323</td>\n",
       "      <td>-0.298676</td>\n",
       "      <td>-0.710304</td>\n",
       "      <td>-0.112754</td>\n",
       "      <td>0.030400</td>\n",
       "      <td>-0.464761</td>\n",
       "      <td>-0.018446</td>\n",
       "      <td>-0.841247</td>\n",
       "      <td>0.179941</td>\n",
       "      <td>-0.058627</td>\n",
       "    </tr>\n",
       "    <tr>\n",
       "      <th>1</th>\n",
       "      <td>0.278419</td>\n",
       "      <td>-0.016411</td>\n",
       "      <td>-0.123520</td>\n",
       "      <td>-0.998245</td>\n",
       "      <td>-0.975300</td>\n",
       "      <td>-0.960322</td>\n",
       "      <td>-0.998807</td>\n",
       "      <td>-0.974914</td>\n",
       "      <td>-0.957686</td>\n",
       "      <td>-0.943068</td>\n",
       "      <td>...</td>\n",
       "      <td>0.158075</td>\n",
       "      <td>-0.595051</td>\n",
       "      <td>-0.861499</td>\n",
       "      <td>0.053477</td>\n",
       "      <td>-0.007435</td>\n",
       "      <td>-0.732626</td>\n",
       "      <td>0.703511</td>\n",
       "      <td>-0.844788</td>\n",
       "      <td>0.180289</td>\n",
       "      <td>-0.054317</td>\n",
       "    </tr>\n",
       "    <tr>\n",
       "      <th>2</th>\n",
       "      <td>0.279653</td>\n",
       "      <td>-0.019467</td>\n",
       "      <td>-0.113462</td>\n",
       "      <td>-0.995380</td>\n",
       "      <td>-0.967187</td>\n",
       "      <td>-0.978944</td>\n",
       "      <td>-0.996520</td>\n",
       "      <td>-0.963668</td>\n",
       "      <td>-0.977469</td>\n",
       "      <td>-0.938692</td>\n",
       "      <td>...</td>\n",
       "      <td>0.414503</td>\n",
       "      <td>-0.390748</td>\n",
       "      <td>-0.760104</td>\n",
       "      <td>-0.118559</td>\n",
       "      <td>0.177899</td>\n",
       "      <td>0.100699</td>\n",
       "      <td>0.808529</td>\n",
       "      <td>-0.848933</td>\n",
       "      <td>0.180637</td>\n",
       "      <td>-0.049118</td>\n",
       "    </tr>\n",
       "    <tr>\n",
       "      <th>3</th>\n",
       "      <td>0.279174</td>\n",
       "      <td>-0.026201</td>\n",
       "      <td>-0.123283</td>\n",
       "      <td>-0.996091</td>\n",
       "      <td>-0.983403</td>\n",
       "      <td>-0.990675</td>\n",
       "      <td>-0.997099</td>\n",
       "      <td>-0.982750</td>\n",
       "      <td>-0.989302</td>\n",
       "      <td>-0.938692</td>\n",
       "      <td>...</td>\n",
       "      <td>0.404573</td>\n",
       "      <td>-0.117290</td>\n",
       "      <td>-0.482845</td>\n",
       "      <td>-0.036788</td>\n",
       "      <td>-0.012892</td>\n",
       "      <td>0.640011</td>\n",
       "      <td>-0.485366</td>\n",
       "      <td>-0.848649</td>\n",
       "      <td>0.181935</td>\n",
       "      <td>-0.047663</td>\n",
       "    </tr>\n",
       "    <tr>\n",
       "      <th>4</th>\n",
       "      <td>0.276629</td>\n",
       "      <td>-0.016570</td>\n",
       "      <td>-0.115362</td>\n",
       "      <td>-0.998139</td>\n",
       "      <td>-0.980817</td>\n",
       "      <td>-0.990482</td>\n",
       "      <td>-0.998321</td>\n",
       "      <td>-0.979672</td>\n",
       "      <td>-0.990441</td>\n",
       "      <td>-0.942469</td>\n",
       "      <td>...</td>\n",
       "      <td>0.087753</td>\n",
       "      <td>-0.351471</td>\n",
       "      <td>-0.699205</td>\n",
       "      <td>0.123320</td>\n",
       "      <td>0.122542</td>\n",
       "      <td>0.693578</td>\n",
       "      <td>-0.615971</td>\n",
       "      <td>-0.847865</td>\n",
       "      <td>0.185151</td>\n",
       "      <td>-0.043892</td>\n",
       "    </tr>\n",
       "  </tbody>\n",
       "</table>\n",
       "<p>5 rows × 561 columns</p>\n",
       "</div>"
      ],
      "text/plain": [
       "        0         1         2         3         4         5         6    \\\n",
       "0  0.288585 -0.020294 -0.132905 -0.995279 -0.983111 -0.913526 -0.995112   \n",
       "1  0.278419 -0.016411 -0.123520 -0.998245 -0.975300 -0.960322 -0.998807   \n",
       "2  0.279653 -0.019467 -0.113462 -0.995380 -0.967187 -0.978944 -0.996520   \n",
       "3  0.279174 -0.026201 -0.123283 -0.996091 -0.983403 -0.990675 -0.997099   \n",
       "4  0.276629 -0.016570 -0.115362 -0.998139 -0.980817 -0.990482 -0.998321   \n",
       "\n",
       "        7         8         9    ...       551       552       553       554  \\\n",
       "0 -0.983185 -0.923527 -0.934724  ... -0.074323 -0.298676 -0.710304 -0.112754   \n",
       "1 -0.974914 -0.957686 -0.943068  ...  0.158075 -0.595051 -0.861499  0.053477   \n",
       "2 -0.963668 -0.977469 -0.938692  ...  0.414503 -0.390748 -0.760104 -0.118559   \n",
       "3 -0.982750 -0.989302 -0.938692  ...  0.404573 -0.117290 -0.482845 -0.036788   \n",
       "4 -0.979672 -0.990441 -0.942469  ...  0.087753 -0.351471 -0.699205  0.123320   \n",
       "\n",
       "        555       556       557       558       559       560  \n",
       "0  0.030400 -0.464761 -0.018446 -0.841247  0.179941 -0.058627  \n",
       "1 -0.007435 -0.732626  0.703511 -0.844788  0.180289 -0.054317  \n",
       "2  0.177899  0.100699  0.808529 -0.848933  0.180637 -0.049118  \n",
       "3 -0.012892  0.640011 -0.485366 -0.848649  0.181935 -0.047663  \n",
       "4  0.122542  0.693578 -0.615971 -0.847865  0.185151 -0.043892  \n",
       "\n",
       "[5 rows x 561 columns]"
      ]
     },
     "execution_count": 8,
     "metadata": {},
     "output_type": "execute_result"
    }
   ],
   "source": [
    "X = pd.read_csv(file_path+'train/X_train.txt',sep=' ',header=None,skipinitialspace=True)\n",
    "X.head()"
   ]
  },
  {
   "cell_type": "code",
   "execution_count": 14,
   "metadata": {},
   "outputs": [
    {
     "data": {
      "text/html": [
       "<div>\n",
       "<style scoped>\n",
       "    .dataframe tbody tr th:only-of-type {\n",
       "        vertical-align: middle;\n",
       "    }\n",
       "\n",
       "    .dataframe tbody tr th {\n",
       "        vertical-align: top;\n",
       "    }\n",
       "\n",
       "    .dataframe thead th {\n",
       "        text-align: right;\n",
       "    }\n",
       "</style>\n",
       "<table border=\"1\" class=\"dataframe\">\n",
       "  <thead>\n",
       "    <tr style=\"text-align: right;\">\n",
       "      <th></th>\n",
       "      <th>0</th>\n",
       "      <th>1</th>\n",
       "    </tr>\n",
       "  </thead>\n",
       "  <tbody>\n",
       "    <tr>\n",
       "      <th>0</th>\n",
       "      <td>1</td>\n",
       "      <td>tBodyAcc-mean()-X</td>\n",
       "    </tr>\n",
       "    <tr>\n",
       "      <th>1</th>\n",
       "      <td>2</td>\n",
       "      <td>tBodyAcc-mean()-Y</td>\n",
       "    </tr>\n",
       "    <tr>\n",
       "      <th>2</th>\n",
       "      <td>3</td>\n",
       "      <td>tBodyAcc-mean()-Z</td>\n",
       "    </tr>\n",
       "    <tr>\n",
       "      <th>3</th>\n",
       "      <td>4</td>\n",
       "      <td>tBodyAcc-std()-X</td>\n",
       "    </tr>\n",
       "    <tr>\n",
       "      <th>4</th>\n",
       "      <td>5</td>\n",
       "      <td>tBodyAcc-std()-Y</td>\n",
       "    </tr>\n",
       "  </tbody>\n",
       "</table>\n",
       "</div>"
      ],
      "text/plain": [
       "   0                  1\n",
       "0  1  tBodyAcc-mean()-X\n",
       "1  2  tBodyAcc-mean()-Y\n",
       "2  3  tBodyAcc-mean()-Z\n",
       "3  4   tBodyAcc-std()-X\n",
       "4  5   tBodyAcc-std()-Y"
      ]
     },
     "execution_count": 14,
     "metadata": {},
     "output_type": "execute_result"
    }
   ],
   "source": [
    "X_header = pd.read_csv(file_path+'features.txt',sep=' ',header=None)\n",
    "X_header.head()"
   ]
  },
  {
   "cell_type": "code",
   "execution_count": 19,
   "metadata": {},
   "outputs": [],
   "source": [
    "X_columns = X_header[1].values.tolist()"
   ]
  },
  {
   "cell_type": "code",
   "execution_count": 21,
   "metadata": {},
   "outputs": [],
   "source": [
    "X.columns = X_columns"
   ]
  },
  {
   "cell_type": "code",
   "execution_count": 22,
   "metadata": {},
   "outputs": [
    {
     "data": {
      "text/html": [
       "<div>\n",
       "<style scoped>\n",
       "    .dataframe tbody tr th:only-of-type {\n",
       "        vertical-align: middle;\n",
       "    }\n",
       "\n",
       "    .dataframe tbody tr th {\n",
       "        vertical-align: top;\n",
       "    }\n",
       "\n",
       "    .dataframe thead th {\n",
       "        text-align: right;\n",
       "    }\n",
       "</style>\n",
       "<table border=\"1\" class=\"dataframe\">\n",
       "  <thead>\n",
       "    <tr style=\"text-align: right;\">\n",
       "      <th></th>\n",
       "      <th>tBodyAcc-mean()-X</th>\n",
       "      <th>tBodyAcc-mean()-Y</th>\n",
       "      <th>tBodyAcc-mean()-Z</th>\n",
       "      <th>tBodyAcc-std()-X</th>\n",
       "      <th>tBodyAcc-std()-Y</th>\n",
       "      <th>tBodyAcc-std()-Z</th>\n",
       "      <th>tBodyAcc-mad()-X</th>\n",
       "      <th>tBodyAcc-mad()-Y</th>\n",
       "      <th>tBodyAcc-mad()-Z</th>\n",
       "      <th>tBodyAcc-max()-X</th>\n",
       "      <th>...</th>\n",
       "      <th>fBodyBodyGyroJerkMag-meanFreq()</th>\n",
       "      <th>fBodyBodyGyroJerkMag-skewness()</th>\n",
       "      <th>fBodyBodyGyroJerkMag-kurtosis()</th>\n",
       "      <th>angle(tBodyAccMean,gravity)</th>\n",
       "      <th>angle(tBodyAccJerkMean),gravityMean)</th>\n",
       "      <th>angle(tBodyGyroMean,gravityMean)</th>\n",
       "      <th>angle(tBodyGyroJerkMean,gravityMean)</th>\n",
       "      <th>angle(X,gravityMean)</th>\n",
       "      <th>angle(Y,gravityMean)</th>\n",
       "      <th>angle(Z,gravityMean)</th>\n",
       "    </tr>\n",
       "  </thead>\n",
       "  <tbody>\n",
       "    <tr>\n",
       "      <th>0</th>\n",
       "      <td>0.288585</td>\n",
       "      <td>-0.020294</td>\n",
       "      <td>-0.132905</td>\n",
       "      <td>-0.995279</td>\n",
       "      <td>-0.983111</td>\n",
       "      <td>-0.913526</td>\n",
       "      <td>-0.995112</td>\n",
       "      <td>-0.983185</td>\n",
       "      <td>-0.923527</td>\n",
       "      <td>-0.934724</td>\n",
       "      <td>...</td>\n",
       "      <td>-0.074323</td>\n",
       "      <td>-0.298676</td>\n",
       "      <td>-0.710304</td>\n",
       "      <td>-0.112754</td>\n",
       "      <td>0.030400</td>\n",
       "      <td>-0.464761</td>\n",
       "      <td>-0.018446</td>\n",
       "      <td>-0.841247</td>\n",
       "      <td>0.179941</td>\n",
       "      <td>-0.058627</td>\n",
       "    </tr>\n",
       "    <tr>\n",
       "      <th>1</th>\n",
       "      <td>0.278419</td>\n",
       "      <td>-0.016411</td>\n",
       "      <td>-0.123520</td>\n",
       "      <td>-0.998245</td>\n",
       "      <td>-0.975300</td>\n",
       "      <td>-0.960322</td>\n",
       "      <td>-0.998807</td>\n",
       "      <td>-0.974914</td>\n",
       "      <td>-0.957686</td>\n",
       "      <td>-0.943068</td>\n",
       "      <td>...</td>\n",
       "      <td>0.158075</td>\n",
       "      <td>-0.595051</td>\n",
       "      <td>-0.861499</td>\n",
       "      <td>0.053477</td>\n",
       "      <td>-0.007435</td>\n",
       "      <td>-0.732626</td>\n",
       "      <td>0.703511</td>\n",
       "      <td>-0.844788</td>\n",
       "      <td>0.180289</td>\n",
       "      <td>-0.054317</td>\n",
       "    </tr>\n",
       "    <tr>\n",
       "      <th>2</th>\n",
       "      <td>0.279653</td>\n",
       "      <td>-0.019467</td>\n",
       "      <td>-0.113462</td>\n",
       "      <td>-0.995380</td>\n",
       "      <td>-0.967187</td>\n",
       "      <td>-0.978944</td>\n",
       "      <td>-0.996520</td>\n",
       "      <td>-0.963668</td>\n",
       "      <td>-0.977469</td>\n",
       "      <td>-0.938692</td>\n",
       "      <td>...</td>\n",
       "      <td>0.414503</td>\n",
       "      <td>-0.390748</td>\n",
       "      <td>-0.760104</td>\n",
       "      <td>-0.118559</td>\n",
       "      <td>0.177899</td>\n",
       "      <td>0.100699</td>\n",
       "      <td>0.808529</td>\n",
       "      <td>-0.848933</td>\n",
       "      <td>0.180637</td>\n",
       "      <td>-0.049118</td>\n",
       "    </tr>\n",
       "    <tr>\n",
       "      <th>3</th>\n",
       "      <td>0.279174</td>\n",
       "      <td>-0.026201</td>\n",
       "      <td>-0.123283</td>\n",
       "      <td>-0.996091</td>\n",
       "      <td>-0.983403</td>\n",
       "      <td>-0.990675</td>\n",
       "      <td>-0.997099</td>\n",
       "      <td>-0.982750</td>\n",
       "      <td>-0.989302</td>\n",
       "      <td>-0.938692</td>\n",
       "      <td>...</td>\n",
       "      <td>0.404573</td>\n",
       "      <td>-0.117290</td>\n",
       "      <td>-0.482845</td>\n",
       "      <td>-0.036788</td>\n",
       "      <td>-0.012892</td>\n",
       "      <td>0.640011</td>\n",
       "      <td>-0.485366</td>\n",
       "      <td>-0.848649</td>\n",
       "      <td>0.181935</td>\n",
       "      <td>-0.047663</td>\n",
       "    </tr>\n",
       "    <tr>\n",
       "      <th>4</th>\n",
       "      <td>0.276629</td>\n",
       "      <td>-0.016570</td>\n",
       "      <td>-0.115362</td>\n",
       "      <td>-0.998139</td>\n",
       "      <td>-0.980817</td>\n",
       "      <td>-0.990482</td>\n",
       "      <td>-0.998321</td>\n",
       "      <td>-0.979672</td>\n",
       "      <td>-0.990441</td>\n",
       "      <td>-0.942469</td>\n",
       "      <td>...</td>\n",
       "      <td>0.087753</td>\n",
       "      <td>-0.351471</td>\n",
       "      <td>-0.699205</td>\n",
       "      <td>0.123320</td>\n",
       "      <td>0.122542</td>\n",
       "      <td>0.693578</td>\n",
       "      <td>-0.615971</td>\n",
       "      <td>-0.847865</td>\n",
       "      <td>0.185151</td>\n",
       "      <td>-0.043892</td>\n",
       "    </tr>\n",
       "  </tbody>\n",
       "</table>\n",
       "<p>5 rows × 561 columns</p>\n",
       "</div>"
      ],
      "text/plain": [
       "   tBodyAcc-mean()-X  tBodyAcc-mean()-Y  tBodyAcc-mean()-Z  tBodyAcc-std()-X  \\\n",
       "0           0.288585          -0.020294          -0.132905         -0.995279   \n",
       "1           0.278419          -0.016411          -0.123520         -0.998245   \n",
       "2           0.279653          -0.019467          -0.113462         -0.995380   \n",
       "3           0.279174          -0.026201          -0.123283         -0.996091   \n",
       "4           0.276629          -0.016570          -0.115362         -0.998139   \n",
       "\n",
       "   tBodyAcc-std()-Y  tBodyAcc-std()-Z  tBodyAcc-mad()-X  tBodyAcc-mad()-Y  \\\n",
       "0         -0.983111         -0.913526         -0.995112         -0.983185   \n",
       "1         -0.975300         -0.960322         -0.998807         -0.974914   \n",
       "2         -0.967187         -0.978944         -0.996520         -0.963668   \n",
       "3         -0.983403         -0.990675         -0.997099         -0.982750   \n",
       "4         -0.980817         -0.990482         -0.998321         -0.979672   \n",
       "\n",
       "   tBodyAcc-mad()-Z  tBodyAcc-max()-X  ...  fBodyBodyGyroJerkMag-meanFreq()  \\\n",
       "0         -0.923527         -0.934724  ...                        -0.074323   \n",
       "1         -0.957686         -0.943068  ...                         0.158075   \n",
       "2         -0.977469         -0.938692  ...                         0.414503   \n",
       "3         -0.989302         -0.938692  ...                         0.404573   \n",
       "4         -0.990441         -0.942469  ...                         0.087753   \n",
       "\n",
       "   fBodyBodyGyroJerkMag-skewness()  fBodyBodyGyroJerkMag-kurtosis()  \\\n",
       "0                        -0.298676                        -0.710304   \n",
       "1                        -0.595051                        -0.861499   \n",
       "2                        -0.390748                        -0.760104   \n",
       "3                        -0.117290                        -0.482845   \n",
       "4                        -0.351471                        -0.699205   \n",
       "\n",
       "   angle(tBodyAccMean,gravity)  angle(tBodyAccJerkMean),gravityMean)  \\\n",
       "0                    -0.112754                              0.030400   \n",
       "1                     0.053477                             -0.007435   \n",
       "2                    -0.118559                              0.177899   \n",
       "3                    -0.036788                             -0.012892   \n",
       "4                     0.123320                              0.122542   \n",
       "\n",
       "   angle(tBodyGyroMean,gravityMean)  angle(tBodyGyroJerkMean,gravityMean)  \\\n",
       "0                         -0.464761                             -0.018446   \n",
       "1                         -0.732626                              0.703511   \n",
       "2                          0.100699                              0.808529   \n",
       "3                          0.640011                             -0.485366   \n",
       "4                          0.693578                             -0.615971   \n",
       "\n",
       "   angle(X,gravityMean)  angle(Y,gravityMean)  angle(Z,gravityMean)  \n",
       "0             -0.841247              0.179941             -0.058627  \n",
       "1             -0.844788              0.180289             -0.054317  \n",
       "2             -0.848933              0.180637             -0.049118  \n",
       "3             -0.848649              0.181935             -0.047663  \n",
       "4             -0.847865              0.185151             -0.043892  \n",
       "\n",
       "[5 rows x 561 columns]"
      ]
     },
     "execution_count": 22,
     "metadata": {},
     "output_type": "execute_result"
    }
   ],
   "source": [
    "X.head()"
   ]
  },
  {
   "cell_type": "code",
   "execution_count": 28,
   "metadata": {},
   "outputs": [
    {
     "data": {
      "text/html": [
       "<div>\n",
       "<style scoped>\n",
       "    .dataframe tbody tr th:only-of-type {\n",
       "        vertical-align: middle;\n",
       "    }\n",
       "\n",
       "    .dataframe tbody tr th {\n",
       "        vertical-align: top;\n",
       "    }\n",
       "\n",
       "    .dataframe thead th {\n",
       "        text-align: right;\n",
       "    }\n",
       "</style>\n",
       "<table border=\"1\" class=\"dataframe\">\n",
       "  <thead>\n",
       "    <tr style=\"text-align: right;\">\n",
       "      <th></th>\n",
       "      <th>0</th>\n",
       "    </tr>\n",
       "  </thead>\n",
       "  <tbody>\n",
       "    <tr>\n",
       "      <th>0</th>\n",
       "      <td>5</td>\n",
       "    </tr>\n",
       "    <tr>\n",
       "      <th>1</th>\n",
       "      <td>5</td>\n",
       "    </tr>\n",
       "    <tr>\n",
       "      <th>2</th>\n",
       "      <td>5</td>\n",
       "    </tr>\n",
       "    <tr>\n",
       "      <th>3</th>\n",
       "      <td>5</td>\n",
       "    </tr>\n",
       "    <tr>\n",
       "      <th>4</th>\n",
       "      <td>5</td>\n",
       "    </tr>\n",
       "  </tbody>\n",
       "</table>\n",
       "</div>"
      ],
      "text/plain": [
       "   0\n",
       "0  5\n",
       "1  5\n",
       "2  5\n",
       "3  5\n",
       "4  5"
      ]
     },
     "execution_count": 28,
     "metadata": {},
     "output_type": "execute_result"
    }
   ],
   "source": [
    "dfy = pd.read_csv(file_path+'train/y_train.txt',header=None)\n",
    "dfy.head()"
   ]
  },
  {
   "cell_type": "code",
   "execution_count": 31,
   "metadata": {},
   "outputs": [
    {
     "data": {
      "text/html": [
       "<div>\n",
       "<style scoped>\n",
       "    .dataframe tbody tr th:only-of-type {\n",
       "        vertical-align: middle;\n",
       "    }\n",
       "\n",
       "    .dataframe tbody tr th {\n",
       "        vertical-align: top;\n",
       "    }\n",
       "\n",
       "    .dataframe thead th {\n",
       "        text-align: right;\n",
       "    }\n",
       "</style>\n",
       "<table border=\"1\" class=\"dataframe\">\n",
       "  <thead>\n",
       "    <tr style=\"text-align: right;\">\n",
       "      <th></th>\n",
       "      <th>0</th>\n",
       "    </tr>\n",
       "  </thead>\n",
       "  <tbody>\n",
       "    <tr>\n",
       "      <th>count</th>\n",
       "      <td>7352.000000</td>\n",
       "    </tr>\n",
       "    <tr>\n",
       "      <th>mean</th>\n",
       "      <td>3.643362</td>\n",
       "    </tr>\n",
       "    <tr>\n",
       "      <th>std</th>\n",
       "      <td>1.744802</td>\n",
       "    </tr>\n",
       "    <tr>\n",
       "      <th>min</th>\n",
       "      <td>1.000000</td>\n",
       "    </tr>\n",
       "    <tr>\n",
       "      <th>25%</th>\n",
       "      <td>2.000000</td>\n",
       "    </tr>\n",
       "    <tr>\n",
       "      <th>50%</th>\n",
       "      <td>4.000000</td>\n",
       "    </tr>\n",
       "    <tr>\n",
       "      <th>75%</th>\n",
       "      <td>5.000000</td>\n",
       "    </tr>\n",
       "    <tr>\n",
       "      <th>max</th>\n",
       "      <td>6.000000</td>\n",
       "    </tr>\n",
       "  </tbody>\n",
       "</table>\n",
       "</div>"
      ],
      "text/plain": [
       "                 0\n",
       "count  7352.000000\n",
       "mean      3.643362\n",
       "std       1.744802\n",
       "min       1.000000\n",
       "25%       2.000000\n",
       "50%       4.000000\n",
       "75%       5.000000\n",
       "max       6.000000"
      ]
     },
     "execution_count": 31,
     "metadata": {},
     "output_type": "execute_result"
    }
   ],
   "source": [
    "dfy.describe()"
   ]
  },
  {
   "cell_type": "markdown",
   "metadata": {},
   "source": [
    "## Task 2: Create Binary target variable: categories 1,2,3 --> 1, categories 4,5,6 --> 0 \n",
    "This will represent binary variable indicating if person is walking or not"
   ]
  },
  {
   "cell_type": "code",
   "execution_count": 29,
   "metadata": {},
   "outputs": [
    {
     "data": {
      "text/html": [
       "<div>\n",
       "<style scoped>\n",
       "    .dataframe tbody tr th:only-of-type {\n",
       "        vertical-align: middle;\n",
       "    }\n",
       "\n",
       "    .dataframe tbody tr th {\n",
       "        vertical-align: top;\n",
       "    }\n",
       "\n",
       "    .dataframe thead th {\n",
       "        text-align: right;\n",
       "    }\n",
       "</style>\n",
       "<table border=\"1\" class=\"dataframe\">\n",
       "  <thead>\n",
       "    <tr style=\"text-align: right;\">\n",
       "      <th></th>\n",
       "      <th>0</th>\n",
       "    </tr>\n",
       "  </thead>\n",
       "  <tbody>\n",
       "    <tr>\n",
       "      <th>0</th>\n",
       "      <td>0</td>\n",
       "    </tr>\n",
       "    <tr>\n",
       "      <th>1</th>\n",
       "      <td>0</td>\n",
       "    </tr>\n",
       "    <tr>\n",
       "      <th>2</th>\n",
       "      <td>0</td>\n",
       "    </tr>\n",
       "    <tr>\n",
       "      <th>3</th>\n",
       "      <td>0</td>\n",
       "    </tr>\n",
       "    <tr>\n",
       "      <th>4</th>\n",
       "      <td>0</td>\n",
       "    </tr>\n",
       "  </tbody>\n",
       "</table>\n",
       "</div>"
      ],
      "text/plain": [
       "   0\n",
       "0  0\n",
       "1  0\n",
       "2  0\n",
       "3  0\n",
       "4  0"
      ]
     },
     "execution_count": 29,
     "metadata": {},
     "output_type": "execute_result"
    }
   ],
   "source": [
    "y = dfy.replace({\n",
    "    2: 1,\n",
    "    3: 1,\n",
    "    4: 0,\n",
    "    5: 0,\n",
    "    6: 0\n",
    "})\n",
    "y.head()"
   ]
  },
  {
   "cell_type": "code",
   "execution_count": 30,
   "metadata": {},
   "outputs": [
    {
     "data": {
      "text/html": [
       "<div>\n",
       "<style scoped>\n",
       "    .dataframe tbody tr th:only-of-type {\n",
       "        vertical-align: middle;\n",
       "    }\n",
       "\n",
       "    .dataframe tbody tr th {\n",
       "        vertical-align: top;\n",
       "    }\n",
       "\n",
       "    .dataframe thead th {\n",
       "        text-align: right;\n",
       "    }\n",
       "</style>\n",
       "<table border=\"1\" class=\"dataframe\">\n",
       "  <thead>\n",
       "    <tr style=\"text-align: right;\">\n",
       "      <th></th>\n",
       "      <th>0</th>\n",
       "    </tr>\n",
       "  </thead>\n",
       "  <tbody>\n",
       "    <tr>\n",
       "      <th>count</th>\n",
       "      <td>7352.000000</td>\n",
       "    </tr>\n",
       "    <tr>\n",
       "      <th>mean</th>\n",
       "      <td>0.446817</td>\n",
       "    </tr>\n",
       "    <tr>\n",
       "      <th>std</th>\n",
       "      <td>0.497197</td>\n",
       "    </tr>\n",
       "    <tr>\n",
       "      <th>min</th>\n",
       "      <td>0.000000</td>\n",
       "    </tr>\n",
       "    <tr>\n",
       "      <th>25%</th>\n",
       "      <td>0.000000</td>\n",
       "    </tr>\n",
       "    <tr>\n",
       "      <th>50%</th>\n",
       "      <td>0.000000</td>\n",
       "    </tr>\n",
       "    <tr>\n",
       "      <th>75%</th>\n",
       "      <td>1.000000</td>\n",
       "    </tr>\n",
       "    <tr>\n",
       "      <th>max</th>\n",
       "      <td>1.000000</td>\n",
       "    </tr>\n",
       "  </tbody>\n",
       "</table>\n",
       "</div>"
      ],
      "text/plain": [
       "                 0\n",
       "count  7352.000000\n",
       "mean      0.446817\n",
       "std       0.497197\n",
       "min       0.000000\n",
       "25%       0.000000\n",
       "50%       0.000000\n",
       "75%       1.000000\n",
       "max       1.000000"
      ]
     },
     "execution_count": 30,
     "metadata": {},
     "output_type": "execute_result"
    }
   ],
   "source": [
    "y.describe()"
   ]
  },
  {
   "cell_type": "code",
   "execution_count": 124,
   "metadata": {},
   "outputs": [
    {
     "data": {
      "text/plain": [
       "(7352, 561)"
      ]
     },
     "execution_count": 124,
     "metadata": {},
     "output_type": "execute_result"
    }
   ],
   "source": [
    "X.shape"
   ]
  },
  {
   "cell_type": "code",
   "execution_count": null,
   "metadata": {},
   "outputs": [],
   "source": []
  },
  {
   "cell_type": "markdown",
   "metadata": {},
   "source": [
    "## Task 3\n",
    "\n",
    "+ Create Univariate Binary Logistic Regression with feature number 54, which represents `tGravityAcc-min()-Y`: gravity acceleration signals in direction of Y\n",
    "+ Compare the results of Logistic regressions from different Python packages (sklearn, statsmodel)\n",
    "+ Plot the FIT of predicted probabilities to the original values"
   ]
  },
  {
   "cell_type": "code",
   "execution_count": 36,
   "metadata": {},
   "outputs": [],
   "source": [
    "task3x = X['tGravityAcc-min()-Y']\n"
   ]
  },
  {
   "cell_type": "code",
   "execution_count": 64,
   "metadata": {},
   "outputs": [
    {
     "data": {
      "text/plain": [
       "(7352, 1)"
      ]
     },
     "execution_count": 64,
     "metadata": {},
     "output_type": "execute_result"
    }
   ],
   "source": [
    "y.shape"
   ]
  },
  {
   "cell_type": "code",
   "execution_count": 60,
   "metadata": {},
   "outputs": [],
   "source": [
    "from sklearn.model_selection import train_test_split\n",
    "X_train,X_test,y_train,y_test=train_test_split(task3x,y,test_size=0.25,random_state=0)"
   ]
  },
  {
   "cell_type": "code",
   "execution_count": 108,
   "metadata": {},
   "outputs": [
    {
     "data": {
      "text/plain": [
       "(5514, 1)"
      ]
     },
     "execution_count": 108,
     "metadata": {},
     "output_type": "execute_result"
    }
   ],
   "source": [
    "y_train.shape"
   ]
  },
  {
   "cell_type": "code",
   "execution_count": 61,
   "metadata": {},
   "outputs": [],
   "source": [
    "X_train = X_train.values.reshape(-1,1)"
   ]
  },
  {
   "cell_type": "code",
   "execution_count": 62,
   "metadata": {},
   "outputs": [],
   "source": [
    "X_test = X_test.values.reshape(-1,1)"
   ]
  },
  {
   "cell_type": "code",
   "execution_count": 65,
   "metadata": {},
   "outputs": [
    {
     "name": "stderr",
     "output_type": "stream",
     "text": [
      "C:\\Users\\Tim\\anaconda3\\lib\\site-packages\\sklearn\\utils\\validation.py:72: DataConversionWarning: A column-vector y was passed when a 1d array was expected. Please change the shape of y to (n_samples, ), for example using ravel().\n",
      "  return f(**kwargs)\n"
     ]
    },
    {
     "data": {
      "text/plain": [
       "0.7671381936887922"
      ]
     },
     "execution_count": 65,
     "metadata": {},
     "output_type": "execute_result"
    }
   ],
   "source": [
    "from sklearn import linear_model\n",
    "from sklearn import metrics\n",
    "model = linear_model.LogisticRegression()\n",
    "model.fit(X_train,y_train)\n",
    "y_pred=model.predict(X_test)\n",
    "metrics.accuracy_score(y_test, y_pred)"
   ]
  },
  {
   "cell_type": "code",
   "execution_count": 78,
   "metadata": {},
   "outputs": [
    {
     "name": "stdout",
     "output_type": "stream",
     "text": [
      "Optimization terminated successfully.\n",
      "         Current function value: 0.492928\n",
      "         Iterations 7\n",
      "Optimization terminated successfully.\n",
      "         Current function value: 0.492928\n",
      "         Iterations 7\n"
     ]
    },
    {
     "data": {
      "text/html": [
       "<table class=\"simpletable\">\n",
       "<caption>Logit Regression Results</caption>\n",
       "<tr>\n",
       "  <th>Dep. Variable:</th>           <td>0</td>        <th>  No. Observations:  </th>  <td>  5514</td> \n",
       "</tr>\n",
       "<tr>\n",
       "  <th>Model:</th>                 <td>Logit</td>      <th>  Df Residuals:      </th>  <td>  5513</td> \n",
       "</tr>\n",
       "<tr>\n",
       "  <th>Method:</th>                 <td>MLE</td>       <th>  Df Model:          </th>  <td>     0</td> \n",
       "</tr>\n",
       "<tr>\n",
       "  <th>Date:</th>            <td>Tue, 02 Feb 2021</td> <th>  Pseudo R-squ.:     </th>  <td>0.2840</td> \n",
       "</tr>\n",
       "<tr>\n",
       "  <th>Time:</th>                <td>21:41:00</td>     <th>  Log-Likelihood:    </th> <td> -2718.0</td>\n",
       "</tr>\n",
       "<tr>\n",
       "  <th>converged:</th>             <td>True</td>       <th>  LL-Null:           </th> <td> -3795.9</td>\n",
       "</tr>\n",
       "<tr>\n",
       "  <th>Covariance Type:</th>     <td>nonrobust</td>    <th>  LLR p-value:       </th>  <td>   nan</td> \n",
       "</tr>\n",
       "</table>\n",
       "<table class=\"simpletable\">\n",
       "<tr>\n",
       "   <td></td>     <th>coef</th>     <th>std err</th>      <th>z</th>      <th>P>|z|</th>  <th>[0.025</th>    <th>0.975]</th>  \n",
       "</tr>\n",
       "<tr>\n",
       "  <th>x1</th> <td>   -5.1179</td> <td>    0.149</td> <td>  -34.345</td> <td> 0.000</td> <td>   -5.410</td> <td>   -4.826</td>\n",
       "</tr>\n",
       "</table>"
      ],
      "text/plain": [
       "<class 'statsmodels.iolib.summary.Summary'>\n",
       "\"\"\"\n",
       "                           Logit Regression Results                           \n",
       "==============================================================================\n",
       "Dep. Variable:                      0   No. Observations:                 5514\n",
       "Model:                          Logit   Df Residuals:                     5513\n",
       "Method:                           MLE   Df Model:                            0\n",
       "Date:                Tue, 02 Feb 2021   Pseudo R-squ.:                  0.2840\n",
       "Time:                        21:41:00   Log-Likelihood:                -2718.0\n",
       "converged:                       True   LL-Null:                       -3795.9\n",
       "Covariance Type:            nonrobust   LLR p-value:                       nan\n",
       "==============================================================================\n",
       "                 coef    std err          z      P>|z|      [0.025      0.975]\n",
       "------------------------------------------------------------------------------\n",
       "x1            -5.1179      0.149    -34.345      0.000      -5.410      -4.826\n",
       "==============================================================================\n",
       "\"\"\""
      ]
     },
     "execution_count": 78,
     "metadata": {},
     "output_type": "execute_result"
    }
   ],
   "source": [
    "import statsmodels.api as sm\n",
    "smmodel = sm.Logit(y_train,X_train)\n",
    "smmodel.fit()\n",
    "smy_pred=smmodel.predict(X_test.T)\n",
    "sm.Logit(y_train,X_train).fit().summary()\n",
    "#metrics.accuracy_score(y_test, smy_pred)"
   ]
  },
  {
   "cell_type": "markdown",
   "metadata": {},
   "source": [
    "## Task 4\n",
    "- Try to fit Binary Logistic Regression with all the features? How many are significant?"
   ]
  },
  {
   "cell_type": "code",
   "execution_count": 79,
   "metadata": {},
   "outputs": [],
   "source": [
    "X_train,X_test,y_train,y_test=train_test_split(X,y,test_size=0.25,random_state=0)"
   ]
  },
  {
   "cell_type": "code",
   "execution_count": 80,
   "metadata": {},
   "outputs": [
    {
     "name": "stderr",
     "output_type": "stream",
     "text": [
      "C:\\Users\\Tim\\anaconda3\\lib\\site-packages\\sklearn\\utils\\validation.py:72: DataConversionWarning: A column-vector y was passed when a 1d array was expected. Please change the shape of y to (n_samples, ), for example using ravel().\n",
      "  return f(**kwargs)\n"
     ]
    },
    {
     "data": {
      "text/plain": [
       "0.999455930359086"
      ]
     },
     "execution_count": 80,
     "metadata": {},
     "output_type": "execute_result"
    }
   ],
   "source": [
    "model = linear_model.LogisticRegression()\n",
    "model.fit(X_train,y_train)\n",
    "y_pred=model.predict(X_test)\n",
    "metrics.accuracy_score(y_test, y_pred)"
   ]
  },
  {
   "cell_type": "code",
   "execution_count": 81,
   "metadata": {
    "collapsed": true,
    "jupyter": {
     "outputs_hidden": true
    }
   },
   "outputs": [
    {
     "data": {
      "text/plain": [
       "array([[ 1.27786752e-01,  3.45668971e-02,  4.06342436e-04,\n",
       "         2.57586588e-01,  2.02424216e-01,  8.18305893e-02,\n",
       "         2.37206866e-01,  2.11597674e-01,  7.52737657e-02,\n",
       "         4.55541886e-01,  8.12398902e-02,  5.85621588e-02,\n",
       "        -4.79114285e-02, -1.08276919e-01, -2.84927631e-02,\n",
       "         1.52344680e-01,  5.18623521e-02, -3.93041795e-02,\n",
       "        -1.01412050e-01,  1.92400863e-01,  1.59973751e-01,\n",
       "         6.80622528e-02,  1.97941701e-01,  2.11534606e-01,\n",
       "        -2.81322684e-03, -1.17728807e-01, -8.46690722e-03,\n",
       "        -1.14578601e-03,  8.10590086e-02, -7.72008133e-02,\n",
       "         7.70983316e-02, -7.03978820e-02,  1.02843866e-01,\n",
       "        -1.28569898e-01,  1.00969471e-01, -1.45990373e-02,\n",
       "        -2.11495237e-02, -1.50838754e-01,  1.85407361e-02,\n",
       "        -1.98903736e-01,  2.86483623e-01, -2.48517455e-01,\n",
       "        -8.06221587e-02, -2.30738314e-01, -1.81639759e-01,\n",
       "        -2.74360597e-01, -2.30837607e-01, -1.79748826e-01,\n",
       "        -2.76709022e-01,  1.87036598e-01, -2.81443742e-01,\n",
       "        -1.35666120e-01,  3.32618748e-01, -1.81715319e-01,\n",
       "        -1.93263188e-02,  1.21929535e-01,  3.57118068e-01,\n",
       "        -2.12371565e-01, -1.29256910e-01, -2.30664746e-01,\n",
       "        -1.80045615e-01, -2.90996182e-01,  2.90438667e-02,\n",
       "        -6.18458415e-01, -1.10418360e-01, -1.10272153e-01,\n",
       "         1.16051506e-01, -1.20946710e-01,  1.24930133e-01,\n",
       "         6.56934392e-02, -5.54823724e-02,  4.07013530e-02,\n",
       "        -2.49468242e-02,  9.03198079e-02, -7.78782261e-02,\n",
       "         6.57868823e-02, -5.39906692e-02, -3.57307865e-02,\n",
       "        -1.91484963e-01, -1.84925264e-01, -3.98728879e-02,\n",
       "        -1.91824860e-02, -2.83479224e-02,  2.04474627e-01,\n",
       "         1.66047680e-01,  9.92201748e-02,  2.14012834e-01,\n",
       "         2.06096663e-01,  1.08135175e-01,  1.54503055e-01,\n",
       "         4.53221799e-02,  4.92276457e-02, -2.31725613e-01,\n",
       "        -1.30491931e-01, -9.22523107e-02,  1.87340760e-01,\n",
       "         5.71928099e-02,  5.54455565e-02,  2.18583063e-02,\n",
       "         2.30279716e-01,  2.19797815e-01,  1.08198929e-01,\n",
       "         3.86058844e-01,  2.86632267e-01,  3.47893115e-01,\n",
       "        -1.00896122e-01, -1.11956818e-01, -1.34431092e-01,\n",
       "        -2.29953808e-02, -1.06692710e-01,  4.67341188e-02,\n",
       "        -9.77414858e-02,  3.37849139e-02, -1.34925766e-01,\n",
       "         5.30456620e-02, -2.58490762e-02,  1.57784753e-02,\n",
       "         9.44117026e-02,  1.30011947e-01, -1.65417654e-01,\n",
       "         2.36381481e-03, -2.90598373e-02,  3.07183543e-02,\n",
       "         7.46604579e-02,  1.74820004e-01,  1.15523756e-01,\n",
       "         1.40001858e-01,  1.99229721e-01,  1.31897077e-01,\n",
       "        -2.07211452e-02,  5.85438113e-02,  9.72424341e-02,\n",
       "         8.08894383e-03, -4.48972615e-02, -2.56534151e-02,\n",
       "         1.96631756e-01,  3.34650416e-02,  5.40612701e-02,\n",
       "        -8.31786316e-03,  2.09056168e-01,  2.51972108e-01,\n",
       "         1.39254759e-01,  6.78551176e-02,  8.25260926e-02,\n",
       "         2.11067884e-01, -1.56490149e-01,  1.51573191e-01,\n",
       "        -3.79334535e-02, -1.38204844e-01, -2.29454990e-02,\n",
       "         7.59156898e-03,  7.92983017e-03, -5.11458533e-03,\n",
       "        -1.11285615e-01,  1.26041932e-01, -6.38210100e-02,\n",
       "        -4.42955866e-02, -1.53969866e-01, -2.31928272e-01,\n",
       "         3.69138279e-01,  3.96049462e-02, -1.28887258e-02,\n",
       "         3.94477987e-03,  8.25199092e-02,  6.15682830e-02,\n",
       "         1.10727882e-01,  1.21724751e-01,  6.86471707e-02,\n",
       "         1.29744728e-01,  3.10987373e-03,  4.18002641e-02,\n",
       "         6.95889713e-02, -3.72257045e-02, -4.17558853e-02,\n",
       "        -5.54295469e-02,  9.80930515e-02,  1.68052549e-02,\n",
       "         9.94324449e-03,  2.46066974e-02,  1.73634378e-01,\n",
       "         8.00373785e-02,  1.50993901e-01,  2.38791971e-01,\n",
       "         1.92801808e-01,  2.65752179e-01, -1.10312774e-01,\n",
       "         1.17650250e-01, -1.70736306e-03,  2.00997436e-02,\n",
       "        -2.63513228e-02,  5.14376630e-03, -4.19254105e-02,\n",
       "         6.80460685e-02, -1.24885293e-01,  1.28334674e-01,\n",
       "        -3.41135957e-02,  3.69160258e-02, -2.61741386e-02,\n",
       "         9.56126890e-02,  5.24494781e-02,  1.44245317e-01,\n",
       "        -3.11236100e-02, -6.25393038e-02,  8.31215777e-02,\n",
       "         8.86715909e-02,  1.44245317e-01, -9.15496847e-03,\n",
       "        -1.28296849e-01,  1.61889765e-01, -3.30895101e-02,\n",
       "        -1.67451989e-03,  1.35378782e-02,  5.86774602e-02,\n",
       "         1.44245317e-01, -3.11236100e-02, -6.25393038e-02,\n",
       "         8.31215777e-02,  8.86715909e-02,  1.44245317e-01,\n",
       "        -9.15496847e-03, -1.28296849e-01,  1.61889765e-01,\n",
       "        -3.30895101e-02, -1.67451989e-03,  1.35378782e-02,\n",
       "         5.86774602e-02,  1.87497448e-01,  1.44446943e-01,\n",
       "         1.42811011e-01,  1.47731232e-01,  1.34089297e-01,\n",
       "         1.87497448e-01,  5.23042296e-02,  1.37195813e-01,\n",
       "         3.29872861e-01, -1.33912531e-01,  1.34040732e-01,\n",
       "        -5.06906822e-02,  5.24226780e-02,  1.91151857e-01,\n",
       "        -7.14261245e-03,  2.40163654e-02,  3.62538201e-03,\n",
       "         1.57539986e-01,  1.91151857e-01,  5.22234959e-02,\n",
       "        -4.06922693e-03,  1.22090804e-01, -1.61855819e-02,\n",
       "         3.44072324e-02, -2.23858202e-02, -2.80449913e-02,\n",
       "         9.66453734e-02,  2.40238141e-02,  3.17561051e-02,\n",
       "         2.47954385e-02,  1.32270701e-01,  9.66453734e-02,\n",
       "         1.33981731e-02,  4.49802207e-02,  1.94429921e-01,\n",
       "         6.39273723e-02, -4.55905884e-02,  2.31644038e-02,\n",
       "        -4.87343893e-02,  2.24022941e-01,  1.74796246e-01,\n",
       "         1.15104723e-01,  2.69725387e-01,  2.02981790e-01,\n",
       "         6.77039539e-02,  2.72443061e-01,  2.29805034e-01,\n",
       "         1.16430621e-01,  2.36196595e-01,  1.28707625e-01,\n",
       "        -3.87727070e-03,  2.57691778e-02, -4.47612060e-02,\n",
       "         1.69009054e-02,  2.07030686e-01,  7.52173212e-02,\n",
       "         8.70756152e-02, -4.06106993e-02,  1.63475897e-01,\n",
       "         1.59753659e-01,  1.13463535e-01,  3.68863611e-01,\n",
       "         2.53718810e-01,  2.39249407e-01, -5.29131700e-02,\n",
       "         4.11857491e-02,  5.98240052e-02, -1.92403094e-01,\n",
       "        -1.19318487e-01,  2.26056084e-02,  2.11609037e-01,\n",
       "         1.90546267e-01, -7.04993085e-02, -7.96876003e-02,\n",
       "        -9.21588827e-02, -1.60217450e-01,  8.43718594e-02,\n",
       "         3.95832587e-02,  4.75218184e-02,  2.23905508e-02,\n",
       "         2.92880760e-02,  2.90044168e-02,  8.93925483e-03,\n",
       "        -2.34010741e-04,  7.90198211e-02,  4.74602086e-02,\n",
       "         2.91819659e-02,  5.86461367e-03,  7.67811203e-02,\n",
       "         3.00192641e-02,  7.82263064e-02,  5.62402132e-02,\n",
       "         4.58509274e-02,  7.79896164e-03, -2.37954215e-02,\n",
       "         2.87286118e-02, -7.07690818e-02, -4.84283272e-02,\n",
       "         8.88719717e-02,  4.65580016e-02, -6.37244364e-03,\n",
       "        -6.36403014e-02,  8.93054596e-02,  3.78721399e-03,\n",
       "        -7.37610994e-02,  2.90816880e-02,  2.43917175e-02,\n",
       "         6.27266550e-03,  7.59661593e-03,  1.64913717e-02,\n",
       "        -9.04763533e-04,  5.80800673e-03, -4.95886393e-02,\n",
       "         1.78282755e-02,  1.04489937e-02,  1.10021332e-03,\n",
       "        -4.27509361e-02,  7.46363463e-03,  1.92928336e-01,\n",
       "         1.49982391e-01,  1.01698913e-01,  1.97993549e-01,\n",
       "         1.73073809e-01,  9.69137352e-02,  2.18933275e-01,\n",
       "         1.63830685e-01,  1.00183000e-01,  1.84018812e-01,\n",
       "         1.41295604e-01,  9.70198043e-02,  8.47510146e-02,\n",
       "         2.20261554e-02,  5.40102536e-02,  1.78987094e-01,\n",
       "         5.73018031e-02,  5.55049798e-02,  2.18475852e-02,\n",
       "         1.93876632e-01,  1.05167636e-01,  9.49861312e-02,\n",
       "         4.35454250e-01,  3.03089136e-01,  2.77066337e-01,\n",
       "        -2.89857340e-01, -5.24321209e-02, -9.07526276e-02,\n",
       "        -1.73367318e-01, -1.21614640e-01, -1.44032902e-01,\n",
       "         1.92573981e-01,  1.57828236e-01,  3.83938091e-02,\n",
       "         2.12911758e-02,  9.43839209e-02,  5.66281400e-02,\n",
       "         6.73767296e-02,  4.35669252e-02,  4.20699574e-02,\n",
       "         2.16186776e-02,  2.90368902e-02,  4.04656761e-02,\n",
       "         1.85973734e-02,  7.37919066e-03,  5.80317315e-02,\n",
       "         4.28921126e-02,  3.61569974e-02,  1.97008142e-02,\n",
       "         6.25530046e-02,  4.02558595e-02,  6.79355422e-02,\n",
       "         5.31585514e-02,  5.60904878e-02,  1.37204335e-02,\n",
       "        -4.84536535e-03,  3.99680384e-02, -2.47314634e-02,\n",
       "         1.93055126e-03,  6.42046712e-02,  4.73974594e-02,\n",
       "         1.31255250e-02, -2.13680082e-02,  7.13984124e-02,\n",
       "         1.36751309e-02,  6.45192966e-02,  3.68136287e-02,\n",
       "         2.24705243e-02,  4.91508542e-03,  6.39021594e-03,\n",
       "         1.16068599e-02, -1.25485780e-02,  8.92488618e-03,\n",
       "         5.44068012e-02,  1.38873685e-02,  8.39468532e-03,\n",
       "        -1.08852806e-02,  3.95208645e-02,  6.28219016e-03,\n",
       "         2.94521302e-02,  1.13337639e-01,  1.32345212e-01,\n",
       "         8.53775959e-02,  2.03106549e-01,  1.00987206e-01,\n",
       "         6.77063077e-02,  1.29280173e-01,  1.31917502e-01,\n",
       "         1.24841359e-01,  2.11336855e-01,  9.15477079e-02,\n",
       "        -6.81993247e-02,  4.43452952e-02,  5.72912743e-02,\n",
       "         9.46991789e-02,  1.28571994e-02,  5.77848056e-02,\n",
       "         2.78170226e-02,  4.16377058e-02,  4.90091805e-02,\n",
       "         1.40300270e-01,  9.54268895e-02,  1.71214922e-01,\n",
       "         1.90644550e-01, -4.25793527e-02, -4.30819059e-02,\n",
       "         3.75982785e-02, -7.96142017e-02, -4.41593027e-02,\n",
       "         4.69409905e-02,  1.36148407e-01,  1.50663864e-01,\n",
       "         2.20680593e-01,  2.30448236e-01,  5.53793112e-02,\n",
       "         6.69534924e-02,  1.25934851e-02,  1.32948669e-02,\n",
       "         1.11680747e-02, -2.02152717e-02, -4.29435322e-02,\n",
       "        -3.65613867e-02, -2.96829323e-02, -4.38545124e-02,\n",
       "         1.37952826e-02,  7.33334142e-04, -4.46639600e-02,\n",
       "        -3.59536326e-02,  1.41680309e-02, -2.74937009e-02,\n",
       "         9.09593207e-02,  7.53250348e-03,  4.36736146e-03,\n",
       "         4.39222119e-03,  4.56637335e-03,  1.02472067e-02,\n",
       "         2.08081942e-03,  8.85429812e-03,  6.61429509e-02,\n",
       "         5.41386110e-03,  5.77966520e-03,  5.29840998e-03,\n",
       "         6.34990662e-02,  5.16754423e-03,  1.75242506e-02,\n",
       "         2.24129048e-02,  2.41081133e-02,  3.99698082e-03,\n",
       "         6.10190166e-03,  7.76852193e-03,  1.35441436e-02,\n",
       "         1.37057293e-02,  2.41784027e-02,  2.49212835e-02,\n",
       "         6.57269148e-03,  1.36143983e-02,  2.73032288e-02,\n",
       "         4.79616869e-03,  4.65941646e-02, -6.11653258e-02,\n",
       "         3.18154673e-02, -1.09290275e-01, -9.08874265e-02,\n",
       "         4.65941646e-02, -9.34030897e-02,  8.75845424e-02,\n",
       "         2.54939442e-01,  1.78042200e-01,  5.86699957e-02,\n",
       "        -2.67156561e-01, -2.66727105e-01,  1.52843164e-01,\n",
       "         1.31979476e-01,  1.48919107e-01,  1.30838010e-01,\n",
       "         8.02835339e-02,  1.52843164e-01,  4.08177112e-02,\n",
       "         1.42523513e-01,  2.34719227e-01,  5.46604968e-02,\n",
       "         7.69878545e-02,  7.53805130e-02,  1.23006895e-01,\n",
       "        -5.80763704e-03, -7.66257424e-03,  4.32534936e-03,\n",
       "        -4.05877622e-02, -6.63578427e-02, -5.80763704e-03,\n",
       "        -5.82788856e-02,  3.16448370e-02,  1.01596206e-01,\n",
       "         7.25839446e-02,  1.68335918e-02, -5.41633631e-02,\n",
       "        -7.71967983e-02,  3.49489821e-02,  8.97258234e-03,\n",
       "         2.09810735e-02,  8.98017407e-03,  2.85718277e-02,\n",
       "         3.49489821e-02,  5.45781550e-04,  5.12027282e-02,\n",
       "         1.17754483e-01,  6.78496053e-02,  2.02068258e-01,\n",
       "        -1.18889296e-01, -6.54134237e-02,  3.28563481e-02,\n",
       "        -4.95231882e-02,  2.58538414e-02, -1.51623925e-01,\n",
       "        -2.33169597e-01,  1.97892364e-01,  7.69480094e-02]])"
      ]
     },
     "execution_count": 81,
     "metadata": {},
     "output_type": "execute_result"
    }
   ],
   "source": [
    "model.coef_"
   ]
  },
  {
   "cell_type": "code",
   "execution_count": 82,
   "metadata": {},
   "outputs": [
    {
     "data": {
      "text/plain": [
       "array([0, 1], dtype=int64)"
      ]
     },
     "execution_count": 82,
     "metadata": {},
     "output_type": "execute_result"
    }
   ],
   "source": [
    "model.classes_"
   ]
  },
  {
   "cell_type": "code",
   "execution_count": 83,
   "metadata": {},
   "outputs": [
    {
     "data": {
      "text/plain": [
       "array([[1041,    1],\n",
       "       [   0,  796]], dtype=int64)"
      ]
     },
     "execution_count": 83,
     "metadata": {},
     "output_type": "execute_result"
    }
   ],
   "source": [
    "cnf_matrix = metrics.confusion_matrix(y_test, y_pred)\n",
    "cnf_matrix"
   ]
  },
  {
   "cell_type": "code",
   "execution_count": 85,
   "metadata": {},
   "outputs": [
    {
     "name": "stdout",
     "output_type": "stream",
     "text": [
      "0.999455930359086\n",
      "0.998745294855709\n",
      "1.0\n",
      "0.9993722536095417\n"
     ]
    }
   ],
   "source": [
    "TN, FP, FN, TP = metrics.confusion_matrix(y_test, y_pred).ravel()\n",
    "accuracy = (TP+TN)/(TN+FP+FN+TP)\n",
    "print(accuracy)\n",
    "precision = TP/(TP+FP) \n",
    "print(precision)\n",
    "recall = TP/(TP+FN)\n",
    "print(recall)\n",
    "F1 = 2 * (precision * recall) / (precision + recall)\n",
    "print(F1)"
   ]
  },
  {
   "cell_type": "markdown",
   "metadata": {},
   "source": [
    "## Task 5\n",
    "Now, let's fit Multinomial Logistic regression to predict all categories. Firstly, we can start with **Univariate** model for these features number separately:\n",
    "+ 4\n",
    "+ 54\n",
    "- 19\n",
    "\n",
    "Check the contingency matrix to see the effect of particular features!! (each feature can be good in predicting different categories)"
   ]
  },
  {
   "cell_type": "code",
   "execution_count": 86,
   "metadata": {},
   "outputs": [],
   "source": [
    "task5x = X[['tBodyAcc-std()-X','tGravityAcc-min()-Y','tBodyAcc-energy()-Z']]"
   ]
  },
  {
   "cell_type": "code",
   "execution_count": 87,
   "metadata": {},
   "outputs": [],
   "source": [
    "X_train,X_test,y_train,y_test=train_test_split(task5x,y,test_size=0.25,random_state=0)"
   ]
  },
  {
   "cell_type": "code",
   "execution_count": 88,
   "metadata": {},
   "outputs": [
    {
     "name": "stderr",
     "output_type": "stream",
     "text": [
      "C:\\Users\\Tim\\anaconda3\\lib\\site-packages\\sklearn\\utils\\validation.py:72: DataConversionWarning: A column-vector y was passed when a 1d array was expected. Please change the shape of y to (n_samples, ), for example using ravel().\n",
      "  return f(**kwargs)\n"
     ]
    }
   ],
   "source": [
    "model = linear_model.LogisticRegression(multi_class='multinomial')\n",
    "model.fit(X_train,y_train)\n",
    "y_pred=model.predict(X_test)"
   ]
  },
  {
   "cell_type": "code",
   "execution_count": 91,
   "metadata": {},
   "outputs": [
    {
     "name": "stdout",
     "output_type": "stream",
     "text": [
      "LR classes:  [0 1]\n"
     ]
    }
   ],
   "source": [
    "print(\"LR classes: \", model.classes_)\n",
    "#print(\"Predict proba: \", model.predict_proba([X_test]))"
   ]
  },
  {
   "cell_type": "code",
   "execution_count": 92,
   "metadata": {},
   "outputs": [
    {
     "data": {
      "text/plain": [
       "array([[1040,    2],\n",
       "       [   1,  795]], dtype=int64)"
      ]
     },
     "execution_count": 92,
     "metadata": {},
     "output_type": "execute_result"
    }
   ],
   "source": [
    "cnf_matrix = metrics.confusion_matrix(y_test, y_pred)\n",
    "cnf_matrix"
   ]
  },
  {
   "cell_type": "code",
   "execution_count": 93,
   "metadata": {},
   "outputs": [
    {
     "name": "stdout",
     "output_type": "stream",
     "text": [
      "0.9983677910772579\n",
      "0.9974905897114178\n",
      "0.9987437185929648\n",
      "0.9981167608286252\n"
     ]
    }
   ],
   "source": [
    "TN, FP, FN, TP = metrics.confusion_matrix(y_test, y_pred).ravel()\n",
    "accuracy = (TP+TN)/(TN+FP+FN+TP)\n",
    "print(accuracy)\n",
    "precision = TP/(TP+FP) \n",
    "print(precision)\n",
    "recall = TP/(TP+FN)\n",
    "print(recall)\n",
    "F1 = 2 * (precision * recall) / (precision + recall)\n",
    "print(F1)"
   ]
  },
  {
   "cell_type": "code",
   "execution_count": 100,
   "metadata": {},
   "outputs": [
    {
     "data": {
      "text/plain": [
       "array([[1040,    2],\n",
       "       [   1,  795]])"
      ]
     },
     "execution_count": 100,
     "metadata": {},
     "output_type": "execute_result"
    }
   ],
   "source": [
    "metrics.cluster.contingency_matrix(y_test,y_pred)"
   ]
  },
  {
   "cell_type": "markdown",
   "metadata": {},
   "source": [
    "## Task 6\n",
    "\n",
    "Fit the Multinomial Logistic Regression model again. Now, try to choose **all** important features we have in the dataset. Who will get the best predictions with the smallest number of features?"
   ]
  },
  {
   "cell_type": "code",
   "execution_count": 104,
   "metadata": {},
   "outputs": [],
   "source": [
    "from sklearn.feature_selection import RFE"
   ]
  },
  {
   "cell_type": "code",
   "execution_count": 112,
   "metadata": {},
   "outputs": [],
   "source": [
    "X_train,X_test,y_train,y_test=train_test_split(task5x,y,test_size=0.25,random_state=0)"
   ]
  },
  {
   "cell_type": "code",
   "execution_count": 113,
   "metadata": {},
   "outputs": [
    {
     "data": {
      "text/plain": [
       "(5514,)"
      ]
     },
     "execution_count": 113,
     "metadata": {},
     "output_type": "execute_result"
    }
   ],
   "source": [
    "y_train = y_train.values.reshape(5514,)\n",
    "y_train.shape"
   ]
  },
  {
   "cell_type": "code",
   "execution_count": 130,
   "metadata": {},
   "outputs": [],
   "source": [
    "estimator = linear_model.LogisticRegression(multi_class='multinomial')\n",
    "selector = RFE(estimator,n_features_to_select=10, step=1)\n",
    "selector = selector.fit(X_train, y_train)"
   ]
  },
  {
   "cell_type": "code",
   "execution_count": 131,
   "metadata": {},
   "outputs": [
    {
     "data": {
      "text/plain": [
       "LogisticRegression(multi_class='multinomial')"
      ]
     },
     "execution_count": 131,
     "metadata": {},
     "output_type": "execute_result"
    }
   ],
   "source": [
    "selector.estimator_"
   ]
  },
  {
   "cell_type": "code",
   "execution_count": 132,
   "metadata": {},
   "outputs": [
    {
     "data": {
      "text/plain": [
       "array([ True,  True,  True])"
      ]
     },
     "execution_count": 132,
     "metadata": {},
     "output_type": "execute_result"
    }
   ],
   "source": [
    "selector.support_"
   ]
  },
  {
   "cell_type": "code",
   "execution_count": 133,
   "metadata": {},
   "outputs": [
    {
     "data": {
      "text/plain": [
       "array([1, 1, 1])"
      ]
     },
     "execution_count": 133,
     "metadata": {},
     "output_type": "execute_result"
    }
   ],
   "source": [
    "selector.ranking_"
   ]
  },
  {
   "cell_type": "code",
   "execution_count": 134,
   "metadata": {},
   "outputs": [
    {
     "data": {
      "text/plain": [
       "3"
      ]
     },
     "execution_count": 134,
     "metadata": {},
     "output_type": "execute_result"
    }
   ],
   "source": [
    "selector.n_features_"
   ]
  },
  {
   "cell_type": "markdown",
   "metadata": {},
   "source": [
    "## Task 7 (Stretch)\n",
    "Create your own function for Stepwise selection. Use either sklearn or statsmodel."
   ]
  },
  {
   "cell_type": "code",
   "execution_count": null,
   "metadata": {},
   "outputs": [],
   "source": []
  },
  {
   "cell_type": "code",
   "execution_count": null,
   "metadata": {},
   "outputs": [],
   "source": []
  },
  {
   "cell_type": "code",
   "execution_count": null,
   "metadata": {},
   "outputs": [],
   "source": []
  },
  {
   "cell_type": "code",
   "execution_count": null,
   "metadata": {},
   "outputs": [],
   "source": []
  },
  {
   "cell_type": "code",
   "execution_count": null,
   "metadata": {},
   "outputs": [],
   "source": []
  }
 ],
 "metadata": {
  "kernelspec": {
   "display_name": "Python 3",
   "language": "python",
   "name": "python3"
  },
  "language_info": {
   "codemirror_mode": {
    "name": "ipython",
    "version": 3
   },
   "file_extension": ".py",
   "mimetype": "text/x-python",
   "name": "python",
   "nbconvert_exporter": "python",
   "pygments_lexer": "ipython3",
   "version": "3.8.5"
  }
 },
 "nbformat": 4,
 "nbformat_minor": 4
}
