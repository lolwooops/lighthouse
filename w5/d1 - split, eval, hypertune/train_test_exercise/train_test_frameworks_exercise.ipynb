{
 "cells": [
  {
   "cell_type": "markdown",
   "metadata": {},
   "source": [
    "# Train Test Frameworks\n",
    "These are simple exercises for practicing syntax of various functions from sklearn that split data into the train and test sets. The goal is to get familiar with these methods prior to the more complex challenge at the end of the day."
   ]
  },
  {
   "cell_type": "code",
   "execution_count": 1,
   "metadata": {
    "ExecuteTime": {
     "end_time": "2020-04-27T07:17:19.733929Z",
     "start_time": "2020-04-27T07:17:19.730983Z"
    }
   },
   "outputs": [],
   "source": [
    "# import numpy\n",
    "import numpy as np"
   ]
  },
  {
   "cell_type": "code",
   "execution_count": 2,
   "metadata": {
    "ExecuteTime": {
     "end_time": "2020-04-27T07:17:20.442277Z",
     "start_time": "2020-04-27T07:17:20.436036Z"
    }
   },
   "outputs": [],
   "source": [
    "X = np.random.normal(0,1,20).reshape(10,2)\n",
    "y = np.random.normal(0,1,10)"
   ]
  },
  {
   "cell_type": "markdown",
   "metadata": {},
   "source": [
    "* print X"
   ]
  },
  {
   "cell_type": "code",
   "execution_count": 3,
   "metadata": {
    "ExecuteTime": {
     "end_time": "2020-02-25T10:10:05.516072Z",
     "start_time": "2020-02-25T10:10:05.507842Z"
    }
   },
   "outputs": [
    {
     "data": {
      "text/plain": [
       "array([[-1.56169796, -0.21189681],\n",
       "       [-0.49236034,  0.78822745],\n",
       "       [-0.85569974, -0.86999854],\n",
       "       [ 0.41206009,  0.36817491],\n",
       "       [-1.19949683, -0.70830283],\n",
       "       [-0.7352723 ,  1.45496706],\n",
       "       [-0.38216715,  0.75701491],\n",
       "       [-0.41014728, -0.72461078],\n",
       "       [-0.17789748,  0.75992376],\n",
       "       [-0.94886744, -0.62071739]])"
      ]
     },
     "execution_count": 3,
     "metadata": {},
     "output_type": "execute_result"
    }
   ],
   "source": [
    "X"
   ]
  },
  {
   "cell_type": "markdown",
   "metadata": {},
   "source": [
    "* print y"
   ]
  },
  {
   "cell_type": "code",
   "execution_count": 4,
   "metadata": {
    "ExecuteTime": {
     "end_time": "2020-02-25T10:10:06.238921Z",
     "start_time": "2020-02-25T10:10:06.228202Z"
    }
   },
   "outputs": [
    {
     "data": {
      "text/plain": [
       "array([ 1.56302576,  0.20720296,  0.00315226,  0.0580002 ,  0.29541964,\n",
       "        2.54111913, -2.24361064,  0.35843113,  0.11740572,  1.75836083])"
      ]
     },
     "execution_count": 4,
     "metadata": {},
     "output_type": "execute_result"
    }
   ],
   "source": [
    "y"
   ]
  },
  {
   "cell_type": "markdown",
   "metadata": {},
   "source": [
    "## HOLDOUT split"
   ]
  },
  {
   "cell_type": "markdown",
   "metadata": {},
   "source": [
    "* import train_test_split function from sklearn"
   ]
  },
  {
   "cell_type": "code",
   "execution_count": 6,
   "metadata": {
    "ExecuteTime": {
     "end_time": "2020-04-27T07:19:36.229754Z",
     "start_time": "2020-04-27T07:19:36.224380Z"
    }
   },
   "outputs": [],
   "source": [
    "from sklearn.model_selection import train_test_split"
   ]
  },
  {
   "cell_type": "markdown",
   "metadata": {},
   "source": [
    "* split the data to train set (70%) and test set (30%)"
   ]
  },
  {
   "cell_type": "code",
   "execution_count": 7,
   "metadata": {
    "ExecuteTime": {
     "end_time": "2020-04-27T07:19:36.690033Z",
     "start_time": "2020-04-27T07:19:36.679323Z"
    }
   },
   "outputs": [],
   "source": [
    "X_train, X_test, y_train, y_test = train_test_split(X,y,train_size = 0.7)"
   ]
  },
  {
   "cell_type": "markdown",
   "metadata": {},
   "source": [
    "* print X_train"
   ]
  },
  {
   "cell_type": "code",
   "execution_count": 8,
   "metadata": {
    "ExecuteTime": {
     "end_time": "2020-04-27T07:19:37.410555Z",
     "start_time": "2020-04-27T07:19:37.384346Z"
    }
   },
   "outputs": [
    {
     "data": {
      "text/plain": [
       "array([[-0.49236034,  0.78822745],\n",
       "       [-0.17789748,  0.75992376],\n",
       "       [-1.56169796, -0.21189681],\n",
       "       [-0.7352723 ,  1.45496706],\n",
       "       [-1.19949683, -0.70830283],\n",
       "       [-0.94886744, -0.62071739],\n",
       "       [-0.85569974, -0.86999854]])"
      ]
     },
     "execution_count": 8,
     "metadata": {},
     "output_type": "execute_result"
    }
   ],
   "source": [
    "X_train"
   ]
  },
  {
   "cell_type": "markdown",
   "metadata": {},
   "source": [
    "* split the data again but now with  shuttle=False"
   ]
  },
  {
   "cell_type": "code",
   "execution_count": 9,
   "metadata": {
    "ExecuteTime": {
     "end_time": "2020-04-27T07:19:38.392368Z",
     "start_time": "2020-04-27T07:19:38.387406Z"
    }
   },
   "outputs": [],
   "source": [
    "X_train, X_test, y_train, y_test = train_test_split(X,y,train_size = 0.7,shuffle=False)"
   ]
  },
  {
   "cell_type": "markdown",
   "metadata": {},
   "source": [
    "* print X_train"
   ]
  },
  {
   "cell_type": "code",
   "execution_count": 10,
   "metadata": {
    "ExecuteTime": {
     "end_time": "2020-04-27T07:19:56.965372Z",
     "start_time": "2020-04-27T07:19:56.954696Z"
    }
   },
   "outputs": [
    {
     "data": {
      "text/plain": [
       "array([[-1.56169796, -0.21189681],\n",
       "       [-0.49236034,  0.78822745],\n",
       "       [-0.85569974, -0.86999854],\n",
       "       [ 0.41206009,  0.36817491],\n",
       "       [-1.19949683, -0.70830283],\n",
       "       [-0.7352723 ,  1.45496706],\n",
       "       [-0.38216715,  0.75701491]])"
      ]
     },
     "execution_count": 10,
     "metadata": {},
     "output_type": "execute_result"
    }
   ],
   "source": [
    "X_train"
   ]
  },
  {
   "cell_type": "markdown",
   "metadata": {},
   "source": [
    "* print shape of X_train and X_test"
   ]
  },
  {
   "cell_type": "code",
   "execution_count": 11,
   "metadata": {},
   "outputs": [
    {
     "name": "stdout",
     "output_type": "stream",
     "text": [
      "(7, 2) (3, 2)\n"
     ]
    }
   ],
   "source": [
    "print(X_train.shape, X_test.shape)"
   ]
  },
  {
   "cell_type": "markdown",
   "metadata": {},
   "source": [
    "## K-FOLD split "
   ]
  },
  {
   "cell_type": "code",
   "execution_count": null,
   "metadata": {},
   "outputs": [],
   "source": []
  },
  {
   "cell_type": "markdown",
   "metadata": {},
   "source": [
    "* import KFold from sklearn"
   ]
  },
  {
   "cell_type": "code",
   "execution_count": 12,
   "metadata": {
    "ExecuteTime": {
     "end_time": "2020-04-27T07:20:20.040524Z",
     "start_time": "2020-04-27T07:20:20.034774Z"
    }
   },
   "outputs": [],
   "source": [
    "from sklearn.model_selection import KFold"
   ]
  },
  {
   "cell_type": "markdown",
   "metadata": {},
   "source": [
    "* instantiate KFold with k=5"
   ]
  },
  {
   "cell_type": "code",
   "execution_count": 13,
   "metadata": {
    "ExecuteTime": {
     "end_time": "2020-04-27T07:21:02.886273Z",
     "start_time": "2020-04-27T07:21:02.882100Z"
    }
   },
   "outputs": [],
   "source": [
    "k_folds = 5\n",
    "\n",
    "# List that will accumulate test performance on each fold\n",
    "cv_r2 = []\n",
    "\n",
    "kf = KFold(n_splits=k_folds)\n",
    "\n"
   ]
  },
  {
   "cell_type": "markdown",
   "metadata": {},
   "source": [
    "* iterate over train_index and test_index in kf.split(X) and print them"
   ]
  },
  {
   "cell_type": "code",
   "execution_count": 14,
   "metadata": {
    "ExecuteTime": {
     "end_time": "2020-04-27T07:21:30.570119Z",
     "start_time": "2020-04-27T07:21:30.560118Z"
    }
   },
   "outputs": [
    {
     "name": "stdout",
     "output_type": "stream",
     "text": [
      "[[-1.56169796 -0.21189681]\n",
      " [-0.49236034  0.78822745]\n",
      " [-0.85569974 -0.86999854]\n",
      " [ 0.41206009  0.36817491]\n",
      " [-1.19949683 -0.70830283]\n",
      " [-0.7352723   1.45496706]\n",
      " [-0.38216715  0.75701491]\n",
      " [-0.41014728 -0.72461078]]\n",
      "[[-0.17789748  0.75992376]\n",
      " [-0.94886744 -0.62071739]]\n",
      "[ 1.56302576  0.20720296  0.00315226  0.0580002   0.29541964  2.54111913\n",
      " -2.24361064  0.35843113]\n",
      "[0.11740572 1.75836083]\n"
     ]
    }
   ],
   "source": [
    "for train_idx, test_idx in kf.split(X):\n",
    "    X_train, X_test, y_train, y_test = X[train_idx], X[test_idx], y[train_idx], y[test_idx]\n",
    "    \n",
    "print(X_train)\n",
    "print(X_test)\n",
    "print(y_train)\n",
    "print(y_test)"
   ]
  },
  {
   "cell_type": "markdown",
   "metadata": {},
   "source": [
    "* instantiate KFold with k=5 and shuffle=True"
   ]
  },
  {
   "cell_type": "code",
   "execution_count": 15,
   "metadata": {
    "ExecuteTime": {
     "end_time": "2020-04-27T07:21:52.693825Z",
     "start_time": "2020-04-27T07:21:52.687089Z"
    }
   },
   "outputs": [],
   "source": [
    "k_folds = 5\n",
    "\n",
    "# List that will accumulate test performance on each fold\n",
    "cv_r2 = []\n",
    "\n",
    "kf = KFold(n_splits=k_folds,shuffle=True)"
   ]
  },
  {
   "cell_type": "markdown",
   "metadata": {},
   "source": [
    "* iterate over train_index and test_index in kf.split(X) and print them"
   ]
  },
  {
   "cell_type": "code",
   "execution_count": 16,
   "metadata": {
    "ExecuteTime": {
     "end_time": "2020-02-25T10:19:37.219179Z",
     "start_time": "2020-02-25T10:19:37.210814Z"
    }
   },
   "outputs": [
    {
     "name": "stdout",
     "output_type": "stream",
     "text": [
      "[[-1.56169796 -0.21189681]\n",
      " [-0.85569974 -0.86999854]\n",
      " [-1.19949683 -0.70830283]\n",
      " [-0.7352723   1.45496706]\n",
      " [-0.38216715  0.75701491]\n",
      " [-0.41014728 -0.72461078]\n",
      " [-0.17789748  0.75992376]\n",
      " [-0.94886744 -0.62071739]]\n",
      "[[-1.56169796 -0.21189681]\n",
      " [-0.49236034  0.78822745]\n",
      " [-0.85569974 -0.86999854]\n",
      " [ 0.41206009  0.36817491]\n",
      " [-1.19949683 -0.70830283]\n",
      " [-0.41014728 -0.72461078]\n",
      " [-0.17789748  0.75992376]\n",
      " [-0.94886744 -0.62071739]]\n",
      "[[-1.56169796 -0.21189681]\n",
      " [-0.49236034  0.78822745]\n",
      " [ 0.41206009  0.36817491]\n",
      " [-1.19949683 -0.70830283]\n",
      " [-0.7352723   1.45496706]\n",
      " [-0.38216715  0.75701491]\n",
      " [-0.17789748  0.75992376]\n",
      " [-0.94886744 -0.62071739]]\n",
      "[[-1.56169796 -0.21189681]\n",
      " [-0.49236034  0.78822745]\n",
      " [-0.85569974 -0.86999854]\n",
      " [ 0.41206009  0.36817491]\n",
      " [-0.7352723   1.45496706]\n",
      " [-0.38216715  0.75701491]\n",
      " [-0.41014728 -0.72461078]\n",
      " [-0.17789748  0.75992376]]\n",
      "[[-0.49236034  0.78822745]\n",
      " [-0.85569974 -0.86999854]\n",
      " [ 0.41206009  0.36817491]\n",
      " [-1.19949683 -0.70830283]\n",
      " [-0.7352723   1.45496706]\n",
      " [-0.38216715  0.75701491]\n",
      " [-0.41014728 -0.72461078]\n",
      " [-0.94886744 -0.62071739]]\n",
      "[[-1.56169796 -0.21189681]\n",
      " [-0.17789748  0.75992376]]\n",
      "[ 0.20720296  0.00315226  0.0580002   0.29541964  2.54111913 -2.24361064\n",
      "  0.35843113  1.75836083]\n",
      "[1.56302576 0.11740572]\n"
     ]
    }
   ],
   "source": [
    "for train_idx, test_idx in kf.split(X):\n",
    "    X_train, X_test, y_train, y_test = X[train_idx], X[test_idx], y[train_idx], y[test_idx]\n",
    "    \n",
    "    print(X_train)\n",
    "print(X_test)\n",
    "print(y_train)\n",
    "print(y_test)"
   ]
  },
  {
   "cell_type": "markdown",
   "metadata": {
    "ExecuteTime": {
     "end_time": "2020-02-25T10:20:50.997776Z",
     "start_time": "2020-02-25T10:20:50.991967Z"
    }
   },
   "source": [
    "## LEAVE-ONE-OUT split\n",
    "this is a similar technique like the Leave-p-out in the previous readings, with p=1. Each observation is used as test set separately.\n",
    "- it's popular method for very small datasets\n",
    "- takes a lot of time for bigger data and can lead to overfitting of a final model."
   ]
  },
  {
   "cell_type": "code",
   "execution_count": null,
   "metadata": {},
   "outputs": [],
   "source": []
  },
  {
   "cell_type": "markdown",
   "metadata": {},
   "source": [
    "* import LeaveOneOut from sklearn"
   ]
  },
  {
   "cell_type": "code",
   "execution_count": 17,
   "metadata": {
    "ExecuteTime": {
     "end_time": "2020-04-27T07:22:57.562338Z",
     "start_time": "2020-04-27T07:22:57.557038Z"
    }
   },
   "outputs": [],
   "source": [
    "from sklearn.model_selection import LeaveOneOut"
   ]
  },
  {
   "cell_type": "markdown",
   "metadata": {},
   "source": [
    "* instantiate LeaveOneOut"
   ]
  },
  {
   "cell_type": "code",
   "execution_count": 18,
   "metadata": {
    "ExecuteTime": {
     "end_time": "2020-04-27T07:22:58.073776Z",
     "start_time": "2020-04-27T07:22:58.069381Z"
    }
   },
   "outputs": [
    {
     "data": {
      "text/plain": [
       "10"
      ]
     },
     "execution_count": 18,
     "metadata": {},
     "output_type": "execute_result"
    }
   ],
   "source": [
    "loo = LeaveOneOut()\n",
    "loo.get_n_splits(X)"
   ]
  },
  {
   "cell_type": "markdown",
   "metadata": {},
   "source": [
    "* iterate over train_index and test_index in loo.split(X) and print them"
   ]
  },
  {
   "cell_type": "code",
   "execution_count": 19,
   "metadata": {
    "ExecuteTime": {
     "end_time": "2020-04-27T07:23:15.893291Z",
     "start_time": "2020-04-27T07:23:15.882373Z"
    }
   },
   "outputs": [
    {
     "name": "stdout",
     "output_type": "stream",
     "text": [
      "TRAIN: [1 2 3 4 5 6 7 8 9] TEST: [0]\n",
      "[[-0.49236034  0.78822745]\n",
      " [-0.85569974 -0.86999854]\n",
      " [ 0.41206009  0.36817491]\n",
      " [-1.19949683 -0.70830283]\n",
      " [-0.7352723   1.45496706]\n",
      " [-0.38216715  0.75701491]\n",
      " [-0.41014728 -0.72461078]\n",
      " [-0.17789748  0.75992376]\n",
      " [-0.94886744 -0.62071739]] [[-1.56169796 -0.21189681]] [ 0.20720296  0.00315226  0.0580002   0.29541964  2.54111913 -2.24361064\n",
      "  0.35843113  0.11740572  1.75836083] [1.56302576]\n",
      "TRAIN: [0 2 3 4 5 6 7 8 9] TEST: [1]\n",
      "[[-1.56169796 -0.21189681]\n",
      " [-0.85569974 -0.86999854]\n",
      " [ 0.41206009  0.36817491]\n",
      " [-1.19949683 -0.70830283]\n",
      " [-0.7352723   1.45496706]\n",
      " [-0.38216715  0.75701491]\n",
      " [-0.41014728 -0.72461078]\n",
      " [-0.17789748  0.75992376]\n",
      " [-0.94886744 -0.62071739]] [[-0.49236034  0.78822745]] [ 1.56302576  0.00315226  0.0580002   0.29541964  2.54111913 -2.24361064\n",
      "  0.35843113  0.11740572  1.75836083] [0.20720296]\n",
      "TRAIN: [0 1 3 4 5 6 7 8 9] TEST: [2]\n",
      "[[-1.56169796 -0.21189681]\n",
      " [-0.49236034  0.78822745]\n",
      " [ 0.41206009  0.36817491]\n",
      " [-1.19949683 -0.70830283]\n",
      " [-0.7352723   1.45496706]\n",
      " [-0.38216715  0.75701491]\n",
      " [-0.41014728 -0.72461078]\n",
      " [-0.17789748  0.75992376]\n",
      " [-0.94886744 -0.62071739]] [[-0.85569974 -0.86999854]] [ 1.56302576  0.20720296  0.0580002   0.29541964  2.54111913 -2.24361064\n",
      "  0.35843113  0.11740572  1.75836083] [0.00315226]\n",
      "TRAIN: [0 1 2 4 5 6 7 8 9] TEST: [3]\n",
      "[[-1.56169796 -0.21189681]\n",
      " [-0.49236034  0.78822745]\n",
      " [-0.85569974 -0.86999854]\n",
      " [-1.19949683 -0.70830283]\n",
      " [-0.7352723   1.45496706]\n",
      " [-0.38216715  0.75701491]\n",
      " [-0.41014728 -0.72461078]\n",
      " [-0.17789748  0.75992376]\n",
      " [-0.94886744 -0.62071739]] [[0.41206009 0.36817491]] [ 1.56302576  0.20720296  0.00315226  0.29541964  2.54111913 -2.24361064\n",
      "  0.35843113  0.11740572  1.75836083] [0.0580002]\n",
      "TRAIN: [0 1 2 3 5 6 7 8 9] TEST: [4]\n",
      "[[-1.56169796 -0.21189681]\n",
      " [-0.49236034  0.78822745]\n",
      " [-0.85569974 -0.86999854]\n",
      " [ 0.41206009  0.36817491]\n",
      " [-0.7352723   1.45496706]\n",
      " [-0.38216715  0.75701491]\n",
      " [-0.41014728 -0.72461078]\n",
      " [-0.17789748  0.75992376]\n",
      " [-0.94886744 -0.62071739]] [[-1.19949683 -0.70830283]] [ 1.56302576  0.20720296  0.00315226  0.0580002   2.54111913 -2.24361064\n",
      "  0.35843113  0.11740572  1.75836083] [0.29541964]\n",
      "TRAIN: [0 1 2 3 4 6 7 8 9] TEST: [5]\n",
      "[[-1.56169796 -0.21189681]\n",
      " [-0.49236034  0.78822745]\n",
      " [-0.85569974 -0.86999854]\n",
      " [ 0.41206009  0.36817491]\n",
      " [-1.19949683 -0.70830283]\n",
      " [-0.38216715  0.75701491]\n",
      " [-0.41014728 -0.72461078]\n",
      " [-0.17789748  0.75992376]\n",
      " [-0.94886744 -0.62071739]] [[-0.7352723   1.45496706]] [ 1.56302576  0.20720296  0.00315226  0.0580002   0.29541964 -2.24361064\n",
      "  0.35843113  0.11740572  1.75836083] [2.54111913]\n",
      "TRAIN: [0 1 2 3 4 5 7 8 9] TEST: [6]\n",
      "[[-1.56169796 -0.21189681]\n",
      " [-0.49236034  0.78822745]\n",
      " [-0.85569974 -0.86999854]\n",
      " [ 0.41206009  0.36817491]\n",
      " [-1.19949683 -0.70830283]\n",
      " [-0.7352723   1.45496706]\n",
      " [-0.41014728 -0.72461078]\n",
      " [-0.17789748  0.75992376]\n",
      " [-0.94886744 -0.62071739]] [[-0.38216715  0.75701491]] [1.56302576 0.20720296 0.00315226 0.0580002  0.29541964 2.54111913\n",
      " 0.35843113 0.11740572 1.75836083] [-2.24361064]\n",
      "TRAIN: [0 1 2 3 4 5 6 8 9] TEST: [7]\n",
      "[[-1.56169796 -0.21189681]\n",
      " [-0.49236034  0.78822745]\n",
      " [-0.85569974 -0.86999854]\n",
      " [ 0.41206009  0.36817491]\n",
      " [-1.19949683 -0.70830283]\n",
      " [-0.7352723   1.45496706]\n",
      " [-0.38216715  0.75701491]\n",
      " [-0.17789748  0.75992376]\n",
      " [-0.94886744 -0.62071739]] [[-0.41014728 -0.72461078]] [ 1.56302576  0.20720296  0.00315226  0.0580002   0.29541964  2.54111913\n",
      " -2.24361064  0.11740572  1.75836083] [0.35843113]\n",
      "TRAIN: [0 1 2 3 4 5 6 7 9] TEST: [8]\n",
      "[[-1.56169796 -0.21189681]\n",
      " [-0.49236034  0.78822745]\n",
      " [-0.85569974 -0.86999854]\n",
      " [ 0.41206009  0.36817491]\n",
      " [-1.19949683 -0.70830283]\n",
      " [-0.7352723   1.45496706]\n",
      " [-0.38216715  0.75701491]\n",
      " [-0.41014728 -0.72461078]\n",
      " [-0.94886744 -0.62071739]] [[-0.17789748  0.75992376]] [ 1.56302576  0.20720296  0.00315226  0.0580002   0.29541964  2.54111913\n",
      " -2.24361064  0.35843113  1.75836083] [0.11740572]\n",
      "TRAIN: [0 1 2 3 4 5 6 7 8] TEST: [9]\n",
      "[[-1.56169796 -0.21189681]\n",
      " [-0.49236034  0.78822745]\n",
      " [-0.85569974 -0.86999854]\n",
      " [ 0.41206009  0.36817491]\n",
      " [-1.19949683 -0.70830283]\n",
      " [-0.7352723   1.45496706]\n",
      " [-0.38216715  0.75701491]\n",
      " [-0.41014728 -0.72461078]\n",
      " [-0.17789748  0.75992376]] [[-0.94886744 -0.62071739]] [ 1.56302576  0.20720296  0.00315226  0.0580002   0.29541964  2.54111913\n",
      " -2.24361064  0.35843113  0.11740572] [1.75836083]\n"
     ]
    }
   ],
   "source": [
    "for train_index, test_index in loo.split(X):\n",
    "    print(\"TRAIN:\", train_index, \"TEST:\", test_index)\n",
    "    X_train, X_test = X[train_index], X[test_index]\n",
    "    y_train, y_test = y[train_index], y[test_index]\n",
    "    print(X_train, X_test, y_train, y_test)"
   ]
  },
  {
   "cell_type": "markdown",
   "metadata": {
    "ExecuteTime": {
     "end_time": "2020-04-27T07:23:32.091854Z",
     "start_time": "2020-04-27T07:23:32.084557Z"
    }
   },
   "source": [
    "* print the number of splits"
   ]
  },
  {
   "cell_type": "code",
   "execution_count": 20,
   "metadata": {
    "ExecuteTime": {
     "end_time": "2020-04-27T07:23:44.088113Z",
     "start_time": "2020-04-27T07:23:44.079901Z"
    }
   },
   "outputs": [
    {
     "data": {
      "text/plain": [
       "10"
      ]
     },
     "execution_count": 20,
     "metadata": {},
     "output_type": "execute_result"
    }
   ],
   "source": [
    "loo.get_n_splits(X)"
   ]
  },
  {
   "cell_type": "code",
   "execution_count": null,
   "metadata": {},
   "outputs": [],
   "source": []
  }
 ],
 "metadata": {
  "kernelspec": {
   "display_name": "Python 3",
   "language": "python",
   "name": "python3"
  },
  "language_info": {
   "codemirror_mode": {
    "name": "ipython",
    "version": 3
   },
   "file_extension": ".py",
   "mimetype": "text/x-python",
   "name": "python",
   "nbconvert_exporter": "python",
   "pygments_lexer": "ipython3",
   "version": "3.8.5"
  },
  "toc": {
   "base_numbering": 1,
   "nav_menu": {},
   "number_sections": true,
   "sideBar": true,
   "skip_h1_title": false,
   "title_cell": "Table of Contents",
   "title_sidebar": "Contents",
   "toc_cell": false,
   "toc_position": {},
   "toc_section_display": true,
   "toc_window_display": false
  },
  "varInspector": {
   "cols": {
    "lenName": 16,
    "lenType": 16,
    "lenVar": 40
   },
   "kernels_config": {
    "python": {
     "delete_cmd_postfix": "",
     "delete_cmd_prefix": "del ",
     "library": "var_list.py",
     "varRefreshCmd": "print(var_dic_list())"
    },
    "r": {
     "delete_cmd_postfix": ") ",
     "delete_cmd_prefix": "rm(",
     "library": "var_list.r",
     "varRefreshCmd": "cat(var_dic_list()) "
    }
   },
   "types_to_exclude": [
    "module",
    "function",
    "builtin_function_or_method",
    "instance",
    "_Feature"
   ],
   "window_display": false
  }
 },
 "nbformat": 4,
 "nbformat_minor": 4
}
