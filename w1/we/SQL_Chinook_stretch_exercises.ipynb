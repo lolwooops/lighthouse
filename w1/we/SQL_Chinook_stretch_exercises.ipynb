{
 "cells": [
  {
   "cell_type": "markdown",
   "metadata": {},
   "source": [
    "## We will be working with database chinook.db\n",
    "You can download it here: https://drive.google.com/file/d/0Bz9_0VdXvv9bWUtqM0NBYzhKZ3c/view?usp=sharing\n",
    "\n",
    "The\tChinook\tDatabase is\tabout an imaginary video and music store. Each track is\tstored using one of\tthe digital formats and\thas\ta genre. The store has also\tsome playlists,\twhere a single track can be\tpart of several\tplaylists. Orders are recorded\tfor\tcustomers, but are called invoices. Every customer is assigned a support employee, and Employees report to other employees."
   ]
  },
  {
   "cell_type": "code",
   "execution_count": null,
   "metadata": {},
   "outputs": [],
   "source": []
  },
  {
   "cell_type": "markdown",
   "metadata": {},
   "source": [
    "### How\tmany\taudio tracks\tin\ttotal\twere\tbought\tby\tGerman\tcustomers? And\twhat\twas\tthe\ttotal\tprice\tpaid for\tthem?\n",
    "hint: use subquery to find all of tracks with their prices"
   ]
  },
  {
   "cell_type": "markdown",
   "metadata": {},
   "source": [
    "### What\tis\tthe\tspace,\tin\tbytes,\toccupied\tby\tthe\tplaylist\t“Grunge”,\tand\thow\tmuch\twould\tit\tcost?\n",
    "(Assume\tthat\tthe\tcost\tof\ta\tplaylist\tis\tthe\tsum\tof\tthe\tprice\tof\tits\tconstituent\ttracks)."
   ]
  },
  {
   "cell_type": "markdown",
   "metadata": {},
   "source": [
    "### List\tthe\tnames\tand\tthe\tcountries\tof\tthose\tcustomers\twho\tare\tsupported\tby\tan\temployee\twho\twas\tyounger\tthan\t35\twhen\thired. "
   ]
  }
 ],
 "metadata": {
  "kernelspec": {
   "display_name": "Python 3",
   "language": "python",
   "name": "python3"
  },
  "language_info": {
   "codemirror_mode": {
    "name": "ipython",
    "version": 3
   },
   "file_extension": ".py",
   "mimetype": "text/x-python",
   "name": "python",
   "nbconvert_exporter": "python",
   "pygments_lexer": "ipython3",
   "version": "3.8.5"
  }
 },
 "nbformat": 4,
 "nbformat_minor": 4
}
