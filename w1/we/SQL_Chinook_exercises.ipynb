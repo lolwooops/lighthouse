{
 "cells": [
  {
   "cell_type": "markdown",
   "metadata": {},
   "source": [
    "## We will be working with database chinook.db\n",
    "You can download it here: https://drive.google.com/file/d/0Bz9_0VdXvv9bWUtqM0NBYzhKZ3c/view?usp=sharing\n",
    "\n",
    "The\tChinook\tDatabase is\tabout an imaginary video and music store. Each track is\tstored using one of\tthe digital formats and\thas\ta genre. The store has also\tsome playlists,\twhere a single track can be\tpart of several\tplaylists. Orders are recorded\tfor\tcustomers, but are called invoices. Every customer is assigned a support employee, and Employees report to other employees."
   ]
  },
  {
   "cell_type": "code",
   "execution_count": null,
   "metadata": {},
   "outputs": [],
   "source": []
  },
  {
   "cell_type": "code",
   "execution_count": null,
   "metadata": {},
   "outputs": [],
   "source": []
  },
  {
   "cell_type": "markdown",
   "metadata": {},
   "source": [
    "### Which\tartists\tdid\tnot\tmake\tany\talbums\tat\tall?\tInclude\ttheir\tnames\tin your\tanswer."
   ]
  },
  {
   "cell_type": "markdown",
   "metadata": {},
   "source": [
    "### Which\tartists\trecorded\tany\ttracks\tof\tthe\tLatin\tgenre?"
   ]
  },
  {
   "cell_type": "markdown",
   "metadata": {},
   "source": [
    "### Which\tvideo track\thas\tthe\tlongest\tlength?"
   ]
  },
  {
   "cell_type": "markdown",
   "metadata": {},
   "source": [
    "### Find\tthe\tnames\tof\tcustomers\twho\tlive\tin\tthe\tsame\tcity\tas\tthe\ttop\temployee\t(The\tone\tnot\tmanaged\tby\tanyone)."
   ]
  },
  {
   "cell_type": "markdown",
   "metadata": {},
   "source": [
    "### Find\tthe\tmanagers of\temployees\tsupporting\tBrazilian\tcustomers."
   ]
  },
  {
   "cell_type": "markdown",
   "metadata": {},
   "source": [
    "### Which\tplaylists\thave\tno\tLatin\ttracks?"
   ]
  },
  {
   "cell_type": "code",
   "execution_count": null,
   "metadata": {},
   "outputs": [],
   "source": [
    "#Which artists did not make any albums at all? Include their names in your answer.\n",
    "\n",
    "SELECT name FROM artists\n",
    "    JOIN albums \n",
    "        ON artists.ArtistId = albums.ArtistId\n",
    "    GROUP BY albums.ArtistId\n",
    "    HAVING count(albums.ArtistId) = 0;"
   ]
  },
  {
   "cell_type": "code",
   "execution_count": null,
   "metadata": {},
   "outputs": [],
   "source": [
    "#Which artists recorded any tracks of the Latin genre?\n",
    "\n",
    "SELECT artists.name FROM artists \n",
    "    JOIN albums \n",
    "        ON artists.ArtistId = albums.ArtistId\n",
    "    JOIN tracks \n",
    "        ON tracks.AlbumId = albums.AlbumId\n",
    "    JOIN genres \n",
    "        ON genres.GenreId = tracks.GenreId\n",
    "    WHERE genres.name = 'Latin'\n",
    "    GROUP BY artists.name;"
   ]
  },
  {
   "cell_type": "code",
   "execution_count": null,
   "metadata": {},
   "outputs": [],
   "source": [
    "#Which video track has the longest length?\n",
    "\n",
    "SELECT tracks.name FROM tracks\n",
    "JOIN media_types\n",
    "  ON tracks.mediatypeId = media_types.mediatypeId\n",
    "WHERE media_types.name LIKE '%video%'\n",
    "ORDER BY tracks.milliseconds\n",
    "LIMIT 1"
   ]
  },
  {
   "cell_type": "code",
   "execution_count": null,
   "metadata": {},
   "outputs": [],
   "source": [
    "#Find the names of customers who live in the same city as the top employee (The one not managed by anyone).\n",
    "#doesn't work\n",
    "SELECT customers.FirstName, customers.LastName FROM customers\n",
    "JOIN employees\n",
    "  ON customers.Country = employees.Country\n",
    "WHERE employees.ReportsTo = NULL\n",
    "AND customers.City = employees.City;\n",
    "\n",
    "#working code\n",
    "SELECT customers.FirstName, customers.LastName FROM customers\n",
    "JOIN employees\n",
    "  ON customers.Country = employees.Country\n",
    "WHERE employees.FirstName LIKE 'Andrew%'\n",
    "AND customers.City = employees.City;"
   ]
  },
  {
   "cell_type": "code",
   "execution_count": null,
   "metadata": {},
   "outputs": [],
   "source": [
    "#Find the managers of employees supporting Brazilian customers.\n",
    "\n",
    "TRICK QUESTION ALL SALE REPS REPORT TO EMPLOYEEID #2"
   ]
  },
  {
   "cell_type": "code",
   "execution_count": null,
   "metadata": {},
   "outputs": [],
   "source": [
    "#Which playlists have no Latin tracks?\n",
    "\n",
    "SELECT playlists.name FROM playlists\n",
    "JOIN playlist_track\n",
    "  ON playlists.PlaylistId = playlist_track.PlaylistId\n",
    "JOIN tracks\n",
    "  ON tracks.TrackId = playlist_track.TrackId\n",
    "JOIN genres\n",
    "  ON tracks.GenreId = genres.GenreId\n",
    "WHERE tracks.GenreId != '7'\n",
    "GROUP BY playlists.name;\n",
    "\n",
    "SELECT playlists.name FROM playlists\n",
    "JOIN playlist_track\n",
    "  ON playlists.PlaylistId = playlist_track.PlaylistId\n",
    "JOIN tracks\n",
    "  ON tracks.TrackId = playlist_track.TrackId\n",
    "JOIN genres\n",
    "  ON tracks.GenreId = genres.GenreId\n",
    "WHERE genres.Name != 'Latin'\n",
    "GROUP BY playlists.name;"
   ]
  }
 ],
 "metadata": {
  "kernelspec": {
   "display_name": "Python 3",
   "language": "python",
   "name": "python3"
  },
  "language_info": {
   "codemirror_mode": {
    "name": "ipython",
    "version": 3
   },
   "file_extension": ".py",
   "mimetype": "text/x-python",
   "name": "python",
   "nbconvert_exporter": "python",
   "pygments_lexer": "ipython3",
   "version": "3.8.5"
  }
 },
 "nbformat": 4,
 "nbformat_minor": 4
}
