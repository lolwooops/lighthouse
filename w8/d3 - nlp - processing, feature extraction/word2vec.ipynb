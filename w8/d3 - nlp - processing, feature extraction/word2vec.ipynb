{
 "cells": [
  {
   "cell_type": "code",
   "execution_count": null,
   "metadata": {},
   "outputs": [],
   "source": [
    "\"\"\"\n",
    "Once we have the model loaded in Python, we can play with its different pre-built functions. Firstly, we can find the numeric vector for every word (it will always have \n",
    "length of 300).\n",
    "\"\"\"\n",
    "\n",
    "import gensim\n",
    "\n",
    "# Load Google's pre-trained Word2Vec model.\n",
    "model = gensim.models.Word2Vec.load_word2vec_format('./model/GoogleNews-vectors-negative300.bin', binary=True)\n",
    "\n",
    "vector = model['easy']\n",
    "# see the shape of the vector (300,)\n",
    "vector.shape"
   ]
  },
  {
   "cell_type": "code",
   "execution_count": null,
   "metadata": {},
   "outputs": [],
   "source": [
    "model.most_similar(\"nice\")"
   ]
  },
  {
   "cell_type": "code",
   "execution_count": null,
   "metadata": {},
   "outputs": [],
   "source": [
    "model.similarity(\"nice\",\"good\")"
   ]
  },
  {
   "cell_type": "code",
   "execution_count": null,
   "metadata": {},
   "outputs": [],
   "source": [
    "\"\"\"\n",
    "Interestingly, if we take two antonyms (words with opposite meaning), they are going to be highly similar according to a good Word2Vec model. \n",
    "This because we can usually replace opposite words with each other in the text.\n",
    "\"\"\"\n",
    "\n",
    "# Interesting\n",
    "model.similarity(\"bad\",\"good\")"
   ]
  },
  {
   "cell_type": "code",
   "execution_count": null,
   "metadata": {},
   "outputs": [],
   "source": [
    "# king - queen = man - woman\n",
    "model.most_similar(positive=['woman', 'king'], negative=['man'])"
   ]
  },
  {
   "cell_type": "code",
   "execution_count": null,
   "metadata": {},
   "outputs": [],
   "source": []
  },
  {
   "cell_type": "markdown",
   "metadata": {},
   "source": [
    "# CREATING OWN WORD2VEC"
   ]
  },
  {
   "cell_type": "code",
   "execution_count": null,
   "metadata": {},
   "outputs": [],
   "source": [
    "\"\"\"\n",
    "Data Preparation — Define corpus, clean, normalise and tokenise words\n",
    "Hyperparameters — Learning rate, epochs, window size, embedding size\n",
    "Generate Training Data — Build vocabulary, one-hot encoding for words, build dictionaries that map id to word and vice versa\n",
    "Model Training — Pass encoded words through forward pass, calculate error rate, adjust weights using backpropagation and compute loss\n",
    "Inference — Get word vector and find similar words\n",
    "Further improvements — Speeding up training time with Skip-gram Negative Sampling (SGNS) and Hierarchical Softmax\n",
    "\"\"\""
   ]
  },
  {
   "cell_type": "code",
   "execution_count": null,
   "metadata": {},
   "outputs": [],
   "source": [
    "text = \"natural language processing and machine learning is fun and exciting\"\n",
    "\n",
    "# Note the .lower() as upper and lowercase does not matter in our implementation\n",
    "# [['natural', 'language', 'processing', 'and', 'machine', 'learning', 'is', 'fun', 'and', 'exciting']]\n",
    "corpus = [[word.lower() for word in text.split()]]"
   ]
  },
  {
   "cell_type": "code",
   "execution_count": null,
   "metadata": {},
   "outputs": [],
   "source": [
    "settings = {\n",
    "\t'window_size': 2\t# context window +- center word\n",
    "\t'n': 10,\t\t# dimensions of word embeddings, also refer to size of hidden layer\n",
    "\t'epochs': 50,\t\t# number of training epochs\n",
    "\t'learning_rate': 0.01\t# learning rate\n",
    "}"
   ]
  },
  {
   "cell_type": "code",
   "execution_count": null,
   "metadata": {},
   "outputs": [],
   "source": [
    "# Initialise object\n",
    "w2v = word2vec()\n",
    "# Numpy ndarray with one-hot representation for [target_word, context_words]\n",
    "training_data = w2v.generate_training_data(settings, corpus)"
   ]
  },
  {
   "cell_type": "code",
   "execution_count": null,
   "metadata": {},
   "outputs": [],
   "source": [
    "class word2vec():\n",
    "  def __init__(self):\n",
    "    self.n = settings['n']\n",
    "    self.lr = settings['learning_rate']\n",
    "    self.epochs = settings['epochs']\n",
    "    self.window = settings['window_size']\n",
    "\n",
    "  def generate_training_data(self, settings, corpus):\n",
    "    # Find unique word counts using dictonary\n",
    "    word_counts = defaultdict(int)\n",
    "    for row in corpus:\n",
    "      for word in row:\n",
    "        word_counts[word] += 1\n",
    "    ## How many unique words in vocab? 9\n",
    "    self.v_count = len(word_counts.keys())\n",
    "    # Generate Lookup Dictionaries (vocab)\n",
    "    self.words_list = list(word_counts.keys())\n",
    "    # Generate word:index\n",
    "    self.word_index = dict((word, i) for i, word in enumerate(self.words_list))\n",
    "    # Generate index:word\n",
    "    self.index_word = dict((i, word) for i, word in enumerate(self.words_list))\n",
    "\n",
    "    training_data = []\n",
    "    # Cycle through each sentence in corpus\n",
    "    for sentence in corpus:\n",
    "      sent_len = len(sentence)\n",
    "      # Cycle through each word in sentence\n",
    "      for i, word in enumerate(sentence):\n",
    "        # Convert target word to one-hot\n",
    "        w_target = self.word2onehot(sentence[i])\n",
    "        # Cycle through context window\n",
    "        w_context = []\n",
    "        # Note: window_size 2 will have range of 5 values\n",
    "        for j in range(i - self.window, i + self.window+1):\n",
    "          # Criteria for context word \n",
    "          # 1. Target word cannot be context word (j != i)\n",
    "          # 2. Index must be greater or equal than 0 (j >= 0) - if not list index out of range\n",
    "          # 3. Index must be less or equal than length of sentence (j <= sent_len-1) - if not list index out of range \n",
    "          if j != i and j <= sent_len-1 and j >= 0:\n",
    "            # Append the one-hot representation of word to w_context\n",
    "            w_context.append(self.word2onehot(sentence[j]))\n",
    "            # print(sentence[i], sentence[j]) \n",
    "            # training_data contains a one-hot representation of the target word and context words\n",
    "        training_data.append([w_target, w_context])\n",
    "    return np.array(training_data)\n",
    "\n",
    "  def word2onehot(self, word):\n",
    "    # word_vec - initialise a blank vector\n",
    "    word_vec = [0 for i in range(0, self.v_count)] # Alternative - np.zeros(self.v_count)\n",
    "    # Get ID of word from word_index\n",
    "    word_index = self.word_index[word]\n",
    "    # Change value from 0 to 1 according to ID of the word\n",
    "    word_vec[word_index] = 1\n",
    "    return word_vec"
   ]
  },
  {
   "cell_type": "code",
   "execution_count": null,
   "metadata": {},
   "outputs": [],
   "source": [
    "# Training\n",
    "w2v.train(training_data)\n",
    "\n",
    "class word2vec():\n",
    "  def train(self, training_data):\n",
    "  # Initialising weight matrices\n",
    "  # Both s1 and s2 should be randomly initialised but for this demo, we pre-determine the arrays (getW1 and getW2)\n",
    "  # getW1 - shape (9x10) and getW2 - shape (10x9)\n",
    "  self.w1 = np.array(getW1)\n",
    "  self.w2 = np.array(getW2)\n",
    "  # self.w1 = np.random.uniform(-1, 1, (self.v_count, self.n))\n",
    "  # self.w2 = np.random.uniform(-1, 1, (self.n, self.v_count))"
   ]
  },
  {
   "cell_type": "code",
   "execution_count": null,
   "metadata": {},
   "outputs": [],
   "source": [
    "class word2vec():\n",
    "  def train(self, training_data):\n",
    "  ##Removed##\n",
    "  \n",
    "    # Cycle through each epoch\n",
    "    for i in range(self.epochs):\n",
    "      # Intialise loss to 0\n",
    "      self.loss = 0\n",
    "\n",
    "      # Cycle through each training sample\n",
    "      # w_t = vector for target word, w_c = vectors for context words\n",
    "      for w_t, w_c in training_data:\n",
    "        # Forward pass - Pass in vector for target word (w_t) to get:\n",
    "        # 1. predicted y using softmax (y_pred) 2. matrix of hidden layer (h) 3. output layer before softmax (u)\n",
    "        y_pred, h, u = self.forward_pass(w_t)\n",
    "        \n",
    "        ##Removed##\n",
    "        \n",
    "  def forward_pass(self, x):\n",
    "    # x is one-hot vector for target word, shape - 9x1\n",
    "    # Run through first matrix (w1) to get hidden layer - 10x9 dot 9x1 gives us 10x1\n",
    "    h = np.dot(self.w1.T, x)\n",
    "    # Dot product hidden layer with second matrix (w2) - 9x10 dot 10x1 gives us 9x1\n",
    "    u = np.dot(self.w2.T, h)\n",
    "    # Run 1x9 through softmax to force each element to range of [0, 1] - 1x8\n",
    "    y_c = self.softmax(u)\n",
    "    return y_c, h, u\n",
    "  \n",
    "  def softmax(self, x):\n",
    "    e_x = np.exp(x - np.max(x))\n",
    "    return e_x / e_x.sum(axis=0)"
   ]
  },
  {
   "cell_type": "code",
   "execution_count": null,
   "metadata": {},
   "outputs": [],
   "source": [
    "class word2vec():\n",
    "  ##Removed##\n",
    "  \n",
    "  for i in range(self.epochs):\n",
    "    self.loss = 0\n",
    "    for w_t, w_c in training_data:\n",
    "    ##Removed##\n",
    "      \n",
    "      # Calculate error\n",
    "      # 1. For a target word, calculate difference between y_pred and each of the context words\n",
    "      # 2. Sum up the differences using np.sum to give us the error for this particular target word\n",
    "      EI = np.sum([np.subtract(y_pred, word) for word in w_c], axis=0)\n",
    "\n",
    "      # Backpropagation\n",
    "      # We use SGD to backpropagate errors - calculate loss on the output layer \n",
    "      self.backprop(EI, h, w_t)\n",
    "\n",
    "      # Calculate loss\n",
    "      # There are 2 parts to the loss function\n",
    "      # Part 1: -ve sum of all the output +\n",
    "      # Part 2: length of context words * log of sum for all elements (exponential-ed) in the output layer before softmax (u)\n",
    "      # Note: word.index(1) returns the index in the context word vector with value 1\n",
    "      # Note: u[word.index(1)] returns the value of the output layer before softmax\n",
    "      self.loss += -np.sum([u[word.index(1)] for word in w_c]) + len(w_c) * np.log(np.sum(np.exp(u)))\n",
    "    print('Epoch:', i, \"Loss:\", self.loss)\n",
    "\n",
    "  def backprop(self, e, h, x):\n",
    "    # https://docs.scipy.org/doc/numpy-1.15.1/reference/generated/numpy.outer.html\n",
    "    # Column vector EI represents row-wise sum of prediction errors across each context word for the current center word\n",
    "    # Going backwards, we need to take derivative of E with respect of w2\n",
    "    # h - shape 10x1, e - shape 9x1, dl_dw2 - shape 10x9\n",
    "    dl_dw2 = np.outer(h, e)\n",
    "    # x - shape 1x8, w2 - 5x8, e.T - 8x1\n",
    "    # x - 1x8, np.dot() - 5x1, dl_dw1 - 8x5\n",
    "    dl_dw1 = np.outer(x, np.dot(self.w2, e.T))\n",
    "    # Update weights\n",
    "    self.w1 = self.w1 - (self.lr * dl_dw1)\n",
    "    self.w2 = self.w2 - (self.lr * dl_dw2)"
   ]
  },
  {
   "cell_type": "code",
   "execution_count": null,
   "metadata": {},
   "outputs": [],
   "source": [
    "# Get vector for word\n",
    "vec = w2v.word_vec(\"machine\")\n",
    "\n",
    "class word2vec():\n",
    "  ## Removed ##\n",
    "  \n",
    "  # Get vector from word\n",
    "  def word_vec(self, word):\n",
    "    w_index = self.word_index[word]\n",
    "    v_w = self.w1[w_index]\n",
    "    return v_w"
   ]
  },
  {
   "cell_type": "code",
   "execution_count": null,
   "metadata": {},
   "outputs": [],
   "source": [
    "# Find similar words\n",
    "w2v.vec_sim(\"machine\", 3)\n",
    "\n",
    "class word2vec():\n",
    "  ## Removed##\n",
    "  \n",
    "  # Input vector, returns nearest word(s)\n",
    "  def vec_sim(self, word, top_n):\n",
    "    v_w1 = self.word_vec(word)\n",
    "    word_sim = {}\n",
    "\n",
    "    for i in range(self.v_count):\n",
    "      # Find the similary score for each word in vocab\n",
    "      v_w2 = self.w1[i]\n",
    "      theta_sum = np.dot(v_w1, v_w2)\n",
    "      theta_den = np.linalg.norm(v_w1) * np.linalg.norm(v_w2)\n",
    "      theta = theta_sum / theta_den\n",
    "\n",
    "      word = self.index_word[i]\n",
    "      word_sim[word] = theta\n",
    "\n",
    "    words_sorted = sorted(word_sim.items(), key=lambda kv: kv[1], reverse=True)\n",
    "\n",
    "    for word, sim in words_sorted[:top_n]:\n",
    "      print(word, sim)"
   ]
  },
  {
   "cell_type": "code",
   "execution_count": null,
   "metadata": {},
   "outputs": [],
   "source": [
    "\"\"\"\n",
    "Skip-gram Negative Sampling (SGNS) helps to speed up training time and improve quality of resulting word vectors. This is done by training the network to only modify a \n",
    "small percentage of the weights rather than all of them. Recall in our example above, we update the weights for every other word and this can take a very long time if the \n",
    "vocab size is large. With SGNS, we only need to update the weights for the target word and a small number (e.g. 5 to 20) of random ‘negative’ words.\n",
    "\n",
    "Hierarchical Softmax is also another trick to speed up training time replacing the original softmax. The main idea is that instead of evaluating all the output nodes to \n",
    "obtain the probability distribution, we only need to evaluate about log (based 2) of it. It uses a binary tree (Huffman coding tree) representation where the nodes in the \n",
    "output layer are represented as leaves and its nodes are represented in relative probabilities to its child nodes.\n",
    "\"\"\""
   ]
  },
  {
   "cell_type": "code",
   "execution_count": null,
   "metadata": {},
   "outputs": [],
   "source": []
  },
  {
   "cell_type": "code",
   "execution_count": null,
   "metadata": {},
   "outputs": [],
   "source": []
  },
  {
   "cell_type": "code",
   "execution_count": null,
   "metadata": {},
   "outputs": [],
   "source": [
    "import bs4 as bs\n",
    "import urllib.request\n",
    "import re\n",
    "import nltk\n",
    "\n",
    "scrapped_data = urllib.request.urlopen('https://en.wikipedia.org/wiki/Artificial_intelligence')\n",
    "article = scrapped_data .read()\n",
    "\n",
    "parsed_article = bs.BeautifulSoup(article,'lxml')\n",
    "\n",
    "paragraphs = parsed_article.find_all('p')\n",
    "\n",
    "article_text = \"\"\n",
    "\n",
    "for p in paragraphs:\n",
    "    article_text += p.text"
   ]
  },
  {
   "cell_type": "code",
   "execution_count": null,
   "metadata": {},
   "outputs": [],
   "source": [
    "#preprocessing\n",
    "\n",
    "# Cleaing the text\n",
    "processed_article = article_text.lower()\n",
    "processed_article = re.sub('[^a-zA-Z]', ' ', processed_article )\n",
    "processed_article = re.sub(r'\\s+', ' ', processed_article)\n",
    "\n",
    "# Preparing the dataset\n",
    "all_sentences = nltk.sent_tokenize(processed_article)\n",
    "\n",
    "all_words = [nltk.word_tokenize(sent) for sent in all_sentences]\n",
    "\n",
    "# Removing Stop Words\n",
    "from nltk.corpus import stopwords\n",
    "for i in range(len(all_words)):\n",
    "    all_words[i] = [w for w in all_words[i] if w not in stopwords.words('english')]"
   ]
  },
  {
   "cell_type": "code",
   "execution_count": null,
   "metadata": {},
   "outputs": [],
   "source": [
    "# creating model\n",
    "\n",
    "from gensim.models import Word2Vec\n",
    "\n",
    "word2vec = Word2Vec(all_words, min_count=2)"
   ]
  },
  {
   "cell_type": "code",
   "execution_count": null,
   "metadata": {},
   "outputs": [],
   "source": [
    "vocabulary = word2vec.wv.vocab\n",
    "print(vocabulary)"
   ]
  },
  {
   "cell_type": "code",
   "execution_count": null,
   "metadata": {},
   "outputs": [],
   "source": [
    "v1 = word2vec.wv['artificial']"
   ]
  },
  {
   "cell_type": "code",
   "execution_count": null,
   "metadata": {},
   "outputs": [],
   "source": [
    "sim_words = word2vec.wv.most_similar('intelligence')"
   ]
  },
  {
   "cell_type": "code",
   "execution_count": null,
   "metadata": {},
   "outputs": [],
   "source": []
  },
  {
   "cell_type": "code",
   "execution_count": null,
   "metadata": {},
   "outputs": [],
   "source": []
  },
  {
   "cell_type": "code",
   "execution_count": null,
   "metadata": {},
   "outputs": [],
   "source": []
  },
  {
   "cell_type": "code",
   "execution_count": null,
   "metadata": {},
   "outputs": [],
   "source": []
  }
 ],
 "metadata": {
  "kernelspec": {
   "display_name": "Python 3",
   "language": "python",
   "name": "python3"
  },
  "language_info": {
   "codemirror_mode": {
    "name": "ipython",
    "version": 3
   },
   "file_extension": ".py",
   "mimetype": "text/x-python",
   "name": "python",
   "nbconvert_exporter": "python",
   "pygments_lexer": "ipython3",
   "version": "3.8.5"
  }
 },
 "nbformat": 4,
 "nbformat_minor": 4
}
