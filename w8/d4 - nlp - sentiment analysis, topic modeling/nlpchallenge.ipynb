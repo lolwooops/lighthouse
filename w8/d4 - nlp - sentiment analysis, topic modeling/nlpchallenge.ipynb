{
 "cells": [
  {
   "cell_type": "code",
   "execution_count": 22,
   "metadata": {},
   "outputs": [],
   "source": [
    "import pandas as pd\n",
    "import numpy as np\n",
    "import requests\n",
    "import regex as re\n",
    "import json"
   ]
  },
  {
   "cell_type": "code",
   "execution_count": 2,
   "metadata": {},
   "outputs": [],
   "source": [
    "filepath = 'C:/Users/Tim/Desktop/lighthouse/w8/d4/'\n",
    "file = 'nlpdataset2.txt'\n",
    "\n",
    "with open(filepath+file) as f:\n",
    "    read_data = f.read()"
   ]
  },
  {
   "cell_type": "code",
   "execution_count": 3,
   "metadata": {},
   "outputs": [],
   "source": [
    "df = pd.read_json(read_data, lines=True)"
   ]
  },
  {
   "cell_type": "code",
   "execution_count": 4,
   "metadata": {},
   "outputs": [
    {
     "data": {
      "text/html": [
       "<div>\n",
       "<style scoped>\n",
       "    .dataframe tbody tr th:only-of-type {\n",
       "        vertical-align: middle;\n",
       "    }\n",
       "\n",
       "    .dataframe tbody tr th {\n",
       "        vertical-align: top;\n",
       "    }\n",
       "\n",
       "    .dataframe thead th {\n",
       "        text-align: right;\n",
       "    }\n",
       "</style>\n",
       "<table border=\"1\" class=\"dataframe\">\n",
       "  <thead>\n",
       "    <tr style=\"text-align: right;\">\n",
       "      <th></th>\n",
       "      <th>created_at</th>\n",
       "      <th>id</th>\n",
       "      <th>id_str</th>\n",
       "      <th>text</th>\n",
       "      <th>display_text_range</th>\n",
       "      <th>source</th>\n",
       "      <th>truncated</th>\n",
       "      <th>in_reply_to_status_id</th>\n",
       "      <th>in_reply_to_status_id_str</th>\n",
       "      <th>in_reply_to_user_id</th>\n",
       "      <th>...</th>\n",
       "      <th>lang</th>\n",
       "      <th>timestamp_ms</th>\n",
       "      <th>retweeted_status</th>\n",
       "      <th>quoted_status_id</th>\n",
       "      <th>quoted_status_id_str</th>\n",
       "      <th>quoted_status</th>\n",
       "      <th>quoted_status_permalink</th>\n",
       "      <th>extended_entities</th>\n",
       "      <th>possibly_sensitive</th>\n",
       "      <th>extended_tweet</th>\n",
       "    </tr>\n",
       "  </thead>\n",
       "  <tbody>\n",
       "    <tr>\n",
       "      <th>0</th>\n",
       "      <td>2021-02-26 01:00:56+00:00</td>\n",
       "      <td>1365104527540641799</td>\n",
       "      <td>1365104527540641792</td>\n",
       "      <td>@luatds Thanks! :)</td>\n",
       "      <td>[8, 18]</td>\n",
       "      <td>&lt;a href=\"http://twitter.com/download/android\" ...</td>\n",
       "      <td>False</td>\n",
       "      <td>1.365103e+18</td>\n",
       "      <td>1.365103e+18</td>\n",
       "      <td>1.355223e+18</td>\n",
       "      <td>...</td>\n",
       "      <td>en</td>\n",
       "      <td>2021-02-26 01:00:56.438</td>\n",
       "      <td>NaN</td>\n",
       "      <td>NaN</td>\n",
       "      <td>NaN</td>\n",
       "      <td>NaN</td>\n",
       "      <td>NaN</td>\n",
       "      <td>NaN</td>\n",
       "      <td>NaN</td>\n",
       "      <td>NaN</td>\n",
       "    </tr>\n",
       "    <tr>\n",
       "      <th>1</th>\n",
       "      <td>2021-02-26 01:01:56+00:00</td>\n",
       "      <td>1365104778540425219</td>\n",
       "      <td>1365104778540425216</td>\n",
       "      <td>RT @twtselfieupdate: hey hey hey! it’s the 26t...</td>\n",
       "      <td>NaN</td>\n",
       "      <td>&lt;a href=\"http://twitter.com/download/iphone\" r...</td>\n",
       "      <td>False</td>\n",
       "      <td>NaN</td>\n",
       "      <td>NaN</td>\n",
       "      <td>NaN</td>\n",
       "      <td>...</td>\n",
       "      <td>en</td>\n",
       "      <td>2021-02-26 01:01:56.281</td>\n",
       "      <td>{'created_at': 'Fri Feb 26 01:01:41 +0000 2021...</td>\n",
       "      <td>NaN</td>\n",
       "      <td>NaN</td>\n",
       "      <td>NaN</td>\n",
       "      <td>NaN</td>\n",
       "      <td>NaN</td>\n",
       "      <td>NaN</td>\n",
       "      <td>NaN</td>\n",
       "    </tr>\n",
       "    <tr>\n",
       "      <th>2</th>\n",
       "      <td>2021-02-26 01:01:56+00:00</td>\n",
       "      <td>1365104780704686082</td>\n",
       "      <td>1365104780704686080</td>\n",
       "      <td>RT @pulte: I’m going to give one random person...</td>\n",
       "      <td>NaN</td>\n",
       "      <td>&lt;a href=\"http://twitter.com/download/iphone\" r...</td>\n",
       "      <td>False</td>\n",
       "      <td>NaN</td>\n",
       "      <td>NaN</td>\n",
       "      <td>NaN</td>\n",
       "      <td>...</td>\n",
       "      <td>en</td>\n",
       "      <td>2021-02-26 01:01:56.797</td>\n",
       "      <td>{'created_at': 'Thu Feb 25 19:09:00 +0000 2021...</td>\n",
       "      <td>NaN</td>\n",
       "      <td>NaN</td>\n",
       "      <td>NaN</td>\n",
       "      <td>NaN</td>\n",
       "      <td>NaN</td>\n",
       "      <td>NaN</td>\n",
       "      <td>NaN</td>\n",
       "    </tr>\n",
       "    <tr>\n",
       "      <th>3</th>\n",
       "      <td>2021-02-26 01:01:56+00:00</td>\n",
       "      <td>1365104780649979905</td>\n",
       "      <td>1365104780649979904</td>\n",
       "      <td>@buckeyegirll Hi Michelle! How are you? So nic...</td>\n",
       "      <td>[14, 75]</td>\n",
       "      <td>&lt;a href=\"https://about.twitter.com/products/tw...</td>\n",
       "      <td>False</td>\n",
       "      <td>1.365105e+18</td>\n",
       "      <td>1.365105e+18</td>\n",
       "      <td>1.206092e+08</td>\n",
       "      <td>...</td>\n",
       "      <td>en</td>\n",
       "      <td>2021-02-26 01:01:56.784</td>\n",
       "      <td>NaN</td>\n",
       "      <td>NaN</td>\n",
       "      <td>NaN</td>\n",
       "      <td>NaN</td>\n",
       "      <td>NaN</td>\n",
       "      <td>NaN</td>\n",
       "      <td>NaN</td>\n",
       "      <td>NaN</td>\n",
       "    </tr>\n",
       "    <tr>\n",
       "      <th>4</th>\n",
       "      <td>2021-02-26 01:01:56+00:00</td>\n",
       "      <td>1365104780775841794</td>\n",
       "      <td>1365104780775841792</td>\n",
       "      <td>@Karin11717512 @Acosta Air strikes are good wh...</td>\n",
       "      <td>[23, 79]</td>\n",
       "      <td>&lt;a href=\"http://twitter.com/download/android\" ...</td>\n",
       "      <td>False</td>\n",
       "      <td>1.365101e+18</td>\n",
       "      <td>1.365101e+18</td>\n",
       "      <td>1.332682e+18</td>\n",
       "      <td>...</td>\n",
       "      <td>en</td>\n",
       "      <td>2021-02-26 01:01:56.814</td>\n",
       "      <td>NaN</td>\n",
       "      <td>NaN</td>\n",
       "      <td>NaN</td>\n",
       "      <td>NaN</td>\n",
       "      <td>NaN</td>\n",
       "      <td>NaN</td>\n",
       "      <td>NaN</td>\n",
       "      <td>NaN</td>\n",
       "    </tr>\n",
       "  </tbody>\n",
       "</table>\n",
       "<p>5 rows × 36 columns</p>\n",
       "</div>"
      ],
      "text/plain": [
       "                 created_at                   id               id_str  \\\n",
       "0 2021-02-26 01:00:56+00:00  1365104527540641799  1365104527540641792   \n",
       "1 2021-02-26 01:01:56+00:00  1365104778540425219  1365104778540425216   \n",
       "2 2021-02-26 01:01:56+00:00  1365104780704686082  1365104780704686080   \n",
       "3 2021-02-26 01:01:56+00:00  1365104780649979905  1365104780649979904   \n",
       "4 2021-02-26 01:01:56+00:00  1365104780775841794  1365104780775841792   \n",
       "\n",
       "                                                text display_text_range  \\\n",
       "0                                 @luatds Thanks! :)            [8, 18]   \n",
       "1  RT @twtselfieupdate: hey hey hey! it’s the 26t...                NaN   \n",
       "2  RT @pulte: I’m going to give one random person...                NaN   \n",
       "3  @buckeyegirll Hi Michelle! How are you? So nic...           [14, 75]   \n",
       "4  @Karin11717512 @Acosta Air strikes are good wh...           [23, 79]   \n",
       "\n",
       "                                              source  truncated  \\\n",
       "0  <a href=\"http://twitter.com/download/android\" ...      False   \n",
       "1  <a href=\"http://twitter.com/download/iphone\" r...      False   \n",
       "2  <a href=\"http://twitter.com/download/iphone\" r...      False   \n",
       "3  <a href=\"https://about.twitter.com/products/tw...      False   \n",
       "4  <a href=\"http://twitter.com/download/android\" ...      False   \n",
       "\n",
       "   in_reply_to_status_id  in_reply_to_status_id_str  in_reply_to_user_id  ...  \\\n",
       "0           1.365103e+18               1.365103e+18         1.355223e+18  ...   \n",
       "1                    NaN                        NaN                  NaN  ...   \n",
       "2                    NaN                        NaN                  NaN  ...   \n",
       "3           1.365105e+18               1.365105e+18         1.206092e+08  ...   \n",
       "4           1.365101e+18               1.365101e+18         1.332682e+18  ...   \n",
       "\n",
       "   lang            timestamp_ms  \\\n",
       "0    en 2021-02-26 01:00:56.438   \n",
       "1    en 2021-02-26 01:01:56.281   \n",
       "2    en 2021-02-26 01:01:56.797   \n",
       "3    en 2021-02-26 01:01:56.784   \n",
       "4    en 2021-02-26 01:01:56.814   \n",
       "\n",
       "                                    retweeted_status  quoted_status_id  \\\n",
       "0                                                NaN               NaN   \n",
       "1  {'created_at': 'Fri Feb 26 01:01:41 +0000 2021...               NaN   \n",
       "2  {'created_at': 'Thu Feb 25 19:09:00 +0000 2021...               NaN   \n",
       "3                                                NaN               NaN   \n",
       "4                                                NaN               NaN   \n",
       "\n",
       "   quoted_status_id_str quoted_status  quoted_status_permalink  \\\n",
       "0                   NaN           NaN                      NaN   \n",
       "1                   NaN           NaN                      NaN   \n",
       "2                   NaN           NaN                      NaN   \n",
       "3                   NaN           NaN                      NaN   \n",
       "4                   NaN           NaN                      NaN   \n",
       "\n",
       "   extended_entities  possibly_sensitive  extended_tweet  \n",
       "0                NaN                 NaN             NaN  \n",
       "1                NaN                 NaN             NaN  \n",
       "2                NaN                 NaN             NaN  \n",
       "3                NaN                 NaN             NaN  \n",
       "4                NaN                 NaN             NaN  \n",
       "\n",
       "[5 rows x 36 columns]"
      ]
     },
     "execution_count": 4,
     "metadata": {},
     "output_type": "execute_result"
    }
   ],
   "source": [
    "df.head()"
   ]
  },
  {
   "cell_type": "code",
   "execution_count": 5,
   "metadata": {},
   "outputs": [
    {
     "data": {
      "text/plain": [
       "1325"
      ]
     },
     "execution_count": 5,
     "metadata": {},
     "output_type": "execute_result"
    }
   ],
   "source": [
    "df['id'].nunique()"
   ]
  },
  {
   "cell_type": "code",
   "execution_count": 6,
   "metadata": {},
   "outputs": [],
   "source": [
    "df['label'] = np.where(df['text'].str.contains(\":\\)\"),'1','0')"
   ]
  },
  {
   "cell_type": "code",
   "execution_count": 7,
   "metadata": {},
   "outputs": [
    {
     "data": {
      "text/html": [
       "<div>\n",
       "<style scoped>\n",
       "    .dataframe tbody tr th:only-of-type {\n",
       "        vertical-align: middle;\n",
       "    }\n",
       "\n",
       "    .dataframe tbody tr th {\n",
       "        vertical-align: top;\n",
       "    }\n",
       "\n",
       "    .dataframe thead th {\n",
       "        text-align: right;\n",
       "    }\n",
       "</style>\n",
       "<table border=\"1\" class=\"dataframe\">\n",
       "  <thead>\n",
       "    <tr style=\"text-align: right;\">\n",
       "      <th></th>\n",
       "      <th>label</th>\n",
       "      <th>text</th>\n",
       "    </tr>\n",
       "  </thead>\n",
       "  <tbody>\n",
       "    <tr>\n",
       "      <th>0</th>\n",
       "      <td>1</td>\n",
       "      <td>@luatds Thanks! :)</td>\n",
       "    </tr>\n",
       "    <tr>\n",
       "      <th>1</th>\n",
       "      <td>0</td>\n",
       "      <td>RT @twtselfieupdate: hey hey hey! it’s the 26t...</td>\n",
       "    </tr>\n",
       "    <tr>\n",
       "      <th>2</th>\n",
       "      <td>0</td>\n",
       "      <td>RT @pulte: I’m going to give one random person...</td>\n",
       "    </tr>\n",
       "    <tr>\n",
       "      <th>3</th>\n",
       "      <td>1</td>\n",
       "      <td>@buckeyegirll Hi Michelle! How are you? So nic...</td>\n",
       "    </tr>\n",
       "    <tr>\n",
       "      <th>4</th>\n",
       "      <td>1</td>\n",
       "      <td>@Karin11717512 @Acosta Air strikes are good wh...</td>\n",
       "    </tr>\n",
       "  </tbody>\n",
       "</table>\n",
       "</div>"
      ],
      "text/plain": [
       "  label                                               text\n",
       "0     1                                 @luatds Thanks! :)\n",
       "1     0  RT @twtselfieupdate: hey hey hey! it’s the 26t...\n",
       "2     0  RT @pulte: I’m going to give one random person...\n",
       "3     1  @buckeyegirll Hi Michelle! How are you? So nic...\n",
       "4     1  @Karin11717512 @Acosta Air strikes are good wh..."
      ]
     },
     "execution_count": 7,
     "metadata": {},
     "output_type": "execute_result"
    }
   ],
   "source": [
    "df[['label','text']].head()"
   ]
  },
  {
   "cell_type": "code",
   "execution_count": 8,
   "metadata": {},
   "outputs": [],
   "source": [
    "ds = ['label','text']\n",
    "dataset = df[ds]"
   ]
  },
  {
   "cell_type": "code",
   "execution_count": 9,
   "metadata": {},
   "outputs": [
    {
     "data": {
      "text/html": [
       "<div>\n",
       "<style scoped>\n",
       "    .dataframe tbody tr th:only-of-type {\n",
       "        vertical-align: middle;\n",
       "    }\n",
       "\n",
       "    .dataframe tbody tr th {\n",
       "        vertical-align: top;\n",
       "    }\n",
       "\n",
       "    .dataframe thead th {\n",
       "        text-align: right;\n",
       "    }\n",
       "</style>\n",
       "<table border=\"1\" class=\"dataframe\">\n",
       "  <thead>\n",
       "    <tr style=\"text-align: right;\">\n",
       "      <th></th>\n",
       "      <th>label</th>\n",
       "      <th>text</th>\n",
       "    </tr>\n",
       "  </thead>\n",
       "  <tbody>\n",
       "    <tr>\n",
       "      <th>0</th>\n",
       "      <td>1</td>\n",
       "      <td>@luatds Thanks! :)</td>\n",
       "    </tr>\n",
       "    <tr>\n",
       "      <th>1</th>\n",
       "      <td>0</td>\n",
       "      <td>RT @twtselfieupdate: hey hey hey! it’s the 26t...</td>\n",
       "    </tr>\n",
       "    <tr>\n",
       "      <th>2</th>\n",
       "      <td>0</td>\n",
       "      <td>RT @pulte: I’m going to give one random person...</td>\n",
       "    </tr>\n",
       "    <tr>\n",
       "      <th>3</th>\n",
       "      <td>1</td>\n",
       "      <td>@buckeyegirll Hi Michelle! How are you? So nic...</td>\n",
       "    </tr>\n",
       "    <tr>\n",
       "      <th>4</th>\n",
       "      <td>1</td>\n",
       "      <td>@Karin11717512 @Acosta Air strikes are good wh...</td>\n",
       "    </tr>\n",
       "  </tbody>\n",
       "</table>\n",
       "</div>"
      ],
      "text/plain": [
       "  label                                               text\n",
       "0     1                                 @luatds Thanks! :)\n",
       "1     0  RT @twtselfieupdate: hey hey hey! it’s the 26t...\n",
       "2     0  RT @pulte: I’m going to give one random person...\n",
       "3     1  @buckeyegirll Hi Michelle! How are you? So nic...\n",
       "4     1  @Karin11717512 @Acosta Air strikes are good wh..."
      ]
     },
     "execution_count": 9,
     "metadata": {},
     "output_type": "execute_result"
    }
   ],
   "source": [
    "dataset.head()"
   ]
  },
  {
   "cell_type": "code",
   "execution_count": 10,
   "metadata": {},
   "outputs": [],
   "source": [
    "from sklearn.model_selection import train_test_split\n",
    "x_train, x_test, y_train, y_test = train_test_split(dataset.text,dataset.label,train_size=0.7,random_state=123)"
   ]
  },
  {
   "cell_type": "code",
   "execution_count": 11,
   "metadata": {},
   "outputs": [],
   "source": [
    "import nltk\n",
    "# from nltk.corpus import stopwords\n",
    "# stop_words = set(stopwords.words('english'))\n",
    "\n",
    "import string\n",
    "import spacy"
   ]
  },
  {
   "cell_type": "code",
   "execution_count": 12,
   "metadata": {},
   "outputs": [],
   "source": [
    "from sklearn.pipeline import Pipeline\n",
    "from sklearn.preprocessing import FunctionTransformer\n",
    "from sklearn.feature_extraction.text import CountVectorizer, TfidfTransformer, TfidfVectorizer\n",
    "from sklearn import metrics"
   ]
  },
  {
   "cell_type": "code",
   "execution_count": 195,
   "metadata": {},
   "outputs": [],
   "source": [
    "def remove_punc(x):\n",
    "    pncmap = str.maketrans(\"\",\"\", string.punctuation)\n",
    "    stripped = [i.translate(pncmap) for i in x]\n",
    "    return stripped\n",
    "\n",
    "def lower(x):\n",
    "    lower = [i.lower() for i in x]\n",
    "    return lower\n",
    "\n",
    "# def remove_stopwords(x):\n",
    "#     words = [i for i in x if not i in stop_words]\n",
    "#     return words\n",
    "\n",
    "nlp = spacy.load(\"en_core_web_sm\")\n",
    "\n",
    "def normalize_text(documents, \n",
    "                   min_token_len=2, \n",
    "                   irrelevant_pos=['ADV','PRON','CCONJ','PUNCT','PART','DET','ADP','SPACE']):\n",
    "    \"\"\"\n",
    "    Given text, min_token_len, and irrelevant_pos carry out preprocessing of the text \n",
    "    and return a preprocessed string. \n",
    "    \n",
    "    Keyword arguments:\n",
    "    documents -- (np.array[str]) the list of documents to be preprocessed\n",
    "    min_token_len -- (int) min_token_length required\n",
    "    irrelevant_pos -- (list) a list of irrelevant pos tags\n",
    "    \n",
    "    Returns: np.array[str] the normalized documents\n",
    "    \"\"\"\n",
    "    normalized_documents = []\n",
    "    \n",
    "    for text in documents:\n",
    "        # Remove Emails\n",
    "        # text = remove_punc(text)\n",
    "        \n",
    "        #lower\n",
    "        # text = lower(text)\n",
    "\n",
    "        # Remove extra space characters\n",
    "        # text = re.sub(r'\\s+', ' ', text)\n",
    "\n",
    "        # Remove distracting characters\n",
    "        # text = re.sub(r'''[\\*\\~]+''', \"\", text)\n",
    "\n",
    "        # Remove Emails\n",
    "        text = re.sub(r'\\S*@\\S*\\s?', '', text)\n",
    "\n",
    "        # Remove extra space characters\n",
    "        text = re.sub(r'\\s+', ' ', text)\n",
    "\n",
    "        # Remove distracting characters\n",
    "        text = re.sub(r'''[\\*\\~]+''', \"\", text)        \n",
    "        \n",
    "        doc = nlp(text)\n",
    "        clean_text = []\n",
    "\n",
    "        for token in doc:\n",
    "            if (token.is_stop == False # Check if it's not a stopword\n",
    "                and token.is_alpha): # Check if it's an alphanumerics char\n",
    "                #and len(token) > min_token_len # Check if the word meets minimum threshold\n",
    "                #and token.pos_ not in irrelevant_pos): # Check if the POS is in the acceptable POS tags\n",
    "                lemma = token.lemma_ # Take the lemma of the word\n",
    "                clean_text.append(lemma)\n",
    "                \n",
    "        clean_text = ' '.join(clean_text)\n",
    "        normalized_documents.append(clean_text)\n",
    "#         normalized_documents.append(text)\n",
    "        \n",
    "    normalized_documents = np.array(normalized_documents)\n",
    "    return normalized_documents\n",
    "\n",
    "# Create a Transformer from the function so that we can use it in a Pipeline\n",
    "normalizer = FunctionTransformer(normalize_text)"
   ]
  },
  {
   "cell_type": "code",
   "execution_count": 196,
   "metadata": {},
   "outputs": [
    {
     "name": "stdout",
     "output_type": "stream",
     "text": [
      "Prior to normalization:\n",
      "@luatds Thanks! :)\n",
      "After normalization:\n",
      "['think fall asleep finger weird finger numb tingly']\n"
     ]
    }
   ],
   "source": [
    "print(f'Prior to normalization:\\n{x_train[0]}')\n",
    "print(f'After normalization:\\n{normalizer.transform(x_train[0:1])}')"
   ]
  },
  {
   "cell_type": "code",
   "execution_count": 188,
   "metadata": {},
   "outputs": [
    {
     "name": "stdout",
     "output_type": "stream",
     "text": [
      "thank\n"
     ]
    }
   ],
   "source": [
    "doc = nlp('Thanks! :)')\n",
    "clean_text=[]\n",
    "for token in doc:\n",
    "    if (token.is_stop == False # Check if it's not a stopword\n",
    "        and token.is_alpha # Check if it's an alphanumerics char\n",
    "        and len(token) > 2 # Check if the word meets minimum threshold\n",
    "        and token.pos not in ['ADV','PRON','CCONJ','PUNCT','PART','DET','ADP','SPACE']): # Check if the POS is in the acceptable POS tags\n",
    "        lemma = token.lemma_ # Take the lemma of the word\n",
    "        clean_text.append(lemma)\n",
    "        print(lemma)"
   ]
  },
  {
   "cell_type": "code",
   "execution_count": 181,
   "metadata": {},
   "outputs": [
    {
     "name": "stdout",
     "output_type": "stream",
     "text": [
      "thank\n",
      "!\n",
      ":)\n"
     ]
    }
   ],
   "source": [
    "for token in doc:\n",
    "    print(token.lemma_)"
   ]
  },
  {
   "cell_type": "code",
   "execution_count": 193,
   "metadata": {},
   "outputs": [
    {
     "name": "stdout",
     "output_type": "stream",
     "text": [
      "@luatds Thanks! :)\n",
      "@luatds\n",
      "Thanks\n",
      "['thanks']\n",
      "!\n",
      ":)\n"
     ]
    },
    {
     "data": {
      "text/plain": [
       "array(['thanks'], dtype='<U6')"
      ]
     },
     "execution_count": 193,
     "metadata": {},
     "output_type": "execute_result"
    }
   ],
   "source": [
    "def normalized_text(documents, min_token_len=2, irrelevant_pos=['ADV','PRON','CCONJ','PUNCT','PART','DET','ADP','SPACE']):\n",
    "    normalized_documents = []\n",
    "    for text in documents:\n",
    "        # Remove Emails\n",
    "        text = re.sub(r'\\S@\\S\\s?', '', text)\n",
    "        # Remove extra space characters\n",
    "        text = re.sub(r'\\s+', ' ', text)\n",
    "        # Remove distracting characters\n",
    "        text = re.sub(r'''[*~]+''', \"\", text)\n",
    "        print(text)\n",
    "        doc = nlp(text)\n",
    "        clean_text = []\n",
    "        for token in doc:\n",
    "            print(token)\n",
    "            if (token.is_stop == False # Check if it's not a stopword\n",
    "                and token.is_alpha # Check if it's an alphanumerics char\n",
    "                and len(token) > 2 # Check if the word meets minimum threshold\n",
    "                and token.pos not in ['ADV','PRON','CCONJ','PUNCT','PART','DET','ADP','SPACE']): # Check if the POS is in the acceptable POS tags\n",
    "                lemma = token.lemma_ # Take the lemma of the word\n",
    "                clean_text.append(lemma)\n",
    "                print(clean_text)\n",
    "\n",
    "        clean_text = ' '.join(clean_text)\n",
    "        normalized_documents.append(clean_text) \n",
    "\n",
    "    normalized_documents = np.array(normalized_documents)\n",
    "    return normalized_documents\n",
    "\n",
    "normalized_text(['@luatds Thanks! :)'])"
   ]
  },
  {
   "cell_type": "code",
   "execution_count": 127,
   "metadata": {},
   "outputs": [],
   "source": [
    "vectorizer = CountVectorizer()#min_df=2, max_df=0.95)\n",
    "tftrans = TfidfTransformer(use_idf=True,smooth_idf=True)"
   ]
  },
  {
   "cell_type": "code",
   "execution_count": 128,
   "metadata": {},
   "outputs": [],
   "source": [
    "preprocess = Pipeline([\n",
    "    ('normalizer', normalizer),\n",
    "    ('vectorizer', vectorizer),\n",
    "    ('tftrans', tftrans)\n",
    "])"
   ]
  },
  {
   "cell_type": "code",
   "execution_count": 129,
   "metadata": {},
   "outputs": [],
   "source": [
    "from sklearn.linear_model import LogisticRegression\n",
    "lr = LogisticRegression()"
   ]
  },
  {
   "cell_type": "code",
   "execution_count": 130,
   "metadata": {},
   "outputs": [],
   "source": [
    "from sklearn import set_config\n",
    "\n",
    "set_config(display='diagram')"
   ]
  },
  {
   "cell_type": "code",
   "execution_count": 131,
   "metadata": {},
   "outputs": [
    {
     "data": {
      "text/html": [
       "<style>div.sk-top-container {color: black;background-color: white;}div.sk-toggleable {background-color: white;}label.sk-toggleable__label {cursor: pointer;display: block;width: 100%;margin-bottom: 0;padding: 0.2em 0.3em;box-sizing: border-box;text-align: center;}div.sk-toggleable__content {max-height: 0;max-width: 0;overflow: hidden;text-align: left;background-color: #f0f8ff;}div.sk-toggleable__content pre {margin: 0.2em;color: black;border-radius: 0.25em;background-color: #f0f8ff;}input.sk-toggleable__control:checked~div.sk-toggleable__content {max-height: 200px;max-width: 100%;overflow: auto;}div.sk-estimator input.sk-toggleable__control:checked~label.sk-toggleable__label {background-color: #d4ebff;}div.sk-label input.sk-toggleable__control:checked~label.sk-toggleable__label {background-color: #d4ebff;}input.sk-hidden--visually {border: 0;clip: rect(1px 1px 1px 1px);clip: rect(1px, 1px, 1px, 1px);height: 1px;margin: -1px;overflow: hidden;padding: 0;position: absolute;width: 1px;}div.sk-estimator {font-family: monospace;background-color: #f0f8ff;margin: 0.25em 0.25em;border: 1px dotted black;border-radius: 0.25em;box-sizing: border-box;}div.sk-estimator:hover {background-color: #d4ebff;}div.sk-parallel-item::after {content: \"\";width: 100%;border-bottom: 1px solid gray;flex-grow: 1;}div.sk-label:hover label.sk-toggleable__label {background-color: #d4ebff;}div.sk-serial::before {content: \"\";position: absolute;border-left: 1px solid gray;box-sizing: border-box;top: 2em;bottom: 0;left: 50%;}div.sk-serial {display: flex;flex-direction: column;align-items: center;background-color: white;}div.sk-item {z-index: 1;}div.sk-parallel {display: flex;align-items: stretch;justify-content: center;background-color: white;}div.sk-parallel-item {display: flex;flex-direction: column;position: relative;background-color: white;}div.sk-parallel-item:first-child::after {align-self: flex-end;width: 50%;}div.sk-parallel-item:last-child::after {align-self: flex-start;width: 50%;}div.sk-parallel-item:only-child::after {width: 0;}div.sk-dashed-wrapped {border: 1px dashed gray;margin: 0.2em;box-sizing: border-box;padding-bottom: 0.1em;background-color: white;position: relative;}div.sk-label label {font-family: monospace;font-weight: bold;background-color: white;display: inline-block;line-height: 1.2em;}div.sk-label-container {position: relative;z-index: 2;text-align: center;}div.sk-container {display: inline-block;position: relative;}</style><div class=\"sk-top-container\"><div class=\"sk-container\"><div class=\"sk-item sk-dashed-wrapped\"><div class=\"sk-label-container\"><div class=\"sk-label sk-toggleable\"><input class=\"sk-toggleable__control sk-hidden--visually\" id=\"197b041f-6ac7-4f03-98b2-32fdbbae9631\" type=\"checkbox\" ><label class=\"sk-toggleable__label\" for=\"197b041f-6ac7-4f03-98b2-32fdbbae9631\">Pipeline</label><div class=\"sk-toggleable__content\"><pre>Pipeline(steps=[('preprocessor',\n",
       "                 Pipeline(steps=[('normalizer',\n",
       "                                  FunctionTransformer(func=<function normalize_text at 0x000002DB05B6DD30>)),\n",
       "                                 ('vectorizer', CountVectorizer()),\n",
       "                                 ('tftrans', TfidfTransformer())])),\n",
       "                ('model', LogisticRegression())])</pre></div></div></div><div class=\"sk-serial\"><div class=\"sk-item\"><div class=\"sk-label-container\"><div class=\"sk-label sk-toggleable\"><input class=\"sk-toggleable__control sk-hidden--visually\" id=\"49d38198-a088-4c49-b932-a79cfa34a0db\" type=\"checkbox\" ><label class=\"sk-toggleable__label\" for=\"49d38198-a088-4c49-b932-a79cfa34a0db\">preprocessor: Pipeline</label><div class=\"sk-toggleable__content\"><pre>Pipeline(steps=[('normalizer',\n",
       "                 FunctionTransformer(func=<function normalize_text at 0x000002DB05B6DD30>)),\n",
       "                ('vectorizer', CountVectorizer()),\n",
       "                ('tftrans', TfidfTransformer())])</pre></div></div></div><div class=\"sk-serial\"><div class=\"sk-item\"><div class=\"sk-estimator sk-toggleable\"><input class=\"sk-toggleable__control sk-hidden--visually\" id=\"436be31a-052f-4250-b990-9479a5b695ef\" type=\"checkbox\" ><label class=\"sk-toggleable__label\" for=\"436be31a-052f-4250-b990-9479a5b695ef\">FunctionTransformer</label><div class=\"sk-toggleable__content\"><pre>FunctionTransformer(func=<function normalize_text at 0x000002DB05B6DD30>)</pre></div></div></div><div class=\"sk-item\"><div class=\"sk-estimator sk-toggleable\"><input class=\"sk-toggleable__control sk-hidden--visually\" id=\"f0fe65b2-bc37-4c4c-95d6-edfd6b310f89\" type=\"checkbox\" ><label class=\"sk-toggleable__label\" for=\"f0fe65b2-bc37-4c4c-95d6-edfd6b310f89\">CountVectorizer</label><div class=\"sk-toggleable__content\"><pre>CountVectorizer()</pre></div></div></div><div class=\"sk-item\"><div class=\"sk-estimator sk-toggleable\"><input class=\"sk-toggleable__control sk-hidden--visually\" id=\"d67d21f3-1151-448d-8b7b-e50fc4aff6fa\" type=\"checkbox\" ><label class=\"sk-toggleable__label\" for=\"d67d21f3-1151-448d-8b7b-e50fc4aff6fa\">TfidfTransformer</label><div class=\"sk-toggleable__content\"><pre>TfidfTransformer()</pre></div></div></div></div></div><div class=\"sk-item\"><div class=\"sk-estimator sk-toggleable\"><input class=\"sk-toggleable__control sk-hidden--visually\" id=\"6a7f158e-0a88-47c6-abed-239a5ebd437e\" type=\"checkbox\" ><label class=\"sk-toggleable__label\" for=\"6a7f158e-0a88-47c6-abed-239a5ebd437e\">LogisticRegression</label><div class=\"sk-toggleable__content\"><pre>LogisticRegression()</pre></div></div></div></div></div></div></div>"
      ],
      "text/plain": [
       "Pipeline(steps=[('preprocessor',\n",
       "                 Pipeline(steps=[('normalizer',\n",
       "                                  FunctionTransformer(func=<function normalize_text at 0x000002DB05B6DD30>)),\n",
       "                                 ('vectorizer', CountVectorizer()),\n",
       "                                 ('tftrans', TfidfTransformer())])),\n",
       "                ('model', LogisticRegression())])"
      ]
     },
     "execution_count": 131,
     "metadata": {},
     "output_type": "execute_result"
    }
   ],
   "source": [
    "model_pipe = Pipeline([('preprocessor', preprocess), \n",
    "                     ('model', lr)])\n",
    "model_pipe.fit(x_train,y_train)"
   ]
  },
  {
   "cell_type": "code",
   "execution_count": 132,
   "metadata": {},
   "outputs": [
    {
     "name": "stdout",
     "output_type": "stream",
     "text": [
      "Test set accuracy: -0.29672600127145565\n",
      "Confusion Matrix: \n",
      "[[167  75]\n",
      " [ 48 108]]\n"
     ]
    }
   ],
   "source": [
    "y_pred = model_pipe.predict(x_test)\n",
    "acc = metrics.r2_score(y_test, y_pred)\n",
    "print(f'Test set accuracy: {acc}')\n",
    "cm = metrics.confusion_matrix(y_test, y_pred)\n",
    "print(f'Confusion Matrix: \\n{cm}')"
   ]
  },
  {
   "cell_type": "code",
   "execution_count": null,
   "metadata": {},
   "outputs": [],
   "source": []
  },
  {
   "cell_type": "code",
   "execution_count": null,
   "metadata": {},
   "outputs": [],
   "source": []
  }
 ],
 "metadata": {
  "kernelspec": {
   "display_name": "Python 3",
   "language": "python",
   "name": "python3"
  },
  "language_info": {
   "codemirror_mode": {
    "name": "ipython",
    "version": 3
   },
   "file_extension": ".py",
   "mimetype": "text/x-python",
   "name": "python",
   "nbconvert_exporter": "python",
   "pygments_lexer": "ipython3",
   "version": "3.8.5"
  }
 },
 "nbformat": 4,
 "nbformat_minor": 4
}
