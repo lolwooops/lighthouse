{
 "cells": [
  {
   "cell_type": "code",
   "execution_count": null,
   "metadata": {},
   "outputs": [],
   "source": [
    "import surprise\n",
    "import pandas as pd\n",
    "import numpy as np\n",
    "import urllib"
   ]
  },
  {
   "cell_type": "code",
   "execution_count": null,
   "metadata": {},
   "outputs": [],
   "source": [
    "df = ..."
   ]
  },
  {
   "cell_type": "code",
   "execution_count": null,
   "metadata": {},
   "outputs": [],
   "source": [
    "lower_rating = dataset['rating'].min()\n",
    "upper_rating = dataset['rating'].max()"
   ]
  },
  {
   "cell_type": "code",
   "execution_count": null,
   "metadata": {},
   "outputs": [],
   "source": [
    "reader = surprise.Reader(rating_scale=(0.5,4.))\n",
    "data = surprised.Dataset.load_from_df(dataset,reader)"
   ]
  },
  {
   "cell_type": "code",
   "execution_count": null,
   "metadata": {},
   "outputs": [],
   "source": [
    "alg = surprise.SVDpp()\n",
    "# SVD ++ (from netflix challenge) is a popular method for fitting recommender systems \n",
    "# extends vanilla SVD alg by only optimising known terms and performing regularisation\n",
    "output = alg.fit(data.build_full_trainset())\n",
    "pred = alg.predict(uid='50',iid='52')\n",
    "score=pred.est\n",
    "print(score)"
   ]
  },
  {
   "cell_type": "code",
   "execution_count": null,
   "metadata": {},
   "outputs": [],
   "source": [
    "# making recommendations\n",
    "# find movie ids that user 50 didnt rate - dont want to recommend a movie they already watched\n",
    "iids = dataset['iid'].unique()\n",
    "iids50 = dataset.loc(dataset['uid']==50,'iid')\n",
    "iids_to_pred = np.setdiffid(iids,iids50)"
   ]
  },
  {
   "cell_type": "code",
   "execution_count": null,
   "metadata": {},
   "outputs": [],
   "source": [
    "# predict score of movie ids that user 50 didnt rate and find best one\n",
    "testset = [[50,iid,4.] for iid in iids_to_pred]\n",
    "predictions=alg.test(testset)\n",
    "predictions[0]\n",
    "# each pred is a special obj - in order to find the best, convert obj into array of pred ratings\n",
    "pred_ratings = np.array([pred.est for pred in predictions])\n",
    "i_max = pred_ratings.argmax() # find index of the max predicted rating\n",
    "iid = iids_to_pred[i_max] #use this to find corres iid to recommend\n",
    "\n",
    "#can get top n items for user 50 -- replace argmax() with argpartition"
   ]
  },
  {
   "cell_type": "code",
   "execution_count": null,
   "metadata": {},
   "outputs": [],
   "source": [
    "# tuning and evaling model\n",
    "# can tune dimension DD affecting size of UU and VV, learning rate,\n",
    "# regularization term, number of epochs\n",
    "\n",
    "param_grid = {\n",
    "    'lr_all': [.001,.01],\n",
    "    'reg_all': [.1,.5]\n",
    "}\n",
    "gs = surprise.model_selection.GridSearchCV(surprise.SVDpp, param_grid, measures=['rmse','mae'], cv=3)\n",
    "gs.fit(data)\n",
    "print(gs.best_params['rmse'])"
   ]
  },
  {
   "cell_type": "code",
   "execution_count": null,
   "metadata": {},
   "outputs": [],
   "source": [
    "alg = surprise.SVDpp(lr_all=0.001)\n",
    "output = surprise.model_selection.cross_validate(alg, data, verbose=True)"
   ]
  },
  {
   "cell_type": "code",
   "execution_count": null,
   "metadata": {},
   "outputs": [],
   "source": []
  },
  {
   "cell_type": "code",
   "execution_count": null,
   "metadata": {},
   "outputs": [],
   "source": []
  },
  {
   "cell_type": "code",
   "execution_count": null,
   "metadata": {},
   "outputs": [],
   "source": []
  },
  {
   "cell_type": "code",
   "execution_count": null,
   "metadata": {},
   "outputs": [],
   "source": []
  },
  {
   "cell_type": "code",
   "execution_count": null,
   "metadata": {},
   "outputs": [],
   "source": []
  },
  {
   "cell_type": "code",
   "execution_count": null,
   "metadata": {},
   "outputs": [],
   "source": []
  },
  {
   "cell_type": "code",
   "execution_count": null,
   "metadata": {},
   "outputs": [],
   "source": []
  },
  {
   "cell_type": "code",
   "execution_count": null,
   "metadata": {},
   "outputs": [],
   "source": []
  }
 ],
 "metadata": {
  "kernelspec": {
   "display_name": "Python 3",
   "language": "python",
   "name": "python3"
  },
  "language_info": {
   "codemirror_mode": {
    "name": "ipython",
    "version": 3
   },
   "file_extension": ".py",
   "mimetype": "text/x-python",
   "name": "python",
   "nbconvert_exporter": "python",
   "pygments_lexer": "ipython3",
   "version": "3.8.5"
  }
 },
 "nbformat": 4,
 "nbformat_minor": 4
}
