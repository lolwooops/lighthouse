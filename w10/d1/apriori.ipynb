{
 "cells": [
  {
   "cell_type": "code",
   "execution_count": null,
   "metadata": {},
   "outputs": [],
   "source": [
    "# support\n",
    "# Support(B) = (Transactions containing (B))/(Total Transactions)\n",
    "\n",
    "# Support(Ketchup) = (Transactions containingKetchup)/(Total Transactions)\n",
    "# Support(Ketchup) = 100/1000\n",
    "#                  = 10%\n",
    "\n",
    "\n",
    "# confidence\n",
    "\n",
    "# Confidence(A→B) = (Transactions containing both (A and B))/(Transactions containing A)\n",
    "\n",
    "# Confidence(Burger→Ketchup) = (Transactions containing both (Burger and Ketchup))/(Transactions containing A)\n",
    "# Confidence(Burger→Ketchup) = 50/150\n",
    "#                            = 33.3%\n",
    "\n",
    "\n",
    "# lift \n",
    "\n",
    "# Lift(A→B) = (Confidence (A→B))/(Support (B))\n",
    "\n",
    "# Lift(Burger→Ketchup) = (Confidence (Burger→Ketchup))/(Support (Ketchup))\n",
    "# Lift(Burger→Ketchup) = 33.3/10\n",
    "#                      = 3.33\n",
    "\n",
    "\n",
    "# Set a minimum value for support and confidence. This means that we are only interested in finding rules for the items that have certain default existence \n",
    "# # (e.g. support) and have a minimum value for co-occurrence with other items (e.g. confidence).\n",
    "# Extract all the subsets having higher value of support than minimum threshold.\n",
    "# Select all the rules from the subsets with confidence value higher than minimum threshold.\n",
    "# Order the rules by descending order of Lift.\n",
    "\n",
    "import numpy as np\n",
    "import matplotlib.pyplot as plt\n",
    "import pandas as pd\n",
    "from apyori import apriori"
   ]
  },
  {
   "cell_type": "code",
   "execution_count": null,
   "metadata": {},
   "outputs": [],
   "source": [
    "store_data = pd.read_csv('D:\\\\Datasets\\\\store_data.csv')"
   ]
  },
  {
   "cell_type": "code",
   "execution_count": null,
   "metadata": {},
   "outputs": [],
   "source": [
    "store_data = pd.read_csv('D:\\\\Datasets\\\\store_data.csv', header=None)"
   ]
  },
  {
   "cell_type": "code",
   "execution_count": null,
   "metadata": {},
   "outputs": [],
   "source": [
    "records = []\n",
    "for i in range(0, 7501):\n",
    "    records.append([str(store_data.values[i,j]) for j in range(0, 20)])"
   ]
  },
  {
   "cell_type": "code",
   "execution_count": null,
   "metadata": {},
   "outputs": [],
   "source": [
    "association_rules = apriori(records, min_support=0.0045, min_confidence=0.2, min_lift=3, min_length=2)\n",
    "association_results = list(association_rules)"
   ]
  },
  {
   "cell_type": "code",
   "execution_count": null,
   "metadata": {},
   "outputs": [],
   "source": [
    "print(association_rules[0])"
   ]
  },
  {
   "cell_type": "code",
   "execution_count": null,
   "metadata": {},
   "outputs": [],
   "source": [
    "for item in association_rules:\n",
    "\n",
    "    # first index of the inner list\n",
    "    # Contains base item and add item\n",
    "    pair = item[0] \n",
    "    items = [x for x in pair]\n",
    "    print(\"Rule: \" + items[0] + \" -> \" + items[1])\n",
    "\n",
    "    #second index of the inner list\n",
    "    print(\"Support: \" + str(item[1]))\n",
    "\n",
    "    #third index of the list located at 0th\n",
    "    #of the third index of the inner list\n",
    "\n",
    "    print(\"Confidence: \" + str(item[2][0][2]))\n",
    "    print(\"Lift: \" + str(item[2][0][3]))\n",
    "    print(\"=====================================\")"
   ]
  },
  {
   "cell_type": "code",
   "execution_count": null,
   "metadata": {},
   "outputs": [],
   "source": []
  },
  {
   "cell_type": "code",
   "execution_count": null,
   "metadata": {},
   "outputs": [],
   "source": []
  }
 ],
 "metadata": {
  "kernelspec": {
   "display_name": "Python 3",
   "language": "python",
   "name": "python3"
  },
  "language_info": {
   "codemirror_mode": {
    "name": "ipython",
    "version": 3
   },
   "file_extension": ".py",
   "mimetype": "text/x-python",
   "name": "python",
   "nbconvert_exporter": "python",
   "pygments_lexer": "ipython3",
   "version": "3.8.5"
  }
 },
 "nbformat": 4,
 "nbformat_minor": 4
}
