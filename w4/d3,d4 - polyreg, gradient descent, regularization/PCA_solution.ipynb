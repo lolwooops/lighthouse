{
 "cells": [
  {
   "cell_type": "markdown",
   "metadata": {},
   "source": [
    "## Dimensionality reduction\n",
    "\n",
    "We will test some of the dimensionality reduction techniques on the [UFO dataset](https://drive.google.com/file/d/0B2gZvn36c5CmRTJpS3pkUllmX1U/view?usp=sharing) from the last week."
   ]
  },
  {
   "cell_type": "markdown",
   "metadata": {},
   "source": [
    "\n",
    "\n",
    "\n",
    "### PCA\n",
    "\n",
    "Subset all **weather related** features from the data and run PCA over it. \n",
    "\n",
    "\n",
    "1. Extract the 2 best principal components (k=2). \n",
    "1. Plot the **feature** space into the new space. \n",
    "    - We should create a scatter plot with 1st component on the axis x and second component on y. \n",
    "    - The length of each component is equal to number of columns (features) we have in our data before PCA.\n",
    "    - Points in the graph that are close to each other are similar features. We need to anotate the points with feature names.\n",
    "1. Observe which features have similar meaning and which have opposite.\n",
    "    - Features close to each other have similar meaning.\n",
    "1. Select the optimal number of dimensions to keep - *k* (find the explained variance of each component and use the elbow rule)\n",
    "1. Create a projection of your data into the *k* axes of the trained PCA\n",
    "1. Export the data with the new features. Number of rows should be the same as in the original dataset."
   ]
  },
  {
   "cell_type": "code",
   "execution_count": 4,
   "metadata": {},
   "outputs": [
    {
     "data": {
      "text/html": [
       "<div>\n",
       "<style scoped>\n",
       "    .dataframe tbody tr th:only-of-type {\n",
       "        vertical-align: middle;\n",
       "    }\n",
       "\n",
       "    .dataframe tbody tr th {\n",
       "        vertical-align: top;\n",
       "    }\n",
       "\n",
       "    .dataframe thead th {\n",
       "        text-align: right;\n",
       "    }\n",
       "</style>\n",
       "<table border=\"1\" class=\"dataframe\">\n",
       "  <thead>\n",
       "    <tr style=\"text-align: right;\">\n",
       "      <th></th>\n",
       "      <th>Unnamed: 0</th>\n",
       "      <th>timestamp</th>\n",
       "      <th>city</th>\n",
       "      <th>state</th>\n",
       "      <th>country</th>\n",
       "      <th>shape</th>\n",
       "      <th>duration_seconds</th>\n",
       "      <th>duration_text</th>\n",
       "      <th>notes</th>\n",
       "      <th>date_reported</th>\n",
       "      <th>...</th>\n",
       "      <th>windBearing</th>\n",
       "      <th>windBearingError</th>\n",
       "      <th>windSpeed</th>\n",
       "      <th>windSpeedError</th>\n",
       "      <th>ast_absolute_magnitude_h</th>\n",
       "      <th>ast_estimated_diameter</th>\n",
       "      <th>ast_is_dangerous</th>\n",
       "      <th>ast_miss_distance</th>\n",
       "      <th>ast_orbiting_body</th>\n",
       "      <th>ast_relative_velocity</th>\n",
       "    </tr>\n",
       "  </thead>\n",
       "  <tbody>\n",
       "    <tr>\n",
       "      <th>0</th>\n",
       "      <td>0</td>\n",
       "      <td>1949-10-10 20:30:00</td>\n",
       "      <td>san marcos</td>\n",
       "      <td>tx</td>\n",
       "      <td>us</td>\n",
       "      <td>cylinder</td>\n",
       "      <td>2700.0</td>\n",
       "      <td>45 minutes</td>\n",
       "      <td>This event took place in early fall around 194...</td>\n",
       "      <td>2004-04-27 00:00:00</td>\n",
       "      <td>...</td>\n",
       "      <td>154.0</td>\n",
       "      <td>NaN</td>\n",
       "      <td>4.89</td>\n",
       "      <td>NaN</td>\n",
       "      <td>21.5</td>\n",
       "      <td>0.297879</td>\n",
       "      <td>True</td>\n",
       "      <td>42621696.0</td>\n",
       "      <td>Earth</td>\n",
       "      <td>13778.372043</td>\n",
       "    </tr>\n",
       "    <tr>\n",
       "      <th>1</th>\n",
       "      <td>1</td>\n",
       "      <td>1949-10-10 21:00:00</td>\n",
       "      <td>lackland afb</td>\n",
       "      <td>tx</td>\n",
       "      <td>NaN</td>\n",
       "      <td>light</td>\n",
       "      <td>7200.0</td>\n",
       "      <td>1-2 hrs</td>\n",
       "      <td>1949 Lackland AFB&amp;#44 TX.  Lights racing acros...</td>\n",
       "      <td>2005-12-16 00:00:00</td>\n",
       "      <td>...</td>\n",
       "      <td>135.0</td>\n",
       "      <td>NaN</td>\n",
       "      <td>6.60</td>\n",
       "      <td>NaN</td>\n",
       "      <td>21.5</td>\n",
       "      <td>0.297879</td>\n",
       "      <td>True</td>\n",
       "      <td>42621696.0</td>\n",
       "      <td>Earth</td>\n",
       "      <td>13778.372043</td>\n",
       "    </tr>\n",
       "    <tr>\n",
       "      <th>2</th>\n",
       "      <td>2</td>\n",
       "      <td>1955-10-10 17:00:00</td>\n",
       "      <td>chester (uk/england)</td>\n",
       "      <td>NaN</td>\n",
       "      <td>gb</td>\n",
       "      <td>circle</td>\n",
       "      <td>20.0</td>\n",
       "      <td>20 seconds</td>\n",
       "      <td>Green/Orange circular disc over Chester&amp;#44 En...</td>\n",
       "      <td>2008-01-21 00:00:00</td>\n",
       "      <td>...</td>\n",
       "      <td>NaN</td>\n",
       "      <td>NaN</td>\n",
       "      <td>NaN</td>\n",
       "      <td>NaN</td>\n",
       "      <td>21.5</td>\n",
       "      <td>0.297879</td>\n",
       "      <td>True</td>\n",
       "      <td>42621696.0</td>\n",
       "      <td>Earth</td>\n",
       "      <td>13778.372043</td>\n",
       "    </tr>\n",
       "    <tr>\n",
       "      <th>3</th>\n",
       "      <td>3</td>\n",
       "      <td>1956-10-10 21:00:00</td>\n",
       "      <td>edna</td>\n",
       "      <td>tx</td>\n",
       "      <td>us</td>\n",
       "      <td>circle</td>\n",
       "      <td>20.0</td>\n",
       "      <td>1/2 hour</td>\n",
       "      <td>My older brother and twin sister were leaving ...</td>\n",
       "      <td>2004-01-17 00:00:00</td>\n",
       "      <td>...</td>\n",
       "      <td>136.0</td>\n",
       "      <td>NaN</td>\n",
       "      <td>2.75</td>\n",
       "      <td>NaN</td>\n",
       "      <td>21.5</td>\n",
       "      <td>0.297879</td>\n",
       "      <td>True</td>\n",
       "      <td>42621696.0</td>\n",
       "      <td>Earth</td>\n",
       "      <td>13778.372043</td>\n",
       "    </tr>\n",
       "    <tr>\n",
       "      <th>4</th>\n",
       "      <td>4</td>\n",
       "      <td>1960-10-10 20:00:00</td>\n",
       "      <td>kaneohe</td>\n",
       "      <td>hi</td>\n",
       "      <td>us</td>\n",
       "      <td>light</td>\n",
       "      <td>900.0</td>\n",
       "      <td>15 minutes</td>\n",
       "      <td>AS a Marine 1st Lt. flying an FJ4B fighter/att...</td>\n",
       "      <td>2004-01-22 00:00:00</td>\n",
       "      <td>...</td>\n",
       "      <td>80.0</td>\n",
       "      <td>NaN</td>\n",
       "      <td>3.60</td>\n",
       "      <td>NaN</td>\n",
       "      <td>21.5</td>\n",
       "      <td>0.297879</td>\n",
       "      <td>True</td>\n",
       "      <td>42621696.0</td>\n",
       "      <td>Earth</td>\n",
       "      <td>13778.372043</td>\n",
       "    </tr>\n",
       "  </tbody>\n",
       "</table>\n",
       "<p>5 rows × 42 columns</p>\n",
       "</div>"
      ],
      "text/plain": [
       "   Unnamed: 0            timestamp                  city state country  \\\n",
       "0           0  1949-10-10 20:30:00            san marcos    tx      us   \n",
       "1           1  1949-10-10 21:00:00          lackland afb    tx     NaN   \n",
       "2           2  1955-10-10 17:00:00  chester (uk/england)   NaN      gb   \n",
       "3           3  1956-10-10 21:00:00                  edna    tx      us   \n",
       "4           4  1960-10-10 20:00:00               kaneohe    hi      us   \n",
       "\n",
       "      shape  duration_seconds duration_text  \\\n",
       "0  cylinder            2700.0    45 minutes   \n",
       "1     light            7200.0       1-2 hrs   \n",
       "2    circle              20.0    20 seconds   \n",
       "3    circle              20.0      1/2 hour   \n",
       "4     light             900.0    15 minutes   \n",
       "\n",
       "                                               notes        date_reported  \\\n",
       "0  This event took place in early fall around 194...  2004-04-27 00:00:00   \n",
       "1  1949 Lackland AFB&#44 TX.  Lights racing acros...  2005-12-16 00:00:00   \n",
       "2  Green/Orange circular disc over Chester&#44 En...  2008-01-21 00:00:00   \n",
       "3  My older brother and twin sister were leaving ...  2004-01-17 00:00:00   \n",
       "4  AS a Marine 1st Lt. flying an FJ4B fighter/att...  2004-01-22 00:00:00   \n",
       "\n",
       "   ...  windBearing  windBearingError windSpeed  windSpeedError  \\\n",
       "0  ...        154.0               NaN      4.89             NaN   \n",
       "1  ...        135.0               NaN      6.60             NaN   \n",
       "2  ...          NaN               NaN       NaN             NaN   \n",
       "3  ...        136.0               NaN      2.75             NaN   \n",
       "4  ...         80.0               NaN      3.60             NaN   \n",
       "\n",
       "   ast_absolute_magnitude_h  ast_estimated_diameter  ast_is_dangerous  \\\n",
       "0                      21.5                0.297879              True   \n",
       "1                      21.5                0.297879              True   \n",
       "2                      21.5                0.297879              True   \n",
       "3                      21.5                0.297879              True   \n",
       "4                      21.5                0.297879              True   \n",
       "\n",
       "   ast_miss_distance  ast_orbiting_body  ast_relative_velocity  \n",
       "0         42621696.0              Earth           13778.372043  \n",
       "1         42621696.0              Earth           13778.372043  \n",
       "2         42621696.0              Earth           13778.372043  \n",
       "3         42621696.0              Earth           13778.372043  \n",
       "4         42621696.0              Earth           13778.372043  \n",
       "\n",
       "[5 rows x 42 columns]"
      ]
     },
     "execution_count": 4,
     "metadata": {},
     "output_type": "execute_result"
    }
   ],
   "source": [
    "import pandas as pd\n",
    "import numpy as np\n",
    "data = pd.read_csv(\"UFO_data.csv\", sep=\";\", low_memory=False)\n",
    "data.head()"
   ]
  },
  {
   "cell_type": "code",
   "execution_count": 5,
   "metadata": {},
   "outputs": [
    {
     "data": {
      "text/html": [
       "<div>\n",
       "<style scoped>\n",
       "    .dataframe tbody tr th:only-of-type {\n",
       "        vertical-align: middle;\n",
       "    }\n",
       "\n",
       "    .dataframe tbody tr th {\n",
       "        vertical-align: top;\n",
       "    }\n",
       "\n",
       "    .dataframe thead th {\n",
       "        text-align: right;\n",
       "    }\n",
       "</style>\n",
       "<table border=\"1\" class=\"dataframe\">\n",
       "  <thead>\n",
       "    <tr style=\"text-align: right;\">\n",
       "      <th></th>\n",
       "      <th>apparentTemperature</th>\n",
       "      <th>cloudCover</th>\n",
       "      <th>dewPoint</th>\n",
       "      <th>humidity</th>\n",
       "      <th>precipIntensity</th>\n",
       "      <th>precipProbability</th>\n",
       "      <th>pressure</th>\n",
       "      <th>temperature</th>\n",
       "      <th>visibility</th>\n",
       "      <th>windBearing</th>\n",
       "      <th>windSpeed</th>\n",
       "    </tr>\n",
       "  </thead>\n",
       "  <tbody>\n",
       "    <tr>\n",
       "      <th>0</th>\n",
       "      <td>25.86</td>\n",
       "      <td>0.00</td>\n",
       "      <td>20.56</td>\n",
       "      <td>0.73</td>\n",
       "      <td>0.0</td>\n",
       "      <td>0.0</td>\n",
       "      <td>1009.05</td>\n",
       "      <td>25.86</td>\n",
       "      <td>16.09</td>\n",
       "      <td>154.0</td>\n",
       "      <td>4.89</td>\n",
       "    </tr>\n",
       "    <tr>\n",
       "      <th>1</th>\n",
       "      <td>26.12</td>\n",
       "      <td>0.00</td>\n",
       "      <td>21.72</td>\n",
       "      <td>0.77</td>\n",
       "      <td>0.0</td>\n",
       "      <td>0.0</td>\n",
       "      <td>1008.81</td>\n",
       "      <td>26.12</td>\n",
       "      <td>16.09</td>\n",
       "      <td>135.0</td>\n",
       "      <td>6.60</td>\n",
       "    </tr>\n",
       "    <tr>\n",
       "      <th>2</th>\n",
       "      <td>15.56</td>\n",
       "      <td>0.75</td>\n",
       "      <td>12.86</td>\n",
       "      <td>0.84</td>\n",
       "      <td>NaN</td>\n",
       "      <td>NaN</td>\n",
       "      <td>1019.00</td>\n",
       "      <td>15.56</td>\n",
       "      <td>2.90</td>\n",
       "      <td>NaN</td>\n",
       "      <td>NaN</td>\n",
       "    </tr>\n",
       "    <tr>\n",
       "      <th>3</th>\n",
       "      <td>22.68</td>\n",
       "      <td>0.12</td>\n",
       "      <td>17.04</td>\n",
       "      <td>0.71</td>\n",
       "      <td>NaN</td>\n",
       "      <td>NaN</td>\n",
       "      <td>1020.64</td>\n",
       "      <td>22.68</td>\n",
       "      <td>16.09</td>\n",
       "      <td>136.0</td>\n",
       "      <td>2.75</td>\n",
       "    </tr>\n",
       "    <tr>\n",
       "      <th>4</th>\n",
       "      <td>25.74</td>\n",
       "      <td>0.63</td>\n",
       "      <td>21.47</td>\n",
       "      <td>0.77</td>\n",
       "      <td>NaN</td>\n",
       "      <td>NaN</td>\n",
       "      <td>1015.33</td>\n",
       "      <td>25.74</td>\n",
       "      <td>16.09</td>\n",
       "      <td>80.0</td>\n",
       "      <td>3.60</td>\n",
       "    </tr>\n",
       "  </tbody>\n",
       "</table>\n",
       "</div>"
      ],
      "text/plain": [
       "   apparentTemperature  cloudCover  dewPoint  humidity  precipIntensity  \\\n",
       "0                25.86        0.00     20.56      0.73              0.0   \n",
       "1                26.12        0.00     21.72      0.77              0.0   \n",
       "2                15.56        0.75     12.86      0.84              NaN   \n",
       "3                22.68        0.12     17.04      0.71              NaN   \n",
       "4                25.74        0.63     21.47      0.77              NaN   \n",
       "\n",
       "   precipProbability  pressure  temperature  visibility  windBearing  \\\n",
       "0                0.0   1009.05        25.86       16.09        154.0   \n",
       "1                0.0   1008.81        26.12       16.09        135.0   \n",
       "2                NaN   1019.00        15.56        2.90          NaN   \n",
       "3                NaN   1020.64        22.68       16.09        136.0   \n",
       "4                NaN   1015.33        25.74       16.09         80.0   \n",
       "\n",
       "   windSpeed  \n",
       "0       4.89  \n",
       "1       6.60  \n",
       "2        NaN  \n",
       "3       2.75  \n",
       "4       3.60  "
      ]
     },
     "execution_count": 5,
     "metadata": {},
     "output_type": "execute_result"
    }
   ],
   "source": [
    "weather_feats = ['apparentTemperature', 'cloudCover', 'dewPoint', \n",
    "         'humidity', 'precipIntensity', 'precipProbability',\n",
    "         'pressure', 'temperature', 'visibility', 'windBearing', \n",
    "         'windSpeed']\n",
    "data = data[weather_feats]\n",
    "data.head()"
   ]
  },
  {
   "cell_type": "code",
   "execution_count": 6,
   "metadata": {},
   "outputs": [],
   "source": [
    "from sklearn.decomposition import PCA\n",
    "from sklearn.preprocessing import StandardScaler\n",
    "\n",
    "x = data.fillna(data.mean())\n",
    "x = StandardScaler().fit_transform(x)"
   ]
  },
  {
   "cell_type": "markdown",
   "metadata": {},
   "source": [
    "## 1"
   ]
  },
  {
   "cell_type": "code",
   "execution_count": 9,
   "metadata": {},
   "outputs": [
    {
     "name": "stdout",
     "output_type": "stream",
     "text": [
      "Principle components matrix shape: (2, 11)\n"
     ]
    },
    {
     "data": {
      "text/plain": [
       "array([[ 0.55257408,  0.05084267,  0.52606541,  0.00598125,  0.08223326,\n",
       "         0.10086526, -0.29386023,  0.55192598, -0.0677264 , -0.05287272,\n",
       "         0.00130099],\n",
       "       [-0.16868834,  0.44103423,  0.07306878,  0.44225423,  0.35658575,\n",
       "         0.46528862, -0.05029986, -0.17318577, -0.4351475 , -0.08922607,\n",
       "         0.05118865]])"
      ]
     },
     "execution_count": 9,
     "metadata": {},
     "output_type": "execute_result"
    }
   ],
   "source": [
    "pca = PCA(n_components=2)\n",
    "pca.fit(x)\n",
    "\n",
    "print(f'Principle components matrix shape: {pca.components_.shape}')\n",
    "pca.components_"
   ]
  },
  {
   "cell_type": "markdown",
   "metadata": {},
   "source": [
    "## 2"
   ]
  },
  {
   "cell_type": "code",
   "execution_count": 10,
   "metadata": {},
   "outputs": [
    {
     "data": {
      "image/png": "[encoded data removed]",
      "text/plain": [
       "<Figure size 432x288 with 1 Axes>"
      ]
     },
     "metadata": {
      "needs_background": "light"
     },
     "output_type": "display_data"
    }
   ],
   "source": [
    "import matplotlib.pyplot as plt\n",
    "%matplotlib inline\n",
    "\n",
    "fig = plt.figure()\n",
    "ax = fig.add_subplot(111)\n",
    "plt.scatter(pca.components_[0], pca.components_[1])\n",
    "plt.xlim(-1,1)\n",
    "plt.ylim(-1,1)\n",
    "\n",
    "ind = 0\n",
    "for i,j in zip(pca.components_[0],\n",
    "               pca.components_[1]):\n",
    "    ax.annotate(weather_feats[ind], xy=(i,j), xytext=(8,0), textcoords='offset points')\n",
    "    ind += 1\n",
    "plt.show()"
   ]
  },
  {
   "cell_type": "markdown",
   "metadata": {},
   "source": [
    "## 3\n",
    "- similar meaning: [windSpeed, pressure, windBearing], [apparentTemperature, temperature], [precipIntensity, precipProbability]\n",
    "- opposite meaning: [visibility, precipIntensity], [visibility, dewPoint]..."
   ]
  },
  {
   "cell_type": "markdown",
   "metadata": {},
   "source": [
    "## 4\n",
    "Plot the number of components vs. explained variance"
   ]
  },
  {
   "cell_type": "code",
   "execution_count": 11,
   "metadata": {},
   "outputs": [
    {
     "data": {
      "text/plain": [
       "(11, 11)"
      ]
     },
     "execution_count": 11,
     "metadata": {},
     "output_type": "execute_result"
    }
   ],
   "source": [
    "# PCA with number of componenets equal to number of features\n",
    "pca = PCA()\n",
    "pca.fit(x)\n",
    "\n",
    "pca.components_.shape"
   ]
  },
  {
   "cell_type": "code",
   "execution_count": 12,
   "metadata": {},
   "outputs": [
    {
     "name": "stdout",
     "output_type": "stream",
     "text": [
      "[0.26983684 0.20142923 0.12910918 0.10382941 0.08484243 0.06169296\n",
      " 0.0567588  0.0535019  0.0372141  0.00132275 0.00046239]\n",
      "\n",
      "[0.26983684 0.47126608 0.60037526 0.70420467 0.7890471  0.85074006\n",
      " 0.90749886 0.96100075 0.99821486 0.99953761 1.        ]\n"
     ]
    }
   ],
   "source": [
    "# creating cumulative explained variance\n",
    "print(pca.explained_variance_ratio_)\n",
    "\n",
    "print('')\n",
    "\n",
    "cum_var_explained = np.cumsum(pca.explained_variance_ratio_)\n",
    "print(cum_var_explained)"
   ]
  },
  {
   "cell_type": "code",
   "execution_count": 13,
   "metadata": {},
   "outputs": [
    {
     "data": {
      "image/png": "[encoded data removed]",
      "text/plain": [
       "<Figure size 432x288 with 1 Axes>"
      ]
     },
     "metadata": {
      "needs_background": "light"
     },
     "output_type": "display_data"
    }
   ],
   "source": [
    "# plotting\n",
    "import matplotlib.pyplot as plt\n",
    "%matplotlib inline\n",
    "\n",
    "fig, ax = plt.subplots()\n",
    "ax.plot(range(1, len(cum_var_explained) + 1),\n",
    "        cum_var_explained)\n",
    "ax.set_ylim(0,1)\n",
    "\n",
    "plt.show()"
   ]
  },
  {
   "cell_type": "markdown",
   "metadata": {},
   "source": [
    "We don't have a clear elbow here. It could be 2, 4 5 or iven 9. We can use the combination of elbow rule and scatter plot above. There, we can see **4 \"clusters\"** of features if we consider dewPoint and teperature to be in one cluster. Therefore, we can take 4 components as the optimal number."
   ]
  },
  {
   "cell_type": "markdown",
   "metadata": {},
   "source": [
    "## 5"
   ]
  },
  {
   "cell_type": "code",
   "execution_count": 15,
   "metadata": {},
   "outputs": [
    {
     "name": "stdout",
     "output_type": "stream",
     "text": [
      "(80332, 4)\n"
     ]
    }
   ],
   "source": [
    "pca = PCA(n_components=4)\n",
    "pca.fit(x)\n",
    "\n",
    "# Projection of the data into the 4 axes of the trained PCA\n",
    "pca_data = pca.transform(x)\n",
    "\n",
    "# Internally, this \".transform()\" function does a matrix multiplication between\n",
    "# the input data \"x\" and the (transposed) PCs \"pca.components_\"), just like we\n",
    "# learned in lecture\n",
    "np.allclose(pca_data, x.dot(pca.components_.T))"
   ]
  },
  {
   "cell_type": "code",
   "execution_count": 16,
   "metadata": {},
   "outputs": [
    {
     "data": {
      "text/html": [
       "<div>\n",
       "<style scoped>\n",
       "    .dataframe tbody tr th:only-of-type {\n",
       "        vertical-align: middle;\n",
       "    }\n",
       "\n",
       "    .dataframe tbody tr th {\n",
       "        vertical-align: top;\n",
       "    }\n",
       "\n",
       "    .dataframe thead th {\n",
       "        text-align: right;\n",
       "    }\n",
       "</style>\n",
       "<table border=\"1\" class=\"dataframe\">\n",
       "  <thead>\n",
       "    <tr style=\"text-align: right;\">\n",
       "      <th></th>\n",
       "      <th>pca_1</th>\n",
       "      <th>pca_2</th>\n",
       "      <th>pca_3</th>\n",
       "      <th>pca_4</th>\n",
       "    </tr>\n",
       "  </thead>\n",
       "  <tbody>\n",
       "    <tr>\n",
       "      <th>0</th>\n",
       "      <td>2.576458</td>\n",
       "      <td>-0.908969</td>\n",
       "      <td>0.326894</td>\n",
       "      <td>-0.383400</td>\n",
       "    </tr>\n",
       "    <tr>\n",
       "      <th>1</th>\n",
       "      <td>2.701161</td>\n",
       "      <td>-0.733214</td>\n",
       "      <td>0.759838</td>\n",
       "      <td>-0.747256</td>\n",
       "    </tr>\n",
       "    <tr>\n",
       "      <th>2</th>\n",
       "      <td>0.984760</td>\n",
       "      <td>3.188234</td>\n",
       "      <td>-1.372056</td>\n",
       "      <td>-1.947052</td>\n",
       "    </tr>\n",
       "    <tr>\n",
       "      <th>3</th>\n",
       "      <td>1.529377</td>\n",
       "      <td>-0.656256</td>\n",
       "      <td>-0.936673</td>\n",
       "      <td>0.641857</td>\n",
       "    </tr>\n",
       "    <tr>\n",
       "      <th>4</th>\n",
       "      <td>2.519251</td>\n",
       "      <td>0.315775</td>\n",
       "      <td>-0.544273</td>\n",
       "      <td>-0.307138</td>\n",
       "    </tr>\n",
       "  </tbody>\n",
       "</table>\n",
       "</div>"
      ],
      "text/plain": [
       "      pca_1     pca_2     pca_3     pca_4\n",
       "0  2.576458 -0.908969  0.326894 -0.383400\n",
       "1  2.701161 -0.733214  0.759838 -0.747256\n",
       "2  0.984760  3.188234 -1.372056 -1.947052\n",
       "3  1.529377 -0.656256 -0.936673  0.641857\n",
       "4  2.519251  0.315775 -0.544273 -0.307138"
      ]
     },
     "execution_count": 16,
     "metadata": {},
     "output_type": "execute_result"
    }
   ],
   "source": [
    "pca_data = pd.DataFrame(pca_data, columns=[\"pca_1\",\"pca_2\",\"pca_3\",\"pca_4\"])\n",
    "pca_data.head()"
   ]
  },
  {
   "cell_type": "code",
   "execution_count": 17,
   "metadata": {},
   "outputs": [
    {
     "data": {
      "text/plain": [
       "True"
      ]
     },
     "execution_count": 17,
     "metadata": {},
     "output_type": "execute_result"
    }
   ],
   "source": [
    "pca_data.shape[0] == data.shape[0]"
   ]
  },
  {
   "cell_type": "markdown",
   "metadata": {},
   "source": [
    "## 6"
   ]
  },
  {
   "cell_type": "code",
   "execution_count": null,
   "metadata": {},
   "outputs": [],
   "source": [
    "pca_data.to_csv(\"pca_data.csv\",index=False)"
   ]
  },
  {
   "cell_type": "code",
   "execution_count": null,
   "metadata": {},
   "outputs": [],
   "source": []
  }
 ],
 "metadata": {
  "kernelspec": {
   "display_name": "Python 3",
   "language": "python",
   "name": "python3"
  },
  "language_info": {
   "codemirror_mode": {
    "name": "ipython",
    "version": 3
   },
   "file_extension": ".py",
   "mimetype": "text/x-python",
   "name": "python",
   "nbconvert_exporter": "python",
   "pygments_lexer": "ipython3",
   "version": "3.7.9"
  }
 },
 "nbformat": 4,
 "nbformat_minor": 4
}
