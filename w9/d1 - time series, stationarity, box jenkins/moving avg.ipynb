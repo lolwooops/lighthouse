{
 "cells": [
  {
   "cell_type": "code",
   "execution_count": null,
   "metadata": {},
   "outputs": [],
   "source": [
    "\"\"\"\n",
    "Smoothing is a technique applied to time series to remove the fine-grained variation between time steps.\n",
    "\n",
    "The hope of smoothing is to remove noise and better expose the signal of the underlying causal processes. Moving averages are a simple and common type of smoothing\n",
    "used in time series analysis and time series forecasting.\n",
    "\n",
    "There are two main types of moving average that are used: Centered and Trailing Moving Average.\n",
    "\"\"\"\n",
    "\n",
    "#centered\n",
    "center_ma(t) = mean(obs(t-1), obs(t), obs(t+1))\n",
    "#This method requires knowledge of future values, and as such is used on time series analysis to better understand the dataset.\n",
    "\n",
    "#trailing\n",
    "trail_ma(t) = mean(obs(t-2), obs(t-1), obs(t))\n",
    "#Trailing moving average only uses historical observations and is used on time series forecasting."
   ]
  },
  {
   "cell_type": "code",
   "execution_count": null,
   "metadata": {},
   "outputs": [],
   "source": [
    "\"\"\"\n",
    "Calculating a moving average of a time series makes some assumptions about your data.\n",
    "\n",
    "It is assumed that both trend and seasonal components have been removed from your time series.\n",
    "\n",
    "This means that your time series is stationary, or does not show obvious trends (long-term increasing or decreasing movement) or seasonality (consistent periodic structure).\n",
    "\"\"\""
   ]
  },
  {
   "cell_type": "code",
   "execution_count": null,
   "metadata": {},
   "outputs": [],
   "source": [
    "from pandas import read_csv\n",
    "from matplotlib import pyplot\n",
    "series = read_csv('daily-total-female-births.csv', header=0, index_col=0)\n",
    "print(series.head())\n",
    "series.plot()\n",
    "pyplot.show()"
   ]
  },
  {
   "cell_type": "code",
   "execution_count": null,
   "metadata": {},
   "outputs": [],
   "source": [
    "obs(t) = 1/3 * (t-2 + t-1 + t)\n",
    "\n",
    "\n",
    "obs(t) = 1/3 * (t-2 + t-1 + t)\n",
    "obs(t) = 1/3 * (35 + 32 + 30)\n",
    "obs(t) = 32.333\n",
    "\n",
    "\n",
    "from pandas import read_csv\n",
    "from matplotlib import pyplot\n",
    "series = read_csv('daily-total-female-births.csv', header=0, index_col=0)\n",
    "# Tail-rolling average transform\n",
    "rolling = series.rolling(window=3)\n",
    "rolling_mean = rolling.mean()\n",
    "print(rolling_mean.head(10))\n",
    "# plot original and transformed dataset\n",
    "series.plot()\n",
    "rolling_mean.plot(color='red')\n",
    "pyplot.show()"
   ]
  },
  {
   "cell_type": "markdown",
   "metadata": {},
   "source": [
    "# feature engineering with ma"
   ]
  },
  {
   "cell_type": "code",
   "execution_count": null,
   "metadata": {},
   "outputs": [],
   "source": [
    "\"\"\"\n",
    "The moving average can be used as a source of new information when modeling a time series forecast as a supervised learning problem.\n",
    "\n",
    "In this case, the moving average is calculated and added as a new input feature used to predict the next time step.\n",
    "\"\"\"\n",
    "\n",
    "from pandas import read_csv\n",
    "from pandas import DataFrame\n",
    "from pandas import concat\n",
    "series = read_csv('daily-total-female-births.csv', header=0, index_col=0)\n",
    "df = DataFrame(series.values)\n",
    "width = 3\n",
    "lag1 = df.shift(1)\n",
    "lag3 = df.shift(width - 1)\n",
    "window = lag3.rolling(window=width)\n",
    "means = window.mean()\n",
    "dataframe = concat([means, lag1, df], axis=1)\n",
    "dataframe.columns = ['mean', 't-1', 't+1']\n",
    "print(dataframe.head(10))"
   ]
  },
  {
   "cell_type": "code",
   "execution_count": null,
   "metadata": {},
   "outputs": [],
   "source": []
  },
  {
   "cell_type": "code",
   "execution_count": null,
   "metadata": {},
   "outputs": [],
   "source": [
    "\"\"\"\n",
    "The moving average value can also be used directly to make predictions.\n",
    "\n",
    "It is a naive model and assumes that the trend and seasonality components of the time series have already been removed or adjusted for.\n",
    "\n",
    "The moving average model for predictions can easily be used in a walk-forward manner. As new observations are made available (e.g. daily), the model can be updated and a \n",
    "prediction made for the next day.\n",
    "\"\"\"\n",
    "\n",
    "from pandas import read_csv\n",
    "from numpy import mean\n",
    "from sklearn.metrics import mean_squared_error\n",
    "from matplotlib import pyplot\n",
    "series = read_csv('daily-total-female-births.csv', header=0, index_col=0)\n",
    "# prepare situation\n",
    "X = series.values\n",
    "window = 3\n",
    "history = [X[i] for i in range(window)]\n",
    "test = [X[i] for i in range(window, len(X))]\n",
    "predictions = list()\n",
    "# walk forward over time steps in test\n",
    "for t in range(len(test)):\n",
    " length = len(history)\n",
    " yhat = mean([history[i] for i in range(length-window,length)])\n",
    " obs = test[t]\n",
    " predictions.append(yhat)\n",
    " history.append(obs)\n",
    " print('predicted=%f, expected=%f' % (yhat, obs))\n",
    "error = mean_squared_error(test, predictions)\n",
    "print('Test MSE: %.3f' % error)\n",
    "# plot\n",
    "pyplot.plot(test)\n",
    "pyplot.plot(predictions, color='red')\n",
    "pyplot.show()\n",
    "# zoom plot\n",
    "pyplot.plot(test[0:100])\n",
    "pyplot.plot(predictions[0:100], color='red')\n",
    "pyplot.show()"
   ]
  },
  {
   "cell_type": "code",
   "execution_count": null,
   "metadata": {},
   "outputs": [],
   "source": []
  },
  {
   "cell_type": "code",
   "execution_count": null,
   "metadata": {},
   "outputs": [],
   "source": []
  },
  {
   "cell_type": "code",
   "execution_count": null,
   "metadata": {},
   "outputs": [],
   "source": []
  },
  {
   "cell_type": "code",
   "execution_count": null,
   "metadata": {},
   "outputs": [],
   "source": []
  },
  {
   "cell_type": "code",
   "execution_count": null,
   "metadata": {},
   "outputs": [],
   "source": []
  },
  {
   "cell_type": "code",
   "execution_count": null,
   "metadata": {},
   "outputs": [],
   "source": []
  },
  {
   "cell_type": "code",
   "execution_count": null,
   "metadata": {},
   "outputs": [],
   "source": []
  },
  {
   "cell_type": "code",
   "execution_count": null,
   "metadata": {},
   "outputs": [],
   "source": []
  },
  {
   "cell_type": "code",
   "execution_count": null,
   "metadata": {},
   "outputs": [],
   "source": []
  },
  {
   "cell_type": "code",
   "execution_count": null,
   "metadata": {},
   "outputs": [],
   "source": []
  },
  {
   "cell_type": "code",
   "execution_count": null,
   "metadata": {},
   "outputs": [],
   "source": []
  },
  {
   "cell_type": "code",
   "execution_count": null,
   "metadata": {},
   "outputs": [],
   "source": []
  },
  {
   "cell_type": "code",
   "execution_count": null,
   "metadata": {},
   "outputs": [],
   "source": []
  }
 ],
 "metadata": {
  "kernelspec": {
   "display_name": "Python 3",
   "language": "python",
   "name": "python3"
  },
  "language_info": {
   "codemirror_mode": {
    "name": "ipython",
    "version": 3
   },
   "file_extension": ".py",
   "mimetype": "text/x-python",
   "name": "python",
   "nbconvert_exporter": "python",
   "pygments_lexer": "ipython3",
   "version": "3.8.5"
  }
 },
 "nbformat": 4,
 "nbformat_minor": 4
}
