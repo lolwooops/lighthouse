{
 "cells": [
  {
   "cell_type": "code",
   "execution_count": null,
   "metadata": {},
   "outputs": [],
   "source": [
    "\"\"\"\n",
    "Time Series Components\n",
    "A useful abstraction for selecting forecasting methods is to break a time series down into systematic and unsystematic components.\n",
    "\n",
    "Systematic: Components of the time series that have consistency or recurrence and can be described and modeled.\n",
    "Non-Systematic: Components of the time series that cannot be directly modeled.\n",
    "A given time series is thought to consist of three systematic components including level, trend, seasonality, and one non-systematic component called noise.\n",
    "\n",
    "These components are defined as follows:\n",
    "\n",
    "Level: The average value in the series.\n",
    "Trend: The increasing or decreasing value in the series.\n",
    "Seasonality: The repeating short-term cycle in the series.\n",
    "Noise: The random variation in the series.\n",
    "\"\"\"\n",
    "\n",
    "\"\"\"\n",
    "Additive Model\n",
    "An additive model suggests that the components are added together as follows:\n",
    "\n",
    "y(t) = Level + Trend + Seasonality + Noise\n",
    "\n",
    "Multiplicative Model\n",
    "A multiplicative model suggests that the components are multiplied together as follows:\n",
    "\n",
    "y(t) = Level * Trend * Seasonality * Noise\n",
    "\"\"\"\n",
    "\n",
    "\n",
    "\"\"\"\n",
    "The statsmodels library provides an implementation of the naive, or classical, decomposition method in a function called seasonal_decompose(). \n",
    "It requires that you specify whether the model is additive or multiplicative.\n",
    "\"\"\"\n",
    "\n",
    "from statsmodels.tsa.seasonal import seasonal_decompose\n",
    "series = ...\n",
    "result = seasonal_decompose(series, model='additive')\n",
    "print(result.trend)\n",
    "print(result.seasonal)\n",
    "print(result.resid)\n",
    "print(result.observed)\n",
    "\n",
    "from statsmodels.tsa.seasonal import seasonal_decompose\n",
    "from matplotlib import pyplot\n",
    "series = ...\n",
    "result = seasonal_decompose(series, model='additive')\n",
    "result.plot()\n",
    "pyplot.show()"
   ]
  },
  {
   "cell_type": "code",
   "execution_count": null,
   "metadata": {},
   "outputs": [],
   "source": [
    "\"\"\"\n",
    "Additive Decomposition\n",
    "We can create a time series comprised of a linearly increasing trend from 1 to 99 and some random noise and decompose it as an additive model.\n",
    "\n",
    "Because the time series was contrived and was provided as an array of numbers, we must specify the frequency of the observations (the period=1 argument). \n",
    "If a Pandas Series object is provided, this argument is not required\n",
    "\"\"\"\n",
    "\n",
    "from random import randrange\n",
    "from pandas import Series\n",
    "from matplotlib import pyplot\n",
    "from statsmodels.tsa.seasonal import seasonal_decompose\n",
    "series = [i+randrange(10) for i in range(1,100)]\n",
    "result = seasonal_decompose(series, model='additive', period=1)\n",
    "result.plot()\n",
    "pyplot.show()\n",
    "\n",
    "#The naive decomposition method is a simple one, and there are more advanced decompositions available, like Seasonal and Trend decomposition using Loess or STL decomposition.\n",
    "\n",
    "\n",
    "\n",
    "\"\"\"\n",
    "Multiplicative Decomposition\n",
    "We can contrive a quadratic time series as a square of the time step from 1 to 99, and then decompose it assuming a multiplicative model.\n",
    "\"\"\"\n",
    "\n",
    "from pandas import Series\n",
    "from matplotlib import pyplot\n",
    "from statsmodels.tsa.seasonal import seasonal_decompose\n",
    "series = [i**2.0 for i in range(1,100)]\n",
    "result = seasonal_decompose(series, model='multiplicative', period=1)\n",
    "result.plot()\n",
    "pyplot.show()\n",
    "\n",
    "\"\"\"\n",
    "Exponential changes can be made linear by data transforms. In this case, a quadratic trend can be made linear by taking the square root. An exponential growth in \n",
    "seasonality may be made linear by taking the natural logarithm.\n",
    "\n",
    "Again, it is important to treat decomposition as a potentially useful analysis tool, but to consider exploring the many different ways it could be \n",
    "applied for your problem, such as on data after it has been transformed or on residual model errors.\n",
    "\"\"\""
   ]
  },
  {
   "cell_type": "code",
   "execution_count": null,
   "metadata": {},
   "outputs": [],
   "source": []
  },
  {
   "cell_type": "code",
   "execution_count": null,
   "metadata": {},
   "outputs": [],
   "source": []
  },
  {
   "cell_type": "code",
   "execution_count": null,
   "metadata": {},
   "outputs": [],
   "source": []
  },
  {
   "cell_type": "code",
   "execution_count": null,
   "metadata": {},
   "outputs": [],
   "source": []
  },
  {
   "cell_type": "code",
   "execution_count": null,
   "metadata": {},
   "outputs": [],
   "source": []
  },
  {
   "cell_type": "code",
   "execution_count": null,
   "metadata": {},
   "outputs": [],
   "source": []
  },
  {
   "cell_type": "code",
   "execution_count": null,
   "metadata": {},
   "outputs": [],
   "source": []
  },
  {
   "cell_type": "code",
   "execution_count": null,
   "metadata": {},
   "outputs": [],
   "source": []
  },
  {
   "cell_type": "code",
   "execution_count": null,
   "metadata": {},
   "outputs": [],
   "source": []
  },
  {
   "cell_type": "code",
   "execution_count": null,
   "metadata": {},
   "outputs": [],
   "source": []
  },
  {
   "cell_type": "code",
   "execution_count": null,
   "metadata": {},
   "outputs": [],
   "source": []
  },
  {
   "cell_type": "code",
   "execution_count": null,
   "metadata": {},
   "outputs": [],
   "source": []
  },
  {
   "cell_type": "code",
   "execution_count": null,
   "metadata": {},
   "outputs": [],
   "source": []
  }
 ],
 "metadata": {
  "kernelspec": {
   "display_name": "Python 3",
   "language": "python",
   "name": "python3"
  },
  "language_info": {
   "codemirror_mode": {
    "name": "ipython",
    "version": 3
   },
   "file_extension": ".py",
   "mimetype": "text/x-python",
   "name": "python",
   "nbconvert_exporter": "python",
   "pygments_lexer": "ipython3",
   "version": "3.8.5"
  }
 },
 "nbformat": 4,
 "nbformat_minor": 4
}
