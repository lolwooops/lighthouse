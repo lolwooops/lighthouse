{
 "cells": [
  {
   "cell_type": "code",
   "execution_count": null,
   "metadata": {},
   "outputs": [],
   "source": [
    "from pandas import read_csv\n",
    "from pandas import datetime\n",
    "from matplotlib import pyplot\n",
    " \n",
    "def parser(x):\n",
    " return datetime.strptime('190'+x, '%Y-%m')\n",
    " \n",
    "series = read_csv('shampoo-sales.csv', header=0, parse_dates=[0], index_col=0, squeeze=True, date_parser=parser)\n",
    "print(series.head())\n",
    "series.plot()\n",
    "pyplot.show()"
   ]
  },
  {
   "cell_type": "code",
   "execution_count": null,
   "metadata": {},
   "outputs": [],
   "source": [
    "from pandas import read_csv\n",
    "from pandas import datetime\n",
    "from matplotlib import pyplot\n",
    "from pandas.plotting import autocorrelation_plot\n",
    " \n",
    "def parser(x):\n",
    " return datetime.strptime('190'+x, '%Y-%m')\n",
    " \n",
    "series = read_csv('shampoo-sales.csv', header=0, parse_dates=[0], index_col=0, squeeze=True, date_parser=parser)\n",
    "autocorrelation_plot(series)\n",
    "pyplot.show()"
   ]
  },
  {
   "cell_type": "code",
   "execution_count": null,
   "metadata": {},
   "outputs": [],
   "source": [
    "# fit an ARIMA model and plot residual errors\n",
    "from pandas import datetime\n",
    "from pandas import read_csv\n",
    "from pandas import DataFrame\n",
    "from statsmodels.tsa.arima.model import ARIMA\n",
    "from matplotlib import pyplot\n",
    "# load dataset\n",
    "def parser(x):\n",
    " return datetime.strptime('190'+x, '%Y-%m')\n",
    "series = read_csv('shampoo-sales.csv', header=0, index_col=0, parse_dates=True, squeeze=True, date_parser=parser)\n",
    "series.index = series.index.to_period('M')\n",
    "# fit model\n",
    "model = ARIMA(series, order=(5,1,0))\n",
    "model_fit = model.fit()\n",
    "# summary of fit model\n",
    "print(model_fit.summary())\n",
    "# line plot of residuals\n",
    "residuals = DataFrame(model_fit.resid)\n",
    "residuals.plot()\n",
    "pyplot.show()\n",
    "# density plot of residuals\n",
    "residuals.plot(kind='kde')\n",
    "pyplot.show()\n",
    "# summary stats of residuals\n",
    "print(residuals.describe())"
   ]
  },
  {
   "cell_type": "code",
   "execution_count": null,
   "metadata": {},
   "outputs": [],
   "source": []
  },
  {
   "cell_type": "code",
   "execution_count": null,
   "metadata": {},
   "outputs": [],
   "source": [
    "# Rolling Forecast ARIMA Model\n",
    "\n",
    "\"\"\"\n",
    "The ARIMA model can be used to forecast future time steps.\n",
    "\n",
    "We can use the predict() function on the ARIMAResults object to make predictions. It accepts the index of the time steps to make predictions as arguments. These indexes \n",
    "are relative to the start of the training dataset used to make predictions.\n",
    "\n",
    "If we used 100 observations in the training dataset to fit the model, then the index of the next time step for making a prediction would be specified to the prediction \n",
    "function as start=101, end=101. This would return an array with one element containing the prediction.\n",
    "\n",
    "We also would prefer the forecasted values to be in the original scale, in case we performed any differencing (d>0 when configuring the model). This can be specified by \n",
    "setting the typ argument to the value ‘levels’: typ=’levels’.\n",
    "\n",
    "Alternately, we can avoid all of these specifications by using the forecast() function, which performs a one-step forecast using the model.\n",
    "\n",
    "We can split the training dataset into train and test sets, use the train set to fit the model, and generate a prediction for each element on the test set.\n",
    "\n",
    "A rolling forecast is required given the dependence on observations in prior time steps for differencing and the AR model. A crude way to perform this rolling forecast \n",
    "is to re-create the ARIMA model after each new observation is received.\n",
    "\n",
    "We manually keep track of all observations in a list called history that is seeded with the training data and to which new observations are appended each iteration.\n",
    "\n",
    "Putting this all together, below is an example of a rolling forecast with the ARIMA model in Python.\n",
    "\"\"\"\n",
    "\n",
    "# evaluate an ARIMA model using a walk-forward validation\n",
    "from pandas import read_csv\n",
    "from pandas import datetime\n",
    "from matplotlib import pyplot\n",
    "from statsmodels.tsa.arima.model import ARIMA\n",
    "from sklearn.metrics import mean_squared_error\n",
    "from math import sqrt\n",
    "# load dataset\n",
    "def parser(x):\n",
    " return datetime.strptime('190'+x, '%Y-%m')\n",
    "series = read_csv('shampoo-sales.csv', header=0, index_col=0, parse_dates=True, squeeze=True, date_parser=parser)\n",
    "series.index = series.index.to_period('M')\n",
    "# split into train and test sets\n",
    "X = series.values\n",
    "size = int(len(X) * 0.66)\n",
    "train, test = X[0:size], X[size:len(X)]\n",
    "history = [x for x in train]\n",
    "predictions = list()\n",
    "# walk-forward validation\n",
    "for t in range(len(test)):\n",
    " model = ARIMA(history, order=(5,1,0))\n",
    " model_fit = model.fit()\n",
    " output = model_fit.forecast()\n",
    " yhat = output[0]\n",
    " predictions.append(yhat)\n",
    " obs = test[t]\n",
    " history.append(obs)\n",
    " print('predicted=%f, expected=%f' % (yhat, obs))\n",
    "# evaluate forecasts\n",
    "rmse = sqrt(mean_squared_error(test, predictions))\n",
    "print('Test RMSE: %.3f' % rmse)\n",
    "# plot forecasts against actual outcomes\n",
    "pyplot.plot(test)\n",
    "pyplot.plot(predictions, color='red')\n",
    "pyplot.show()"
   ]
  },
  {
   "cell_type": "code",
   "execution_count": null,
   "metadata": {},
   "outputs": [],
   "source": [
    "\"\"\"\n",
    "The classical approach for fitting an ARIMA model is to follow the Box-Jenkins Methodology.\n",
    "\n",
    "This is a process that uses time series analysis and diagnostics to discover good parameters for the ARIMA model.\n",
    "\n",
    "In summary, the steps of this process are as follows:\n",
    "\n",
    "Model Identification. Use plots and summary statistics to identify trends, seasonality, and autoregression elements to get an idea of the amount of differencing and the \n",
    "size of the lag that will be required.\n",
    "Parameter Estimation. Use a fitting procedure to find the coefficients of the regression model.\n",
    "Model Checking. Use plots and statistical tests of the residual errors to determine the amount and type of temporal structure not captured by the model.\n",
    "\"\"\""
   ]
  },
  {
   "cell_type": "code",
   "execution_count": null,
   "metadata": {},
   "outputs": [],
   "source": []
  },
  {
   "cell_type": "code",
   "execution_count": null,
   "metadata": {},
   "outputs": [],
   "source": []
  },
  {
   "cell_type": "code",
   "execution_count": null,
   "metadata": {},
   "outputs": [],
   "source": []
  },
  {
   "cell_type": "code",
   "execution_count": null,
   "metadata": {},
   "outputs": [],
   "source": []
  },
  {
   "cell_type": "code",
   "execution_count": null,
   "metadata": {},
   "outputs": [],
   "source": []
  },
  {
   "cell_type": "code",
   "execution_count": null,
   "metadata": {},
   "outputs": [],
   "source": []
  },
  {
   "cell_type": "code",
   "execution_count": null,
   "metadata": {},
   "outputs": [],
   "source": []
  },
  {
   "cell_type": "code",
   "execution_count": null,
   "metadata": {},
   "outputs": [],
   "source": []
  },
  {
   "cell_type": "code",
   "execution_count": null,
   "metadata": {},
   "outputs": [],
   "source": []
  },
  {
   "cell_type": "code",
   "execution_count": null,
   "metadata": {},
   "outputs": [],
   "source": []
  },
  {
   "cell_type": "code",
   "execution_count": null,
   "metadata": {},
   "outputs": [],
   "source": []
  },
  {
   "cell_type": "code",
   "execution_count": null,
   "metadata": {},
   "outputs": [],
   "source": []
  }
 ],
 "metadata": {
  "kernelspec": {
   "display_name": "Python 3",
   "language": "python",
   "name": "python3"
  },
  "language_info": {
   "codemirror_mode": {
    "name": "ipython",
    "version": 3
   },
   "file_extension": ".py",
   "mimetype": "text/x-python",
   "name": "python",
   "nbconvert_exporter": "python",
   "pygments_lexer": "ipython3",
   "version": "3.8.5"
  }
 },
 "nbformat": 4,
 "nbformat_minor": 4
}
