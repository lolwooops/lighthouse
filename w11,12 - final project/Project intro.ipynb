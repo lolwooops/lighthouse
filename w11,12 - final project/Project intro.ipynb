{
 "cells": [
  {
   "cell_type": "markdown",
   "metadata": {},
   "source": [
    "# Project\n",
    "\n",
    "Esports is the world of professional competitive video games, typically taking the form of tournaments. While such organized competition has always been a fundamental component of the culture, it has blossomed from being about bragging rights to a global phenomenon, set in world-class stages such as Madison Square Garden in New York or the Mercedez-Benz Arena in Berlin with prize pools upwards of millions of dollars and broadcasted across the world. \n",
    "\n",
    "One of the most prominent titles in esports has been CounterStrike: Global Offensive, or CSGO. It is a objective-based tactical first person shooter wherein two teams are pitted against each other to repeatedly complete these objectives. At the end of each round, players are rewarded based on both individual and team performance with in-game currency to bring superior weapons and utility into subsequent rounds. The team that completes the most objectives in a set number of rounds wins the game.\n",
    "\n",
    "In the past decade, the professional scene in CSGO has had hundreds of league circuits and tournaments, with prize pools varying between USD50k and USD1M; most distinguished of these are the Intel-sponsored Grand Slam and the Valve sponsored Majors, with hundreds of players and teams vying to be the best.\n",
    "\n",
    "In this project, we will try to utilize machine learning to predict wins for a team and to see which factors contribute most to their success."
   ]
  },
  {
   "cell_type": "code",
   "execution_count": null,
   "metadata": {},
   "outputs": [],
   "source": []
  }
 ],
 "metadata": {
  "kernelspec": {
   "display_name": "Python 3",
   "language": "python",
   "name": "python3"
  },
  "language_info": {
   "codemirror_mode": {
    "name": "ipython",
    "version": 3
   },
   "file_extension": ".py",
   "mimetype": "text/x-python",
   "name": "python",
   "nbconvert_exporter": "python",
   "pygments_lexer": "ipython3",
   "version": "3.8.5"
  }
 },
 "nbformat": 4,
 "nbformat_minor": 4
}
