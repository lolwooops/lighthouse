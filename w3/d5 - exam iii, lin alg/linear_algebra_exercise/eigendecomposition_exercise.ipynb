{
 "cells": [
  {
   "cell_type": "code",
   "execution_count": 1,
   "metadata": {
    "ExecuteTime": {
     "end_time": "2020-01-30T08:49:32.277001Z",
     "start_time": "2020-01-30T08:49:32.273265Z"
    }
   },
   "outputs": [],
   "source": [
    "# import numpy\n",
    "import numpy as np"
   ]
  },
  {
   "cell_type": "markdown",
   "metadata": {
    "ExecuteTime": {
     "end_time": "2020-01-30T08:49:32.705250Z",
     "start_time": "2020-01-30T08:49:32.690350Z"
    }
   },
   "source": [
    "**Task:** create matrix (2x2) matrix 'A'\n"
   ]
  },
  {
   "cell_type": "code",
   "execution_count": 3,
   "metadata": {},
   "outputs": [
    {
     "data": {
      "text/plain": [
       "array([[-0.90275574,  0.46539626],\n",
       "       [-1.22505607, -0.24921911]])"
      ]
     },
     "execution_count": 3,
     "metadata": {},
     "output_type": "execute_result"
    }
   ],
   "source": [
    "A = np.random.randn(2,2)\n",
    "A"
   ]
  },
  {
   "cell_type": "code",
   "execution_count": 4,
   "metadata": {},
   "outputs": [
    {
     "data": {
      "text/plain": [
       "(2, 2)"
      ]
     },
     "execution_count": 4,
     "metadata": {},
     "output_type": "execute_result"
    }
   ],
   "source": [
    "A.shape"
   ]
  },
  {
   "cell_type": "markdown",
   "metadata": {},
   "source": [
    "**Task:**"
   ]
  },
  {
   "cell_type": "code",
   "execution_count": null,
   "metadata": {
    "ExecuteTime": {
     "end_time": "2020-01-30T08:49:33.010790Z",
     "start_time": "2020-01-30T08:49:33.001874Z"
    }
   },
   "outputs": [],
   "source": [
    "\"\"\"\n",
    "Define function 'shape_2x2' which checks if matrix has shape (2x2)\n",
    "\n",
    "PARAMS:\n",
    "    matrix (numpy.ndarray) - matrix to check\n",
    "RETURN:\n",
    "    True (bool) - if matrix has shape 2x2\n",
    "    False (bool) - if matrix has not shape 2x2\n",
    "\n",
    "\"\"\""
   ]
  },
  {
   "cell_type": "code",
   "execution_count": 5,
   "metadata": {},
   "outputs": [],
   "source": [
    "def shape22(A):\n",
    "    return A.shape == (2, 2)"
   ]
  },
  {
   "cell_type": "code",
   "execution_count": 6,
   "metadata": {},
   "outputs": [
    {
     "data": {
      "text/plain": [
       "True"
      ]
     },
     "execution_count": 6,
     "metadata": {},
     "output_type": "execute_result"
    }
   ],
   "source": [
    "shape22(A)"
   ]
  },
  {
   "cell_type": "code",
   "execution_count": 7,
   "metadata": {},
   "outputs": [
    {
     "data": {
      "text/plain": [
       "False"
      ]
     },
     "execution_count": 7,
     "metadata": {},
     "output_type": "execute_result"
    }
   ],
   "source": [
    "B = np.random.randn(3,4)\n",
    "shape22(B)"
   ]
  },
  {
   "cell_type": "markdown",
   "metadata": {},
   "source": [
    "**Task:**"
   ]
  },
  {
   "cell_type": "code",
   "execution_count": null,
   "metadata": {
    "ExecuteTime": {
     "end_time": "2020-01-30T08:49:33.337444Z",
     "start_time": "2020-01-30T08:49:33.329488Z"
    }
   },
   "outputs": [],
   "source": [
    "\"\"\"\n",
    "Define function 'determinant_2x2' which computes determinant of 2x2 matrix\n",
    "\n",
    "PARAMS:\n",
    "    matrix (numpy.ndarray) - matrix to compute determinant\n",
    "RETURN:\n",
    "    det (float) - matrix determinant\n",
    "\n",
    "Do not forget to check the shape of  the input matrix.\n",
    "\"\"\"\n"
   ]
  },
  {
   "cell_type": "code",
   "execution_count": 10,
   "metadata": {},
   "outputs": [],
   "source": [
    "def determinant22(X):\n",
    "    if X.shape == (2, 2):\n",
    "        det = X[0,0]*X[1,1] - X[1,0]*X[0,1]\n",
    "        return det\n",
    "    else:\n",
    "        print(\"Matrix is not shape 2,2\")"
   ]
  },
  {
   "cell_type": "code",
   "execution_count": null,
   "metadata": {},
   "outputs": [],
   "source": []
  },
  {
   "cell_type": "markdown",
   "metadata": {
    "ExecuteTime": {
     "end_time": "2020-01-30T08:49:33.653982Z",
     "start_time": "2020-01-30T08:49:33.640536Z"
    }
   },
   "source": [
    "**Task:** call the function 'determinant_2x2' with matrix 'A' "
   ]
  },
  {
   "cell_type": "code",
   "execution_count": 11,
   "metadata": {},
   "outputs": [
    {
     "data": {
      "text/plain": [
       "0.7951204919757122"
      ]
     },
     "execution_count": 11,
     "metadata": {},
     "output_type": "execute_result"
    }
   ],
   "source": [
    "determinant22(A)"
   ]
  },
  {
   "cell_type": "code",
   "execution_count": 12,
   "metadata": {},
   "outputs": [
    {
     "data": {
      "text/plain": [
       "0.7951204919757122"
      ]
     },
     "execution_count": 12,
     "metadata": {},
     "output_type": "execute_result"
    }
   ],
   "source": [
    "np.linalg.det(A)"
   ]
  },
  {
   "cell_type": "markdown",
   "metadata": {
    "ExecuteTime": {
     "end_time": "2020-01-30T08:49:33.965268Z",
     "start_time": "2020-01-30T08:49:33.955633Z"
    }
   },
   "source": [
    "**Task:** compute the eigenvectors, eigenvalues of matrix 'A' with numpy"
   ]
  },
  {
   "cell_type": "code",
   "execution_count": 14,
   "metadata": {},
   "outputs": [],
   "source": [
    "evalues, evectors = np.linalg.eig(A)"
   ]
  },
  {
   "cell_type": "code",
   "execution_count": null,
   "metadata": {},
   "outputs": [],
   "source": []
  },
  {
   "cell_type": "markdown",
   "metadata": {
    "ExecuteTime": {
     "end_time": "2020-01-30T08:49:34.161648Z",
     "start_time": "2020-01-30T08:49:34.150747Z"
    }
   },
   "source": [
    "**Task:** print eigenvalues"
   ]
  },
  {
   "cell_type": "code",
   "execution_count": 15,
   "metadata": {},
   "outputs": [
    {
     "data": {
      "text/plain": [
       "array([-0.57598742+0.68070477j, -0.57598742-0.68070477j])"
      ]
     },
     "execution_count": 15,
     "metadata": {},
     "output_type": "execute_result"
    }
   ],
   "source": [
    "evalues"
   ]
  },
  {
   "cell_type": "markdown",
   "metadata": {
    "ExecuteTime": {
     "end_time": "2020-01-30T08:49:34.442956Z",
     "start_time": "2020-01-30T08:49:34.426399Z"
    }
   },
   "source": [
    "**Task:** print eigenvectors"
   ]
  },
  {
   "cell_type": "code",
   "execution_count": 16,
   "metadata": {},
   "outputs": [
    {
     "data": {
      "text/plain": [
       "array([[0.22707038-0.47301983j, 0.22707038+0.47301983j],\n",
       "       [0.85128802+0.j        , 0.85128802-0.j        ]])"
      ]
     },
     "execution_count": 16,
     "metadata": {},
     "output_type": "execute_result"
    }
   ],
   "source": [
    "evectors"
   ]
  },
  {
   "cell_type": "markdown",
   "metadata": {},
   "source": [
    "**Task:**"
   ]
  },
  {
   "cell_type": "code",
   "execution_count": null,
   "metadata": {
    "ExecuteTime": {
     "end_time": "2020-01-30T08:49:34.728724Z",
     "start_time": "2020-01-30T08:49:34.717473Z"
    }
   },
   "outputs": [],
   "source": [
    "\"\"\"\n",
    "Define function 'eig_2x2' which computes eigenvectors and eigenvalues of 2x2 matrix\n",
    "\n",
    "PARAMS:\n",
    "    matrix (numpy.ndarray) - matrix to perform decomposition\n",
    "RETURN:\n",
    "    eigenvalues, eigenvectors (tuple) - eigenvalues, eigenvectors as numpy.ndarrays\n",
    "\n",
    "Do not use np.linalg.eig function!\n",
    "Use 'shape_2x2' and 'determinant_2x2' functions. \n",
    "Be carefull, eigenvalues and eigenvectors could contain complex numbers.\n",
    "\n",
    "How to compute eigenvalues of 2x2 matrix:\n",
    "https://yutsumura.com/express-the-eigenvalues-of-a-2-by-2-matrix-in-terms-of-the-trace-and-determinant/\n",
    "\"\"\""
   ]
  },
  {
   "cell_type": "code",
   "execution_count": 31,
   "metadata": {},
   "outputs": [],
   "source": [
    "import math\n",
    "import cmath"
   ]
  },
  {
   "cell_type": "code",
   "execution_count": 23,
   "metadata": {},
   "outputs": [],
   "source": [
    "C = np.array([[1,2],[3,4]])"
   ]
  },
  {
   "cell_type": "code",
   "execution_count": 32,
   "metadata": {},
   "outputs": [],
   "source": [
    "def eig22(X):\n",
    "    trace = X[0,0]+X[1,1]\n",
    "    det = determinant22(X)\n",
    "    if shape22(X):\n",
    "        ev1 = (trace + cmath.sqrt((trace)**2 - 4*det))/2\n",
    "        ev2 = (trace - cmath.sqrt((trace)**2 - 4*det))/2\n",
    "        eigenvalues = (ev1,ev2)\n",
    "        return eigenvalues\n",
    "    else:\n",
    "        print(\"Matrix is not 2x2\")\n",
    "\n",
    "        "
   ]
  },
  {
   "cell_type": "code",
   "execution_count": 24,
   "metadata": {},
   "outputs": [
    {
     "data": {
      "text/plain": [
       "(5.372281323269014, -0.3722813232690143)"
      ]
     },
     "execution_count": 24,
     "metadata": {},
     "output_type": "execute_result"
    }
   ],
   "source": [
    "eig22(C)"
   ]
  },
  {
   "cell_type": "code",
   "execution_count": 25,
   "metadata": {},
   "outputs": [
    {
     "data": {
      "text/plain": [
       "(array([-0.37228132,  5.37228132]),\n",
       " array([[-0.82456484, -0.41597356],\n",
       "        [ 0.56576746, -0.90937671]]))"
      ]
     },
     "execution_count": 25,
     "metadata": {},
     "output_type": "execute_result"
    }
   ],
   "source": [
    "np.linalg.eig(C)"
   ]
  },
  {
   "cell_type": "markdown",
   "metadata": {
    "ExecuteTime": {
     "end_time": "2020-01-30T08:49:35.033600Z",
     "start_time": "2020-01-30T08:49:35.026479Z"
    }
   },
   "source": [
    "**Task:** call the function 'deig_2x2' with matrix 'A' "
   ]
  },
  {
   "cell_type": "code",
   "execution_count": null,
   "metadata": {},
   "outputs": [],
   "source": [
    "#^"
   ]
  },
  {
   "cell_type": "markdown",
   "metadata": {
    "ExecuteTime": {
     "end_time": "2020-01-30T08:49:35.359324Z",
     "start_time": "2020-01-30T08:49:35.344962Z"
    }
   },
   "source": [
    "**Task:** compare the result with numpy function (to comparison use np.allclose function)"
   ]
  },
  {
   "cell_type": "code",
   "execution_count": null,
   "metadata": {},
   "outputs": [],
   "source": [
    "#^"
   ]
  },
  {
   "cell_type": "markdown",
   "metadata": {
    "ExecuteTime": {
     "end_time": "2020-01-30T08:49:35.767409Z",
     "start_time": "2020-01-30T08:49:35.762382Z"
    }
   },
   "source": [
    "**Task:** define matrix B = np.array([[0,1],[-1,0]]) "
   ]
  },
  {
   "cell_type": "code",
   "execution_count": 26,
   "metadata": {},
   "outputs": [],
   "source": [
    "D = np.array([[0,1],[-1,0]])"
   ]
  },
  {
   "cell_type": "markdown",
   "metadata": {
    "ExecuteTime": {
     "end_time": "2020-01-30T08:49:36.107561Z",
     "start_time": "2020-01-30T08:49:36.101971Z"
    }
   },
   "source": [
    "**Task:** compute eigenvalues and eigevectors of matrix 'B' with numpy and with 'eig_2x2' function"
   ]
  },
  {
   "cell_type": "code",
   "execution_count": 33,
   "metadata": {},
   "outputs": [
    {
     "data": {
      "text/plain": [
       "(1j, -1j)"
      ]
     },
     "execution_count": 33,
     "metadata": {},
     "output_type": "execute_result"
    }
   ],
   "source": [
    "eig22(D)"
   ]
  },
  {
   "cell_type": "code",
   "execution_count": 30,
   "metadata": {},
   "outputs": [
    {
     "data": {
      "text/plain": [
       "(array([0.+1.j, 0.-1.j]),\n",
       " array([[0.70710678+0.j        , 0.70710678-0.j        ],\n",
       "        [0.        +0.70710678j, 0.        -0.70710678j]]))"
      ]
     },
     "execution_count": 30,
     "metadata": {},
     "output_type": "execute_result"
    }
   ],
   "source": [
    "np.linalg.eig(D)"
   ]
  },
  {
   "cell_type": "markdown",
   "metadata": {
    "ExecuteTime": {
     "end_time": "2020-01-30T08:49:36.483358Z",
     "start_time": "2020-01-30T08:49:36.474496Z"
    }
   },
   "source": [
    "**Task:** compare the results with numpy function (to comparison use np.allclose function)"
   ]
  },
  {
   "cell_type": "code",
   "execution_count": null,
   "metadata": {},
   "outputs": [],
   "source": [
    "#^"
   ]
  },
  {
   "cell_type": "markdown",
   "metadata": {
    "ExecuteTime": {
     "end_time": "2020-01-30T08:49:36.913277Z",
     "start_time": "2020-01-30T08:49:36.893341Z"
    }
   },
   "source": [
    "**Task:** print eigenvalues and eigenvectors and try to explain why the solutions is different"
   ]
  },
  {
   "cell_type": "code",
   "execution_count": null,
   "metadata": {},
   "outputs": [],
   "source": [
    "#^"
   ]
  },
  {
   "cell_type": "code",
   "execution_count": null,
   "metadata": {},
   "outputs": [],
   "source": [
    "#rounding "
   ]
  }
 ],
 "metadata": {
  "kernelspec": {
   "display_name": "Python 3",
   "language": "python",
   "name": "python3"
  },
  "language_info": {
   "codemirror_mode": {
    "name": "ipython",
    "version": 3
   },
   "file_extension": ".py",
   "mimetype": "text/x-python",
   "name": "python",
   "nbconvert_exporter": "python",
   "pygments_lexer": "ipython3",
   "version": "3.8.5"
  },
  "toc": {
   "base_numbering": 1,
   "nav_menu": {},
   "number_sections": true,
   "sideBar": true,
   "skip_h1_title": false,
   "title_cell": "Table of Contents",
   "title_sidebar": "Contents",
   "toc_cell": false,
   "toc_position": {},
   "toc_section_display": true,
   "toc_window_display": false
  },
  "varInspector": {
   "cols": {
    "lenName": 16,
    "lenType": 16,
    "lenVar": 40
   },
   "kernels_config": {
    "python": {
     "delete_cmd_postfix": "",
     "delete_cmd_prefix": "del ",
     "library": "var_list.py",
     "varRefreshCmd": "print(var_dic_list())"
    },
    "r": {
     "delete_cmd_postfix": ") ",
     "delete_cmd_prefix": "rm(",
     "library": "var_list.r",
     "varRefreshCmd": "cat(var_dic_list()) "
    }
   },
   "types_to_exclude": [
    "module",
    "function",
    "builtin_function_or_method",
    "instance",
    "_Feature"
   ],
   "window_display": false
  }
 },
 "nbformat": 4,
 "nbformat_minor": 4
}
