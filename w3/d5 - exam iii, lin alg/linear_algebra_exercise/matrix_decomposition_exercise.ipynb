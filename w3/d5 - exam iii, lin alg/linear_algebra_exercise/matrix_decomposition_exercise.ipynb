{
 "cells": [
  {
   "cell_type": "code",
   "execution_count": 1,
   "metadata": {
    "ExecuteTime": {
     "end_time": "2020-01-30T08:49:15.705544Z",
     "start_time": "2020-01-30T08:49:15.691050Z"
    }
   },
   "outputs": [],
   "source": [
    "# import numpy\n",
    "import numpy as np"
   ]
  },
  {
   "cell_type": "markdown",
   "metadata": {
    "ExecuteTime": {
     "end_time": "2020-01-30T08:49:16.033687Z",
     "start_time": "2020-01-30T08:49:16.022845Z"
    }
   },
   "source": [
    "**Task:** generate random matrix 'A' with shape 150x50, use 'np.random.rand' function"
   ]
  },
  {
   "cell_type": "code",
   "execution_count": 2,
   "metadata": {},
   "outputs": [
    {
     "data": {
      "text/plain": [
       "array([[ 1.31252875, -2.83294474,  0.64436445, ...,  1.47770254,\n",
       "        -0.59830592, -1.79936459],\n",
       "       [-1.90213156,  0.24039487, -1.68255704, ...,  1.59917579,\n",
       "        -0.44473508, -0.24267516],\n",
       "       [ 0.71583185, -0.54887936,  2.90960193, ..., -0.22097214,\n",
       "         0.12532473, -0.14145634],\n",
       "       ...,\n",
       "       [-0.1369633 , -0.72480065,  0.66971399, ..., -0.23981199,\n",
       "         0.9949162 , -0.82649073],\n",
       "       [ 0.41529925, -0.61019496, -1.71791158, ..., -0.02235583,\n",
       "        -0.61964474,  0.1097217 ],\n",
       "       [-1.99509287, -0.6715811 , -0.17587303, ...,  1.11381957,\n",
       "        -0.39972268, -0.14703807]])"
      ]
     },
     "execution_count": 2,
     "metadata": {},
     "output_type": "execute_result"
    }
   ],
   "source": [
    "A = np.random.randn(150,50)\n",
    "A"
   ]
  },
  {
   "cell_type": "markdown",
   "metadata": {
    "ExecuteTime": {
     "end_time": "2020-01-30T08:49:16.306858Z",
     "start_time": "2020-01-30T08:49:16.291806Z"
    }
   },
   "source": [
    "**Task:** check the shape of 'A'"
   ]
  },
  {
   "cell_type": "code",
   "execution_count": 4,
   "metadata": {},
   "outputs": [
    {
     "data": {
      "text/plain": [
       "(150, 50)"
      ]
     },
     "execution_count": 4,
     "metadata": {},
     "output_type": "execute_result"
    }
   ],
   "source": [
    "A.shape"
   ]
  },
  {
   "cell_type": "markdown",
   "metadata": {
    "ExecuteTime": {
     "end_time": "2020-01-30T08:49:16.700850Z",
     "start_time": "2020-01-30T08:49:16.658980Z"
    }
   },
   "source": [
    "**Task:** decompose matrix 'A' with SVD using numpy (decompose into matrices U,D,V)"
   ]
  },
  {
   "cell_type": "code",
   "execution_count": 5,
   "metadata": {},
   "outputs": [],
   "source": [
    "U,D,V = np.linalg.svd(A,full_matrices=True)"
   ]
  },
  {
   "cell_type": "markdown",
   "metadata": {
    "ExecuteTime": {
     "end_time": "2020-01-30T08:49:17.007803Z",
     "start_time": "2020-01-30T08:49:17.000154Z"
    }
   },
   "source": [
    "**Task:** check the shapes of matrices U,D,V"
   ]
  },
  {
   "cell_type": "code",
   "execution_count": 6,
   "metadata": {},
   "outputs": [
    {
     "data": {
      "text/plain": [
       "((150, 150), (50,), (50, 50))"
      ]
     },
     "execution_count": 6,
     "metadata": {},
     "output_type": "execute_result"
    }
   ],
   "source": [
    "U.shape,D.shape,V.shape"
   ]
  },
  {
   "cell_type": "markdown",
   "metadata": {
    "ExecuteTime": {
     "end_time": "2020-01-30T08:49:17.380307Z",
     "start_time": "2020-01-30T08:49:17.364171Z"
    }
   },
   "source": [
    "**Task:** reconstruct matrix 'A' from matrices U,D,V"
   ]
  },
  {
   "cell_type": "code",
   "execution_count": 9,
   "metadata": {},
   "outputs": [],
   "source": [
    "smat = np.zeros((150,50))\n",
    "smat[:50,:50]=np.diag(D)\n",
    "A_rec = U.dot(smat.dot(V))"
   ]
  },
  {
   "cell_type": "code",
   "execution_count": 12,
   "metadata": {},
   "outputs": [
    {
     "data": {
      "text/plain": [
       "(150, 50)"
      ]
     },
     "execution_count": 12,
     "metadata": {},
     "output_type": "execute_result"
    }
   ],
   "source": [
    "A_rec.shape"
   ]
  },
  {
   "cell_type": "markdown",
   "metadata": {
    "ExecuteTime": {
     "end_time": "2020-01-30T08:49:17.782966Z",
     "start_time": "2020-01-30T08:49:17.775093Z"
    }
   },
   "source": [
    "**Task:** compare matrices 'A' and 'A_rec' with np.allclose function"
   ]
  },
  {
   "cell_type": "code",
   "execution_count": 11,
   "metadata": {},
   "outputs": [
    {
     "data": {
      "text/plain": [
       "True"
      ]
     },
     "execution_count": 11,
     "metadata": {},
     "output_type": "execute_result"
    }
   ],
   "source": [
    "np.allclose(A, A_rec)"
   ]
  },
  {
   "cell_type": "markdown",
   "metadata": {
    "ExecuteTime": {
     "end_time": "2020-01-30T08:49:18.170344Z",
     "start_time": "2020-01-30T08:49:18.164685Z"
    }
   },
   "source": [
    "**Task:** Reduce dimnesion of matrix 'A' to shape 150x20 with SVD (try both equations)"
   ]
  },
  {
   "cell_type": "code",
   "execution_count": 9,
   "metadata": {},
   "outputs": [],
   "source": [
    "#u1, s1, v1 = np.linalg.svd(A,full_matrices=False)\n",
    "\n",
    "A_filt = U[:,:20].dot(np.diag(D[:20]))\n",
    "A_filt2 = A.dot(V[:20,:].T)"
   ]
  },
  {
   "cell_type": "markdown",
   "metadata": {
    "ExecuteTime": {
     "end_time": "2020-01-30T08:49:18.526337Z",
     "start_time": "2020-01-30T08:49:18.519511Z"
    }
   },
   "source": [
    "**Task:** print shapes"
   ]
  },
  {
   "cell_type": "code",
   "execution_count": 10,
   "metadata": {},
   "outputs": [
    {
     "data": {
      "text/plain": [
       "((150, 20), (150, 20))"
      ]
     },
     "execution_count": 10,
     "metadata": {},
     "output_type": "execute_result"
    }
   ],
   "source": [
    "A_filt.shape, A_filt2.shape"
   ]
  },
  {
   "cell_type": "markdown",
   "metadata": {
    "ExecuteTime": {
     "end_time": "2020-01-30T08:49:18.858261Z",
     "start_time": "2020-01-30T08:49:18.850912Z"
    }
   },
   "source": [
    "**Task:** compare these two results with np.allclose function"
   ]
  },
  {
   "cell_type": "code",
   "execution_count": null,
   "metadata": {},
   "outputs": [],
   "source": []
  },
  {
   "cell_type": "markdown",
   "metadata": {
    "ExecuteTime": {
     "end_time": "2020-01-30T08:49:19.245461Z",
     "start_time": "2020-01-30T08:49:19.237681Z"
    }
   },
   "source": [
    "**Task:** filter the noise from matrix 'A' with 20 largest singular vectors (keep the shape (150x50))"
   ]
  },
  {
   "cell_type": "code",
   "execution_count": 11,
   "metadata": {},
   "outputs": [],
   "source": [
    "# A = -np.sort(-A)\n",
    "# A[:20]\n",
    "\n",
    "Anoisefilt = U[:,:20].dot(np.diag(D[:20])).dot(V[:20,:])"
   ]
  },
  {
   "cell_type": "markdown",
   "metadata": {
    "ExecuteTime": {
     "end_time": "2020-01-30T08:49:19.787237Z",
     "start_time": "2020-01-30T08:49:19.775025Z"
    }
   },
   "source": [
    "**Task:** check the shape"
   ]
  },
  {
   "cell_type": "code",
   "execution_count": 12,
   "metadata": {
    "scrolled": true
   },
   "outputs": [
    {
     "data": {
      "text/plain": [
       "array([[ 0.50569536, -2.47679662,  0.19972733, ...,  1.67807651,\n",
       "        -0.45023366, -1.06574723],\n",
       "       [-0.47370142, -0.12797144, -1.92343391, ...,  1.06287716,\n",
       "        -0.1763246 ,  0.02221276],\n",
       "       [ 0.51641947,  0.16404938,  1.93147673, ..., -0.36341574,\n",
       "         0.26278301, -0.37816871],\n",
       "       ...,\n",
       "       [ 0.78858979, -0.64391597,  1.04507718, ..., -0.20911517,\n",
       "         0.00433786, -0.6183021 ],\n",
       "       [ 0.89097003, -0.27152651, -1.36093029, ...,  0.69012414,\n",
       "        -0.05351821, -0.54009611],\n",
       "       [-0.82528019, -0.29246002,  0.0966826 , ..., -0.14025173,\n",
       "         0.31114551,  0.17267428]])"
      ]
     },
     "execution_count": 12,
     "metadata": {},
     "output_type": "execute_result"
    }
   ],
   "source": [
    "Anoisefilt"
   ]
  },
  {
   "cell_type": "code",
   "execution_count": 13,
   "metadata": {},
   "outputs": [
    {
     "data": {
      "text/plain": [
       "(150, 50)"
      ]
     },
     "execution_count": 13,
     "metadata": {},
     "output_type": "execute_result"
    }
   ],
   "source": [
    "Anoisefilt.shape"
   ]
  },
  {
   "cell_type": "markdown",
   "metadata": {},
   "source": [
    "**Task:**"
   ]
  },
  {
   "cell_type": "code",
   "execution_count": null,
   "metadata": {
    "ExecuteTime": {
     "end_time": "2020-01-30T08:49:20.344770Z",
     "start_time": "2020-01-30T08:49:20.326781Z"
    }
   },
   "outputs": [],
   "source": [
    "\"\"\"\n",
    "Define function 'SVD' which perform singular values decomposition\n",
    "\n",
    "PARAMS:\n",
    "    A (numpy.ndarray) - matrix to decompose\n",
    "RETURN:\n",
    "    U (numpy.ndarray) - left singular vectors\n",
    "    SV (numpy.ndarray) - singular values\n",
    "    V (numpy.ndarray) - right singular vectors\n",
    "\n",
    "Do not forget to check the shape of  the input matrix.\n",
    "\"\"\""
   ]
  },
  {
   "cell_type": "code",
   "execution_count": 24,
   "metadata": {},
   "outputs": [],
   "source": [
    "def svd(X):\n",
    "    n,m = X.shape\n",
    "    print(X.shape)\n",
    "    u, sigma, v = np.linalg.svd(X,\n",
    "                               full_matrices=False,\n",
    "                               compute_uv=True)\n",
    "    X_svd = np.dot(u,np.diag(sigma))\n",
    "    return X_svd\n",
    "\n",
    "def svd2(X):\n",
    "    n,m = X.shape\n",
    "    print(X.shape)\n",
    "    u, sigma, v = np.linalg.svd(X,\n",
    "                               full_matrices=False,\n",
    "                               compute_uv=True)\n",
    "    X_svd = np.dot(u,np.diag(sigma))\n",
    "    return u, sigma, v"
   ]
  },
  {
   "cell_type": "markdown",
   "metadata": {
    "ExecuteTime": {
     "end_time": "2020-01-30T08:49:20.693579Z",
     "start_time": "2020-01-30T08:49:20.660972Z"
    }
   },
   "source": [
    "**Task:** # call the function 'SVD' with matrix 'A' "
   ]
  },
  {
   "cell_type": "code",
   "execution_count": 25,
   "metadata": {},
   "outputs": [
    {
     "name": "stdout",
     "output_type": "stream",
     "text": [
      "(150, 50)\n"
     ]
    },
    {
     "data": {
      "text/plain": [
       "(array([[-0.07555437, -0.12332505,  0.00350331, ..., -0.14723902,\n",
       "         -0.15054089,  0.14544562],\n",
       "        [-0.07551606, -0.05580602, -0.12743312, ...,  0.09029398,\n",
       "          0.03174361, -0.09171829],\n",
       "        [-0.08891471, -0.10167545,  0.08053151, ...,  0.04709329,\n",
       "         -0.0344441 , -0.00714199],\n",
       "        ...,\n",
       "        [-0.09185812, -0.00773479,  0.06654029, ...,  0.00518323,\n",
       "         -0.03906449,  0.07541569],\n",
       "        [-0.07499119,  0.04850786,  0.10907834, ..., -0.04838728,\n",
       "          0.1390725 , -0.01633936],\n",
       "        [-0.0899583 , -0.11219338,  0.21927133, ...,  0.04773265,\n",
       "          0.11637665, -0.03471214]]),\n",
       " array([85.28418385, 10.84816618,  6.79447813,  5.40047606,  4.12243819,\n",
       "         3.59436194,  3.1485345 ,  2.7720001 ,  2.22829843,  2.08075709,\n",
       "         1.85213778,  1.68566379,  1.45728803,  1.39188916,  1.34324891,\n",
       "         1.24139385,  1.08743196,  1.08430185,  0.9517705 ,  0.91351736,\n",
       "         0.86286698,  0.82227811,  0.78200408,  0.71955851,  0.68329128,\n",
       "         0.64155171,  0.62635103,  0.6038779 ,  0.58861596,  0.56251585,\n",
       "         0.53775347,  0.4915731 ,  0.48255972,  0.45599253,  0.44293027,\n",
       "         0.43041357,  0.41590641,  0.38059493,  0.36574542,  0.35145289,\n",
       "         0.34561974,  0.32761553,  0.3169915 ,  0.29908118,  0.27366792,\n",
       "         0.25342104,  0.23819042,  0.23381745,  0.22435223,  0.21430827]),\n",
       " array([[-3.30169473e-01, -2.71476491e-01, -2.41404362e-01, ...,\n",
       "          2.28943620e-01,  2.61400719e-01,  3.15230597e-01],\n",
       "        [-1.46455457e-01, -1.79237896e-01, -1.38693013e-01, ...,\n",
       "         -1.50918470e-01, -1.50274458e-01, -1.76341875e-01],\n",
       "        [ 3.56457340e-01,  2.19257274e-01,  1.57387204e-01, ...,\n",
       "          2.18991016e-01,  3.60920968e-01,  4.90405870e-01],\n",
       "        ...,\n",
       "        [-2.94667109e-03, -1.04194399e-02,  2.92992433e-02, ...,\n",
       "          1.33663419e-02,  4.35204094e-03, -8.31133343e-03],\n",
       "        [-7.34210248e-03,  2.11722400e-02, -4.29594367e-02, ...,\n",
       "         -5.25039837e-04,  1.50909310e-02, -9.13380762e-03],\n",
       "        [-1.20807235e-04, -2.30904292e-02,  1.39974071e-02, ...,\n",
       "          1.83356946e-02,  5.18374124e-03, -3.61139863e-03]]))"
      ]
     },
     "execution_count": 25,
     "metadata": {},
     "output_type": "execute_result"
    }
   ],
   "source": [
    "svd2(A)"
   ]
  },
  {
   "cell_type": "code",
   "execution_count": 26,
   "metadata": {},
   "outputs": [
    {
     "name": "stdout",
     "output_type": "stream",
     "text": [
      "(150, 50)\n"
     ]
    },
    {
     "data": {
      "text/plain": [
       "array([[-6.44359271e+00, -1.33785067e+00,  2.38031555e-02, ...,\n",
       "        -3.44270519e-02, -3.37741829e-02,  3.11701989e-02],\n",
       "       [-6.44032536e+00, -6.05392984e-01, -8.65841519e-01, ...,\n",
       "         2.11123076e-02,  7.12174975e-03, -1.96559878e-02],\n",
       "       [-7.58301811e+00, -1.10299220e+00,  5.47169566e-01, ...,\n",
       "         1.10112322e-02, -7.72760971e-03, -1.53058787e-03],\n",
       "       ...,\n",
       "       [-7.83404448e+00, -8.39082460e-02,  4.52106556e-01, ...,\n",
       "         1.21192907e-03, -8.76420540e-03,  1.61622060e-02],\n",
       "       [-6.39556255e+00,  5.26221375e-01,  7.41130417e-01, ...,\n",
       "        -1.13137909e-02,  3.12012248e-02, -3.50165920e-03],\n",
       "       [-7.67201989e+00, -1.21709242e+00,  1.48983428e+00, ...,\n",
       "         1.11607267e-02,  2.61093595e-02, -7.43909784e-03]])"
      ]
     },
     "execution_count": 26,
     "metadata": {},
     "output_type": "execute_result"
    }
   ],
   "source": [
    "svd(A)"
   ]
  },
  {
   "cell_type": "code",
   "execution_count": null,
   "metadata": {},
   "outputs": [],
   "source": []
  }
 ],
 "metadata": {
  "kernelspec": {
   "display_name": "Python 3",
   "language": "python",
   "name": "python3"
  },
  "language_info": {
   "codemirror_mode": {
    "name": "ipython",
    "version": 3
   },
   "file_extension": ".py",
   "mimetype": "text/x-python",
   "name": "python",
   "nbconvert_exporter": "python",
   "pygments_lexer": "ipython3",
   "version": "3.8.5"
  },
  "toc": {
   "base_numbering": 1,
   "nav_menu": {},
   "number_sections": true,
   "sideBar": true,
   "skip_h1_title": false,
   "title_cell": "Table of Contents",
   "title_sidebar": "Contents",
   "toc_cell": false,
   "toc_position": {},
   "toc_section_display": true,
   "toc_window_display": false
  },
  "varInspector": {
   "cols": {
    "lenName": 16,
    "lenType": 16,
    "lenVar": 40
   },
   "kernels_config": {
    "python": {
     "delete_cmd_postfix": "",
     "delete_cmd_prefix": "del ",
     "library": "var_list.py",
     "varRefreshCmd": "print(var_dic_list())"
    },
    "r": {
     "delete_cmd_postfix": ") ",
     "delete_cmd_prefix": "rm(",
     "library": "var_list.r",
     "varRefreshCmd": "cat(var_dic_list()) "
    }
   },
   "types_to_exclude": [
    "module",
    "function",
    "builtin_function_or_method",
    "instance",
    "_Feature"
   ],
   "window_display": false
  }
 },
 "nbformat": 4,
 "nbformat_minor": 4
}
