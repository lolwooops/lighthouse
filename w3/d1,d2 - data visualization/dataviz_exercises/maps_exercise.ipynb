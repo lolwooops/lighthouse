{
 "cells": [
  {
   "cell_type": "code",
   "execution_count": null,
   "metadata": {
    "ExecuteTime": {
     "end_time": "2020-04-23T18:44:33.442796Z",
     "start_time": "2020-04-23T18:44:32.388132Z"
    }
   },
   "outputs": [],
   "source": [
    "# import geopandas and matplotlib\n",
    "import geopandas as gpd\n",
    "import matplotlib.pyplot as plt"
   ]
  },
  {
   "cell_type": "code",
   "execution_count": 1,
   "metadata": {
    "ExecuteTime": {
     "end_time": "2020-04-23T18:44:33.532177Z",
     "start_time": "2020-04-23T18:44:33.495683Z"
    }
   },
   "outputs": [
    {
     "ename": "NameError",
     "evalue": "name 'gpd' is not defined",
     "output_type": "error",
     "traceback": [
      "\u001b[1;31m---------------------------------------------------------------------------\u001b[0m",
      "\u001b[1;31mNameError\u001b[0m                                 Traceback (most recent call last)",
      "\u001b[1;32m<ipython-input-1-c68ec1b6f0fa>\u001b[0m in \u001b[0;36m<module>\u001b[1;34m\u001b[0m\n\u001b[0;32m      1\u001b[0m \u001b[1;31m# countries data\u001b[0m\u001b[1;33m\u001b[0m\u001b[1;33m\u001b[0m\u001b[1;33m\u001b[0m\u001b[0m\n\u001b[1;32m----> 2\u001b[1;33m \u001b[0mworld\u001b[0m \u001b[1;33m=\u001b[0m \u001b[0mgpd\u001b[0m\u001b[1;33m.\u001b[0m\u001b[0mread_file\u001b[0m\u001b[1;33m(\u001b[0m\u001b[0mgpd\u001b[0m\u001b[1;33m.\u001b[0m\u001b[0mdatasets\u001b[0m\u001b[1;33m.\u001b[0m\u001b[0mget_path\u001b[0m\u001b[1;33m(\u001b[0m\u001b[1;34m'naturalearth_lowres'\u001b[0m\u001b[1;33m)\u001b[0m\u001b[1;33m)\u001b[0m\u001b[1;33m\u001b[0m\u001b[1;33m\u001b[0m\u001b[0m\n\u001b[0m",
      "\u001b[1;31mNameError\u001b[0m: name 'gpd' is not defined"
     ]
    }
   ],
   "source": [
    "# countries data\n",
    "world = gpd.read_file(gpd.datasets.get_path('naturalearth_lowres'))"
   ]
  },
  {
   "cell_type": "markdown",
   "metadata": {},
   "source": [
    "* print top 5 rows of world data-frame"
   ]
  },
  {
   "cell_type": "code",
   "execution_count": null,
   "metadata": {
    "ExecuteTime": {
     "end_time": "2020-04-23T18:42:59.340723Z",
     "start_time": "2020-04-23T18:42:59.319452Z"
    }
   },
   "outputs": [],
   "source": [
    "world.head(5)"
   ]
  },
  {
   "cell_type": "markdown",
   "metadata": {},
   "source": [
    "* remove continents which have only one country in data-frame\n"
   ]
  },
  {
   "cell_type": "code",
   "execution_count": null,
   "metadata": {
    "ExecuteTime": {
     "end_time": "2020-04-23T18:44:33.661829Z",
     "start_time": "2020-04-23T18:44:33.658772Z"
    }
   },
   "outputs": [],
   "source": [
    "# continents with only one country\n",
    "cont = world.groupby('continent')['country'].count\n",
    "\n",
    "\n",
    "\n",
    "# remove these continents\n",
    "filt_world = world.merge(cont, on='continent')\n",
    "filt_world = world[world[cont]>1]\n"
   ]
  },
  {
   "cell_type": "markdown",
   "metadata": {},
   "source": [
    "* create dataframe with top 3 most populated countries from each continent\n",
    "* store the result in data-frame with name 'world_filtered'"
   ]
  },
  {
   "cell_type": "code",
   "execution_count": null,
   "metadata": {
    "ExecuteTime": {
     "end_time": "2020-04-23T18:42:59.643052Z",
     "start_time": "2020-04-23T18:42:59.609214Z"
    }
   },
   "outputs": [],
   "source": [
    "world_filtered = filt_world.groupby('continent').sort_values(by=[['population','country']],ascending=False).head(3)"
   ]
  },
  {
   "cell_type": "markdown",
   "metadata": {},
   "source": [
    "* print 'world_filtered' data-frame"
   ]
  },
  {
   "cell_type": "code",
   "execution_count": null,
   "metadata": {
    "ExecuteTime": {
     "end_time": "2020-04-23T18:43:00.041229Z",
     "start_time": "2020-04-23T18:43:00.004937Z"
    }
   },
   "outputs": [],
   "source": [
    "world_filtered.describe()"
   ]
  },
  {
   "cell_type": "markdown",
   "metadata": {},
   "source": [
    "## Part I: \n",
    "Create choropleth map of world:\n",
    "   - using **Geopandas**\n",
    "   - using **Plotly**\n",
    "\n",
    "> #### Notes\n",
    "> * the colors of countries from 'world_filtered' are based on population\n",
    "> * other countries can stay white"
   ]
  },
  {
   "cell_type": "markdown",
   "metadata": {},
   "source": [
    "### GeoPandas"
   ]
  },
  {
   "cell_type": "code",
   "execution_count": null,
   "metadata": {},
   "outputs": [],
   "source": [
    "# create figure and axes\n",
    "fig, ax = plt.subplots(figsize=(15,12))\n",
    "\n",
    "\n",
    "# create map from world_filtered data-frame\n",
    "world_filtered.plot(column='population', ax=ax, legend=True,\n",
    "           legend_kwds={'label': \"Population by Country\",\n",
    "                        'orientation': \"horizontal\"})\n",
    "\n",
    "\n",
    "# add the rest of the countries\n",
    "world.plot(ax=ax, color='white')\n",
    "\n",
    "plt.show()"
   ]
  },
  {
   "cell_type": "code",
   "execution_count": null,
   "metadata": {},
   "outputs": [],
   "source": []
  },
  {
   "cell_type": "markdown",
   "metadata": {},
   "source": [
    "### Plotly"
   ]
  },
  {
   "cell_type": "code",
   "execution_count": null,
   "metadata": {},
   "outputs": [],
   "source": [
    "import plotly.express as px\n",
    "import plotly as go"
   ]
  },
  {
   "cell_type": "code",
   "execution_count": null,
   "metadata": {},
   "outputs": [],
   "source": [
    "# fig = go.Figure(data=go.Choropleth(\n",
    "#     locations=world['countries'], # Spatial coordinates\n",
    "#     z = world_filtered['population'], # Data to be color-coded\n",
    "#     colorscale = 'Reds',\n",
    "#     marker_line_color='darkgray',\n",
    "#     marker_line_width=0.5,\n",
    "# ))\n"
   ]
  },
  {
   "cell_type": "code",
   "execution_count": null,
   "metadata": {},
   "outputs": [],
   "source": []
  },
  {
   "cell_type": "code",
   "execution_count": null,
   "metadata": {},
   "outputs": [],
   "source": []
  },
  {
   "cell_type": "code",
   "execution_count": null,
   "metadata": {},
   "outputs": [],
   "source": []
  },
  {
   "cell_type": "markdown",
   "metadata": {},
   "source": [
    "## Part II:\n",
    "\n",
    "In Geopandas:\n",
    "\n",
    "* add New York, Berlin, Paris, Toronto, Calgary, Tokyo to the map you have created before\n",
    "* to get geometry of these cities use gpd.tools.geocode(['New York', 'Berlin', 'Paris','Toronto', 'Calgary', 'Tokyo'])\n",
    "* if you do not have geopy library instaled, install it with the following command in the jupyter notebook cell `!pip install geopy`"
   ]
  },
  {
   "cell_type": "code",
   "execution_count": null,
   "metadata": {
    "ExecuteTime": {
     "end_time": "2020-04-23T18:44:34.757007Z",
     "start_time": "2020-04-23T18:44:34.752365Z"
    }
   },
   "outputs": [],
   "source": [
    "# get geometry\n",
    "cities = gpd.tools.geocode(['New York', 'Berlin', 'Paris','Toronto', 'Calgary', 'Tokyo'])\n",
    "\n",
    "# create figure and axes\n",
    "fig, ax = plt.subplots(figsize=(15,12))\n",
    "\n",
    "\n",
    "\n",
    "# create map from world_filtered data-frame\n",
    "world_filtered.plot(column='population', ax=ax, legend=True,\n",
    "           legend_kwds={'label': \"Population by Country\",\n",
    "                        'orientation': \"horizontal\"})\n",
    "\n",
    "\n",
    "\n",
    "# add the rest of the countries\n",
    "world.plot(ax=ax, color='white')\n",
    "\n",
    "\n",
    "# add cities\n",
    "cities.plot(ax=ax ,marker='*', color='blue', markersize=5)"
   ]
  },
  {
   "cell_type": "code",
   "execution_count": null,
   "metadata": {},
   "outputs": [],
   "source": [
    "plt.show()"
   ]
  },
  {
   "cell_type": "code",
   "execution_count": null,
   "metadata": {},
   "outputs": [],
   "source": []
  },
  {
   "cell_type": "code",
   "execution_count": null,
   "metadata": {},
   "outputs": [],
   "source": []
  }
 ],
 "metadata": {
  "kernelspec": {
   "display_name": "Python 3",
   "language": "python",
   "name": "python3"
  },
  "language_info": {
   "codemirror_mode": {
    "name": "ipython",
    "version": 3
   },
   "file_extension": ".py",
   "mimetype": "text/x-python",
   "name": "python",
   "nbconvert_exporter": "python",
   "pygments_lexer": "ipython3",
   "version": "3.8.5"
  },
  "toc": {
   "base_numbering": 1,
   "nav_menu": {},
   "number_sections": true,
   "sideBar": true,
   "skip_h1_title": false,
   "title_cell": "Table of Contents",
   "title_sidebar": "Contents",
   "toc_cell": false,
   "toc_position": {},
   "toc_section_display": true,
   "toc_window_display": false
  },
  "varInspector": {
   "cols": {
    "lenName": 16,
    "lenType": 16,
    "lenVar": 40
   },
   "kernels_config": {
    "python": {
     "delete_cmd_postfix": "",
     "delete_cmd_prefix": "del ",
     "library": "var_list.py",
     "varRefreshCmd": "print(var_dic_list())"
    },
    "r": {
     "delete_cmd_postfix": ") ",
     "delete_cmd_prefix": "rm(",
     "library": "var_list.r",
     "varRefreshCmd": "cat(var_dic_list()) "
    }
   },
   "types_to_exclude": [
    "module",
    "function",
    "builtin_function_or_method",
    "instance",
    "_Feature"
   ],
   "window_display": false
  }
 },
 "nbformat": 4,
 "nbformat_minor": 4
}
